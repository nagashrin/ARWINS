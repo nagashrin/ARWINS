{
 "cells": [
  {
   "cell_type": "markdown",
   "metadata": {},
   "source": [
    "# Section 1: Active Cases\n",
    "**Be sure to delete the trailer after saving the transmission file in data folder**"
   ]
  },
  {
   "cell_type": "markdown",
   "metadata": {},
   "source": [
    "## T1: Family Case Data"
   ]
  },
  {
   "cell_type": "code",
   "execution_count": 1,
   "metadata": {},
   "outputs": [],
   "source": [
    "import os\n",
    "#os.getcwd()\n",
    "#os.listdir()\n",
    "os.chdir('S://TANF Reports//!TANF Federal Reports//2020//CY2020_Q4//Data')"
   ]
  },
  {
   "cell_type": "code",
   "execution_count": 2,
   "metadata": {},
   "outputs": [],
   "source": [
    "import pandas as pd\n",
    "import numpy as np\n",
    "\n",
    "qt1=pd.read_csv('section1.txt')  \n",
    "qt1 = pd.DataFrame(qt1)\n",
    "\n",
    "# Name column with original data as raw\n",
    "qt1.columns = ['raw']\n",
    "\n",
    "# Columns based on Transmission Format Section 1\n",
    "qt1['type'] = qt1['raw'].str.extract('(..)',expand = True)\n",
    "qt1['reporting month'] = qt1['raw'].str[2:8]\n",
    "qt1['case number'] = qt1['raw'].str[8:19]\n",
    "qt1['county fips code'] = qt1['raw'].str[19:22]\n",
    "qt1['stratum'] = qt1['raw'].str[22:24]\n",
    "qt1['zip code'] = qt1['raw'].str[24:29]\n",
    "qt1['funding stream'] = qt1['raw'].str[29:30]\n",
    "qt1['disposition'] = qt1['raw'].str[30:31]\n",
    "qt1['new applicant'] = qt1['raw'].str[31:32]\n",
    "qt1['# family members'] = qt1['raw'].str[32:34]\n",
    "qt1['type of famlily for work particiaption'] = qt1['raw'].str[34:35]\n",
    "qt1['receives subsidized housing'] = qt1['raw'].str[35:36]\n",
    "qt1['receives medical assistance'] = qt1['raw'].str[36:37]\n",
    "qt1['receives food stamps'] = qt1['raw'].str[37:38]\n",
    "qt1['amount of food stamp assistance'] = qt1['raw'].str[38:42]\n",
    "qt1['receives subisdized child care'] = qt1['raw'].str[42:43]\n",
    "qt1['amount of subsidized child care'] = qt1['raw'].str[43:47]\n",
    "qt1['amount of child support'] = qt1['raw'].str[47:51]\n",
    "qt1['amount of familys cash resources'] = qt1['raw'].str[51:55]\n",
    "qt1['cash & cash equivalents item 21A_amount'] = qt1['raw'].str[55:59]\n",
    "qt1['item21B_nbr_month'] = qt1['raw'].str[59:62]\n",
    "qt1['TANF child care item22A_amount'] = qt1['raw'].str[62:66]\n",
    "qt1['item22B_children_covered'] = qt1['raw'].str[66:68]\n",
    "qt1['item22C_nbr_months'] = qt1['raw'].str[68_71]\n",
    "qt1['item23B_nbr_months'] = qt1['raw'].str[75:78]\n",
    "qt1['transitional services item24A_amount'] = qt1['raw'].str[78:82]\n",
    "qt1['item24B_nbr_months'] = qt1['raw'].str[82:85]\n",
    "qt1['item25A_amount'] = qt1['raw'].str[85:89]\n",
    "qt1['item25B_nbr_months'] = qt1['raw'].str[89:92]\n",
    "qt1['reason for & amount of assistance reduction item 26A_Sanctions reduction_amount'] = qt1['raw'].str[92:96]\n",
    "qt1['item26A_work requirements sanction'] = qt1['raw'].str[96:97]\n",
    "qt1['item26A_family snaction for adult, no high..'] = qt1['raw'].str[97:98]\n",
    "qt1['item26A_sanction for teen parent not addendin..'] = qt1['raw'].str[98:99]\n",
    "qt1['item26A_failure to coply with individual res..'] = qt1['raw'].str[100:101]\n",
    "qt1['item26A_other sanction'] = qt1['raw'].str[101:102]\n",
    "qt1['item26B_recoupment of prior overpayment'] = qt1['raw'].str[102:106]\n",
    "qt1['item26C_other total reduction amount'] = qt1['raw'].str[106:110]\n",
    "qt1['item26C_family cap'] = qt1['raw'].str[110:111]\n",
    "qt1['item26C_reduction based on length of receip..'] = qt1['raw'].str[110:112]\n",
    "qt1['item26C_other, non-sanction'] = qt1['raw'].str[112:113]\n",
    "qt1['waiver_evaluation_control_grps'] = qt1['raw'].str[113:114]\n",
    "qt1['TANF family exempt from time_limits'] = qt1['raw'].str[114:116]\n",
    "qt1['TANF family new child only family'] = qt1['raw'].str[116:117]\n",
    "qt1['blank'] = qt1['raw'].str[117:156]\n",
    "\n",
    "# Making a copy of q1\n",
    "quarter = qt1.copy()\n",
    "\n",
    "# Isolating all T3 data\n",
    "#t1 = qt1[qt1['raw'].str.contains('T3')].drop(qt1.columns[1:],axis = 1)\n",
    "\n",
    "# Isolating T1 data\n",
    "t1_q = quarter[quarter['type'] == 'T1'].drop('raw',1)"
   ]
  },
  {
   "cell_type": "markdown",
   "metadata": {},
   "source": [
    "## T2 : Adult Data"
   ]
  },
  {
   "cell_type": "code",
   "execution_count": 3,
   "metadata": {},
   "outputs": [],
   "source": [
    "qt2 = pd.read_csv('section1.txt')\n",
    "qt2 = pd.DataFrame(qt2)\n",
    "\n",
    "# Name column with original data as raw\n",
    "qt2.columns = ['raw']\n",
    "# Columns based on Transmission Format Section 1\n",
    "qt2['type'] = qt2['raw'].str[0:2]\n",
    "qt2['reporting month'] = qt2['raw'].str[2:8]\n",
    "qt2['case number'] = qt2['raw'].str[8:19]\n",
    "qt2['family affiliation'] = qt2['raw'].str[19:20]\n",
    "qt2['noncustodial parent'] = qt2['raw'].str[20:21]\n",
    "qt2['dob'] = qt2['raw'].str[21:29]\n",
    "qt2['ssn'] = qt2['raw'].str[29:38]\n",
    "qt2['34a_hispanic or latino'] = qt2['raw'].str[38:39]\n",
    "qt2['34b_american indian or alaska native'] = qt2['raw'].str[39:40]\n",
    "qt2['34c_asian'] = qt2['raw'].str[40:41]\n",
    "qt2['34d_black or african american'] = qt2['raw'].str[41:42]\n",
    "qt2['34e_native hawaiian or other pacific islander'] = qt2['raw'].str[42:43]\n",
    "qt2['34f_white'] = qt2['raw'].str[43:44]\n",
    "qt2['gender'] = qt2['raw'].str[44:45]\n",
    "qt2['36a_receives federal disability insurance'] = qt2['raw'].str[45:46]\n",
    "qt2['36b_receives benefits based on federal disability status'] = qt2['raw'].str[46:47]\n",
    "qt2['36c_receives aid to the permanently and totally disabled under title'] = qt2['raw'].str[47:48]\n",
    "qt2['36d_receives aid to the aged, blind'] = qt2['raw'].str[48:49]\n",
    "qt2['36e_receives supplemental security income under title'] = qt2['raw'].str[49:50]\n",
    "qt2['marital status'] = qt2['raw'].str[50:51]\n",
    "qt2['38_relationship to hoh'] = qt2['raw'].str[51:53]\n",
    "qt2['parent with minor child'] = qt2['raw'].str[53:54]\n",
    "qt2['needs of a pregnant woman'] = qt2['raw'].str[54:55]\n",
    "qt2['education level'] = qt2['raw'].str[55:57]\n",
    "qt2['citizenship status'] = qt2['raw'].str[57:58]\n",
    "qt2['cooperation with child support'] = qt2['raw'].str[58:59]\n",
    "qt2['federal tl months'] = qt2['raw'].str[59:62]\n",
    "qt2['remaining monts under state tl'] = qt2['raw'].str[62:64]\n",
    "qt2['current month exempt from state tl'] = qt2['raw'].str[64:65]\n",
    "qt2['employment status'] = qt2['raw'].str[65:66]\n",
    "qt2['work-eligible individual indicator'] = qt2['raw'].str[66:68]\n",
    "qt2['work participation status'] = qt2['raw'].str[68:70]\n",
    "qt2['unsubsidized employment'] = qt2['raw'].str[70:72]\n",
    "qt2['subsidized private employment'] = qt2['raw'].str[72:74]\n",
    "qt2['subsidized public employment'] = qt2['raw'].str[74:76]\n",
    "qt2['53a_hours of participation'] = qt2['raw'].str[76:78]\n",
    "qt2['53b_excused absence'] = qt2['raw'].str[78:80]\n",
    "qt2['53c_holidays'] = qt2['raw'].str[80:82]\n",
    "qt2['ojt'] = qt2['raw'].str[82:84]\n",
    "qt2['55a_hours of participation'] = qt2['raw'].str[84:86]\n",
    "qt2['55b_excused absence'] = qt2['raw'].str[86:88]\n",
    "qt2['55c_holidays'] = qt2['raw'].str[88:90]\n",
    "qt2['56a_hours of participation'] = qt2['raw'].str[90:92]\n",
    "qt2['56b_excused absence'] = qt2['raw'].str[92:94]\n",
    "qt2['56c_holidays'] = qt2['raw'].str[94:96]\n",
    "qt2['57a_hours of participation'] = qt2['raw'].str[96:98]\n",
    "qt2['57b_excused absence'] = qt2['raw'].str[98:100]\n",
    "qt2['57c_holidays'] = qt2['raw'].str[100:102]\n",
    "qt2['58a_hours of participation'] = qt2['raw'].str[102:104]\n",
    "qt2['58b_excused absence'] = qt2['raw'].str[104:106]\n",
    "qt2['58c_holidays'] = qt2['raw'].str[106:108]\n",
    "qt2['59a_hours of participation'] = qt2['raw'].str[108:110]\n",
    "qt2['59b_excused absence'] = qt2['raw'].str[110:112]\n",
    "qt2['59c_holidays'] = qt2['raw'].str[112:114]\n",
    "qt2['60a_hours of participation'] = qt2['raw'].str[114:116]\n",
    "qt2['60b_excused absence'] = qt2['raw'].str[116:118]\n",
    "qt2['60c_holidays'] = qt2['raw'].str[118:120]\n",
    "qt2['61a_hours of participation'] = qt2['raw'].str[120:122]\n",
    "qt2['61b_excused absence'] = qt2['raw'].str[122:124]\n",
    "qt2['61c_holidays'] = qt2['raw'].str[124:126]\n",
    "qt2['other work activities'] = qt2['raw'].str[126:128]\n",
    "qt2['core hours_overall rate'] = qt2['raw'].str[128:130]\n",
    "qt2['core hours_2p rate'] = qt2['raw'].str[130:132]\n",
    "qt2['amt earned income'] = qt2['raw'].str[132:136]\n",
    "qt2['66a_income tax credit'] = qt2['raw'].str[136:140]\n",
    "qt2['66b_social security'] = qt2['raw'].str[140:144]\n",
    "qt2['66c_ssi'] = qt2['raw'].str[144:148]\n",
    "qt2['66d_workers comp'] = qt2['raw'].str[148:152]\n",
    "qt2['66e_other unearned income'] = qt2['raw'].str[152:156]\n",
    "\n",
    "\n",
    "# Making a copy of q2\n",
    "quarter_t2 = qt2.copy()\n",
    "\n",
    "# Isolating T1 data\n",
    "t2_q = quarter_t2[quarter_t2['type'] == 'T2'].drop('raw',1)"
   ]
  },
  {
   "cell_type": "markdown",
   "metadata": {},
   "source": [
    "## T3: Children Data"
   ]
  },
  {
   "cell_type": "code",
   "execution_count": 171,
   "metadata": {},
   "outputs": [],
   "source": [
    "# Isolating all T3 data\n",
    "t3 = qt1[qt1['raw'].str.contains('T3')].drop(qt1.columns[1:],axis = 1)\n",
    "\n",
    "# dataframe\n",
    "qt3 = pd.DataFrame(t3)\n",
    "\n",
    "# Name column with original data as raw\n",
    "qt3.columns = ['raw']\n",
    "\n",
    "# Columns based on Transmission Format Section 1\n",
    "qt3['type'] = qt2['raw'].str[0:2]\n",
    "qt3['reporting month'] = qt2['raw'].str[2:8]\n"
   ]
  },
  {
   "cell_type": "markdown",
   "metadata": {},
   "source": [
    "### Error on Gender"
   ]
  },
  {
   "cell_type": "code",
   "execution_count": 4,
   "metadata": {
    "scrolled": false
   },
   "outputs": [
    {
     "data": {
      "text/html": [
       "<div>\n",
       "<style scoped>\n",
       "    .dataframe tbody tr th:only-of-type {\n",
       "        vertical-align: middle;\n",
       "    }\n",
       "\n",
       "    .dataframe tbody tr th {\n",
       "        vertical-align: top;\n",
       "    }\n",
       "\n",
       "    .dataframe thead th {\n",
       "        text-align: right;\n",
       "    }\n",
       "</style>\n",
       "<table border=\"1\" class=\"dataframe\">\n",
       "  <thead>\n",
       "    <tr style=\"text-align: right;\">\n",
       "      <th></th>\n",
       "      <th>type</th>\n",
       "      <th>reporting month</th>\n",
       "      <th>case number</th>\n",
       "      <th>gender</th>\n",
       "    </tr>\n",
       "  </thead>\n",
       "  <tbody>\n",
       "    <tr>\n",
       "      <th>3311</th>\n",
       "      <td>T2</td>\n",
       "      <td>202010</td>\n",
       "      <td>00007740399</td>\n",
       "      <td>3</td>\n",
       "    </tr>\n",
       "    <tr>\n",
       "      <th>9789</th>\n",
       "      <td>T2</td>\n",
       "      <td>202011</td>\n",
       "      <td>00007740399</td>\n",
       "      <td>3</td>\n",
       "    </tr>\n",
       "    <tr>\n",
       "      <th>16038</th>\n",
       "      <td>T2</td>\n",
       "      <td>202012</td>\n",
       "      <td>00007740399</td>\n",
       "      <td>3</td>\n",
       "    </tr>\n",
       "  </tbody>\n",
       "</table>\n",
       "</div>"
      ],
      "text/plain": [
       "      type reporting month  case number gender\n",
       "3311    T2          202010  00007740399      3\n",
       "9789    T2          202011  00007740399      3\n",
       "16038   T2          202012  00007740399      3"
      ]
     },
     "execution_count": 4,
     "metadata": {},
     "output_type": "execute_result"
    }
   ],
   "source": [
    "gender =t2_q['gender'].value_counts()\n",
    "gender_error = t2_q.loc[t2_q['gender']=='3',['type','reporting month', 'case number','gender']]\n",
    "\n",
    "#print('Unique gender counts: \\n%s\\n' %gender)\n",
    "#print('List of cases with gender code error: \\n%s\\n' %gender_error)\n",
    "gender_error"
   ]
  },
  {
   "cell_type": "markdown",
   "metadata": {},
   "source": [
    "## If 21A>0 Then 21B must >0"
   ]
  },
  {
   "cell_type": "code",
   "execution_count": 5,
   "metadata": {},
   "outputs": [],
   "source": [
    "# Isolating T1 data\n",
    "t1_q = quarter[quarter['type'] == 'T1'].drop('raw',1)\n"
   ]
  },
  {
   "cell_type": "code",
   "execution_count": 6,
   "metadata": {
    "scrolled": true
   },
   "outputs": [
    {
     "data": {
      "text/html": [
       "<div>\n",
       "<style scoped>\n",
       "    .dataframe tbody tr th:only-of-type {\n",
       "        vertical-align: middle;\n",
       "    }\n",
       "\n",
       "    .dataframe tbody tr th {\n",
       "        vertical-align: top;\n",
       "    }\n",
       "\n",
       "    .dataframe thead th {\n",
       "        text-align: right;\n",
       "    }\n",
       "</style>\n",
       "<table border=\"1\" class=\"dataframe\">\n",
       "  <thead>\n",
       "    <tr style=\"text-align: right;\">\n",
       "      <th></th>\n",
       "      <th>type</th>\n",
       "      <th>reporting month</th>\n",
       "      <th>case number</th>\n",
       "      <th>type of famlily for work particiaption</th>\n",
       "      <th>cash &amp; cash equivalents item 21A_amount</th>\n",
       "      <th>item21B_nbr_month</th>\n",
       "    </tr>\n",
       "  </thead>\n",
       "  <tbody>\n",
       "    <tr>\n",
       "      <th>3310</th>\n",
       "      <td>T1</td>\n",
       "      <td>202010</td>\n",
       "      <td>00007740399</td>\n",
       "      <td>3</td>\n",
       "      <td>0204</td>\n",
       "      <td>000</td>\n",
       "    </tr>\n",
       "    <tr>\n",
       "      <th>7211</th>\n",
       "      <td>T1</td>\n",
       "      <td>202011</td>\n",
       "      <td>00003150722</td>\n",
       "      <td>3</td>\n",
       "      <td>0081</td>\n",
       "      <td>000</td>\n",
       "    </tr>\n",
       "    <tr>\n",
       "      <th>13543</th>\n",
       "      <td>T1</td>\n",
       "      <td>202012</td>\n",
       "      <td>00003150722</td>\n",
       "      <td>3</td>\n",
       "      <td>0081</td>\n",
       "      <td>000</td>\n",
       "    </tr>\n",
       "    <tr>\n",
       "      <th>18933</th>\n",
       "      <td>T1</td>\n",
       "      <td>202012</td>\n",
       "      <td>00009104114</td>\n",
       "      <td>3</td>\n",
       "      <td>0081</td>\n",
       "      <td>000</td>\n",
       "    </tr>\n",
       "  </tbody>\n",
       "</table>\n",
       "</div>"
      ],
      "text/plain": [
       "      type reporting month  case number  \\\n",
       "3310    T1          202010  00007740399   \n",
       "7211    T1          202011  00003150722   \n",
       "13543   T1          202012  00003150722   \n",
       "18933   T1          202012  00009104114   \n",
       "\n",
       "      type of famlily for work particiaption  \\\n",
       "3310                                       3   \n",
       "7211                                       3   \n",
       "13543                                      3   \n",
       "18933                                      3   \n",
       "\n",
       "      cash & cash equivalents item 21A_amount item21B_nbr_month  \n",
       "3310                                     0204               000  \n",
       "7211                                     0081               000  \n",
       "13543                                    0081               000  \n",
       "18933                                    0081               000  "
      ]
     },
     "execution_count": 6,
     "metadata": {},
     "output_type": "execute_result"
    }
   ],
   "source": [
    "months_error = t1_q.loc[(t1_q['cash & cash equivalents item 21A_amount']>'0000') & \n",
    "                        (t1_q['item21B_nbr_month']<='000'),\n",
    "                        ['type','reporting month','case number','type of famlily for work particiaption','cash & cash equivalents item 21A_amount','item21B_nbr_month']]\n",
    "#print('Number of months error: \\n%s\\n' %months_error)\n",
    "months_error \n"
   ]
  },
  {
   "cell_type": "markdown",
   "metadata": {},
   "source": [
    "## Error code 2   (Type Family item 12 = 1 but no work eligible individual found)"
   ]
  },
  {
   "cell_type": "code",
   "execution_count": 7,
   "metadata": {},
   "outputs": [
    {
     "data": {
      "text/plain": [
       "(36, 4)"
      ]
     },
     "execution_count": 7,
     "metadata": {},
     "output_type": "execute_result"
    }
   ],
   "source": [
    "er_2 = t1_q.loc[(t1_q['type of famlily for work particiaption']=='3') &\n",
    "               (t1_q['TANF family exempt from time_limits'] !='02'),['reporting month','case number',\n",
    "                                                                  'type of famlily for work particiaption',\n",
    "                                                                  'TANF family exempt from time_limits']]\n",
    "er_2.shape"
   ]
  },
  {
   "cell_type": "markdown",
   "metadata": {},
   "source": [
    "## WPR Error code 13"
   ]
  },
  {
   "cell_type": "code",
   "execution_count": 8,
   "metadata": {},
   "outputs": [
    {
     "data": {
      "text/plain": [
       "(6068, 8)"
      ]
     },
     "execution_count": 8,
     "metadata": {},
     "output_type": "execute_result"
    }
   ],
   "source": [
    "# Creating subset from T1 & T2\n",
    "t1_13 = t1_q[['type of famlily for work particiaption','reporting month','case number','reason for & amount of assistance reduction item 26A_Sanctions reduction_amount','item26A_work requirements sanction']]\n",
    "t2_13 = t2_q[['reporting month', 'case number','work participation status', 'family affiliation', 'work-eligible individual indicator']]\n",
    "\n",
    "# Merge the subsets\n",
    "result = pd.merge(t1_13, t2_13, how=\"outer\", on=[\"reporting month\", \"case number\"])\n",
    "result.shape\n"
   ]
  },
  {
   "cell_type": "code",
   "execution_count": 9,
   "metadata": {},
   "outputs": [
    {
     "data": {
      "text/plain": [
       "(728, 7)"
      ]
     },
     "execution_count": 9,
     "metadata": {},
     "output_type": "execute_result"
    }
   ],
   "source": [
    "# WPR Error 13 case 1\n",
    "er_13_1 = result.loc[((result['work participation status'] == '02') &\n",
    "                       (result['reason for & amount of assistance reduction item 26A_Sanctions reduction_amount']>'0000') &\n",
    "                       (result['item26A_work requirements sanction'] == '1')&\n",
    "                       (result['family affiliation'] == '1')),['type of famlily for work particiaption',\n",
    "                                                         'case number',\n",
    "                                                         'reporting month',\n",
    "                                                         'work participation status',\n",
    "                                                         'reason for & amount of assistance reduction item 26A_Sanctions reduction_amount',\n",
    "                                                         'item26A_work requirements sanction',\n",
    "                                                         'family affiliation']]\n",
    "er_13_1.shape"
   ]
  },
  {
   "cell_type": "code",
   "execution_count": 14,
   "metadata": {},
   "outputs": [
    {
     "data": {
      "text/plain": [
       "349"
      ]
     },
     "execution_count": 14,
     "metadata": {},
     "output_type": "execute_result"
    }
   ],
   "source": [
    "er_13_1['case number'].unique().size"
   ]
  },
  {
   "cell_type": "code",
   "execution_count": 46,
   "metadata": {},
   "outputs": [
    {
     "data": {
      "text/html": [
       "<div>\n",
       "<style scoped>\n",
       "    .dataframe tbody tr th:only-of-type {\n",
       "        vertical-align: middle;\n",
       "    }\n",
       "\n",
       "    .dataframe tbody tr th {\n",
       "        vertical-align: top;\n",
       "    }\n",
       "\n",
       "    .dataframe thead th {\n",
       "        text-align: right;\n",
       "    }\n",
       "</style>\n",
       "<table border=\"1\" class=\"dataframe\">\n",
       "  <thead>\n",
       "    <tr style=\"text-align: right;\">\n",
       "      <th></th>\n",
       "      <th>type of famlily for work particiaption</th>\n",
       "      <th>reporting month</th>\n",
       "      <th>case number</th>\n",
       "      <th>reason for &amp; amount of assistance reduction item 26A_Sanctions reduction_amount</th>\n",
       "      <th>item26A_work requirements sanction</th>\n",
       "      <th>work participation status</th>\n",
       "      <th>family affiliation</th>\n",
       "      <th>work-eligible individual indicator</th>\n",
       "    </tr>\n",
       "  </thead>\n",
       "  <tbody>\n",
       "    <tr>\n",
       "      <th>1193</th>\n",
       "      <td>1</td>\n",
       "      <td>202010</td>\n",
       "      <td>00007756039</td>\n",
       "      <td>0001</td>\n",
       "      <td>1</td>\n",
       "      <td>02</td>\n",
       "      <td>1</td>\n",
       "      <td>01</td>\n",
       "    </tr>\n",
       "    <tr>\n",
       "      <th>3532</th>\n",
       "      <td>1</td>\n",
       "      <td>202011</td>\n",
       "      <td>00007756039</td>\n",
       "      <td>-122</td>\n",
       "      <td>1</td>\n",
       "      <td>02</td>\n",
       "      <td>1</td>\n",
       "      <td>01</td>\n",
       "    </tr>\n",
       "  </tbody>\n",
       "</table>\n",
       "</div>"
      ],
      "text/plain": [
       "     type of famlily for work particiaption reporting month  case number  \\\n",
       "1193                                      1          202010  00007756039   \n",
       "3532                                      1          202011  00007756039   \n",
       "\n",
       "     reason for & amount of assistance reduction item 26A_Sanctions reduction_amount  \\\n",
       "1193                                               0001                                \n",
       "3532                                               -122                                \n",
       "\n",
       "     item26A_work requirements sanction work participation status  \\\n",
       "1193                                  1                        02   \n",
       "3532                                  1                        02   \n",
       "\n",
       "     family affiliation work-eligible individual indicator  \n",
       "1193                  1                                 01  \n",
       "3532                  1                                 01  "
      ]
     },
     "execution_count": 46,
     "metadata": {},
     "output_type": "execute_result"
    }
   ],
   "source": [
    "k = result.loc[result['case number'] =='00007756039']#,['case number','reporting month']]#, 'work participation status']]\n",
    "k"
   ]
  },
  {
   "cell_type": "code",
   "execution_count": 45,
   "metadata": {},
   "outputs": [
    {
     "data": {
      "text/html": [
       "<div>\n",
       "<style scoped>\n",
       "    .dataframe tbody tr th:only-of-type {\n",
       "        vertical-align: middle;\n",
       "    }\n",
       "\n",
       "    .dataframe tbody tr th {\n",
       "        vertical-align: top;\n",
       "    }\n",
       "\n",
       "    .dataframe thead th {\n",
       "        text-align: right;\n",
       "    }\n",
       "</style>\n",
       "<table border=\"1\" class=\"dataframe\">\n",
       "  <thead>\n",
       "    <tr style=\"text-align: right;\">\n",
       "      <th></th>\n",
       "      <th>type of famlily for work particiaption</th>\n",
       "      <th>case number</th>\n",
       "      <th>reporting month</th>\n",
       "      <th>work participation status</th>\n",
       "      <th>reason for &amp; amount of assistance reduction item 26A_Sanctions reduction_amount</th>\n",
       "      <th>family affiliation</th>\n",
       "    </tr>\n",
       "  </thead>\n",
       "  <tbody>\n",
       "  </tbody>\n",
       "</table>\n",
       "</div>"
      ],
      "text/plain": [
       "Empty DataFrame\n",
       "Columns: [type of famlily for work particiaption, case number, reporting month, work participation status, reason for & amount of assistance reduction item 26A_Sanctions reduction_amount, family affiliation]\n",
       "Index: []"
      ]
     },
     "execution_count": 45,
     "metadata": {},
     "output_type": "execute_result"
    }
   ],
   "source": [
    "# WPR Error 13 case 2\n",
    "er_13_2 = result.loc[((result['work participation status'] == '02') &\n",
    "                      (result['reason for & amount of assistance reduction item 26A_Sanctions reduction_amount']>'0000') &\n",
    "                      (result['item26A_work requirements sanction'] == '1')&\n",
    "                      (result['family affiliation'] == '2')&\n",
    "                      (result['work-eligible individual indicator'] == '02')),\n",
    "                     ['type of famlily for work particiaption',\n",
    "                      'case number',\n",
    "                      'reporting month',\n",
    "                      'work participation status',\n",
    "                      'reason for & amount of assistance reduction item 26A_Sanctions reduction_amount',\n",
    "                      'family affiliation']]\n",
    "                                                                              \n",
    "\n",
    "er_13_2"
   ]
  },
  {
   "cell_type": "code",
   "execution_count": null,
   "metadata": {},
   "outputs": [],
   "source": []
  },
  {
   "cell_type": "code",
   "execution_count": null,
   "metadata": {},
   "outputs": [],
   "source": []
  },
  {
   "cell_type": "code",
   "execution_count": 161,
   "metadata": {
    "scrolled": true
   },
   "outputs": [
    {
     "ename": "NameError",
     "evalue": "name 'openpyxl' is not defined",
     "output_type": "error",
     "traceback": [
      "\u001b[1;31m---------------------------------------------------------------------------\u001b[0m",
      "\u001b[1;31mNameError\u001b[0m                                 Traceback (most recent call last)",
      "\u001b[1;32m<ipython-input-161-39818c70e519>\u001b[0m in \u001b[0;36m<module>\u001b[1;34m()\u001b[0m\n\u001b[0;32m      6\u001b[0m \u001b[1;33m\u001b[0m\u001b[0m\n\u001b[0;32m      7\u001b[0m \u001b[1;32mif\u001b[0m \u001b[0mos\u001b[0m\u001b[1;33m.\u001b[0m\u001b[0mpath\u001b[0m\u001b[1;33m.\u001b[0m\u001b[0mexists\u001b[0m\u001b[1;33m(\u001b[0m\u001b[0mfile_name\u001b[0m\u001b[1;33m)\u001b[0m\u001b[1;33m:\u001b[0m\u001b[1;33m\u001b[0m\u001b[0m\n\u001b[1;32m----> 8\u001b[1;33m     \u001b[0mbook\u001b[0m \u001b[1;33m=\u001b[0m \u001b[0mopenpyxl\u001b[0m\u001b[1;33m.\u001b[0m\u001b[0mload_workbook\u001b[0m\u001b[1;33m(\u001b[0m\u001b[0mfile_name\u001b[0m\u001b[1;33m)\u001b[0m\u001b[1;33m\u001b[0m\u001b[0m\n\u001b[0m\u001b[0;32m      9\u001b[0m     \u001b[0mwriter\u001b[0m\u001b[1;33m.\u001b[0m\u001b[0mbook\u001b[0m \u001b[1;33m=\u001b[0m \u001b[0mbook\u001b[0m\u001b[1;33m\u001b[0m\u001b[0m\n\u001b[0;32m     10\u001b[0m \u001b[1;33m\u001b[0m\u001b[0m\n",
      "\u001b[1;31mNameError\u001b[0m: name 'openpyxl' is not defined"
     ]
    }
   ],
   "source": [
    "import os\n",
    "\n",
    "file_name = 'error_file_list.xlsx'\n",
    "writer = pd.ExcelWriter(file_name, engine='openpyxl')\n",
    "\n",
    "\n",
    "if os.path.exists(file_name):\n",
    "    book = openpyxl.load_workbook(file_name)\n",
    "    writer.book = book\n",
    "    \n",
    "er_13_2.to_excel(writer, sheet_name = 'error_13',index=False)\n",
    "months_error.to_excel(writer, sheet_name = 'months_error',index=False)\n",
    "gender_error.to_excel(writer, sheet_name = 'gender_error',index=False)\n",
    "\n",
    "writer.save()\n",
    "writer.close()\n",
    "\n",
    "\"\"\"\n",
    "# Save statistics in a new tab of Caseload Breakdown By Local Office - August 2019.xlsx \n",
    "file_name = 'Caseload Breakdown by Local Office' + ' - ' + str_prev_month + ' ' + now.strftime('%Y') + '.xlsx'\n",
    "writer = pd.ExcelWriter(file_name, engine='openpyxl')\n",
    "\n",
    "# Save dataframe in a new tab of Caseload Breakdown By Local Office - August 2019.xlsx\n",
    "if os.path.exists(file_name):\n",
    "    book = openpyxl.load_workbook(file_name)\n",
    "    writer.book = book\n",
    "    \n",
    "# Save dataframe in a new tab of Caseload Breakdown By Local Office - August 2019.xlsx    \n",
    "df_sanction_count.to_excel(writer, sheet_name= str_prev_month + '_sanction', index=False)\n",
    "df_case_count.to_excel(writer, sheet_name= str_prev_month + '_caseload', index=False)\n",
    "agg_frame.to_excel(writer, sheet_name= str_prev_month + '_aggregate', index=False)\n",
    "stat_frame.to_excel(writer, sheet_name= str_prev_month + '_stats', index=False)\n",
    "caseload_count.to_excel(writer, sheet_name= str_prev_month + '_caseload_count_cn' , index=False)\n",
    "writer.save()\n",
    "writer.close()\n",
    "\"\"\""
   ]
  },
  {
   "cell_type": "code",
   "execution_count": 155,
   "metadata": {},
   "outputs": [
    {
     "data": {
      "text/plain": [
       "(6900, 7)"
      ]
     },
     "execution_count": 155,
     "metadata": {},
     "output_type": "execute_result"
    }
   ],
   "source": [
    "result2 = pd.merge(t1_13, t2_13, how=\"outer\", on=[\"case number\",\"reporting month\"])\n",
    "result2.shape"
   ]
  },
  {
   "cell_type": "code",
   "execution_count": 135,
   "metadata": {},
   "outputs": [
    {
     "data": {
      "text/plain": [
       "'S:\\\\TANF Reports\\\\!TANF Federal Reports\\\\2020\\\\CY2020_Q4\\\\Data'"
      ]
     },
     "execution_count": 135,
     "metadata": {},
     "output_type": "execute_result"
    }
   ],
   "source": [
    "os.getcwd()"
   ]
  },
  {
   "cell_type": "code",
   "execution_count": 74,
   "metadata": {},
   "outputs": [
    {
     "data": {
      "text/plain": [
       "(6900, 4)"
      ]
     },
     "execution_count": 74,
     "metadata": {},
     "output_type": "execute_result"
    }
   ],
   "source": [
    "t2_13.shape"
   ]
  },
  {
   "cell_type": "code",
   "execution_count": 103,
   "metadata": {},
   "outputs": [
    {
     "data": {
      "text/plain": [
       "(6900, 7)"
      ]
     },
     "execution_count": 103,
     "metadata": {},
     "output_type": "execute_result"
    }
   ],
   "source": [
    "result.shape"
   ]
  },
  {
   "cell_type": "markdown",
   "metadata": {},
   "source": [
    "# Section 2: Closed Cases Data\n",
    "**Be sure to delete the trailer after saving the transmission file in data folder**"
   ]
  },
  {
   "cell_type": "markdown",
   "metadata": {},
   "source": [
    "## T4: Case Data\n",
    "### To find out total number of closed cases in each month of the quarter"
   ]
  },
  {
   "cell_type": "code",
   "execution_count": 3,
   "metadata": {},
   "outputs": [
    {
     "name": "stdout",
     "output_type": "stream",
     "text": [
      "Total number of T4 and T5 in section2: \n",
      "T5    514\n",
      "T4    485\n",
      "Name: record type, dtype: int64\n",
      "\n",
      "Total number of cases closed in each month of the quarter: \n",
      "202010    205\n",
      "202011    168\n",
      "202012    112\n",
      "Name: reporting month, dtype: int64\n"
     ]
    }
   ],
   "source": [
    "import pandas as pd\n",
    "import numpy as np\n",
    "\n",
    "qt4=pd.read_csv('section2_file.txt')  \n",
    "qt4 = pd.DataFrame(qt4)\n",
    "\n",
    "# Name column with original data as raw\n",
    "qt4.columns = ['raw']\n",
    "\n",
    "# Columns based on Transmission Format Section 1\n",
    "qt4['record type'] = qt4['raw'].str.extract('(..)',expand = True)\n",
    "qt4['reporting month'] = qt4['raw'].str[2:8]\n",
    "qt4['case number'] = qt4['raw'].str[8:19]\n",
    "qt4['county fips code'] = qt4['raw'].str[19:22]\n",
    "qt4['stratum'] = qt4['raw'].str[22:24]\n",
    "qt4['zip code'] = qt4['raw'].str[24:29]\n",
    "qt4['disposition'] = qt4['raw'].str[29:30]\n",
    "qt4['reason for closure'] = qt4['raw'].str[30:32]\n",
    "qt4['receives subsidized housing'] = qt4['raw'].str[32:33]\n",
    "qt4['receives medical assistance'] = qt4['raw'].str[33:34]\n",
    "qt4['receives food stamps'] = qt4['raw'].str[34:35]\n",
    "qt4['reporting'] = qt4['raw'].str[2:8]\n",
    "qt4['receives subsidized child care'] = qt4['raw'].str[35:36]\n",
    "qt4['blanks'] = qt4['raw'].str[36:71]\n",
    "\n",
    "# Making a copy \n",
    "quarter = qt4.copy()\n",
    "\n",
    "# Total T4, T4 in the quarter\n",
    "t4t5 = quarter['record type'].value_counts()\n",
    "\n",
    "# Filter out T4:  Case Data\n",
    "quarter_t4 = quarter[quarter['record type'].str.contains('T4')]\n",
    "quarter_t4_breakdown = quarter_t4['reporting month'].value_counts()\n",
    "\n",
    "# Number of cases closed in each reporting month of the quarter\n",
    "closed = (quarter_t4['reporting month']).value_counts()\n",
    "\n",
    "print('Total number of T4 and T5 in section2: \\n%s\\n' %t4t5)\n",
    "print('Total number of cases closed in each month of the quarter: \\n%s' %closed)"
   ]
  },
  {
   "cell_type": "markdown",
   "metadata": {},
   "source": [
    "# Section 3 (Aggregate)\n",
    "### Delete 7 characters starting from T6 and delete any $ over 8 characters, then run the following code"
   ]
  },
  {
   "cell_type": "code",
   "execution_count": 4,
   "metadata": {},
   "outputs": [
    {
     "data": {
      "text/plain": [
       "['00001751',\n",
       " '00001711',\n",
       " '00001736',\n",
       " '00000142',\n",
       " '00000112',\n",
       " '00000147',\n",
       " '00001609',\n",
       " '00001599',\n",
       " '00001589',\n",
       " '$$$$$$$$',\n",
       " '00002024',\n",
       " '00001953',\n",
       " '00001916',\n",
       " '00000055',\n",
       " '00000054',\n",
       " '00000052',\n",
       " '00001001',\n",
       " '00000950',\n",
       " '00000926',\n",
       " '00000968',\n",
       " '00000949',\n",
       " '00000938',\n",
       " '00004551',\n",
       " '00004356',\n",
       " '00004264',\n",
       " '00001117',\n",
       " '00001061',\n",
       " '00001035',\n",
       " '00003434',\n",
       " '00003295',\n",
       " '00003229',\n",
       " '00000011',\n",
       " '00000008',\n",
       " '00000009',\n",
       " '00000002',\n",
       " '00000000',\n",
       " '00000001',\n",
       " '00000000',\n",
       " '00000000',\n",
       " '00000000',\n",
       " '00000205',\n",
       " '00000168',\n",
       " '00000190',\n",
       " 'TRAILER1']"
      ]
     },
     "execution_count": 4,
     "metadata": {},
     "output_type": "execute_result"
    }
   ],
   "source": [
    "from textwrap import wrap\n",
    "t6_2020q4 = '000017510000171100001736000001420000011200000147000016090000159900001589$$$$$$$$000020240000195300001916000000550000005400000052000010010000095000000926000009680000094900000938000045510000435600004264000011170000106100001035000034340000329500003229000000110000000800000009000000020000000000000001000000000000000000000000000002050000016800000190TRAILER1 '\n",
    "wrap(t6_2020q4,8)"
   ]
  },
  {
   "cell_type": "code",
   "execution_count": null,
   "metadata": {},
   "outputs": [],
   "source": [
    "000017510000171100001736000001420000011200000147000016090000159900001589$$$$$$$$000020240000195300001916000000550000005400000052000010010000095000000926000009680000094900000938000045510000435600004264000011170000106100001035000034340000329500003229000000110000000800000009000000020000000000000001000000000000000000000000000002050000016800000190TRAILER1 "
   ]
  },
  {
   "cell_type": "code",
   "execution_count": null,
   "metadata": {},
   "outputs": [],
   "source": []
  },
  {
   "cell_type": "code",
   "execution_count": null,
   "metadata": {},
   "outputs": [],
   "source": [
    "# Python code demonstrate creating \n",
    "# DataFrame from dict and left aligning\n",
    "import pandas as pd \n",
    "  \n",
    "# intialise data of lists. \n",
    "data = {'Name' : ['Tania', 'Ravi', \n",
    "                  'Surbhi', 'Ganesh'], \n",
    "          \n",
    "        'Articles' : [50, 30, 45, 33], \n",
    "          \n",
    "        'Location' : ['Kanpur', 'Kolkata',\n",
    "                      'Kolkata', 'Bombay']} \n",
    "  \n",
    "# Create DataFrame \n",
    "df = pd.DataFrame(data) \n",
    "  \n",
    "left_aligned_df = df.style.set_properties(**{'text-align': 'left'})\n",
    "display(left_aligned_df)"
   ]
  }
 ],
 "metadata": {
  "kernelspec": {
   "display_name": "Python 3",
   "language": "python",
   "name": "python3"
  },
  "language_info": {
   "codemirror_mode": {
    "name": "ipython",
    "version": 3
   },
   "file_extension": ".py",
   "mimetype": "text/x-python",
   "name": "python",
   "nbconvert_exporter": "python",
   "pygments_lexer": "ipython3",
   "version": "3.6.4rc1"
  }
 },
 "nbformat": 4,
 "nbformat_minor": 2
}
