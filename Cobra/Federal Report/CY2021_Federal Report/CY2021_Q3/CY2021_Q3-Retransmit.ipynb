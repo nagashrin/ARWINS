{
 "cells": [
  {
   "cell_type": "markdown",
   "metadata": {},
   "source": [
    "# Section 1: Active Cases\n",
    "**Be sure to delete the trailer after saving the transmission file in data folder**"
   ]
  },
  {
   "cell_type": "markdown",
   "metadata": {},
   "source": [
    "## T1: Family Case Data"
   ]
  },
  {
   "cell_type": "code",
   "execution_count": 6,
   "metadata": {},
   "outputs": [],
   "source": [
    "import os\n",
    "#os.getcwd()\n",
    "#os.listdir()\n",
    "os.chdir('S://TANF Reports//!TANF Federal Reports//2021//CY2021Q3//Data')\n"
   ]
  },
  {
   "cell_type": "code",
   "execution_count": 7,
   "metadata": {},
   "outputs": [
    {
     "data": {
      "text/plain": [
       "2    4247\n",
       "Name: ncp, dtype: int64"
      ]
     },
     "execution_count": 7,
     "metadata": {},
     "output_type": "execute_result"
    }
   ],
   "source": [
    "qt2 = pd.read_csv('section1.txt')\n",
    "qt2 = pd.DataFrame(qt2)\n",
    "qt2.columns = ['raw']\n",
    "\n",
    "qt2['type'] = qt2['raw'].str[0:2]\n",
    "qt2['ncp'] = qt2['raw'].str[20:21]\n",
    "\n",
    "qt2_only = qt2[qt2['type'].str.contains('T2')]\n",
    "\n",
    "qt2_only.ncp.value_counts()"
   ]
  },
  {
   "cell_type": "code",
   "execution_count": 72,
   "metadata": {},
   "outputs": [
    {
     "data": {
      "text/plain": [
       "(4246, 3)"
      ]
     },
     "execution_count": 72,
     "metadata": {},
     "output_type": "execute_result"
    }
   ],
   "source": [
    "qt2_only.shape"
   ]
  },
  {
   "cell_type": "code",
   "execution_count": null,
   "metadata": {},
   "outputs": [],
   "source": []
  },
  {
   "cell_type": "code",
   "execution_count": 8,
   "metadata": {},
   "outputs": [
    {
     "name": "stdout",
     "output_type": "stream",
     "text": [
      "Total T1, T2, T3 in the quarter:\n",
      "T3    5091\n",
      "T2    4247\n",
      "T1    4175\n",
      "TR       1\n",
      "Name: type, dtype: int64\n",
      "\n",
      "\n",
      "quarter_t1_breakdown: \n",
      "202107    1413\n",
      "202108    1397\n",
      "202109    1365\n",
      "Name: reporting month, dtype: int64\n",
      "\n",
      "\n",
      "month_one and one_parent: 572\n",
      "month_one and two_parent: 21\n",
      "month_one and no_parent: 820\n",
      "month_two and one_parent: 550\n",
      "month_two and two_parent: 25\n",
      "month_two and no_parent: 822\n",
      "month_three and one_parent: 522\n",
      "month_three and two_parent: 25\n",
      "month_three and no_parent: 818\n"
     ]
    }
   ],
   "source": [
    "import pandas as pd\n",
    "import numpy as np\n",
    "\n",
    "qt1=pd.read_csv('section1.txt')  \n",
    "qt1 = pd.DataFrame(qt1)\n",
    "\n",
    "# Name column with original data as raw\n",
    "qt1.columns = ['raw']\n",
    "\n",
    "# Columns based on Transmission Format Section 1\n",
    "qt1['type'] = qt1['raw'].str.extract('(..)',expand = True)\n",
    "qt1['reporting month'] = qt1['raw'].str[2:8]\n",
    "qt1['case number'] = qt1['raw'].str[8:19]\n",
    "qt1['county fips code'] = qt1['raw'].str[19:22]\n",
    "qt1['stratum'] = qt1['raw'].str[22:24]\n",
    "qt1['zip code'] = qt1['raw'].str[24:29]\n",
    "qt1['funding stream'] = qt1['raw'].str[29:30]\n",
    "qt1['disposition'] = qt1['raw'].str[30:31]\n",
    "qt1['new applicant'] = qt1['raw'].str[31:32]\n",
    "qt1['# family members'] = qt1['raw'].str[32:34]\n",
    "qt1['type of famlily for work particiaption'] = qt1['raw'].str[34:35]\n",
    "qt1['receives subsidized housing'] = qt1['raw'].str[35:36]\n",
    "qt1['receives medical assistance'] = qt1['raw'].str[36:37]\n",
    "qt1['receives food stamps'] = qt1['raw'].str[37:38]\n",
    "qt1['amount of food stamp assistance'] = qt1['raw'].str[38:42]\n",
    "qt1['receives subisdized child care'] = qt1['raw'].str[42:43]\n",
    "qt1['amount of subsidized child care'] = qt1['raw'].str[43:47]\n",
    "qt1['amount of child support'] = qt1['raw'].str[47:51]\n",
    "qt1['amount of familys cash resources'] = qt1['raw'].str[51:55]\n",
    "qt1['cash & cash equivalents item 21A_amount'] = qt1['raw'].str[55:59]\n",
    "qt1['item21B_nbr_month'] = qt1['raw'].str[59:62]\n",
    "qt1['TANF child care item22A_amount'] = qt1['raw'].str[62:66]\n",
    "qt1['item22B_children_covered'] = qt1['raw'].str[66:68]\n",
    "qt1['item22C_nbr_months'] = qt1['raw'].str[68_71]\n",
    "qt1['item23B_nbr_months'] = qt1['raw'].str[75:78]\n",
    "qt1['transitional services item24A_amount'] = qt1['raw'].str[78:82]\n",
    "qt1['item24B_nbr_months'] = qt1['raw'].str[82:85]\n",
    "qt1['item25A_amount'] = qt1['raw'].str[85:89]\n",
    "qt1['item25B_nbr_months'] = qt1['raw'].str[89:92]\n",
    "qt1['reason for & amount of assistance reduction item 26A_Sanctions reduction_amount'] = qt1['raw'].str[92:96]\n",
    "qt1['item26A_work requirements sanction'] = qt1['raw'].str[96:97]\n",
    "qt1['item26A_family snaction for adult, no high..'] = qt1['raw'].str[97:98]\n",
    "qt1['item26A_sanction for teen parent not addendin..'] = qt1['raw'].str[98:99]\n",
    "qt1['item26A_failure to coply with individual res..'] = qt1['raw'].str[100:101]\n",
    "qt1['item26A_other sanction'] = qt1['raw'].str[101:102]\n",
    "qt1['item26B_recoupment of prior overpayment'] = qt1['raw'].str[102:106]\n",
    "qt1['item26C_other total reduction amount'] = qt1['raw'].str[106:110]\n",
    "qt1['item26C_family cap'] = qt1['raw'].str[110:111]\n",
    "qt1['item26C_reduction based on length of receip..'] = qt1['raw'].str[110:112]\n",
    "qt1['item26C_other, non-sanction'] = qt1['raw'].str[112:113]\n",
    "qt1['waiver_evaluation_control_grps'] = qt1['raw'].str[113:114]\n",
    "qt1['TANF family exempt from time_limits'] = qt1['raw'].str[114:116]\n",
    "qt1['TANF family new child only family'] = qt1['raw'].str[116:117]\n",
    "qt1['blank'] = qt1['raw'].str[117:156]\n",
    "\n",
    "# Making a copy of q1\n",
    "quarter = qt1.copy()\n",
    "\n",
    "# Total T1, T2, T3 in the quarter\n",
    "t1t2t3 = quarter['type'].value_counts()\n",
    "\n",
    "# Filter out T1; Family Case Data\n",
    "quarter_t1 = quarter[quarter['type'].str.contains('T1')]\n",
    "quarter_t1_breakdown = quarter_t1['reporting month'].value_counts()\n",
    "\n",
    "# Create Masks for each type of family for work participation\n",
    "one_parent = quarter_t1['type of famlily for work particiaption']=='1'\n",
    "two_parent = quarter_t1['type of famlily for work particiaption']=='2'\n",
    "no_parent = quarter_t1['type of famlily for work particiaption']=='3'\n",
    "\n",
    "# Create Masks for each reporting month of the quarter\n",
    "month_one = quarter_t1['reporting month']=='202107'     # Be sure to format as 201910\n",
    "month_two = quarter_t1['reporting month']=='202108'     # Be sure to format as 201911\n",
    "month_three = quarter_t1['reporting month']=='202109'   # Be sure to format as 201912\n",
    "\n",
    "# Data for validating with Section 3 numbers\n",
    "oo = ((month_one) & (one_parent)).values.sum()\n",
    "ot = ((month_one) & (two_parent)).values.sum()\n",
    "on = ((month_one) & (no_parent)).values.sum()\n",
    "to = ((month_two) & (one_parent)).values.sum()\n",
    "tt = ((month_two) & (two_parent)).values.sum()\n",
    "tn = ((month_two) & (no_parent)).values.sum()\n",
    "tho = ((month_three) & (one_parent)).values.sum()\n",
    "tht = ((month_three) & (two_parent)).values.sum()\n",
    "thn = ((month_three) & (no_parent)).values.sum()\n",
    "\n",
    "print('Total T1, T2, T3 in the quarter:\\n%s\\n\\n'%t1t2t3)\n",
    "print('quarter_t1_breakdown: \\n%s\\n\\n' %(quarter_t1_breakdown))\n",
    "print('month_one and one_parent: %d\\nmonth_one and two_parent: %d\\nmonth_one and no_parent: %d\\nmonth_two and one_parent: %d\\nmonth_two and two_parent: %d\\nmonth_two and no_parent: %d\\nmonth_three and one_parent: %d\\nmonth_three and two_parent: %d\\nmonth_three and no_parent: %d'%(oo,ot,on,to,tt,tn,tho,tht,thn))"
   ]
  },
  {
   "cell_type": "markdown",
   "metadata": {},
   "source": [
    "# Section 2: Closed Cases Data\n",
    "**Be sure to delete the trailer after saving the transmission file in data folder**"
   ]
  },
  {
   "cell_type": "markdown",
   "metadata": {},
   "source": [
    "## T4: Case Data\n",
    "### To find out total number of closed cases in each month of the quarter"
   ]
  },
  {
   "cell_type": "code",
   "execution_count": 9,
   "metadata": {},
   "outputs": [
    {
     "name": "stdout",
     "output_type": "stream",
     "text": [
      "Total number of T4 and T5 in section2: \n",
      "T5    335\n",
      "T4    319\n",
      "TR      1\n",
      "Name: record type, dtype: int64\n",
      "\n",
      "Total number of cases closed in each month of the quarter: \n",
      "202109    125\n",
      "202108    101\n",
      "202107     93\n",
      "Name: reporting month, dtype: int64\n"
     ]
    }
   ],
   "source": [
    "import pandas as pd\n",
    "import numpy as np\n",
    "\n",
    "qt4=pd.read_csv('section2_file.txt')  \n",
    "qt4 = pd.DataFrame(qt4)\n",
    "\n",
    "# Name column with original data as raw\n",
    "qt4.columns = ['raw']\n",
    "\n",
    "# Columns based on Transmission Format Section 1\n",
    "qt4['record type'] = qt4['raw'].str.extract('(..)',expand = True)\n",
    "qt4['reporting month'] = qt4['raw'].str[2:8]\n",
    "qt4['case number'] = qt4['raw'].str[8:19]\n",
    "qt4['county fips code'] = qt4['raw'].str[19:22]\n",
    "qt4['stratum'] = qt4['raw'].str[22:24]\n",
    "qt4['zip code'] = qt4['raw'].str[24:29]\n",
    "qt4['disposition'] = qt4['raw'].str[29:30]\n",
    "qt4['reason for closure'] = qt4['raw'].str[30:32]\n",
    "qt4['receives subsidized housing'] = qt4['raw'].str[32:33]\n",
    "qt4['receives medical assistance'] = qt4['raw'].str[33:34]\n",
    "qt4['receives food stamps'] = qt4['raw'].str[34:35]\n",
    "qt4['reporting'] = qt4['raw'].str[2:8]\n",
    "qt4['receives subsidized child care'] = qt4['raw'].str[35:36]\n",
    "qt4['blanks'] = qt4['raw'].str[36:71]\n",
    "\n",
    "# Making a copy \n",
    "quarter = qt4.copy()\n",
    "\n",
    "# Total T4, T4 in the quarter\n",
    "t4t5 = quarter['record type'].value_counts()\n",
    "\n",
    "# Filter out T4:  Case Data\n",
    "quarter_t4 = quarter[quarter['record type'].str.contains('T4')]\n",
    "quarter_t4_breakdown = quarter_t4['reporting month'].value_counts()\n",
    "\n",
    "# Number of cases closed in each reporting month of the quarter\n",
    "closed = (quarter_t4['reporting month']).value_counts()\n",
    "\n",
    "print('Total number of T4 and T5 in section2: \\n%s\\n' %t4t5)\n",
    "print('Total number of cases closed in each month of the quarter: \\n%s' %closed)"
   ]
  },
  {
   "cell_type": "markdown",
   "metadata": {},
   "source": [
    "# Section 3 (Aggregate)\n",
    "### Delete 7 characters starting from T6 and delete any $ over 8 characters, then run the following code"
   ]
  },
  {
   "cell_type": "code",
   "execution_count": 7,
   "metadata": {},
   "outputs": [],
   "source": [
    "#000017810000184800001822000001130000014100000108000016680000170700001714$$$$$$$$000014130000139700001365000000200000002400000025000005730000055100000522000008200000082200000818000030530000301100002766000006140000060000000573000024390000241100002193000000000000000000000000000000010000000200000001000000000000000000000000000000930000010100000125TRAILER1"
   ]
  },
  {
   "cell_type": "code",
   "execution_count": 10,
   "metadata": {},
   "outputs": [
    {
     "data": {
      "text/plain": [
       "['00001781',\n",
       " '00001848',\n",
       " '00001822',\n",
       " '00000113',\n",
       " '00000141',\n",
       " '00000108',\n",
       " '00001668',\n",
       " '00001707',\n",
       " '00001714',\n",
       " '$$$$$$$$',\n",
       " '00001413',\n",
       " '00001397',\n",
       " '00001365',\n",
       " '00000020',\n",
       " '00000024',\n",
       " '00000025',\n",
       " '00000573',\n",
       " '00000551',\n",
       " '00000522',\n",
       " '00000820',\n",
       " '00000822',\n",
       " '00000818',\n",
       " '00003053',\n",
       " '00003011',\n",
       " '00002766',\n",
       " '00000614',\n",
       " '00000600',\n",
       " '00000573',\n",
       " '00002439',\n",
       " '00002411',\n",
       " '00002193',\n",
       " '00000000',\n",
       " '00000000',\n",
       " '00000000',\n",
       " '00000001',\n",
       " '00000002',\n",
       " '00000001',\n",
       " '00000000',\n",
       " '00000000',\n",
       " '00000000',\n",
       " '00000093',\n",
       " '00000101',\n",
       " '00000125',\n",
       " 'TRAILER1']"
      ]
     },
     "execution_count": 10,
     "metadata": {},
     "output_type": "execute_result"
    }
   ],
   "source": [
    "from textwrap import wrap\n",
    "t6_2021q3 = '000017810000184800001822000001130000014100000108000016680000170700001714$$$$$$$$000014130000139700001365000000200000002400000025000005730000055100000522000008200000082200000818000030530000301100002766000006140000060000000573000024390000241100002193000000000000000000000000000000010000000200000001000000000000000000000000000000930000010100000125TRAILER1'\n",
    "wrap(t6_2021q3,8)"
   ]
  },
  {
   "cell_type": "code",
   "execution_count": null,
   "metadata": {},
   "outputs": [],
   "source": []
  }
 ],
 "metadata": {
  "kernelspec": {
   "display_name": "Python 3 (ipykernel)",
   "language": "python",
   "name": "python3"
  },
  "language_info": {
   "codemirror_mode": {
    "name": "ipython",
    "version": 3
   },
   "file_extension": ".py",
   "mimetype": "text/x-python",
   "name": "python",
   "nbconvert_exporter": "python",
   "pygments_lexer": "ipython3",
   "version": "3.9.6"
  }
 },
 "nbformat": 4,
 "nbformat_minor": 2
}
