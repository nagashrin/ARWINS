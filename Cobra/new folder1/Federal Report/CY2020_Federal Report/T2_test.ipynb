{
 "cells": [
  {
   "cell_type": "code",
   "execution_count": 1,
   "metadata": {},
   "outputs": [],
   "source": [
    "import os\n",
    "os.chdir('S://TANF Reports//!TANF Federal Reports//2020//CY2020_Q4//Data')\n",
    "import pandas as pd\n",
    "import numpy as np"
   ]
  },
  {
   "cell_type": "code",
   "execution_count": 8,
   "metadata": {},
   "outputs": [],
   "source": [
    "qt2 = pd.read_csv('section1.txt')\n",
    "qt2 = pd.DataFrame(qt2)\n",
    "\n",
    "# Name column with original data as raw\n",
    "qt2.columns = ['raw']\n",
    "# Columns based on Transmission Format Section 1\n",
    "qt2['type'] = qt2['raw'].str[0:2]\n",
    "qt2['reporting month'] = qt2['raw'].str[2:8]\n",
    "qt2['case number'] = qt2['raw'].str[8:19]\n",
    "qt2['family affiliation'] = qt2['raw'].str[19:20]\n",
    "qt2['noncustodial parent'] = qt2['raw'].str[20:21]\n",
    "qt2['dob'] = qt2['raw'].str[21:29]\n",
    "qt2['ssn'] = qt2['raw'].str[29:38]\n",
    "qt2['34a_hispanic or latino'] = qt2['raw'].str[38:39]\n",
    "qt2['34b_american indian or alaska native'] = qt2['raw'].str[39:40]\n",
    "qt2['34c_asian'] = qt2['raw'].str[40:41]\n",
    "qt2['34d_black or african american'] = qt2['raw'].str[41:42]\n",
    "qt2['34e_native hawaiian or other pacific islander'] = qt2['raw'].str[42:43]\n",
    "qt2['34f_white'] = qt2['raw'].str[43:44]\n",
    "qt2['gender'] = qt2['raw'].str[44:45]\n",
    "qt2['36a_receives federal disability insurance'] = qt2['raw'].str[45:46]\n",
    "qt2['36b_receives benefits based on federal disability status'] = qt2['raw'].str[46:47]\n",
    "qt2['36c_receives aid to the permanently and totally disabled under title'] = qt2['raw'].str[47:48]\n",
    "qt2['36d_receives aid to the aged, blind'] = qt2['raw'].str[48:49]\n",
    "qt2['36e_receives supplemental security income under title'] = qt2['raw'].str[49:50]\n",
    "qt2['marital status'] = qt2['raw'].str[50:51]\n",
    "qt2['38_relationship to hoh'] = qt2['raw'].str[51:53]\n",
    "qt2['parent with minor child'] = qt2['raw'].str[53:54]\n",
    "qt2['needs of a pregnant woman'] = qt2['raw'].str[54:55]\n",
    "qt2['education level'] = qt2['raw'].str[55:57]\n",
    "qt2['citizenship status'] = qt2['raw'].str[57:58]\n",
    "qt2['cooperation with child support'] = qt2['raw'].str[58:59]\n",
    "qt2['federal tl months'] = qt2['raw'].str[59:62]\n",
    "qt2['remaining monts under state tl'] = qt2['raw'].str[62:64]\n",
    "qt2['current month exempt from state tl'] = qt2['raw'].str[64:65]\n",
    "qt2['employment status'] = qt2['raw'].str[65:66]\n",
    "qt2['work-eligible individual indicator'] = qt2['raw'].str[66:68]\n",
    "qt2['work participation status'] = qt2['raw'].str[68:70]\n",
    "qt2['unsubsidized employment'] = qt2['raw'].str[70:72]\n",
    "qt2['subsidized private employment'] = qt2['raw'].str[72:74]\n",
    "qt2['subsidized public employment'] = qt2['raw'].str[74:76]\n",
    "qt2['53a_hours of participation'] = qt2['raw'].str[76:78]\n",
    "qt2['53b_excused absence'] = qt2['raw'].str[78:80]\n",
    "qt2['53c_holidays'] = qt2['raw'].str[80:82]\n",
    "qt2['ojt'] = qt2['raw'].str[82:84]\n",
    "qt2['55a_hours of participation'] = qt2['raw'].str[84:86]\n",
    "qt2['55b_excused absence'] = qt2['raw'].str[86:88]\n",
    "qt2['55c_holidays'] = qt2['raw'].str[88:90]\n",
    "qt2['56a_hours of participation'] = qt2['raw'].str[90:92]\n",
    "qt2['56b_excused absence'] = qt2['raw'].str[92:94]\n",
    "qt2['56c_holidays'] = qt2['raw'].str[94:96]\n",
    "qt2['57a_hours of participation'] = qt2['raw'].str[96:98]\n",
    "qt2['57b_excused absence'] = qt2['raw'].str[98:100]\n",
    "qt2['57c_holidays'] = qt2['raw'].str[100:102]\n",
    "qt2['58a_hours of participation'] = qt2['raw'].str[102:104]\n",
    "qt2['58b_excused absence'] = qt2['raw'].str[104:106]\n",
    "qt2['58c_holidays'] = qt2['raw'].str[106:108]\n",
    "qt2['59a_hours of participation'] = qt2['raw'].str[108:110]\n",
    "qt2['59b_excused absence'] = qt2['raw'].str[110:112]\n",
    "qt2['59c_holidays'] = qt2['raw'].str[112:114]\n",
    "qt2['60a_hours of participation'] = qt2['raw'].str[114:116]\n",
    "qt2['60b_excused absence'] = qt2['raw'].str[116:118]\n",
    "qt2['60c_holidays'] = qt2['raw'].str[118:120]\n",
    "qt2['61a_hours of participation'] = qt2['raw'].str[120:122]\n",
    "qt2['61b_excused absence'] = qt2['raw'].str[122:124]\n",
    "qt2['61c_holidays'] = qt2['raw'].str[124:126]\n",
    "qt2['other work activities'] = qt2['raw'].str[126:128]\n",
    "qt2['core hours_overall rate'] = qt2['raw'].str[128:130]\n",
    "qt2['core hours_2p rate'] = qt2['raw'].str[130:132]\n",
    "qt2['amt earned income'] = qt2['raw'].str[132:136]\n",
    "qt2['66a_income tax credit'] = qt2['raw'].str[136:140]\n",
    "qt2['66b_social security'] = qt2['raw'].str[140:144]\n",
    "qt2['66c_ssi'] = qt2['raw'].str[144:148]\n",
    "qt2['66d_workers comp'] = qt2['raw'].str[148:152]\n",
    "qt2['66e_other unearned income'] = qt2['raw'].str[152:156]\n",
    "\n",
    "\n",
    "# Making a copy of q2\n",
    "quarter = qt2.copy()\n",
    "\n",
    "# Isolating T1 data\n",
    "t2_q = quarter[quarter['type'] == 'T2'].drop('raw',1)"
   ]
  },
  {
   "cell_type": "code",
   "execution_count": 11,
   "metadata": {},
   "outputs": [],
   "source": []
  },
  {
   "cell_type": "code",
   "execution_count": null,
   "metadata": {},
   "outputs": [],
   "source": []
  },
  {
   "cell_type": "code",
   "execution_count": 17,
   "metadata": {},
   "outputs": [
    {
     "data": {
      "text/plain": [
       "(6068, 69)"
      ]
     },
     "execution_count": 17,
     "metadata": {},
     "output_type": "execute_result"
    }
   ],
   "source": [
    "t2_q.shape"
   ]
  },
  {
   "cell_type": "code",
   "execution_count": 16,
   "metadata": {},
   "outputs": [
    {
     "data": {
      "text/plain": [
       "01    3213\n",
       "07    2855\n",
       "Name: work-eligible individual indicator, dtype: int64"
      ]
     },
     "execution_count": 16,
     "metadata": {},
     "output_type": "execute_result"
    }
   ],
   "source": [
    "t2_q['work-eligible individual indicator'].value_counts()"
   ]
  },
  {
   "cell_type": "code",
   "execution_count": null,
   "metadata": {},
   "outputs": [],
   "source": []
  }
 ],
 "metadata": {
  "kernelspec": {
   "display_name": "Python 3",
   "language": "python",
   "name": "python3"
  },
  "language_info": {
   "codemirror_mode": {
    "name": "ipython",
    "version": 3
   },
   "file_extension": ".py",
   "mimetype": "text/x-python",
   "name": "python",
   "nbconvert_exporter": "python",
   "pygments_lexer": "ipython3",
   "version": "3.6.4rc1"
  }
 },
 "nbformat": 4,
 "nbformat_minor": 2
}
