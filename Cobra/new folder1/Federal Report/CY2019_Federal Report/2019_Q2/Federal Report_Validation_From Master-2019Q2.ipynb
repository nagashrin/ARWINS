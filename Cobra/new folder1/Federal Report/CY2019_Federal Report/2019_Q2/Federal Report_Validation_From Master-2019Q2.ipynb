{
 "cells": [
  {
   "cell_type": "markdown",
   "metadata": {},
   "source": [
    "# Section 1: Active Cases\n",
    "**Be sure to delete the trailer after saving the transmission file in data folder**"
   ]
  },
  {
   "cell_type": "markdown",
   "metadata": {},
   "source": [
    "## T1: Family Case Data"
   ]
  },
  {
   "cell_type": "code",
   "execution_count": 5,
   "metadata": {},
   "outputs": [
    {
     "name": "stdout",
     "output_type": "stream",
     "text": [
      "Total T1, T2, T3 in the quarter:\n",
      "T3    8609\n",
      "T2    7332\n",
      "T1    7135\n",
      "Name: type, dtype: int64\n",
      "\n",
      "\n",
      "quarter_t1_breakdown: \n",
      "201904    2434\n",
      "201905    2368\n",
      "201906    2333\n",
      "Name: reporting month, dtype: int64\n",
      "\n",
      "\n",
      "month_one and one_parent: 1177\n",
      "month_one and two_parent: 63\n",
      "month_one and no_parent: 1194\n",
      "month_two and one_parent: 1154\n",
      "month_two and two_parent: 64\n",
      "month_two and no_parent: 1150\n",
      "month_three and one_parent: 1132\n",
      "month_three and two_parent: 61\n",
      "month_three and no_parent: 1140\n"
     ]
    }
   ],
   "source": [
    "import pandas as pd\n",
    "import numpy as np\n",
    "\n",
    "qt1=pd.read_csv('Data/2019Q2_sec1.txt')  \n",
    "qt1 = pd.DataFrame(qt1)\n",
    "\n",
    "# Name column with original data as raw\n",
    "qt1.columns = ['raw']\n",
    "\n",
    "# Columns based on Transmission Format Section 1\n",
    "qt1['type'] = qt1['raw'].str.extract('(..)',expand = True)\n",
    "qt1['reporting month'] = qt1['raw'].str[2:8]\n",
    "qt1['case number'] = qt1['raw'].str[8:19]\n",
    "qt1['county fips code'] = qt1['raw'].str[19:22]\n",
    "qt1['stratum'] = qt1['raw'].str[22:24]\n",
    "qt1['zip code'] = qt1['raw'].str[24:29]\n",
    "qt1['funding stream'] = qt1['raw'].str[29:30]\n",
    "qt1['disposition'] = qt1['raw'].str[30:31]\n",
    "qt1['new applicant'] = qt1['raw'].str[31:32]\n",
    "qt1['# family members'] = qt1['raw'].str[32:34]\n",
    "qt1['type of famlily for work particiaption'] = qt1['raw'].str[34:35]\n",
    "qt1['receives subsidized housing'] = qt1['raw'].str[35:36]\n",
    "qt1['receives medical assistance'] = qt1['raw'].str[36:37]\n",
    "qt1['receives food stamps'] = qt1['raw'].str[37:38]\n",
    "qt1['amount of food stamp assistance'] = qt1['raw'].str[38:42]\n",
    "qt1['receives subisdized child care'] = qt1['raw'].str[42:43]\n",
    "qt1['amount of subsidized child care'] = qt1['raw'].str[43:47]\n",
    "qt1['amount of child support'] = qt1['raw'].str[47:51]\n",
    "qt1['amount of familys cash resources'] = qt1['raw'].str[51:55]\n",
    "qt1['cash & cash equivalents item 21A_amount'] = qt1['raw'].str[55:59]\n",
    "qt1['item21B_nbr_month'] = qt1['raw'].str[59:62]\n",
    "qt1['TANF child care item22A_amount'] = qt1['raw'].str[62:66]\n",
    "qt1['item22B_children_covered'] = qt1['raw'].str[66:68]\n",
    "qt1['item22C_nbr_months'] = qt1['raw'].str[68_71]\n",
    "qt1['item23B_nbr_months'] = qt1['raw'].str[75:78]\n",
    "qt1['transitional services item24A_amount'] = qt1['raw'].str[78:82]\n",
    "qt1['item24B_nbr_months'] = qt1['raw'].str[82:85]\n",
    "qt1['item25A_amount'] = qt1['raw'].str[85:89]\n",
    "qt1['item25B_nbr_months'] = qt1['raw'].str[89:92]\n",
    "qt1['reason for & amount of assistance reduction item 26A_Sanctions reduction_amount'] = qt1['raw'].str[92:96]\n",
    "qt1['item26A_work requirements sanction'] = qt1['raw'].str[96:97]\n",
    "qt1['item26A_family snaction for adult, no high..'] = qt1['raw'].str[97:98]\n",
    "qt1['item26A_sanction for teen parent not addendin..'] = qt1['raw'].str[98:99]\n",
    "qt1['item26A_failure to coply with individual res..'] = qt1['raw'].str[100:101]\n",
    "qt1['item26A_other sanction'] = qt1['raw'].str[101:102]\n",
    "qt1['item26B_recoupment of prior overpayment'] = qt1['raw'].str[102:106]\n",
    "qt1['item26C_other total reduction amount'] = qt1['raw'].str[106:110]\n",
    "qt1['item26C_family cap'] = qt1['raw'].str[110:111]\n",
    "qt1['item26C_reduction based on length of receip..'] = qt1['raw'].str[110:112]\n",
    "qt1['item26C_other, non-sanction'] = qt1['raw'].str[112:113]\n",
    "qt1['waiver_evaluation_control_grps'] = qt1['raw'].str[113:114]\n",
    "qt1['TANF family exempt from time_limits'] = qt1['raw'].str[114:116]\n",
    "qt1['TANF family new child only family'] = qt1['raw'].str[116:117]\n",
    "qt1['blank'] = qt1['raw'].str[117:156]\n",
    "\n",
    "# Making a copy of q1\n",
    "quarter = qt1.copy()\n",
    "\n",
    "# Total T1, T2, T3 in the quarter\n",
    "t1t2t3 = quarter['type'].value_counts()\n",
    "\n",
    "# Filter out T1; Family Case Data\n",
    "quarter_t1 = quarter[quarter['type'].str.contains('T1')]\n",
    "quarter_t1_breakdown = quarter_t1['reporting month'].value_counts()\n",
    "\n",
    "# Create Masks for each type of family for work participation\n",
    "one_parent = quarter_t1['type of famlily for work particiaption']=='1'\n",
    "two_parent = quarter_t1['type of famlily for work particiaption']=='2'\n",
    "no_parent = quarter_t1['type of famlily for work particiaption']=='3'\n",
    "\n",
    "# Create Masks for each reporting month of the quarter\n",
    "month_one = quarter_t1['reporting month']=='201904'\n",
    "month_two = quarter_t1['reporting month']=='201905'\n",
    "month_three = quarter_t1['reporting month']=='201906'\n",
    "\n",
    "# Data for validating with Section 3 numbers\n",
    "oo = ((month_one) & (one_parent)).values.sum()\n",
    "ot = ((month_one) & (two_parent)).values.sum()\n",
    "on = ((month_one) & (no_parent)).values.sum()\n",
    "to = ((month_two) & (one_parent)).values.sum()\n",
    "tt = ((month_two) & (two_parent)).values.sum()\n",
    "tn = ((month_two) & (no_parent)).values.sum()\n",
    "tho = ((month_three) & (one_parent)).values.sum()\n",
    "tht = ((month_three) & (two_parent)).values.sum()\n",
    "thn = ((month_three) & (no_parent)).values.sum()\n",
    "\n",
    "print('Total T1, T2, T3 in the quarter:\\n%s\\n\\n'%t1t2t3)\n",
    "print('quarter_t1_breakdown: \\n%s\\n\\n' %(quarter_t1_breakdown))\n",
    "print('month_one and one_parent: %d\\nmonth_one and two_parent: %d\\nmonth_one and no_parent: %d\\nmonth_two and one_parent: %d\\nmonth_two and two_parent: %d\\nmonth_two and no_parent: %d\\nmonth_three and one_parent: %d\\nmonth_three and two_parent: %d\\nmonth_three and no_parent: %d'%(oo,ot,on,to,tt,tn,tho,tht,thn))"
   ]
  },
  {
   "cell_type": "markdown",
   "metadata": {},
   "source": [
    "# Section 2: Closed Cases Data\n",
    "**Be sure to delete the trailer after saving the transmission file in data folder**"
   ]
  },
  {
   "cell_type": "markdown",
   "metadata": {},
   "source": [
    "## T4: Case Data\n",
    "### To find out total number of closed cases in each month of the quarter"
   ]
  },
  {
   "cell_type": "code",
   "execution_count": 1,
   "metadata": {},
   "outputs": [
    {
     "name": "stdout",
     "output_type": "stream",
     "text": [
      "Total number of T4 and T5 in section2: \n",
      "T5    690\n",
      "T4    666\n",
      "TR      1\n",
      "Name: record type, dtype: int64\n",
      "\n",
      "Total number of cases closed in each month of the quarter: \n",
      "201904    270\n",
      "201905    206\n",
      "201906    190\n",
      "Name: reporting month, dtype: int64\n"
     ]
    }
   ],
   "source": [
    "import pandas as pd\n",
    "import numpy as np\n",
    "\n",
    "qt4=pd.read_csv('Data/2019q2_sec2.txt')  \n",
    "qt4 = pd.DataFrame(qt4)\n",
    "\n",
    "# Name column with original data as raw\n",
    "qt4.columns = ['raw']\n",
    "\n",
    "# Columns based on Transmission Format Section 1\n",
    "qt4['record type'] = qt4['raw'].str.extract('(..)',expand = True)\n",
    "qt4['reporting month'] = qt4['raw'].str[2:8]\n",
    "qt4['case number'] = qt4['raw'].str[8:19]\n",
    "qt4['county fips code'] = qt4['raw'].str[19:22]\n",
    "qt4['stratum'] = qt4['raw'].str[22:24]\n",
    "qt4['zip code'] = qt4['raw'].str[24:29]\n",
    "qt4['disposition'] = qt4['raw'].str[29:30]\n",
    "qt4['reason for closure'] = qt4['raw'].str[30:32]\n",
    "qt4['receives subsidized housing'] = qt4['raw'].str[32:33]\n",
    "qt4['receives medical assistance'] = qt4['raw'].str[33:34]\n",
    "qt4['receives food stamps'] = qt4['raw'].str[34:35]\n",
    "qt4['reporting'] = qt4['raw'].str[2:8]\n",
    "qt4['receives subsidized child care'] = qt4['raw'].str[35:36]\n",
    "qt4['blanks'] = qt4['raw'].str[36:71]\n",
    "\n",
    "# Making a copy \n",
    "quarter = qt4.copy()\n",
    "\n",
    "# Total T4, T4 in the quarter\n",
    "t4t5 = quarter['record type'].value_counts()\n",
    "\n",
    "# Filter out T4:  Case Data\n",
    "quarter_t4 = quarter[quarter['record type'].str.contains('T4')]\n",
    "quarter_t4_breakdown = quarter_t4['reporting month'].value_counts()\n",
    "\n",
    "# Number of cases closed in each reporting month of the quarter\n",
    "closed = (quarter_t4['reporting month']).value_counts()\n",
    "\n",
    "print('Total number of T4 and T5 in section2: \\n%s\\n' %t4t5)\n",
    "print('Total number of cases closed in each month of the quarter: \\n%s' %closed)"
   ]
  },
  {
   "cell_type": "markdown",
   "metadata": {},
   "source": [
    "# Section 3 (Aggregate)\n",
    "### Delete 7 characters starting from T6 and delete any $ over 8 characters, then run the following code"
   ]
  },
  {
   "cell_type": "code",
   "execution_count": 3,
   "metadata": {},
   "outputs": [
    {
     "data": {
      "text/plain": [
       "['00001666',\n",
       " '00001694',\n",
       " '00001675',\n",
       " '00000219',\n",
       " '00000245',\n",
       " '00000224',\n",
       " '00001447',\n",
       " '00001449',\n",
       " '00001451',\n",
       " '$$$$$$$$',\n",
       " '00002435',\n",
       " '00002368',\n",
       " '00002333',\n",
       " '00000063',\n",
       " '00000064',\n",
       " '00000061',\n",
       " '00001177',\n",
       " '00001154',\n",
       " '00001132',\n",
       " '00001195',\n",
       " '00001150',\n",
       " '00001140',\n",
       " '00005318',\n",
       " '00005221',\n",
       " '00005183',\n",
       " '00001306',\n",
       " '00001283',\n",
       " '00001256',\n",
       " '00004012',\n",
       " '00003938',\n",
       " '00003927',\n",
       " '00000010',\n",
       " '00000009',\n",
       " '00000010',\n",
       " '00000000',\n",
       " '00000002',\n",
       " '00000000',\n",
       " '00000000',\n",
       " '00000000',\n",
       " '00000000',\n",
       " '00000338',\n",
       " '00000265',\n",
       " '00000245',\n",
       " 'TRAILER1']"
      ]
     },
     "execution_count": 3,
     "metadata": {},
     "output_type": "execute_result"
    }
   ],
   "source": [
    "from textwrap import wrap\n",
    "t6_2018q4 = '000016660000169400001675000002190000024500000224000014470000144900001451$$$$$$$$000024350000236800002333000000630000006400000061000011770000115400001132000011950000115000001140000053180000522100005183000013060000128300001256000040120000393800003927000000100000000900000010000000000000000200000000000000000000000000000000000003380000026500000245TRAILER1'\n",
    "wrap(t6_2018q4,8)"
   ]
  },
  {
   "cell_type": "code",
   "execution_count": null,
   "metadata": {},
   "outputs": [],
   "source": [
    "HEADER20192A05000TAN1ENT620192000016660000169400001675000002190000024500000224000014470000144900001451$$$$$$$$$$$$$$$$$$$$$$$$$$$$$$$$$$$$000024350000236800002333000000630000006400000061000011770000115400001132000011950000115000001140000053180000522100005183000013060000128300001256000040120000393800003927000000100000000900000010000000000000000200000000000000000000000000000000000003380000026500000245TRAILER1  "
   ]
  },
  {
   "cell_type": "code",
   "execution_count": null,
   "metadata": {},
   "outputs": [],
   "source": [
    "000016660000169400001675000002190000024500000224000014470000144900001451$$$$$$$$000024350000236800002333000000630000006400000061000011770000115400001132000011950000115000001140000053180000522100005183000013060000128300001256000040120000393800003927000000100000000900000010000000000000000200000000000000000000000000000000000003380000026500000245TRAILER1  "
   ]
  }
 ],
 "metadata": {
  "kernelspec": {
   "display_name": "Python 3",
   "language": "python",
   "name": "python3"
  },
  "language_info": {
   "codemirror_mode": {
    "name": "ipython",
    "version": 3
   },
   "file_extension": ".py",
   "mimetype": "text/x-python",
   "name": "python",
   "nbconvert_exporter": "python",
   "pygments_lexer": "ipython3",
   "version": "3.6.4rc1"
  }
 },
 "nbformat": 4,
 "nbformat_minor": 2
}
