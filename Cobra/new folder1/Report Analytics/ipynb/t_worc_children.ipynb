{
 "cells": [
  {
   "cell_type": "markdown",
   "metadata": {},
   "source": [
    "# Section1: Children (T3)"
   ]
  },
  {
   "cell_type": "code",
   "execution_count": 109,
   "metadata": {},
   "outputs": [],
   "source": [
    "import csv\n",
    "import glob\n",
    "import shutil\n",
    "import os\n",
    "import pandas as pd\n",
    "import time, os, fnmatch, shutil\n",
    "import openpyxl\n",
    "import numpy as np"
   ]
  },
  {
   "cell_type": "code",
   "execution_count": 110,
   "metadata": {},
   "outputs": [],
   "source": [
    "\n",
    "# Read .csv from Downloads folder and get the reporting month\n",
    "download_path = 'C://Users//nnagaraj//Downloads/t_worc_children.csv'\n",
    "os.chdir('C://Users//nnagaraj//Downloads/')\n",
    "c = pd.read_csv(download_path)\n",
    "\n",
    "\n",
    "#Create variable timestamp \n",
    "t = time.localtime()\n",
    "timestamp = time.strftime('%Y%m%d_%H%M', t)\n",
    "\n",
    "\n",
    "# Create folder with format (201907) in H: drive\n",
    "reporting_month = str(c.iloc[0,1])\n",
    "folder_name = reporting_month\n",
    "\n",
    "dir_name = 'H://Current_Working_Folder//Reports Analytics//'\n",
    "os.chdir(dir_name)\n",
    "\n",
    "if not os.path.exists(folder_name):\n",
    "    os.makedirs(folder_name)\n",
    "    \n",
    "path = 'C://Users//nnagaraj//Downloads'\n",
    "os.chdir(path)\n",
    "source = os.listdir(path)\n",
    "destination = os.path.join(dir_name, folder_name)\n",
    "\n",
    "# move t_worc_children.csv from Downloads to destination\n",
    "for files in source:\n",
    "    if files.endswith(\"t_worc_children.csv\"):\n",
    "        shutil.move(files, destination)\n",
    "        \n",
    "os.chdir(destination)      \n",
    "\n",
    "# Read csv\n",
    "dfc = pd.read_csv('t_worc_children.csv')\n",
    "dfc = pd.DataFrame(dfc)"
   ]
  },
  {
   "cell_type": "code",
   "execution_count": 111,
   "metadata": {},
   "outputs": [],
   "source": [
    "# 67 - Family Affiliation\n",
    "\n",
    "dfc['family_affiliation'] = ['Member of the eligible family receiving assistance' if x==1\n",
    "                            else('Parent of minor child in the eligible family receiving assistance' if x==2\n",
    "                                else('Caretaker relative of minor child in the eligible family receiving assistance' if x==3\n",
    "                                    else('Minor sibling of child in the eligible family receiving assistance' if x==4\n",
    "                                        else('Person whose income or resources are considered in determining eligibility' if x==5\n",
    "                                            else('Not Found'))))) for x in dfc['family_affiliation']]\n",
    "                                            "
   ]
  },
  {
   "cell_type": "code",
   "execution_count": 112,
   "metadata": {},
   "outputs": [],
   "source": [
    "# 68 -  Date of Birth\n",
    "\n",
    "dfc['dob'] = pd.to_datetime(dfc['dob'],format = '%Y%m%d')"
   ]
  },
  {
   "cell_type": "code",
   "execution_count": 113,
   "metadata": {},
   "outputs": [],
   "source": [
    "# 70a - Hispanic or Latino\n",
    "\n",
    "dfc['item_69a'] = ['Yes, American Indian or Alaska Native' if x==1\n",
    "                  else('Not American Indian or Alska Native' if x==2\n",
    "                      else('Not Found')) for x in dfc['item_69a']]"
   ]
  },
  {
   "cell_type": "code",
   "execution_count": 114,
   "metadata": {},
   "outputs": [],
   "source": [
    "#70B - American Indian or Alaska Native\n",
    "\n",
    "dfc['item_69b'] = ['Yes, American Indian or Alaska Native' if x==1\n",
    "                  else('Not American Indian or Alaska Native' if x==2\n",
    "                      else('Not Found')) for x in dfc['item_69b']]"
   ]
  },
  {
   "cell_type": "code",
   "execution_count": 115,
   "metadata": {},
   "outputs": [],
   "source": [
    "# 70C - Asian\n",
    "\n",
    "dfc['item_69c'] = ['Yes, Asian' if x==1\n",
    "                  else('Not Asian' if x==2\n",
    "                      else('Not Found')) for x in dfc['item_69c']]"
   ]
  },
  {
   "cell_type": "code",
   "execution_count": 116,
   "metadata": {},
   "outputs": [],
   "source": [
    "# 70D - Black or African American\n",
    "\n",
    "dfc['item_69d'] = ['Yes, Black or African American' if x==1\n",
    "                  else('Not Black or African American' if x==2\n",
    "                      else('Not Found')) for x in dfc['item_69d']]"
   ]
  },
  {
   "cell_type": "code",
   "execution_count": 117,
   "metadata": {},
   "outputs": [],
   "source": [
    "# 70E - Native Hawaiian or Other Pacific Islander\n",
    "\n",
    "dfc['item_69e'] = ['Yes, Native Hawaiian or Pacific Islander' if x==1\n",
    "                  else('Not Native Hawaiian or Pacific Islander' if x==2\n",
    "                      else('Not Found')) for x in dfc['item_69e']]"
   ]
  },
  {
   "cell_type": "code",
   "execution_count": 118,
   "metadata": {},
   "outputs": [],
   "source": [
    "# 70f - White\n",
    "\n",
    "dfc['item_69f'] = ['Yes, White' if x==1\n",
    "                  else('Not, White' if x==2\n",
    "                      else('Not Found')) for x in dfc['item_69f']]"
   ]
  },
  {
   "cell_type": "code",
   "execution_count": 119,
   "metadata": {},
   "outputs": [],
   "source": [
    "# 71 - Gender\n",
    "\n",
    "dfc['gender'] = ['Male' if x==1\n",
    "                else('Female' if x==2\n",
    "                    else ('Not Found')) for x in dfc['gender']]"
   ]
  },
  {
   "cell_type": "code",
   "execution_count": 120,
   "metadata": {},
   "outputs": [],
   "source": [
    "# 72A - Receives Benefits Based on Federal Disability Status Under Non-Social Security Act Programs:\n",
    "\n",
    "dfc['item_71a'] = ['Yes, received benefits based on Federal disability status' if x==1\n",
    "                  else('Does not receive benefits based on Federal disability status' if x==2\n",
    "                      else('Not Found')) for x in dfc['item_71a']]"
   ]
  },
  {
   "cell_type": "code",
   "execution_count": 121,
   "metadata": {},
   "outputs": [],
   "source": [
    "# 72B - Receives Supplemental Security Income Under Title XVI-SSI of the Social Security Act:\n",
    "\n",
    "dfc['item_71b'] = ['Yes, received aid under Title XVI-SSI' if x==1\n",
    "                  else('Does not received aid under Title XVI-SSI' if x==2\n",
    "                      else('Not Found')) for x in dfc['item_71b']]"
   ]
  },
  {
   "cell_type": "code",
   "execution_count": 122,
   "metadata": {},
   "outputs": [],
   "source": [
    "# 73 - Relationship to Head-of-Household\n",
    "\n",
    "dfc['relation_to_hoh'] = ['Head-of-household' if x==1\n",
    "                         else ('Spouse' if x==2\n",
    "                              else('Parent' if x==3\n",
    "                                  else('Daughter or son' if x==4\n",
    "                                      else('Stepdaughter or stepson' if x==5\n",
    "                                          else('Grandchild or great grandchild' if x==6\n",
    "                                              else('Other related person (brother, niece, cousin)' if x==7\n",
    "                                                  else('Foster child' if x==8\n",
    "                                                      else('Unrelated child' if x==8\n",
    "                                                          else('Unrelated adult' if x==9\n",
    "                                                              else('Not Found')))))))))) for x in dfc['relation_to_hoh']]"
   ]
  },
  {
   "cell_type": "code",
   "execution_count": 123,
   "metadata": {},
   "outputs": [],
   "source": [
    "# 74 - Parent With Minor Child In the Family\n",
    "\n",
    "dfc['parent_minor_child'] = ['Yes, a parent with a minor child in the family and used in two-parent participation rate' if x==1\n",
    "                            else('Yes, a parent with a minor child in the family, but not used in two-parent participation rate' if x==2\n",
    "                                else('Not parent with minor child in the family' if x==3\n",
    "                                    else('Not Found'))) for x in dfc['parent_minor_child']]"
   ]
  },
  {
   "cell_type": "code",
   "execution_count": 124,
   "metadata": {},
   "outputs": [],
   "source": [
    "# 75 - Educational Level\n",
    "\n",
    "dfc['education_level'].astype(str)\n",
    "dfc['education_level'] = dfc['education_level'].mask(\n",
    "    dfc['education_level']<=11,'Grade level completed in primary/secondary school including secondary level vocational school or adult high school').mask(\n",
    "    dfc['education_level'] == 12, 'High school diploma, GED, or National External Diploma Program').mask(\n",
    "    dfc['education_level'] == 13, 'Awarded Associate Degree').mask(\n",
    "    dfc['education_level'] == 14, 'Awarded Bachelors Degree').mask(\n",
    "    dfc['education_level'] == 15, 'Awarded graduate degree (Masters or higher)').mask(\n",
    "    dfc['education_level'] == 16, 'Other credentials (degree, certificate, diploma, etc.)').mask(\n",
    "    dfc['education_level'] == 98, 'No formal education').mask(\n",
    "    dfc['education_level'] == 99, 'Unknown')"
   ]
  },
  {
   "cell_type": "code",
   "execution_count": 125,
   "metadata": {},
   "outputs": [],
   "source": [
    "# 76 - Citizenship/Alienage\n",
    "\n",
    "dfc['citizenship'] = ['U.S. citizen, including naturalized citizens' if x==1\n",
    "                     else('Qualified alien' if x==2\n",
    "                         else('Unknown' if x==9\n",
    "                             else('Not Found'))) for x in dfc['citizenship']]"
   ]
  },
  {
   "cell_type": "code",
   "execution_count": 126,
   "metadata": {},
   "outputs": [],
   "source": [
    "dfc = dfc.rename({'item_69a':'hispanic or latino',\n",
    "           'item_69b':'american indian or alaska native',\n",
    "           'item_69c':'asian',\n",
    "           'item_69d':'black or african american',\n",
    "           'item_69e':'native hawaiian or other pacific islander',\n",
    "           'item_69f':'white',\n",
    "           'item_71a':'Receives Benefits Based on Federal Disability Status Under Non-Social Security Act Programs',\n",
    "           'item_71b':'Receives Supplemental Security Income Under Title XVI-SSI of the SocialSecurity Act:',\n",
    "           'item_76a':'Amount of unearned inocme_SSI',\n",
    "           'item_76b':'Amount of unearned income_Other unearned income'}, axis = 'columns')"
   ]
  },
  {
   "cell_type": "code",
   "execution_count": 127,
   "metadata": {
    "scrolled": true
   },
   "outputs": [],
   "source": [
    "df2 = dfc.copy()\n",
    "\n",
    "\n",
    "# Excel with timestamp included\n",
    "\n",
    "writer = pd.ExcelWriter(reporting_month + '-' + 't_worc_children' + '-' + timestamp + '.xlsx')\n",
    "df2.to_excel(writer, index = False)\n",
    "writer.save()\n"
   ]
  },
  {
   "cell_type": "code",
   "execution_count": 62,
   "metadata": {},
   "outputs": [],
   "source": [
    "df2 = dfc.copy()"
   ]
  },
  {
   "cell_type": "code",
   "execution_count": 169,
   "metadata": {},
   "outputs": [],
   "source": [
    "from datetime import timedelta\n",
    "import datetime\n",
    "import numpy as np"
   ]
  },
  {
   "cell_type": "code",
   "execution_count": 77,
   "metadata": {},
   "outputs": [
    {
     "data": {
      "text/plain": [
       "0   2019-01-16\n",
       "1   2014-01-27\n",
       "Name: dob, dtype: datetime64[ns]"
      ]
     },
     "execution_count": 77,
     "metadata": {},
     "output_type": "execute_result"
    }
   ],
   "source": [
    "df2['dob'].head(2)"
   ]
  },
  {
   "cell_type": "code",
   "execution_count": 153,
   "metadata": {},
   "outputs": [
    {
     "data": {
      "text/plain": [
       "0   2019-07-01\n",
       "1   2019-07-01\n",
       "Name: reporting_month, dtype: datetime64[ns]"
      ]
     },
     "execution_count": 153,
     "metadata": {},
     "output_type": "execute_result"
    }
   ],
   "source": [
    "df2['reporting_month'].head(2)"
   ]
  },
  {
   "cell_type": "code",
   "execution_count": 152,
   "metadata": {},
   "outputs": [],
   "source": [
    "# add suffix to the reporting month column using pandas fstring (format string)\n",
    "\n",
    "df2['reporting_month'] = pd.to_datetime(df2['reporting_month'].apply(lambda x: f\"{x}01\"))"
   ]
  },
  {
   "cell_type": "code",
   "execution_count": 154,
   "metadata": {},
   "outputs": [
    {
     "data": {
      "text/plain": [
       "dtype('<M8[ns]')"
      ]
     },
     "execution_count": 154,
     "metadata": {},
     "output_type": "execute_result"
    }
   ],
   "source": [
    "df2['reporting_month'].dtype"
   ]
  },
  {
   "cell_type": "code",
   "execution_count": 173,
   "metadata": {
    "scrolled": true
   },
   "outputs": [],
   "source": [
    "df2['age'] = ((df2['reporting_month']-df2['dob'])/np.timedelta64(1,'Y')).apply(np.floor)"
   ]
  },
  {
   "cell_type": "code",
   "execution_count": 166,
   "metadata": {},
   "outputs": [
    {
     "data": {
      "text/plain": [
       "0    0.454493\n",
       "1    5.423794\n",
       "Name: age, dtype: float64"
      ]
     },
     "execution_count": 166,
     "metadata": {},
     "output_type": "execute_result"
    }
   ],
   "source": [
    "df2['age'].head(2)"
   ]
  },
  {
   "cell_type": "code",
   "execution_count": 164,
   "metadata": {},
   "outputs": [
    {
     "data": {
      "text/plain": [
       "6.0"
      ]
     },
     "execution_count": 164,
     "metadata": {},
     "output_type": "execute_result"
    }
   ],
   "source": [
    "k = round((5.7),0)\n",
    "k"
   ]
  },
  {
   "cell_type": "code",
   "execution_count": 172,
   "metadata": {},
   "outputs": [
    {
     "data": {
      "text/plain": [
       "0    0.0\n",
       "1    5.0\n",
       "Name: age, dtype: float64"
      ]
     },
     "execution_count": 172,
     "metadata": {},
     "output_type": "execute_result"
    }
   ],
   "source": [
    "df2['age'].head(2)"
   ]
  },
  {
   "cell_type": "code",
   "execution_count": null,
   "metadata": {},
   "outputs": [],
   "source": []
  }
 ],
 "metadata": {
  "kernelspec": {
   "display_name": "Python 3",
   "language": "python",
   "name": "python3"
  },
  "language_info": {
   "codemirror_mode": {
    "name": "ipython",
    "version": 3
   },
   "file_extension": ".py",
   "mimetype": "text/x-python",
   "name": "python",
   "nbconvert_exporter": "python",
   "pygments_lexer": "ipython3",
   "version": "3.6.4rc1"
  }
 },
 "nbformat": 4,
 "nbformat_minor": 2
}
