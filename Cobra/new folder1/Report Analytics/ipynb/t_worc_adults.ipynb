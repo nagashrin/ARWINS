{
 "cells": [
  {
   "cell_type": "markdown",
   "metadata": {},
   "source": [
    "# Section1: Adult Data (T2)"
   ]
  },
  {
   "cell_type": "code",
   "execution_count": 139,
   "metadata": {},
   "outputs": [],
   "source": [
    "import csv\n",
    "import glob\n",
    "import shutil\n",
    "import os\n",
    "import pandas as pd\n",
    "import time, os, fnmatch, shutil\n",
    "import openpyxl\n",
    "import numpy as np"
   ]
  },
  {
   "cell_type": "code",
   "execution_count": 140,
   "metadata": {},
   "outputs": [],
   "source": [
    "\n",
    "# Read .csv from Downloads folder and get the reporting month\n",
    "download_path = 'C://Users//nnagaraj//Downloads/t_worc_adults.csv'\n",
    "os.chdir('C://Users//nnagaraj//Downloads/')\n",
    "a = pd.read_csv(download_path)\n",
    "\n",
    "\n",
    "#Create variable timestamp \n",
    "t = time.localtime()\n",
    "timestamp = time.strftime('%Y%m%d_%H%M', t)\n",
    "\n",
    "\n",
    "# Create folder with format (201907) in H: drive\n",
    "reporting_month = str(a.loc[0,'reporting_month'])\n",
    "folder_name = reporting_month\n",
    "\n",
    "dir_name = 'H://Current_Working_Folder//Reports Analytics//'\n",
    "os.chdir(dir_name)\n",
    "\n",
    "if not os.path.exists(folder_name):\n",
    "    os.makedirs(folder_name)\n",
    "    \n",
    "path = 'C://Users//nnagaraj//Downloads'\n",
    "os.chdir(path)\n",
    "source = os.listdir(path)\n",
    "destination = os.path.join(dir_name, folder_name)\n",
    "\n",
    "# move t_worc_children.csv from Downloads to destination\n",
    "for files in source:\n",
    "    if files.endswith(\"t_worc_adults.csv\"):\n",
    "        shutil.move(files, destination)\n",
    "        \n",
    "os.chdir(destination)      \n",
    "\n",
    "# Read csv\n",
    "dfa = pd.read_csv('t_worc_adults.csv')\n",
    "dfa = pd.DataFrame(dfa)"
   ]
  },
  {
   "cell_type": "code",
   "execution_count": 141,
   "metadata": {},
   "outputs": [
    {
     "data": {
      "text/html": [
       "<div>\n",
       "<style scoped>\n",
       "    .dataframe tbody tr th:only-of-type {\n",
       "        vertical-align: middle;\n",
       "    }\n",
       "\n",
       "    .dataframe tbody tr th {\n",
       "        vertical-align: top;\n",
       "    }\n",
       "\n",
       "    .dataframe thead th {\n",
       "        text-align: right;\n",
       "    }\n",
       "</style>\n",
       "<table border=\"1\" class=\"dataframe\">\n",
       "  <thead>\n",
       "    <tr style=\"text-align: right;\">\n",
       "      <th></th>\n",
       "      <th>id</th>\n",
       "      <th>reporting_month</th>\n",
       "      <th>case_number</th>\n",
       "      <th>family_affiliation</th>\n",
       "      <th>ncp</th>\n",
       "      <th>dob</th>\n",
       "      <th>ssn</th>\n",
       "      <th>item34a</th>\n",
       "      <th>item34b</th>\n",
       "      <th>item34c</th>\n",
       "      <th>...</th>\n",
       "      <th>amt_earned_inc</th>\n",
       "      <th>item66a</th>\n",
       "      <th>item66b</th>\n",
       "      <th>item66c</th>\n",
       "      <th>item66d</th>\n",
       "      <th>item66e</th>\n",
       "      <th>created_by</th>\n",
       "      <th>updated_by</th>\n",
       "      <th>created_at</th>\n",
       "      <th>updated_at</th>\n",
       "    </tr>\n",
       "  </thead>\n",
       "  <tbody>\n",
       "    <tr>\n",
       "      <th>0</th>\n",
       "      <td>433100</td>\n",
       "      <td>201907</td>\n",
       "      <td>6925532</td>\n",
       "      <td>1</td>\n",
       "      <td>2</td>\n",
       "      <td>19931206</td>\n",
       "      <td>425775107</td>\n",
       "      <td>2</td>\n",
       "      <td>2</td>\n",
       "      <td>2</td>\n",
       "      <td>...</td>\n",
       "      <td>0</td>\n",
       "      <td>0</td>\n",
       "      <td>0</td>\n",
       "      <td>0</td>\n",
       "      <td>0</td>\n",
       "      <td>0</td>\n",
       "      <td>555</td>\n",
       "      <td>6046</td>\n",
       "      <td>2019-09-10 19:00:00 -0500</td>\n",
       "      <td>2019-09-10 19:00:00 -0500</td>\n",
       "    </tr>\n",
       "    <tr>\n",
       "      <th>1</th>\n",
       "      <td>434719</td>\n",
       "      <td>201907</td>\n",
       "      <td>7918226</td>\n",
       "      <td>1</td>\n",
       "      <td>2</td>\n",
       "      <td>19960901</td>\n",
       "      <td>431910289</td>\n",
       "      <td>2</td>\n",
       "      <td>2</td>\n",
       "      <td>2</td>\n",
       "      <td>...</td>\n",
       "      <td>0</td>\n",
       "      <td>0</td>\n",
       "      <td>0</td>\n",
       "      <td>0</td>\n",
       "      <td>0</td>\n",
       "      <td>0</td>\n",
       "      <td>555</td>\n",
       "      <td>6046</td>\n",
       "      <td>2019-09-10 19:00:00 -0500</td>\n",
       "      <td>2019-09-10 19:00:00 -0500</td>\n",
       "    </tr>\n",
       "  </tbody>\n",
       "</table>\n",
       "<p>2 rows × 73 columns</p>\n",
       "</div>"
      ],
      "text/plain": [
       "       id  reporting_month  case_number  family_affiliation  ncp       dob  \\\n",
       "0  433100           201907      6925532                   1    2  19931206   \n",
       "1  434719           201907      7918226                   1    2  19960901   \n",
       "\n",
       "         ssn  item34a  item34b  item34c            ...              \\\n",
       "0  425775107        2        2        2            ...               \n",
       "1  431910289        2        2        2            ...               \n",
       "\n",
       "   amt_earned_inc  item66a  item66b  item66c  item66d  item66e  created_by  \\\n",
       "0               0        0        0        0        0        0         555   \n",
       "1               0        0        0        0        0        0         555   \n",
       "\n",
       "   updated_by                 created_at                 updated_at  \n",
       "0        6046  2019-09-10 19:00:00 -0500  2019-09-10 19:00:00 -0500  \n",
       "1        6046  2019-09-10 19:00:00 -0500  2019-09-10 19:00:00 -0500  \n",
       "\n",
       "[2 rows x 73 columns]"
      ]
     },
     "execution_count": 141,
     "metadata": {},
     "output_type": "execute_result"
    }
   ],
   "source": [
    "dfa.head(2)"
   ]
  },
  {
   "cell_type": "markdown",
   "metadata": {},
   "source": [
    "import pandas as pd\n",
    "adults_201907 = pd.read_csv('Data/201907/worc-adults.csv')\n",
    "dfa = pd.DataFrame(adults_201907)\n",
    "#df['dob'] = pd.to_datetime(df['dob'],format = '%Y%m%d')"
   ]
  },
  {
   "cell_type": "code",
   "execution_count": 142,
   "metadata": {},
   "outputs": [],
   "source": [
    "# Item 30: family affiliation\n",
    "dfa['family_affiliation'] = ['Member of the eligible family receiving assistance' if x==1\n",
    "                           else('Parent of minor child in the eligible family receiving assistance' if x==2\n",
    "                               else('Caretaker relative of minor child in the eligible family receiving assistance' if x==3\n",
    "                                   else('Minor sibling of child in the eligible family receiving assistance' if x==4\n",
    "                                       else('Person whose income or resources are considered in determining eligibility' if x==5\n",
    "                                           else('Not Found'))))) for x in dfa['family_affiliation']]"
   ]
  },
  {
   "cell_type": "code",
   "execution_count": 143,
   "metadata": {},
   "outputs": [],
   "source": [
    "# Item 31: non custodial parent \n",
    "dfa['ncp'] = ['Yes, a noncustodial parent' if x==1\n",
    "            else('Not a noncustodial parent' if x==2\n",
    "                else('Not Found')) for x in dfa['ncp']]"
   ]
  },
  {
   "cell_type": "code",
   "execution_count": 144,
   "metadata": {},
   "outputs": [],
   "source": [
    "# Item 34a: Hispanic or Latino\n",
    "dfa['item34a'] = ['Yes, Hispanic or Latino' if x==1\n",
    "                else('Not Hispanic or Latino' if x==2\n",
    "                    else('Not Found')) for x in dfa['item34a']]"
   ]
  },
  {
   "cell_type": "code",
   "execution_count": 145,
   "metadata": {},
   "outputs": [],
   "source": [
    "# Item 34b: American Indian or Alaska Native\n",
    "dfa['item34b'] = ['Yes, American Indian or Alaska Native' if x==1\n",
    "                 else('Not American Indian or Alaska Native' if x==2\n",
    "                     else('Not Found')) for x in dfa['item34b']]"
   ]
  },
  {
   "cell_type": "code",
   "execution_count": 146,
   "metadata": {},
   "outputs": [],
   "source": [
    "# Item 34c: Asian\n",
    "dfa['item34c'] = ['Yes, Asian' if x==1\n",
    "                 else('Not Asian' if x==2\n",
    "                     else('Not Found')) for x in dfa['item34c']]"
   ]
  },
  {
   "cell_type": "code",
   "execution_count": 147,
   "metadata": {},
   "outputs": [],
   "source": [
    "# Item 34d: Black or African American\n",
    "dfa['item34d'] = ['Yes, Black or African American' if x==1\n",
    "                 else('Not Black or African American' if x==2\n",
    "                     else('Not Found')) for x in dfa['item34d']]"
   ]
  },
  {
   "cell_type": "code",
   "execution_count": 148,
   "metadata": {},
   "outputs": [],
   "source": [
    "# Item 34e: Native HAWAIIAN OR OTHER PACIFIC ISLANDER\n",
    "dfa['item34e'] = ['Yes, Native Hawaiian or Pacific Islander' if x==1\n",
    "                 else('Not Native Hawaiian or Pacific Islander' if x==2\n",
    "                     else('Not Found')) for x in dfa['item34e'] ]"
   ]
  },
  {
   "cell_type": "code",
   "execution_count": 149,
   "metadata": {},
   "outputs": [],
   "source": [
    "# Item 34f: White\n",
    "dfa['item34f'] = ['Yes, White' if x==1\n",
    "                 else('Not White' if x==2\n",
    "                     else('Not Found')) for x in dfa['item34f'] ]"
   ]
  },
  {
   "cell_type": "code",
   "execution_count": 150,
   "metadata": {},
   "outputs": [],
   "source": [
    "# Gender\n",
    "dfa['gender'] = ['Male' if x==1\n",
    "                else('Female' if x==2\n",
    "                    else('Not Found')) for x in dfa['gender']]"
   ]
  },
  {
   "cell_type": "code",
   "execution_count": 151,
   "metadata": {},
   "outputs": [],
   "source": [
    "# Item 36a: Receives Federal Disability Insurance Benefits Under the Social Security \n",
    "#OASDI Program (Title II of the Social Security Act): \n",
    "\n",
    "dfa['item36a'] = ['Yes, received Federal disability insurance' if x==1\n",
    "                 else('Does not receive Federal disability insurance' if x==2\n",
    "                     else('Not Found')) for x in dfa['item36a']]"
   ]
  },
  {
   "cell_type": "code",
   "execution_count": 152,
   "metadata": {},
   "outputs": [],
   "source": [
    "# Item 36b: Receives Benefits Based on Federal Disability Status Under Non-Social\n",
    "#Security Act Programs:\n",
    "\n",
    "dfa['item36b'] = ['Yes, received benefits based on Federal disability status' if x==1\n",
    "                else('Does not receive Federal disability status' if x==2\n",
    "                    else('Not Found')) for x in dfa['item36b']]"
   ]
  },
  {
   "cell_type": "code",
   "execution_count": 153,
   "metadata": {},
   "outputs": [],
   "source": [
    "# Item 36c: Receives Aid to the Permanently and Totally Disabled Under Title XIV-APDT\n",
    "#of the Social Security Act:\n",
    "\n",
    "dfa['item36c'] = ['Yes, received aid under Title XIV-APDT' if x==1\n",
    "                 else('Does not receive aid under Title XIV-APDT' if x==2\n",
    "                     else('Not Found')) for x in dfa['item36c']]"
   ]
  },
  {
   "cell_type": "code",
   "execution_count": 154,
   "metadata": {},
   "outputs": [],
   "source": [
    "# Item 36d: Receives Aid to the Aged, Blind, and Disabled Under Title XVI-AABD of the\n",
    "#Social Security Act:\n",
    "\n",
    "dfa['item36d'] = ['Yes, received aid under Title XVI-AABD' if x ==1\n",
    "                 else('Does not received aid under Title XVI-AABD' if x==2\n",
    "                     else('Not Found')) for x in dfa['item36d']]"
   ]
  },
  {
   "cell_type": "code",
   "execution_count": 155,
   "metadata": {},
   "outputs": [],
   "source": [
    "# Item 36e: Receives Supplemental Security Income Under Title XVI-SSI of the Social\n",
    "#Security Act:\n",
    "\n",
    "dfa['item36e'] = ['Yes, received aid under Title XVI-SSI' if x==1\n",
    "                 else('Does not receive aid under Title XVI-SSI' if x==2\n",
    "                     else('Not Found')) for x in dfa['item36e']]"
   ]
  },
  {
   "cell_type": "code",
   "execution_count": 156,
   "metadata": {},
   "outputs": [],
   "source": [
    "# Marital Status\n",
    "\n",
    "dfa['marital_status'] = ['Single, never married' if x==1\n",
    "                        else('Married, living together' if x==2\n",
    "                            else('Married, but separated' if x==3\n",
    "                                else('Widowed' if x==4\n",
    "                                    else('Divorced' if x==5\n",
    "                                        else('NOt Found'))))) for x in dfa['marital_status']]"
   ]
  },
  {
   "cell_type": "code",
   "execution_count": 157,
   "metadata": {},
   "outputs": [],
   "source": [
    "# Relation to head of household\n",
    "dfa['relation_to_hoh'] = ['Head-of-household' if x==1\n",
    "                        else('Spouse' if x==2\n",
    "                            else('Parent' if x==3\n",
    "                                else('Daughter or son' if x==4\n",
    "                                    else('Stepdaughter or stepson' if x==5\n",
    "                                        else('Grandchild or great grandchild' if x==6\n",
    "                                            else('Other related person (brother, niece, cousin)' if x==7\n",
    "                                                else('Foster child' if x==8\n",
    "                                                    else('Unrelated child' if x==9\n",
    "                                                        else('Unrelated child' if x==10\n",
    "                                                            else('Not Found'))))))))))for x in dfa['relation_to_hoh']]"
   ]
  },
  {
   "cell_type": "code",
   "execution_count": 158,
   "metadata": {},
   "outputs": [],
   "source": [
    "# Parent With Minor Child In the Family\n",
    "\n",
    "dfa['parent_with_minor'] = ['Yes, a parent with a minor child in the family and used in two-parent participation rate' if x==1\n",
    "                           else('Yes, a parent with a minor child in the family, but not used in two-parent participation rate' if x==2\n",
    "                               else('Not Parent with minor child in the family' if x==3\n",
    "                                   else('Not Found'))) for x in dfa['parent_with_minor']]"
   ]
  },
  {
   "cell_type": "code",
   "execution_count": 159,
   "metadata": {},
   "outputs": [],
   "source": [
    "# Needs of a Pregnant Woman\n",
    "\n",
    "dfa['pregnant_wom_need'] = ['Yes, additional needs associated with pregnancy are considered in determining the amount of assistance' if x==1\n",
    "                           else('Not pregnant' if x ==2\n",
    "                               else('Not Found')) for x in dfa['pregnant_wom_need']]"
   ]
  },
  {
   "cell_type": "code",
   "execution_count": 160,
   "metadata": {},
   "outputs": [],
   "source": [
    "# Educational Level\n",
    "\n",
    "dfa['edu_level'].astype(str)\n",
    "dfa['edu_level'] = dfa['edu_level'].mask(\n",
    "    dfa['edu_level']<=11,'Grade level completed in primary/secondary school including secondary level vocational school or adult high school').mask(\n",
    "    dfa['edu_level'] == 12, 'High school diploma, GED, or National External Diploma Program').mask(\n",
    "    dfa['edu_level'] == 13, 'Awarded Associate Degree').mask(\n",
    "    dfa['edu_level'] == 14, 'Awarded Bachelors Degree').mask(\n",
    "    dfa['edu_level'] == 15, 'Awarded graduate degree (Masters or higher)').mask(\n",
    "    dfa['edu_level'] == 16, 'Other credentials (degree, certificate, diploma, etc.)').mask(\n",
    "    dfa['edu_level'] == 98, 'No formal education').mask(\n",
    "    dfa['edu_level'] == 99, 'Unknown')"
   ]
  },
  {
   "cell_type": "code",
   "execution_count": 161,
   "metadata": {},
   "outputs": [],
   "source": [
    "# Citizenship/Alienage\n",
    "\n",
    "dfa['citizenship'] = ['U.S. citizen, including naturalized citizens' if x==1\n",
    "                     else('Qualified alien' if x==2\n",
    "                         else('Unknown' if x==9\n",
    "                             else('Not Found'))) for x in dfa['citizenship']]"
   ]
  },
  {
   "cell_type": "code",
   "execution_count": 162,
   "metadata": {},
   "outputs": [],
   "source": [
    "# Cooperation with Child Support\n",
    "\n",
    "dfa['coop_child_supp'] = ['Yes, adult (or minor child head-of-household) has cooperated with child support' if x ==1\n",
    "                         else('Not cooperated with child support' if x==2\n",
    "                             else('Not applicable' if x==3\n",
    "                                 else('Not Found'))) for x in dfa['coop_child_supp']]"
   ]
  },
  {
   "cell_type": "code",
   "execution_count": 163,
   "metadata": {},
   "outputs": [],
   "source": [
    "# Is Current Month Exempt from the State's (Tribe's) Time Limit\n",
    "\n",
    "dfa['exemp_state_limit'] = ['Yes, adult (or minor child head-of-household) is exempt from the States (Tribes) time limit for the reporting month' if x==1\n",
    "                          else('Not exempt from states time limit for the reporting month' if x==2\n",
    "                              else('Not applicable, no State (Tribal) time limit' if x==3\n",
    "                                  else('Not Found'))) for x in dfa['exemp_state_limit']]"
   ]
  },
  {
   "cell_type": "code",
   "execution_count": 164,
   "metadata": {},
   "outputs": [],
   "source": [
    "# Employment Status\n",
    "\n",
    "dfa['employ_status'] = ['Employed' if x==1\n",
    "                       else('Unemployed, looking for work' if x==2\n",
    "                           else('Not in labor force (i.e., unemployed, not looking for work, includes discouraged workers)' if x==3\n",
    "                               else('Not Found'))) for x in dfa['employ_status']]"
   ]
  },
  {
   "cell_type": "code",
   "execution_count": 165,
   "metadata": {},
   "outputs": [],
   "source": [
    "# Work-Eligible Individual Indicator\n",
    "\n",
    "dfa['work_elig_ind'] = ['Yes, an adult (or minor child head-of-household) receiving assistance' if x==1\n",
    "                       else('Yes, a non-recipient parent due to a sanction' if x==2\n",
    "                           else('Yes, a non-recipient parent due to a time limit' if x==3\n",
    "                               else('Yes, a non-recipient parent receiving SSI, SSDI, or Adult Program assistance (aid to the needy aged, blind and disabled in the Territories) or a recipient parent receiving SSDI; and State or Territory opts to include' if x==4\n",
    "                                   else('Yes, a non-recipient parent due to other reasons' if x==5\n",
    "                                       else('No, a non-recipient, but not a parent' if x==6\n",
    "                                           else('No, an ineligible non-citizen due to his/her immigration status' if x==7\n",
    "                                               else('No, a non-recipient parent receiving SSI or Adult Program assistance (aid to the needy aged, blind and disabled) in the Territories' if x==8\n",
    "                                                   else('No, parent caring for a disabled family member in the home' if x==9\n",
    "                                                       else('No, a parent receiving SSDI (and State or Territory opts to exclude' if x==10\n",
    "                                                           else('No, a non-recipient, noncustodial parent' if x==11\n",
    "                                                               else('No, a deceased individual who died in a month preceding the report month and, due to State requirements to provide timely notification to the family before reducing the grant or other reasons (e.g., the family failed to report the death to the TANF agency), the family’s grant for the report month included the deceased individual’s needs' if x==12\n",
    "                                                                   else('Not Found'))))))))))))for x in dfa['work_elig_ind']]\n",
    "                                                 "
   ]
  },
  {
   "cell_type": "code",
   "execution_count": 166,
   "metadata": {},
   "outputs": [],
   "source": [
    "# Work Participation Status\n",
    "\n",
    "dfa['work_partic_status'] = ['Disregarded from participation rate, single custodial parent with child under 12 months. There is a 12-month lifetime limit on disregarding a family from the all families work participation rate (i.e., the overall work participation rate) for this reason' if x==1\n",
    "                            else('Disregarded from participation rate because both of the following apply: required to participate, but not participating; and subject to sanction for refusing to participate in work activities for the reporting month, but not subject to sanction for more than 3 months within the preceding 12-month period (Note: “subjected to a sanction” for refusing to participate in work activities means the State has actually imposed a penalty to reduce or terminate assistance. During a conciliation or notice period, before the State actually reduces or terminates the family’s grant, a family is not “subjected to a sanction.”)'if x==2\n",
    "                                else('Code no longer in use' if x==3\n",
    "                                    else('Code no longer in use' if x==4\n",
    "                                        else(' Disregarded from participation rate based on participation in a Tribal Work Program' if x==5\n",
    "                                            else('Exempt, single custodial parent with child under age 6 and child care unavailable' if x==6\n",
    "                                                else('Exempt, disabled (not using an extended definition under a State waiver)' if x==7\n",
    "                                                    else('Exempt, caring for a severely disabled child (not using an extended definition under a State waiver)' if x==8\n",
    "                                                        else('Exempt, under a federally recognized good cause domestic violence waiver' if x==9\n",
    "                                                            else('Exempt, State waiver' if x==10\n",
    "                                                                else('Exempt, other' if x==11\n",
    "                                                                    else('Required to participate, but not participating; subject to sanction for refusing to participate in work activities for the reporting month; and subject to such a sanction for more than 3 months within the preceding 12-month period' if x==12\n",
    "                                                                        else('Required to participate, but not participating; and subject to sanction for refusing to participate in work activities for the reporting month, but not subject to such a sanction for more than 3 months within the preceding 12-month period' if x==13\n",
    "                                                                            else(' Required to participate, but not participating; and not subject to a work sanction for the reporting month.' if x==14\n",
    "                                                                                else('Deemed engaged in work -- single teen head-of-household or married teen who maintains satisfactory school attendance' if x==15\n",
    "                                                                                    else(' Deemed engaged in work -- single teen head-of-household or married teen who participates in education directly related to employment for an average of at least 20 hours per week during the reporting month' if x==16\n",
    "                                                                                        else(' Deemed engaged in work -- parent or relative (who is the only parent or caretaker relative in the family) with child under age 6 and parent engaged in core work activities for at least 20 hours per week. 18 = Required to participate and participating, but not meeting minimum participation requirements' if x==17\n",
    "                                                                                             else('Required to participate and participating, but not meeting minimum participation requirements.' if x==18\n",
    "                                                                                                else('Required to participate and meeting minimum participation requirements' if x==19\n",
    "                                                                                                    else('Not applicable (e.g., not a work-eligible individual; person living in household and whose income or resources are counted in determining eligibility for or the amount of assistance for the family receiving assistance, but is not in the eligible family receiving assistance or noncustodial parent that the State opted to exclude in determining participation rate).' if x==99\n",
    "                                                                                                        else('Not Found')))))))))))))))))))) for x in dfa['work_partic_status']]"
   ]
  },
  {
   "cell_type": "code",
   "execution_count": 167,
   "metadata": {},
   "outputs": [],
   "source": [
    "dfa = dfa.rename({'item36a':'Receives Federal Disability Insurance Benefits Under the Social Security OASDI Program (Title II of the Social Security Act',\n",
    "          'item36b':'Receives Benefits Based on Federal Disability Status Under Non-Social Security Act Programs',\n",
    "          'item36c':'Receives Aid to the Permanently and Totally Disabled Under Title XIV-APDT of the Social Security Act',\n",
    "          'item36d':'Receives Aid to the Aged, Blind, and Disabled Under Title XVI-AABD of the Social Security Act',\n",
    "          'item36e':'Receives Supplemental Security Income Under Title XVI-SSI of the Social Security Act',\n",
    "          'item66a':'Unearned income/ Earned incometax credit',\n",
    "          'item66b':'Unearned income/social security',\n",
    "          'item66c':'Unearned income/SSI',\n",
    "          'item66d':'Unearned income/Workers compensation',\n",
    "          'item66e':'Other unearned income',\n",
    "          'item34a':'Hispanic_Latino',\n",
    "          'item34b':'American Indian_Alaska Native',\n",
    "          'item34c':'Asian',\n",
    "          'item34d':'Black or African American',\n",
    "          'item34e':'Native Hawaiian_Pacific Islander',\n",
    "          'item34f':'White'},axis='columns')"
   ]
  },
  {
   "cell_type": "code",
   "execution_count": 174,
   "metadata": {},
   "outputs": [],
   "source": [
    "df2 = dfa.copy()\n",
    "\n",
    "\n",
    "# Excel with timestamp included\n",
    "\n",
    "writer = pd.ExcelWriter(reporting_month + '-' + 't_worc_adults' + '-' + timestamp + '.xlsx')\n",
    "df2.to_excel(writer, index = False)\n",
    "writer.save()"
   ]
  },
  {
   "cell_type": "markdown",
   "metadata": {},
   "source": [
    "df2 = df.copy()\n",
    "\n",
    "df2['dob'] = pd.to_datetime(df2['dob'])\n",
    "\n",
    "\n",
    "writer = pd.ExcelWriter('Data/t_worc_adults.xlsx')\n",
    "df2.to_excel(writer, index = False)\n",
    "writer.save()\n"
   ]
  },
  {
   "cell_type": "code",
   "execution_count": 172,
   "metadata": {},
   "outputs": [],
   "source": [
    "t = time.localtime()\n",
    "timestamp = time.strftime('%Y%m%d_%H%M', t)"
   ]
  },
  {
   "cell_type": "code",
   "execution_count": 173,
   "metadata": {},
   "outputs": [
    {
     "data": {
      "text/plain": [
       "'20190911_1231'"
      ]
     },
     "execution_count": 173,
     "metadata": {},
     "output_type": "execute_result"
    }
   ],
   "source": [
    "timestamp"
   ]
  },
  {
   "cell_type": "code",
   "execution_count": null,
   "metadata": {},
   "outputs": [],
   "source": []
  }
 ],
 "metadata": {
  "kernelspec": {
   "display_name": "Python 3",
   "language": "python",
   "name": "python3"
  },
  "language_info": {
   "codemirror_mode": {
    "name": "ipython",
    "version": 3
   },
   "file_extension": ".py",
   "mimetype": "text/x-python",
   "name": "python",
   "nbconvert_exporter": "python",
   "pygments_lexer": "ipython3",
   "version": "3.6.4rc1"
  }
 },
 "nbformat": 4,
 "nbformat_minor": 2
}
