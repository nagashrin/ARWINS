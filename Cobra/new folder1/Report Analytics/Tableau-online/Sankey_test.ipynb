{
 "cells": [
  {
   "cell_type": "code",
   "execution_count": 20,
   "metadata": {},
   "outputs": [],
   "source": [
    "import pandas as pd\n",
    "import os\n",
    "import openpyxl"
   ]
  },
  {
   "cell_type": "code",
   "execution_count": 21,
   "metadata": {},
   "outputs": [],
   "source": [
    "fam = pd.read_excel('H://Current_Working_Folder//Reports Analytics//Tableau-online//2020//202001//sankey_test//tab_online_202001_worcfam.xlsx')"
   ]
  },
  {
   "cell_type": "code",
   "execution_count": 22,
   "metadata": {},
   "outputs": [],
   "source": [
    "df = fam.groupby(['county','category']).agg({'family_type': 'value_counts'})\n",
    "df = df.rename(columns={'family_type':'family_type_count'}).reset_index()\n",
    "#df"
   ]
  },
  {
   "cell_type": "code",
   "execution_count": 23,
   "metadata": {},
   "outputs": [],
   "source": [
    "os.chdir('H://Current_Working_Folder//Reports Analytics//Tableau-online//2020//202001//sankey_test')\n",
    "\n",
    "file_name = 'tab_online_202001_worcfam.xlsx'\n",
    "writer = pd.ExcelWriter(file_name, engine = 'openpyxl')\n",
    "\n",
    "if os.path.exists(file_name):\n",
    "    book = openpyxl.load_workbook(file_name)\n",
    "    writer.book = book\n",
    "    \n",
    "df.to_excel(writer, sheet_name = '202001_sankey_clean',index=False)\n",
    "writer.save()\n",
    "writer.close()"
   ]
  },
  {
   "cell_type": "code",
   "execution_count": null,
   "metadata": {},
   "outputs": [],
   "source": []
  }
 ],
 "metadata": {
  "kernelspec": {
   "display_name": "Python 3",
   "language": "python",
   "name": "python3"
  },
  "language_info": {
   "codemirror_mode": {
    "name": "ipython",
    "version": 3
   },
   "file_extension": ".py",
   "mimetype": "text/x-python",
   "name": "python",
   "nbconvert_exporter": "python",
   "pygments_lexer": "ipython3",
   "version": "3.6.4rc1"
  }
 },
 "nbformat": 4,
 "nbformat_minor": 2
}
