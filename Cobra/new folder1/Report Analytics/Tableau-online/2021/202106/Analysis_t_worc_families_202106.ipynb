{
 "cells": [
  {
   "cell_type": "code",
   "execution_count": 2,
   "metadata": {
    "scrolled": true
   },
   "outputs": [],
   "source": [
    "import pandas as pd\n",
    "import numpy as np\n",
    "import time\n",
    "import os\n",
    "\n",
    "t = time.localtime()\n",
    "timestamp = time.strftime('%y%m%d-%H%M', t)\n",
    "\n",
    "# read excel\n",
    "df = pd.read_excel('H://Current_Working_Folder//Reports Analytics//202106//Version 2//202106-t_worc_families-20210810_1309.xlsx')\n",
    "\n",
    "# assign path and reporitng month\n",
    "drive = 'H://Current_Working_Folder//Reports Analytics//'\n",
    "reporting_month = str(df.loc[0,'reporting_month'])\n",
    "\n",
    "# Filter with column names ending with amt, amount, nbr_month\n",
    "df_amt = df.filter(regex = 'amt$|amount$|amount$|nbr_month$|nbr_months', axis='columns')\n",
    "\n",
    "# Describe the filtered dataframe\n",
    "df_des = df_amt.describe()\n",
    "\n",
    "# Write the describe to excel\n",
    "writer = pd.ExcelWriter(drive + reporting_month + '//' + reporting_month + '_' + 'report' + '-' + timestamp + '.xlsx')\n",
    "#df_des.to_excel(writer, index = False)\n",
    "df_des.to_excel(writer, sheet_name='family_stat')\n",
    "writer.save()"
   ]
  },
  {
   "cell_type": "code",
   "execution_count": 3,
   "metadata": {},
   "outputs": [],
   "source": [
    "#df.columns"
   ]
  },
  {
   "cell_type": "code",
   "execution_count": 4,
   "metadata": {},
   "outputs": [
    {
     "data": {
      "text/plain": [
       "(1553, 56)"
      ]
     },
     "execution_count": 4,
     "metadata": {},
     "output_type": "execute_result"
    }
   ],
   "source": [
    "df.shape"
   ]
  },
  {
   "cell_type": "code",
   "execution_count": 5,
   "metadata": {
    "scrolled": true
   },
   "outputs": [
    {
     "data": {
      "text/plain": [
       "No subsidized child care received                                                                                                                 1463\n",
       "Yes, receives child care funded entirely or in part with Federal funds (e.g., receives TANF, CCDF, SSBG, or other federally funded child care)      90\n",
       "Name: subsid_child_care, dtype: int64"
      ]
     },
     "execution_count": 5,
     "metadata": {},
     "output_type": "execute_result"
    }
   ],
   "source": [
    "df['subsid_child_care'].value_counts()"
   ]
  },
  {
   "cell_type": "code",
   "execution_count": 6,
   "metadata": {},
   "outputs": [
    {
     "data": {
      "text/plain": [
       "84438"
      ]
     },
     "execution_count": 6,
     "metadata": {},
     "output_type": "execute_result"
    }
   ],
   "source": [
    "df['subsid_child_care_amt'].sum()"
   ]
  },
  {
   "cell_type": "code",
   "execution_count": 7,
   "metadata": {
    "scrolled": true
   },
   "outputs": [
    {
     "data": {
      "text/plain": [
       "0    1553\n",
       "Name: tanf child care_children_covered, dtype: int64"
      ]
     },
     "execution_count": 7,
     "metadata": {},
     "output_type": "execute_result"
    }
   ],
   "source": [
    "df['tanf child care_children_covered'].value_counts()"
   ]
  },
  {
   "cell_type": "code",
   "execution_count": 8,
   "metadata": {},
   "outputs": [
    {
     "data": {
      "text/plain": [
       "0"
      ]
     },
     "execution_count": 8,
     "metadata": {},
     "output_type": "execute_result"
    }
   ],
   "source": [
    "df['tanf child care_amount'].sum()"
   ]
  },
  {
   "cell_type": "code",
   "execution_count": 9,
   "metadata": {
    "scrolled": true
   },
   "outputs": [],
   "source": [
    "cat = df.drop(df_amt, axis='columns')\n",
    "#cat1 = cat.drop((cat.loc[:,'reporting_month':'stratum']),axis='columns')\n",
    "cat1 = cat.drop(['id','reporting_month','case_number','county_fips_code','stratum','disposition','worker_id',\n",
    "                 'case_manager','area','created_by','updated_by','created_at','updated_at','ans_county',\n",
    "                 'local_office','waiver_grps'], axis='columns')\n",
    "cat2 = cat1.drop(cat1.filter(regex = '^reason|^other'), axis='columns')"
   ]
  },
  {
   "cell_type": "code",
   "execution_count": 10,
   "metadata": {
    "scrolled": true
   },
   "outputs": [
    {
     "name": "stdout",
     "output_type": "stream",
     "text": [
      "No     1301\n",
      "Yes     252\n",
      "Name: reason for amount of reduction_work requirements sanction, dtype: int64\n",
      "---\n",
      "No    1553\n",
      "Name: reason for amount of reduction_Family Sanction for an Adult with No High School Diploma or Equivalent, dtype: int64\n",
      "---\n",
      "No    1553\n",
      "Name: reason for amount of reduction_Sanction for Teen Parent not Attending School, dtype: int64\n",
      "---\n",
      "No     1456\n",
      "Yes      97\n",
      "Name: reason for amount of reduction_Non-Cooperation with Child Support, dtype: int64\n",
      "---\n",
      "No     1548\n",
      "Yes       5\n",
      "Name: reason for amount of reduction_Failure to Comply with an Individual Responsibility Plan, dtype: int64\n",
      "---\n",
      "No     1551\n",
      "Yes       2\n",
      "Name: reason for amount of reduction_Other Sanction, dtype: int64\n",
      "---\n",
      "0    1553\n",
      "Name: reason for amount of reduction_Recoupment of Prior Overpayment, dtype: int64\n",
      "---\n"
     ]
    }
   ],
   "source": [
    "reason_cat = cat1.filter(regex = '^reason', axis='columns')\n",
    "\n",
    "for c in reason_cat.columns:\n",
    "    print(reason_cat[c].value_counts())\n",
    "    print('---')\n"
   ]
  },
  {
   "cell_type": "code",
   "execution_count": 11,
   "metadata": {},
   "outputs": [],
   "source": [
    "#((df.filter(regex = '^reason'))).head(20)"
   ]
  },
  {
   "cell_type": "code",
   "execution_count": 12,
   "metadata": {
    "scrolled": false
   },
   "outputs": [
    {
     "name": "stdout",
     "output_type": "stream",
     "text": [
      "   category  count\n",
      "0       Tea   1475\n",
      "1  WorkPays     78\n",
      "---\n",
      "     zip_code  count\n",
      "0       71854     60\n",
      "1       72301     45\n",
      "2       72209     45\n",
      "3       72390     41\n",
      "4       72401     36\n",
      "..        ...    ...\n",
      "300     72131      1\n",
      "301     72460      1\n",
      "302     72858      1\n",
      "303     72135      1\n",
      "304     72137      1\n",
      "\n",
      "[305 rows x 2 columns]\n",
      "---\n",
      "                                      funding_stream  count\n",
      "0  Funded, in whole or in part, with Federal TANF...   1553\n",
      "---\n",
      "                       new_applicant  count\n",
      "0     Not newly-approved application   1549\n",
      "1  Yes, a newly-approved application      4\n",
      "---\n",
      "   family_size  count\n",
      "0            2    591\n",
      "1            1    458\n",
      "2            3    310\n",
      "3            4    130\n",
      "4            5     47\n",
      "5            6     11\n",
      "6            7      4\n",
      "7           10      1\n",
      "8            8      1\n",
      "---\n",
      "                                         family_type  count\n",
      "0            Family with no work-eligible individual    859\n",
      "1  Family included only in overall work participa...    664\n",
      "2  Two-Parent Family included in both the overall...     30\n",
      "---\n",
      "       subsid_housing  count\n",
      "0  No housing subsidy   1552\n",
      "1      Public housing      1\n",
      "---\n",
      "                           medical_assist  count\n",
      "0     Does not receive Medical Assistance    964\n",
      "1   Yes, enrolled in Medicaid and/or CHIP    589\n",
      "---\n",
      "                           food_stamps  count\n",
      "0  Yes, receives food stamp assistance    971\n",
      "1          Does not receive food stamp    582\n",
      "---\n",
      "                                   subsid_child_care  count\n",
      "0                  No subsidized child care received   1463\n",
      "1  Yes, receives child care funded entirely or in...     90\n",
      "---\n",
      "   tanf child care_children_covered  count\n",
      "0                                 0   1553\n",
      "---\n",
      "  Other, Non-sanction  count\n",
      "0                  No   1553\n",
      "---\n",
      "                                   exempt_time_limit  count\n",
      "0   Yes, family is exempt from accrual of months ...    859\n",
      "1      Family is not exempt from Federal time limit.    692\n",
      "2  Yes, family is exempt from termination of assi...      2\n",
      "---\n",
      "                 new_child_only_fam  count\n",
      "0   No, not a new child-only family   1549\n",
      "1      Yes, a new child-only family      4\n",
      "---\n",
      "             county  count\n",
      "0         Sebastian     73\n",
      "1            Miller     72\n",
      "2        Crittenden     72\n",
      "3        Washington     68\n",
      "4   Pulaski - South     67\n",
      "..              ...    ...\n",
      "72         Franklin      2\n",
      "73          Prairie      2\n",
      "74       Montgomery      2\n",
      "75   Pulaski - East      1\n",
      "76          Carroll      1\n",
      "\n",
      "[77 rows x 2 columns]\n",
      "---\n"
     ]
    }
   ],
   "source": [
    "for c in cat2.columns:\n",
    "    print((cat2[c].value_counts().to_frame('count').rename_axis(c)).reset_index())\n",
    "    print('---')"
   ]
  },
  {
   "cell_type": "code",
   "execution_count": 13,
   "metadata": {},
   "outputs": [
    {
     "data": {
      "text/html": [
       "<div>\n",
       "<style scoped>\n",
       "    .dataframe tbody tr th:only-of-type {\n",
       "        vertical-align: middle;\n",
       "    }\n",
       "\n",
       "    .dataframe tbody tr th {\n",
       "        vertical-align: top;\n",
       "    }\n",
       "\n",
       "    .dataframe thead th {\n",
       "        text-align: right;\n",
       "    }\n",
       "</style>\n",
       "<table border=\"1\" class=\"dataframe\">\n",
       "  <thead>\n",
       "    <tr style=\"text-align: right;\">\n",
       "      <th></th>\n",
       "      <th></th>\n",
       "      <th>case_count</th>\n",
       "    </tr>\n",
       "    <tr>\n",
       "      <th>category</th>\n",
       "      <th>family_type</th>\n",
       "      <th></th>\n",
       "    </tr>\n",
       "  </thead>\n",
       "  <tbody>\n",
       "    <tr>\n",
       "      <th rowspan=\"3\" valign=\"top\">Tea</th>\n",
       "      <th>Family included only in overall work participation rate (i.e., family includes one or more workeligible individuals but does not meet definition of a twoparent family</th>\n",
       "      <td>591</td>\n",
       "    </tr>\n",
       "    <tr>\n",
       "      <th>Family with no work-eligible individual</th>\n",
       "      <td>859</td>\n",
       "    </tr>\n",
       "    <tr>\n",
       "      <th>Two-Parent Family included in both the overall and                      two-parent work participation rates (i.e., family includes                      two work-eligible parents and meets the definition of a two-parent family)</th>\n",
       "      <td>25</td>\n",
       "    </tr>\n",
       "    <tr>\n",
       "      <th rowspan=\"2\" valign=\"top\">WorkPays</th>\n",
       "      <th>Family included only in overall work participation rate (i.e., family includes one or more workeligible individuals but does not meet definition of a twoparent family</th>\n",
       "      <td>73</td>\n",
       "    </tr>\n",
       "    <tr>\n",
       "      <th>Two-Parent Family included in both the overall and                      two-parent work participation rates (i.e., family includes                      two work-eligible parents and meets the definition of a two-parent family)</th>\n",
       "      <td>5</td>\n",
       "    </tr>\n",
       "  </tbody>\n",
       "</table>\n",
       "</div>"
      ],
      "text/plain": [
       "                                                             case_count\n",
       "category family_type                                                   \n",
       "Tea      Family included only in overall work participat...         591\n",
       "         Family with no work-eligible individual                    859\n",
       "         Two-Parent Family included in both the overall ...          25\n",
       "WorkPays Family included only in overall work participat...          73\n",
       "         Two-Parent Family included in both the overall ...           5"
      ]
     },
     "execution_count": 13,
     "metadata": {},
     "output_type": "execute_result"
    }
   ],
   "source": [
    "worc_fam = df\n",
    "fam_type = worc_fam.groupby(['category','family_type']).agg({'case_number' : 'nunique'}).rename({'case_number': 'case_count'}, axis='columns')#.reset_index()\n",
    "fam_type"
   ]
  },
  {
   "cell_type": "code",
   "execution_count": null,
   "metadata": {},
   "outputs": [],
   "source": []
  },
  {
   "cell_type": "code",
   "execution_count": null,
   "metadata": {},
   "outputs": [],
   "source": []
  },
  {
   "cell_type": "code",
   "execution_count": null,
   "metadata": {},
   "outputs": [],
   "source": []
  },
  {
   "cell_type": "code",
   "execution_count": null,
   "metadata": {},
   "outputs": [],
   "source": []
  },
  {
   "cell_type": "code",
   "execution_count": null,
   "metadata": {},
   "outputs": [],
   "source": []
  }
 ],
 "metadata": {
  "kernelspec": {
   "display_name": "Python 3 (ipykernel)",
   "language": "python",
   "name": "python3"
  },
  "language_info": {
   "codemirror_mode": {
    "name": "ipython",
    "version": 3
   },
   "file_extension": ".py",
   "mimetype": "text/x-python",
   "name": "python",
   "nbconvert_exporter": "python",
   "pygments_lexer": "ipython3",
   "version": "3.9.6"
  }
 },
 "nbformat": 4,
 "nbformat_minor": 2
}
