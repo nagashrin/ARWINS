{
 "cells": [
  {
   "cell_type": "code",
   "execution_count": 1,
   "metadata": {},
   "outputs": [],
   "source": [
    "import pandas as pd\n",
    "import numpy as np\n",
    "import os"
   ]
  },
  {
   "cell_type": "code",
   "execution_count": 2,
   "metadata": {},
   "outputs": [],
   "source": [
    "children = adult = pd.read_excel('H://Current_Working_Folder//Reports Analytics//202102//202102-t_worc_children-20210513_1626.xlsx')"
   ]
  },
  {
   "cell_type": "code",
   "execution_count": 3,
   "metadata": {},
   "outputs": [],
   "source": [
    "children['reporting_month'] = pd.to_datetime(children['reporting_month'].\n",
    "                                             apply(lambda x: f\"{x}01\").\n",
    "                                             astype(str), infer_datetime_format=True)\n",
    "\n",
    "children['dob'] = pd.to_datetime(children['dob'].astype(str), infer_datetime_format=True)\n",
    "\n",
    "children['age'] = np.floor((children['reporting_month'] - children['dob'])/np.timedelta64(1,'Y'))"
   ]
  },
  {
   "cell_type": "code",
   "execution_count": 4,
   "metadata": {},
   "outputs": [
    {
     "data": {
      "text/plain": [
       "(3114, 26)"
      ]
     },
     "execution_count": 4,
     "metadata": {},
     "output_type": "execute_result"
    }
   ],
   "source": [
    "children.shape"
   ]
  },
  {
   "cell_type": "code",
   "execution_count": 5,
   "metadata": {
    "scrolled": false
   },
   "outputs": [
    {
     "data": {
      "text/plain": [
       "Not parent with minor child in the family    3114\n",
       "Name: parent_minor_child, dtype: int64"
      ]
     },
     "execution_count": 5,
     "metadata": {},
     "output_type": "execute_result"
    }
   ],
   "source": [
    "children['parent_minor_child'].value_counts()"
   ]
  },
  {
   "cell_type": "code",
   "execution_count": 6,
   "metadata": {
    "scrolled": true
   },
   "outputs": [
    {
     "data": {
      "text/html": [
       "<div>\n",
       "<style scoped>\n",
       "    .dataframe tbody tr th:only-of-type {\n",
       "        vertical-align: middle;\n",
       "    }\n",
       "\n",
       "    .dataframe tbody tr th {\n",
       "        vertical-align: top;\n",
       "    }\n",
       "\n",
       "    .dataframe thead tr th {\n",
       "        text-align: left;\n",
       "    }\n",
       "</style>\n",
       "<table border=\"1\" class=\"dataframe\">\n",
       "  <thead>\n",
       "    <tr>\n",
       "      <th>age</th>\n",
       "      <th>0.0</th>\n",
       "      <th>1.0</th>\n",
       "      <th>2.0</th>\n",
       "      <th>3.0</th>\n",
       "      <th>4.0</th>\n",
       "      <th>5.0</th>\n",
       "      <th>6.0</th>\n",
       "      <th>7.0</th>\n",
       "      <th>8.0</th>\n",
       "      <th>9.0</th>\n",
       "      <th>10.0</th>\n",
       "      <th>11.0</th>\n",
       "      <th>12.0</th>\n",
       "      <th>13.0</th>\n",
       "      <th>14.0</th>\n",
       "      <th>15.0</th>\n",
       "      <th>16.0</th>\n",
       "      <th>17.0</th>\n",
       "    </tr>\n",
       "    <tr>\n",
       "      <th>parent_minor_child</th>\n",
       "      <th>Not parent with minor child in the family</th>\n",
       "      <th>Not parent with minor child in the family</th>\n",
       "      <th>Not parent with minor child in the family</th>\n",
       "      <th>Not parent with minor child in the family</th>\n",
       "      <th>Not parent with minor child in the family</th>\n",
       "      <th>Not parent with minor child in the family</th>\n",
       "      <th>Not parent with minor child in the family</th>\n",
       "      <th>Not parent with minor child in the family</th>\n",
       "      <th>Not parent with minor child in the family</th>\n",
       "      <th>Not parent with minor child in the family</th>\n",
       "      <th>Not parent with minor child in the family</th>\n",
       "      <th>Not parent with minor child in the family</th>\n",
       "      <th>Not parent with minor child in the family</th>\n",
       "      <th>Not parent with minor child in the family</th>\n",
       "      <th>Not parent with minor child in the family</th>\n",
       "      <th>Not parent with minor child in the family</th>\n",
       "      <th>Not parent with minor child in the family</th>\n",
       "      <th>Not parent with minor child in the family</th>\n",
       "    </tr>\n",
       "  </thead>\n",
       "  <tbody>\n",
       "    <tr>\n",
       "      <th>count</th>\n",
       "      <td>129</td>\n",
       "      <td>223</td>\n",
       "      <td>267</td>\n",
       "      <td>240</td>\n",
       "      <td>225</td>\n",
       "      <td>185</td>\n",
       "      <td>173</td>\n",
       "      <td>171</td>\n",
       "      <td>161</td>\n",
       "      <td>155</td>\n",
       "      <td>148</td>\n",
       "      <td>169</td>\n",
       "      <td>178</td>\n",
       "      <td>183</td>\n",
       "      <td>153</td>\n",
       "      <td>147</td>\n",
       "      <td>111</td>\n",
       "      <td>96</td>\n",
       "    </tr>\n",
       "  </tbody>\n",
       "</table>\n",
       "</div>"
      ],
      "text/plain": [
       "age                                                     0.0   \\\n",
       "parent_minor_child Not parent with minor child in the family   \n",
       "count                                                    129   \n",
       "\n",
       "age                                                     1.0   \\\n",
       "parent_minor_child Not parent with minor child in the family   \n",
       "count                                                    223   \n",
       "\n",
       "age                                                     2.0   \\\n",
       "parent_minor_child Not parent with minor child in the family   \n",
       "count                                                    267   \n",
       "\n",
       "age                                                     3.0   \\\n",
       "parent_minor_child Not parent with minor child in the family   \n",
       "count                                                    240   \n",
       "\n",
       "age                                                     4.0   \\\n",
       "parent_minor_child Not parent with minor child in the family   \n",
       "count                                                    225   \n",
       "\n",
       "age                                                     5.0   \\\n",
       "parent_minor_child Not parent with minor child in the family   \n",
       "count                                                    185   \n",
       "\n",
       "age                                                     6.0   \\\n",
       "parent_minor_child Not parent with minor child in the family   \n",
       "count                                                    173   \n",
       "\n",
       "age                                                     7.0   \\\n",
       "parent_minor_child Not parent with minor child in the family   \n",
       "count                                                    171   \n",
       "\n",
       "age                                                     8.0   \\\n",
       "parent_minor_child Not parent with minor child in the family   \n",
       "count                                                    161   \n",
       "\n",
       "age                                                     9.0   \\\n",
       "parent_minor_child Not parent with minor child in the family   \n",
       "count                                                    155   \n",
       "\n",
       "age                                                     10.0  \\\n",
       "parent_minor_child Not parent with minor child in the family   \n",
       "count                                                    148   \n",
       "\n",
       "age                                                     11.0  \\\n",
       "parent_minor_child Not parent with minor child in the family   \n",
       "count                                                    169   \n",
       "\n",
       "age                                                     12.0  \\\n",
       "parent_minor_child Not parent with minor child in the family   \n",
       "count                                                    178   \n",
       "\n",
       "age                                                     13.0  \\\n",
       "parent_minor_child Not parent with minor child in the family   \n",
       "count                                                    183   \n",
       "\n",
       "age                                                     14.0  \\\n",
       "parent_minor_child Not parent with minor child in the family   \n",
       "count                                                    153   \n",
       "\n",
       "age                                                     15.0  \\\n",
       "parent_minor_child Not parent with minor child in the family   \n",
       "count                                                    147   \n",
       "\n",
       "age                                                     16.0  \\\n",
       "parent_minor_child Not parent with minor child in the family   \n",
       "count                                                    111   \n",
       "\n",
       "age                                                     17.0  \n",
       "parent_minor_child Not parent with minor child in the family  \n",
       "count                                                     96  "
      ]
     },
     "execution_count": 6,
     "metadata": {},
     "output_type": "execute_result"
    }
   ],
   "source": [
    "children.groupby(children['age']).agg({'parent_minor_child':'value_counts'}).rename({'parent_minor_child':'count'}, axis='columns').T"
   ]
  },
  {
   "cell_type": "code",
   "execution_count": 7,
   "metadata": {},
   "outputs": [
    {
     "data": {
      "text/html": [
       "<div>\n",
       "<style scoped>\n",
       "    .dataframe tbody tr th:only-of-type {\n",
       "        vertical-align: middle;\n",
       "    }\n",
       "\n",
       "    .dataframe tbody tr th {\n",
       "        vertical-align: top;\n",
       "    }\n",
       "\n",
       "    .dataframe thead th {\n",
       "        text-align: right;\n",
       "    }\n",
       "</style>\n",
       "<table border=\"1\" class=\"dataframe\">\n",
       "  <thead>\n",
       "    <tr style=\"text-align: right;\">\n",
       "      <th></th>\n",
       "      <th>case_number</th>\n",
       "      <th>age</th>\n",
       "      <th>parent_minor_child</th>\n",
       "    </tr>\n",
       "  </thead>\n",
       "  <tbody>\n",
       "  </tbody>\n",
       "</table>\n",
       "</div>"
      ],
      "text/plain": [
       "Empty DataFrame\n",
       "Columns: [case_number, age, parent_minor_child]\n",
       "Index: []"
      ]
     },
     "execution_count": 7,
     "metadata": {},
     "output_type": "execute_result"
    }
   ],
   "source": [
    "k = children.loc[children['parent_minor_child']==\"Yes, a parent with a minor child in the family, but not used in two-parent participation rate\",('case_number','age','parent_minor_child')]\n",
    "k = pd.DataFrame(k)\n",
    "\n",
    "l = children.loc[children['parent_minor_child']==\"Yes, a parent with a minor child in the family and used in two-parent participation rate\",('case_number','age','parent_minor_child')]\n",
    "l = pd.DataFrame(l)\n",
    "\n",
    "# Append dataframes one below the other using concat\n",
    "df1 = pd.concat([k,l],ignore_index=True)\n",
    "df1"
   ]
  },
  {
   "cell_type": "code",
   "execution_count": 8,
   "metadata": {},
   "outputs": [
    {
     "name": "stdout",
     "output_type": "stream",
     "text": [
      "0\n",
      "(0, 3)\n"
     ]
    }
   ],
   "source": [
    "cn = df1['case_number'].nunique()\n",
    "print(cn) #number of unique cases\n",
    "print(df1.shape) #total number of parent with minor child instances"
   ]
  },
  {
   "cell_type": "code",
   "execution_count": 9,
   "metadata": {},
   "outputs": [
    {
     "data": {
      "text/html": [
       "<div>\n",
       "<style scoped>\n",
       "    .dataframe tbody tr th:only-of-type {\n",
       "        vertical-align: middle;\n",
       "    }\n",
       "\n",
       "    .dataframe tbody tr th {\n",
       "        vertical-align: top;\n",
       "    }\n",
       "\n",
       "    .dataframe thead th {\n",
       "        text-align: right;\n",
       "    }\n",
       "</style>\n",
       "<table border=\"1\" class=\"dataframe\">\n",
       "  <thead>\n",
       "    <tr style=\"text-align: right;\">\n",
       "      <th></th>\n",
       "      <th></th>\n",
       "      <th></th>\n",
       "      <th>count</th>\n",
       "    </tr>\n",
       "    <tr>\n",
       "      <th>family_affiliation</th>\n",
       "      <th>age</th>\n",
       "      <th>parent_minor_child</th>\n",
       "      <th></th>\n",
       "    </tr>\n",
       "  </thead>\n",
       "  <tbody>\n",
       "    <tr>\n",
       "      <th rowspan=\"18\" valign=\"top\">Member of the eligible family receiving assistance</th>\n",
       "      <th>0.0</th>\n",
       "      <th>Not parent with minor child in the family</th>\n",
       "      <td>121</td>\n",
       "    </tr>\n",
       "    <tr>\n",
       "      <th>1.0</th>\n",
       "      <th>Not parent with minor child in the family</th>\n",
       "      <td>207</td>\n",
       "    </tr>\n",
       "    <tr>\n",
       "      <th>2.0</th>\n",
       "      <th>Not parent with minor child in the family</th>\n",
       "      <td>250</td>\n",
       "    </tr>\n",
       "    <tr>\n",
       "      <th>3.0</th>\n",
       "      <th>Not parent with minor child in the family</th>\n",
       "      <td>232</td>\n",
       "    </tr>\n",
       "    <tr>\n",
       "      <th>4.0</th>\n",
       "      <th>Not parent with minor child in the family</th>\n",
       "      <td>218</td>\n",
       "    </tr>\n",
       "    <tr>\n",
       "      <th>5.0</th>\n",
       "      <th>Not parent with minor child in the family</th>\n",
       "      <td>174</td>\n",
       "    </tr>\n",
       "    <tr>\n",
       "      <th>6.0</th>\n",
       "      <th>Not parent with minor child in the family</th>\n",
       "      <td>173</td>\n",
       "    </tr>\n",
       "    <tr>\n",
       "      <th>7.0</th>\n",
       "      <th>Not parent with minor child in the family</th>\n",
       "      <td>171</td>\n",
       "    </tr>\n",
       "    <tr>\n",
       "      <th>8.0</th>\n",
       "      <th>Not parent with minor child in the family</th>\n",
       "      <td>161</td>\n",
       "    </tr>\n",
       "    <tr>\n",
       "      <th>9.0</th>\n",
       "      <th>Not parent with minor child in the family</th>\n",
       "      <td>155</td>\n",
       "    </tr>\n",
       "    <tr>\n",
       "      <th>10.0</th>\n",
       "      <th>Not parent with minor child in the family</th>\n",
       "      <td>148</td>\n",
       "    </tr>\n",
       "    <tr>\n",
       "      <th>11.0</th>\n",
       "      <th>Not parent with minor child in the family</th>\n",
       "      <td>169</td>\n",
       "    </tr>\n",
       "    <tr>\n",
       "      <th>12.0</th>\n",
       "      <th>Not parent with minor child in the family</th>\n",
       "      <td>178</td>\n",
       "    </tr>\n",
       "    <tr>\n",
       "      <th>13.0</th>\n",
       "      <th>Not parent with minor child in the family</th>\n",
       "      <td>183</td>\n",
       "    </tr>\n",
       "    <tr>\n",
       "      <th>14.0</th>\n",
       "      <th>Not parent with minor child in the family</th>\n",
       "      <td>153</td>\n",
       "    </tr>\n",
       "    <tr>\n",
       "      <th>15.0</th>\n",
       "      <th>Not parent with minor child in the family</th>\n",
       "      <td>147</td>\n",
       "    </tr>\n",
       "    <tr>\n",
       "      <th>16.0</th>\n",
       "      <th>Not parent with minor child in the family</th>\n",
       "      <td>111</td>\n",
       "    </tr>\n",
       "    <tr>\n",
       "      <th>17.0</th>\n",
       "      <th>Not parent with minor child in the family</th>\n",
       "      <td>96</td>\n",
       "    </tr>\n",
       "    <tr>\n",
       "      <th rowspan=\"6\" valign=\"top\">Person whose income or resources are considered in determining eligibility</th>\n",
       "      <th>0.0</th>\n",
       "      <th>Not parent with minor child in the family</th>\n",
       "      <td>8</td>\n",
       "    </tr>\n",
       "    <tr>\n",
       "      <th>1.0</th>\n",
       "      <th>Not parent with minor child in the family</th>\n",
       "      <td>16</td>\n",
       "    </tr>\n",
       "    <tr>\n",
       "      <th>2.0</th>\n",
       "      <th>Not parent with minor child in the family</th>\n",
       "      <td>17</td>\n",
       "    </tr>\n",
       "    <tr>\n",
       "      <th>3.0</th>\n",
       "      <th>Not parent with minor child in the family</th>\n",
       "      <td>8</td>\n",
       "    </tr>\n",
       "    <tr>\n",
       "      <th>4.0</th>\n",
       "      <th>Not parent with minor child in the family</th>\n",
       "      <td>7</td>\n",
       "    </tr>\n",
       "    <tr>\n",
       "      <th>5.0</th>\n",
       "      <th>Not parent with minor child in the family</th>\n",
       "      <td>11</td>\n",
       "    </tr>\n",
       "  </tbody>\n",
       "</table>\n",
       "</div>"
      ],
      "text/plain": [
       "                                                                                                   count\n",
       "family_affiliation                                 age  parent_minor_child                              \n",
       "Member of the eligible family receiving assistance 0.0  Not parent with minor child in the family    121\n",
       "                                                   1.0  Not parent with minor child in the family    207\n",
       "                                                   2.0  Not parent with minor child in the family    250\n",
       "                                                   3.0  Not parent with minor child in the family    232\n",
       "                                                   4.0  Not parent with minor child in the family    218\n",
       "                                                   5.0  Not parent with minor child in the family    174\n",
       "                                                   6.0  Not parent with minor child in the family    173\n",
       "                                                   7.0  Not parent with minor child in the family    171\n",
       "                                                   8.0  Not parent with minor child in the family    161\n",
       "                                                   9.0  Not parent with minor child in the family    155\n",
       "                                                   10.0 Not parent with minor child in the family    148\n",
       "                                                   11.0 Not parent with minor child in the family    169\n",
       "                                                   12.0 Not parent with minor child in the family    178\n",
       "                                                   13.0 Not parent with minor child in the family    183\n",
       "                                                   14.0 Not parent with minor child in the family    153\n",
       "                                                   15.0 Not parent with minor child in the family    147\n",
       "                                                   16.0 Not parent with minor child in the family    111\n",
       "                                                   17.0 Not parent with minor child in the family     96\n",
       "Person whose income or resources are considered... 0.0  Not parent with minor child in the family      8\n",
       "                                                   1.0  Not parent with minor child in the family     16\n",
       "                                                   2.0  Not parent with minor child in the family     17\n",
       "                                                   3.0  Not parent with minor child in the family      8\n",
       "                                                   4.0  Not parent with minor child in the family      7\n",
       "                                                   5.0  Not parent with minor child in the family     11"
      ]
     },
     "execution_count": 9,
     "metadata": {},
     "output_type": "execute_result"
    }
   ],
   "source": [
    "children.groupby(['family_affiliation','age']).agg({'parent_minor_child':'value_counts'},axis='columns').rename({'parent_minor_child':'count'},axis='columns')#.reset_index()\n"
   ]
  },
  {
   "cell_type": "code",
   "execution_count": 10,
   "metadata": {},
   "outputs": [
    {
     "data": {
      "text/plain": [
       "count    3114.000000\n",
       "mean        7.652216\n",
       "std         5.000108\n",
       "min         0.000000\n",
       "25%         3.000000\n",
       "50%         7.000000\n",
       "75%        12.000000\n",
       "max        17.000000\n",
       "Name: age, dtype: float64"
      ]
     },
     "execution_count": 10,
     "metadata": {},
     "output_type": "execute_result"
    }
   ],
   "source": [
    "children['age'].describe()"
   ]
  },
  {
   "cell_type": "code",
   "execution_count": 11,
   "metadata": {},
   "outputs": [
    {
     "data": {
      "text/plain": [
       "(3114, 26)"
      ]
     },
     "execution_count": 11,
     "metadata": {},
     "output_type": "execute_result"
    }
   ],
   "source": [
    "children.shape"
   ]
  },
  {
   "cell_type": "code",
   "execution_count": 12,
   "metadata": {},
   "outputs": [],
   "source": [
    "\n",
    "os.chdir('H://Current_Working_Folder//Reports Analytics//202102')\n",
    "import openpyxl\n",
    "\n",
    "file_name = 'ParentWithMinorChild.xlsx'\n",
    "writer = pd.ExcelWriter(file_name, engine = 'openpyxl')\n",
    "\n",
    "if os.path.exists(file_name):\n",
    "    book = openpyxl.load_workbook(file_name)\n",
    "    writer.book = book\n",
    "    \n",
    "df1.to_excel(writer, sheet_name = '202102', index=False)\n",
    "writer.save()\n",
    "writer.close()\n"
   ]
  },
  {
   "cell_type": "code",
   "execution_count": null,
   "metadata": {},
   "outputs": [],
   "source": []
  },
  {
   "cell_type": "code",
   "execution_count": 18,
   "metadata": {},
   "outputs": [
    {
     "data": {
      "text/plain": [
       "Index(['id', 'reporting_month', 'case_number', 'family_affiliation', 'dob',\n",
       "       'ssn', 'hispanic or latino', 'american indian or alaska native',\n",
       "       'asian', 'black or african american',\n",
       "       'native hawaiian or other pacific islander', 'white', 'gender',\n",
       "       'Receives Benefits Based on Federal Disability Status Under Non-Social Security Act Programs',\n",
       "       'Receives Supplemental Security Income Under Title XVI-SSI of the SocialSecurity Act:',\n",
       "       'relation_to_hoh', 'parent_minor_child', 'education_level',\n",
       "       'citizenship', 'Amount of unearned inocme_SSI',\n",
       "       'Amount of unearned income_Other unearned income', 'created_by',\n",
       "       'updated_by', 'created_at', 'updated_at', 'age'],\n",
       "      dtype='object')"
      ]
     },
     "execution_count": 18,
     "metadata": {},
     "output_type": "execute_result"
    }
   ],
   "source": [
    "children.columns"
   ]
  },
  {
   "cell_type": "code",
   "execution_count": null,
   "metadata": {},
   "outputs": [],
   "source": []
  }
 ],
 "metadata": {
  "kernelspec": {
   "display_name": "Python 3",
   "language": "python",
   "name": "python3"
  },
  "language_info": {
   "codemirror_mode": {
    "name": "ipython",
    "version": 3
   },
   "file_extension": ".py",
   "mimetype": "text/x-python",
   "name": "python",
   "nbconvert_exporter": "python",
   "pygments_lexer": "ipython3",
   "version": "3.6.4rc1"
  }
 },
 "nbformat": 4,
 "nbformat_minor": 2
}
