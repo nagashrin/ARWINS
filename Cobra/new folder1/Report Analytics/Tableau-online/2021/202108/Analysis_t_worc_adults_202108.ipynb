{
 "cells": [
  {
   "cell_type": "markdown",
   "metadata": {},
   "source": [
    "# T2: Adult Data Analysis"
   ]
  },
  {
   "cell_type": "code",
   "execution_count": 1,
   "metadata": {},
   "outputs": [],
   "source": [
    "import pandas as pd\n",
    "import numpy as np\n",
    "import os"
   ]
  },
  {
   "cell_type": "code",
   "execution_count": 2,
   "metadata": {},
   "outputs": [],
   "source": [
    "adult = pd.read_excel('S://TANF Reports//Reports Analytics//202108//202108-t_worc_adults-220201-955.xlsx')"
   ]
  },
  {
   "cell_type": "code",
   "execution_count": 3,
   "metadata": {},
   "outputs": [],
   "source": [
    "adult['dob'] = pd.to_datetime(adult['dob'].astype('str'), infer_datetime_format = True)\n",
    "adult['reporting_month'] = pd.to_datetime(adult['reporting_month'].apply(lambda x: f\"{x}01\").astype(str), infer_datetime_format=True)\n",
    "adult['age'] = np.floor((adult['reporting_month'] - adult['dob'])/np.timedelta64(1,'Y'))"
   ]
  },
  {
   "cell_type": "code",
   "execution_count": 4,
   "metadata": {
    "scrolled": true
   },
   "outputs": [
    {
     "data": {
      "text/plain": [
       "(1422, 74)"
      ]
     },
     "execution_count": 4,
     "metadata": {},
     "output_type": "execute_result"
    }
   ],
   "source": [
    "adult.shape"
   ]
  },
  {
   "cell_type": "code",
   "execution_count": 5,
   "metadata": {
    "scrolled": true
   },
   "outputs": [
    {
     "data": {
      "text/plain": [
       "Not a noncustodial parent    1422\n",
       "Name: ncp, dtype: int64"
      ]
     },
     "execution_count": 5,
     "metadata": {},
     "output_type": "execute_result"
    }
   ],
   "source": [
    "ncp = adult['ncp'].value_counts()\n",
    "ncp"
   ]
  },
  {
   "cell_type": "code",
   "execution_count": 6,
   "metadata": {},
   "outputs": [
    {
     "data": {
      "text/html": [
       "<div>\n",
       "<style scoped>\n",
       "    .dataframe tbody tr th:only-of-type {\n",
       "        vertical-align: middle;\n",
       "    }\n",
       "\n",
       "    .dataframe tbody tr th {\n",
       "        vertical-align: top;\n",
       "    }\n",
       "\n",
       "    .dataframe thead th {\n",
       "        text-align: right;\n",
       "    }\n",
       "</style>\n",
       "<table border=\"1\" class=\"dataframe\">\n",
       "  <thead>\n",
       "    <tr style=\"text-align: right;\">\n",
       "      <th></th>\n",
       "      <th>case_number</th>\n",
       "      <th>ncp</th>\n",
       "    </tr>\n",
       "  </thead>\n",
       "  <tbody>\n",
       "  </tbody>\n",
       "</table>\n",
       "</div>"
      ],
      "text/plain": [
       "Empty DataFrame\n",
       "Columns: [case_number, ncp]\n",
       "Index: []"
      ]
     },
     "execution_count": 6,
     "metadata": {},
     "output_type": "execute_result"
    }
   ],
   "source": [
    "ncp_list = adult.loc[adult['ncp'] == \"Yes, a noncustodial parent\",('case_number','ncp')]\n",
    "df_ncp_list = pd.DataFrame(ncp_list)\n",
    "df_ncp_list"
   ]
  },
  {
   "cell_type": "code",
   "execution_count": 7,
   "metadata": {},
   "outputs": [
    {
     "data": {
      "text/plain": [
       "Not applicable (e.g., not a work-eligible individual; person living in household and whose income or resources are counted in determining eligibility for or the amount of assistance for the family receiving assistance, but is not in the eligible family receiving assistance or noncustodial parent that the State opted to exclude in determining participation rate).                                                                                                                                                                                                                                                                  822\n",
       " Required to participate, but not participating; and not subject to a work sanction for the reporting month.                                                                                                                                                                                                                                                                                                                                                                                                                                                                                                                                  250\n",
       "Disregarded from participation rate because both of the following apply: required to participate, but not participating; and subject to sanction for refusing to participate in work activities for the reporting month, but not subject to sanction for more than 3 months within the preceding 12-month period (Note: “subjected to a sanction” for refusing to participate in work activities means the State has actually imposed a penalty to reduce or terminate assistance. During a conciliation or notice period, before the State actually reduces or terminates the family’s grant, a family is not “subjected to a sanction.”)    149\n",
       "Exempt, disabled (not using an extended definition under a State waiver)                                                                                                                                                                                                                                                                                                                                                                                                                                                                                                                                                                       48\n",
       "Required to participate and meeting minimum participation requirements                                                                                                                                                                                                                                                                                                                                                                                                                                                                                                                                                                         38\n",
       "Disregarded from participation rate, single custodial parent with child under 12 months. There is a 12-month lifetime limit on disregarding a family from the all families work participation rate (i.e., the overall work participation rate) for this reason                                                                                                                                                                                                                                                                                                                                                                                 37\n",
       "Exempt, single custodial parent with child under age 6 and child care unavailable                                                                                                                                                                                                                                                                                                                                                                                                                                                                                                                                                              30\n",
       "Required to participate and participating, but not meeting minimum participation requirements.                                                                                                                                                                                                                                                                                                                                                                                                                                                                                                                                                 27\n",
       " Deemed engaged in work -- parent or relative (who is the only parent or caretaker relative in the family) with child under age 6 and parent engaged in core work activities for at least 20 hours per week. 18 = Required to participate and participating, but not meeting minimum participation requirements                                                                                                                                                                                                                                                                                                                                18\n",
       "Required to participate, but not participating; subject to sanction for refusing to participate in work activities for the reporting month; and subject to such a sanction for more than 3 months within the preceding 12-month period                                                                                                                                                                                                                                                                                                                                                                                                          2\n",
       "Exempt, under a federally recognized good cause domestic violence waiver                                                                                                                                                                                                                                                                                                                                                                                                                                                                                                                                                                        1\n",
       "Name: work_partic_status, dtype: int64"
      ]
     },
     "execution_count": 7,
     "metadata": {},
     "output_type": "execute_result"
    }
   ],
   "source": [
    "adult['work_partic_status'].value_counts()"
   ]
  },
  {
   "cell_type": "code",
   "execution_count": 8,
   "metadata": {},
   "outputs": [
    {
     "data": {
      "text/plain": [
       "count    1422.000000\n",
       "mean       40.226442\n",
       "std        13.539815\n",
       "min        18.000000\n",
       "25%        29.000000\n",
       "50%        38.000000\n",
       "75%        50.000000\n",
       "max        84.000000\n",
       "Name: age, dtype: float64"
      ]
     },
     "execution_count": 8,
     "metadata": {},
     "output_type": "execute_result"
    }
   ],
   "source": [
    "adult['age'].describe()"
   ]
  },
  {
   "cell_type": "code",
   "execution_count": 9,
   "metadata": {},
   "outputs": [
    {
     "data": {
      "text/plain": [
       "Single, never married       865\n",
       "Married, living together    254\n",
       "Married, but separated      141\n",
       "Divorced                    136\n",
       "Widowed                      26\n",
       "Name: marital_status, dtype: int64"
      ]
     },
     "execution_count": 9,
     "metadata": {},
     "output_type": "execute_result"
    }
   ],
   "source": [
    "adult['marital_status'].value_counts()"
   ]
  },
  {
   "cell_type": "code",
   "execution_count": 10,
   "metadata": {},
   "outputs": [
    {
     "data": {
      "text/plain": [
       "0    1422\n",
       "Name: provid_child_care, dtype: int64"
      ]
     },
     "execution_count": 10,
     "metadata": {},
     "output_type": "execute_result"
    }
   ],
   "source": [
    "adult['provid_child_care'].value_counts()"
   ]
  },
  {
   "cell_type": "code",
   "execution_count": 11,
   "metadata": {},
   "outputs": [
    {
     "data": {
      "text/plain": [
       "Not Parent with minor child in the family                                                        822\n",
       "Yes, a parent with a minor child in the family, but not used in two-parent participation rate    551\n",
       "Yes, a parent with a minor child in the family and used in two-parent participation rate          49\n",
       "Name: parent_with_minor, dtype: int64"
      ]
     },
     "execution_count": 11,
     "metadata": {},
     "output_type": "execute_result"
    }
   ],
   "source": [
    "adult['parent_with_minor'].value_counts()"
   ]
  },
  {
   "cell_type": "markdown",
   "metadata": {},
   "source": [
    "4.5% (108)of total cases (2398) are 2 Parent cases <br>\n",
    "    \n",
    "\n",
    "95.5% (2290)of total cases are single parent cases"
   ]
  },
  {
   "cell_type": "code",
   "execution_count": null,
   "metadata": {},
   "outputs": [],
   "source": []
  }
 ],
 "metadata": {
  "kernelspec": {
   "display_name": "Python 3 (ipykernel)",
   "language": "python",
   "name": "python3"
  },
  "language_info": {
   "codemirror_mode": {
    "name": "ipython",
    "version": 3
   },
   "file_extension": ".py",
   "mimetype": "text/x-python",
   "name": "python",
   "nbconvert_exporter": "python",
   "pygments_lexer": "ipython3",
   "version": "3.9.6"
  }
 },
 "nbformat": 4,
 "nbformat_minor": 2
}
