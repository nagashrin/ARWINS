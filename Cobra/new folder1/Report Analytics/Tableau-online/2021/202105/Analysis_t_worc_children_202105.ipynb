{
 "cells": [
  {
   "cell_type": "code",
   "execution_count": 1,
   "metadata": {},
   "outputs": [],
   "source": [
    "import pandas as pd\n",
    "import numpy as np\n",
    "import os"
   ]
  },
  {
   "cell_type": "code",
   "execution_count": 2,
   "metadata": {},
   "outputs": [],
   "source": [
    "children = adult = pd.read_excel('H://Current_Working_Folder//Reports Analytics//202105//Version 2//202105-t_worc_children-20210810_1307.xlsx')"
   ]
  },
  {
   "cell_type": "code",
   "execution_count": 3,
   "metadata": {},
   "outputs": [],
   "source": [
    "children['reporting_month'] = pd.to_datetime(children['reporting_month'].\n",
    "                                             apply(lambda x: f\"{x}01\").\n",
    "                                             astype(str), infer_datetime_format=True)\n",
    "\n",
    "children['dob'] = pd.to_datetime(children['dob'].astype(str), infer_datetime_format=True)\n",
    "\n",
    "children['age'] = np.floor((children['reporting_month'] - children['dob'])/np.timedelta64(1,'Y'))"
   ]
  },
  {
   "cell_type": "code",
   "execution_count": 4,
   "metadata": {},
   "outputs": [
    {
     "data": {
      "text/plain": [
       "(2767, 26)"
      ]
     },
     "execution_count": 4,
     "metadata": {},
     "output_type": "execute_result"
    }
   ],
   "source": [
    "children.shape"
   ]
  },
  {
   "cell_type": "code",
   "execution_count": 5,
   "metadata": {
    "scrolled": false
   },
   "outputs": [
    {
     "data": {
      "text/plain": [
       "Not parent with minor child in the family                                                        2765\n",
       "Yes, a parent with a minor child in the family, but not used in two-parent participation rate       2\n",
       "Name: parent_minor_child, dtype: int64"
      ]
     },
     "execution_count": 5,
     "metadata": {},
     "output_type": "execute_result"
    }
   ],
   "source": [
    "children['parent_minor_child'].value_counts()"
   ]
  },
  {
   "cell_type": "code",
   "execution_count": 6,
   "metadata": {
    "scrolled": true
   },
   "outputs": [
    {
     "data": {
      "text/html": [
       "<div>\n",
       "<style scoped>\n",
       "    .dataframe tbody tr th:only-of-type {\n",
       "        vertical-align: middle;\n",
       "    }\n",
       "\n",
       "    .dataframe tbody tr th {\n",
       "        vertical-align: top;\n",
       "    }\n",
       "\n",
       "    .dataframe thead tr th {\n",
       "        text-align: left;\n",
       "    }\n",
       "</style>\n",
       "<table border=\"1\" class=\"dataframe\">\n",
       "  <thead>\n",
       "    <tr>\n",
       "      <th>age</th>\n",
       "      <th>-1.0</th>\n",
       "      <th>0.0</th>\n",
       "      <th>1.0</th>\n",
       "      <th>2.0</th>\n",
       "      <th>3.0</th>\n",
       "      <th>4.0</th>\n",
       "      <th>5.0</th>\n",
       "      <th>6.0</th>\n",
       "      <th>7.0</th>\n",
       "      <th>8.0</th>\n",
       "      <th>...</th>\n",
       "      <th>10.0</th>\n",
       "      <th>11.0</th>\n",
       "      <th>12.0</th>\n",
       "      <th>13.0</th>\n",
       "      <th>14.0</th>\n",
       "      <th>15.0</th>\n",
       "      <th colspan=\"2\" halign=\"left\">16.0</th>\n",
       "      <th colspan=\"2\" halign=\"left\">17.0</th>\n",
       "    </tr>\n",
       "    <tr>\n",
       "      <th>parent_minor_child</th>\n",
       "      <th>Not parent with minor child in the family</th>\n",
       "      <th>Not parent with minor child in the family</th>\n",
       "      <th>Not parent with minor child in the family</th>\n",
       "      <th>Not parent with minor child in the family</th>\n",
       "      <th>Not parent with minor child in the family</th>\n",
       "      <th>Not parent with minor child in the family</th>\n",
       "      <th>Not parent with minor child in the family</th>\n",
       "      <th>Not parent with minor child in the family</th>\n",
       "      <th>Not parent with minor child in the family</th>\n",
       "      <th>Not parent with minor child in the family</th>\n",
       "      <th>...</th>\n",
       "      <th>Not parent with minor child in the family</th>\n",
       "      <th>Not parent with minor child in the family</th>\n",
       "      <th>Not parent with minor child in the family</th>\n",
       "      <th>Not parent with minor child in the family</th>\n",
       "      <th>Not parent with minor child in the family</th>\n",
       "      <th>Not parent with minor child in the family</th>\n",
       "      <th>Not parent with minor child in the family</th>\n",
       "      <th>Yes, a parent with a minor child in the family, but not used in two-parent participation rate</th>\n",
       "      <th>Not parent with minor child in the family</th>\n",
       "      <th>Yes, a parent with a minor child in the family, but not used in two-parent participation rate</th>\n",
       "    </tr>\n",
       "  </thead>\n",
       "  <tbody>\n",
       "    <tr>\n",
       "      <th>count</th>\n",
       "      <td>1</td>\n",
       "      <td>104</td>\n",
       "      <td>184</td>\n",
       "      <td>225</td>\n",
       "      <td>206</td>\n",
       "      <td>192</td>\n",
       "      <td>181</td>\n",
       "      <td>146</td>\n",
       "      <td>163</td>\n",
       "      <td>142</td>\n",
       "      <td>...</td>\n",
       "      <td>140</td>\n",
       "      <td>145</td>\n",
       "      <td>161</td>\n",
       "      <td>160</td>\n",
       "      <td>155</td>\n",
       "      <td>124</td>\n",
       "      <td>110</td>\n",
       "      <td>1</td>\n",
       "      <td>85</td>\n",
       "      <td>1</td>\n",
       "    </tr>\n",
       "  </tbody>\n",
       "</table>\n",
       "<p>1 rows × 21 columns</p>\n",
       "</div>"
      ],
      "text/plain": [
       "age                                                    -1.0   \\\n",
       "parent_minor_child Not parent with minor child in the family   \n",
       "count                                                      1   \n",
       "\n",
       "age                                                     0.0   \\\n",
       "parent_minor_child Not parent with minor child in the family   \n",
       "count                                                    104   \n",
       "\n",
       "age                                                     1.0   \\\n",
       "parent_minor_child Not parent with minor child in the family   \n",
       "count                                                    184   \n",
       "\n",
       "age                                                     2.0   \\\n",
       "parent_minor_child Not parent with minor child in the family   \n",
       "count                                                    225   \n",
       "\n",
       "age                                                     3.0   \\\n",
       "parent_minor_child Not parent with minor child in the family   \n",
       "count                                                    206   \n",
       "\n",
       "age                                                     4.0   \\\n",
       "parent_minor_child Not parent with minor child in the family   \n",
       "count                                                    192   \n",
       "\n",
       "age                                                     5.0   \\\n",
       "parent_minor_child Not parent with minor child in the family   \n",
       "count                                                    181   \n",
       "\n",
       "age                                                     6.0   \\\n",
       "parent_minor_child Not parent with minor child in the family   \n",
       "count                                                    146   \n",
       "\n",
       "age                                                     7.0   \\\n",
       "parent_minor_child Not parent with minor child in the family   \n",
       "count                                                    163   \n",
       "\n",
       "age                                                     8.0   ...  \\\n",
       "parent_minor_child Not parent with minor child in the family  ...   \n",
       "count                                                    142  ...   \n",
       "\n",
       "age                                                     10.0  \\\n",
       "parent_minor_child Not parent with minor child in the family   \n",
       "count                                                    140   \n",
       "\n",
       "age                                                     11.0  \\\n",
       "parent_minor_child Not parent with minor child in the family   \n",
       "count                                                    145   \n",
       "\n",
       "age                                                     12.0  \\\n",
       "parent_minor_child Not parent with minor child in the family   \n",
       "count                                                    161   \n",
       "\n",
       "age                                                     13.0  \\\n",
       "parent_minor_child Not parent with minor child in the family   \n",
       "count                                                    160   \n",
       "\n",
       "age                                                     14.0  \\\n",
       "parent_minor_child Not parent with minor child in the family   \n",
       "count                                                    155   \n",
       "\n",
       "age                                                     15.0  \\\n",
       "parent_minor_child Not parent with minor child in the family   \n",
       "count                                                    124   \n",
       "\n",
       "age                                                     16.0  \\\n",
       "parent_minor_child Not parent with minor child in the family   \n",
       "count                                                    110   \n",
       "\n",
       "age                                                                                                               \\\n",
       "parent_minor_child Yes, a parent with a minor child in the family, but not used in two-parent participation rate   \n",
       "count                                                               1                                              \n",
       "\n",
       "age                                                     17.0  \\\n",
       "parent_minor_child Not parent with minor child in the family   \n",
       "count                                                     85   \n",
       "\n",
       "age                                                                                                               \n",
       "parent_minor_child Yes, a parent with a minor child in the family, but not used in two-parent participation rate  \n",
       "count                                                               1                                             \n",
       "\n",
       "[1 rows x 21 columns]"
      ]
     },
     "execution_count": 6,
     "metadata": {},
     "output_type": "execute_result"
    }
   ],
   "source": [
    "children.groupby(children['age']).agg({'parent_minor_child':'value_counts'}).rename({'parent_minor_child':'count'}, axis='columns').T"
   ]
  },
  {
   "cell_type": "code",
   "execution_count": 7,
   "metadata": {},
   "outputs": [
    {
     "data": {
      "text/html": [
       "<div>\n",
       "<style scoped>\n",
       "    .dataframe tbody tr th:only-of-type {\n",
       "        vertical-align: middle;\n",
       "    }\n",
       "\n",
       "    .dataframe tbody tr th {\n",
       "        vertical-align: top;\n",
       "    }\n",
       "\n",
       "    .dataframe thead th {\n",
       "        text-align: right;\n",
       "    }\n",
       "</style>\n",
       "<table border=\"1\" class=\"dataframe\">\n",
       "  <thead>\n",
       "    <tr style=\"text-align: right;\">\n",
       "      <th></th>\n",
       "      <th>case_number</th>\n",
       "      <th>age</th>\n",
       "      <th>parent_minor_child</th>\n",
       "    </tr>\n",
       "  </thead>\n",
       "  <tbody>\n",
       "    <tr>\n",
       "      <th>0</th>\n",
       "      <td>7612004</td>\n",
       "      <td>17.0</td>\n",
       "      <td>Yes, a parent with a minor child in the family...</td>\n",
       "    </tr>\n",
       "    <tr>\n",
       "      <th>1</th>\n",
       "      <td>9004467</td>\n",
       "      <td>16.0</td>\n",
       "      <td>Yes, a parent with a minor child in the family...</td>\n",
       "    </tr>\n",
       "  </tbody>\n",
       "</table>\n",
       "</div>"
      ],
      "text/plain": [
       "   case_number   age                                 parent_minor_child\n",
       "0      7612004  17.0  Yes, a parent with a minor child in the family...\n",
       "1      9004467  16.0  Yes, a parent with a minor child in the family..."
      ]
     },
     "execution_count": 7,
     "metadata": {},
     "output_type": "execute_result"
    }
   ],
   "source": [
    "k = children.loc[children['parent_minor_child']==\"Yes, a parent with a minor child in the family, but not used in two-parent participation rate\",('case_number','age','parent_minor_child')]\n",
    "k = pd.DataFrame(k)\n",
    "\n",
    "l = children.loc[children['parent_minor_child']==\"Yes, a parent with a minor child in the family and used in two-parent participation rate\",('case_number','age','parent_minor_child')]\n",
    "l = pd.DataFrame(l)\n",
    "\n",
    "# Append dataframes one below the other using concat\n",
    "df1 = pd.concat([k,l],ignore_index=True)\n",
    "df1"
   ]
  },
  {
   "cell_type": "code",
   "execution_count": 8,
   "metadata": {},
   "outputs": [
    {
     "name": "stdout",
     "output_type": "stream",
     "text": [
      "2\n",
      "(2, 3)\n"
     ]
    }
   ],
   "source": [
    "cn = df1['case_number'].nunique()\n",
    "print(cn) #number of unique cases\n",
    "print(df1.shape) #total number of parent with minor child instances"
   ]
  },
  {
   "cell_type": "code",
   "execution_count": 9,
   "metadata": {},
   "outputs": [
    {
     "data": {
      "text/html": [
       "<div>\n",
       "<style scoped>\n",
       "    .dataframe tbody tr th:only-of-type {\n",
       "        vertical-align: middle;\n",
       "    }\n",
       "\n",
       "    .dataframe tbody tr th {\n",
       "        vertical-align: top;\n",
       "    }\n",
       "\n",
       "    .dataframe thead th {\n",
       "        text-align: right;\n",
       "    }\n",
       "</style>\n",
       "<table border=\"1\" class=\"dataframe\">\n",
       "  <thead>\n",
       "    <tr style=\"text-align: right;\">\n",
       "      <th></th>\n",
       "      <th></th>\n",
       "      <th></th>\n",
       "      <th>count</th>\n",
       "    </tr>\n",
       "    <tr>\n",
       "      <th>family_affiliation</th>\n",
       "      <th>age</th>\n",
       "      <th>parent_minor_child</th>\n",
       "      <th></th>\n",
       "    </tr>\n",
       "  </thead>\n",
       "  <tbody>\n",
       "    <tr>\n",
       "      <th rowspan=\"20\" valign=\"top\">Member of the eligible family receiving assistance</th>\n",
       "      <th>0.0</th>\n",
       "      <th>Not parent with minor child in the family</th>\n",
       "      <td>92</td>\n",
       "    </tr>\n",
       "    <tr>\n",
       "      <th>1.0</th>\n",
       "      <th>Not parent with minor child in the family</th>\n",
       "      <td>168</td>\n",
       "    </tr>\n",
       "    <tr>\n",
       "      <th>2.0</th>\n",
       "      <th>Not parent with minor child in the family</th>\n",
       "      <td>208</td>\n",
       "    </tr>\n",
       "    <tr>\n",
       "      <th>3.0</th>\n",
       "      <th>Not parent with minor child in the family</th>\n",
       "      <td>188</td>\n",
       "    </tr>\n",
       "    <tr>\n",
       "      <th>4.0</th>\n",
       "      <th>Not parent with minor child in the family</th>\n",
       "      <td>180</td>\n",
       "    </tr>\n",
       "    <tr>\n",
       "      <th>5.0</th>\n",
       "      <th>Not parent with minor child in the family</th>\n",
       "      <td>173</td>\n",
       "    </tr>\n",
       "    <tr>\n",
       "      <th>6.0</th>\n",
       "      <th>Not parent with minor child in the family</th>\n",
       "      <td>146</td>\n",
       "    </tr>\n",
       "    <tr>\n",
       "      <th>7.0</th>\n",
       "      <th>Not parent with minor child in the family</th>\n",
       "      <td>163</td>\n",
       "    </tr>\n",
       "    <tr>\n",
       "      <th>8.0</th>\n",
       "      <th>Not parent with minor child in the family</th>\n",
       "      <td>142</td>\n",
       "    </tr>\n",
       "    <tr>\n",
       "      <th>9.0</th>\n",
       "      <th>Not parent with minor child in the family</th>\n",
       "      <td>141</td>\n",
       "    </tr>\n",
       "    <tr>\n",
       "      <th>10.0</th>\n",
       "      <th>Not parent with minor child in the family</th>\n",
       "      <td>140</td>\n",
       "    </tr>\n",
       "    <tr>\n",
       "      <th>11.0</th>\n",
       "      <th>Not parent with minor child in the family</th>\n",
       "      <td>145</td>\n",
       "    </tr>\n",
       "    <tr>\n",
       "      <th>12.0</th>\n",
       "      <th>Not parent with minor child in the family</th>\n",
       "      <td>161</td>\n",
       "    </tr>\n",
       "    <tr>\n",
       "      <th>13.0</th>\n",
       "      <th>Not parent with minor child in the family</th>\n",
       "      <td>160</td>\n",
       "    </tr>\n",
       "    <tr>\n",
       "      <th>14.0</th>\n",
       "      <th>Not parent with minor child in the family</th>\n",
       "      <td>155</td>\n",
       "    </tr>\n",
       "    <tr>\n",
       "      <th>15.0</th>\n",
       "      <th>Not parent with minor child in the family</th>\n",
       "      <td>124</td>\n",
       "    </tr>\n",
       "    <tr>\n",
       "      <th rowspan=\"2\" valign=\"top\">16.0</th>\n",
       "      <th>Not parent with minor child in the family</th>\n",
       "      <td>110</td>\n",
       "    </tr>\n",
       "    <tr>\n",
       "      <th>Yes, a parent with a minor child in the family, but not used in two-parent participation rate</th>\n",
       "      <td>1</td>\n",
       "    </tr>\n",
       "    <tr>\n",
       "      <th rowspan=\"2\" valign=\"top\">17.0</th>\n",
       "      <th>Not parent with minor child in the family</th>\n",
       "      <td>85</td>\n",
       "    </tr>\n",
       "    <tr>\n",
       "      <th>Yes, a parent with a minor child in the family, but not used in two-parent participation rate</th>\n",
       "      <td>1</td>\n",
       "    </tr>\n",
       "    <tr>\n",
       "      <th rowspan=\"7\" valign=\"top\">Person whose income or resources are considered in determining eligibility</th>\n",
       "      <th>-1.0</th>\n",
       "      <th>Not parent with minor child in the family</th>\n",
       "      <td>1</td>\n",
       "    </tr>\n",
       "    <tr>\n",
       "      <th>0.0</th>\n",
       "      <th>Not parent with minor child in the family</th>\n",
       "      <td>12</td>\n",
       "    </tr>\n",
       "    <tr>\n",
       "      <th>1.0</th>\n",
       "      <th>Not parent with minor child in the family</th>\n",
       "      <td>16</td>\n",
       "    </tr>\n",
       "    <tr>\n",
       "      <th>2.0</th>\n",
       "      <th>Not parent with minor child in the family</th>\n",
       "      <td>17</td>\n",
       "    </tr>\n",
       "    <tr>\n",
       "      <th>3.0</th>\n",
       "      <th>Not parent with minor child in the family</th>\n",
       "      <td>18</td>\n",
       "    </tr>\n",
       "    <tr>\n",
       "      <th>4.0</th>\n",
       "      <th>Not parent with minor child in the family</th>\n",
       "      <td>12</td>\n",
       "    </tr>\n",
       "    <tr>\n",
       "      <th>5.0</th>\n",
       "      <th>Not parent with minor child in the family</th>\n",
       "      <td>8</td>\n",
       "    </tr>\n",
       "  </tbody>\n",
       "</table>\n",
       "</div>"
      ],
      "text/plain": [
       "                                                                                                             count\n",
       "family_affiliation                                 age   parent_minor_child                                       \n",
       "Member of the eligible family receiving assistance  0.0  Not parent with minor child in the family              92\n",
       "                                                    1.0  Not parent with minor child in the family             168\n",
       "                                                    2.0  Not parent with minor child in the family             208\n",
       "                                                    3.0  Not parent with minor child in the family             188\n",
       "                                                    4.0  Not parent with minor child in the family             180\n",
       "                                                    5.0  Not parent with minor child in the family             173\n",
       "                                                    6.0  Not parent with minor child in the family             146\n",
       "                                                    7.0  Not parent with minor child in the family             163\n",
       "                                                    8.0  Not parent with minor child in the family             142\n",
       "                                                    9.0  Not parent with minor child in the family             141\n",
       "                                                    10.0 Not parent with minor child in the family             140\n",
       "                                                    11.0 Not parent with minor child in the family             145\n",
       "                                                    12.0 Not parent with minor child in the family             161\n",
       "                                                    13.0 Not parent with minor child in the family             160\n",
       "                                                    14.0 Not parent with minor child in the family             155\n",
       "                                                    15.0 Not parent with minor child in the family             124\n",
       "                                                    16.0 Not parent with minor child in the family             110\n",
       "                                                         Yes, a parent with a minor child in the family,...      1\n",
       "                                                    17.0 Not parent with minor child in the family              85\n",
       "                                                         Yes, a parent with a minor child in the family,...      1\n",
       "Person whose income or resources are considered... -1.0  Not parent with minor child in the family               1\n",
       "                                                    0.0  Not parent with minor child in the family              12\n",
       "                                                    1.0  Not parent with minor child in the family              16\n",
       "                                                    2.0  Not parent with minor child in the family              17\n",
       "                                                    3.0  Not parent with minor child in the family              18\n",
       "                                                    4.0  Not parent with minor child in the family              12\n",
       "                                                    5.0  Not parent with minor child in the family               8"
      ]
     },
     "execution_count": 9,
     "metadata": {},
     "output_type": "execute_result"
    }
   ],
   "source": [
    "children.groupby(['family_affiliation','age']).agg({'parent_minor_child':'value_counts'},axis='columns').rename({'parent_minor_child':'count'},axis='columns')#.reset_index()\n"
   ]
  },
  {
   "cell_type": "code",
   "execution_count": 10,
   "metadata": {},
   "outputs": [
    {
     "data": {
      "text/plain": [
       "count    2767.000000\n",
       "mean        7.813878\n",
       "std         4.982368\n",
       "min        -1.000000\n",
       "25%         3.000000\n",
       "50%         7.000000\n",
       "75%        12.000000\n",
       "max        17.000000\n",
       "Name: age, dtype: float64"
      ]
     },
     "execution_count": 10,
     "metadata": {},
     "output_type": "execute_result"
    }
   ],
   "source": [
    "children['age'].describe()"
   ]
  },
  {
   "cell_type": "code",
   "execution_count": 11,
   "metadata": {},
   "outputs": [
    {
     "data": {
      "text/plain": [
       "(2767, 26)"
      ]
     },
     "execution_count": 11,
     "metadata": {},
     "output_type": "execute_result"
    }
   ],
   "source": [
    "children.shape"
   ]
  },
  {
   "cell_type": "code",
   "execution_count": 13,
   "metadata": {},
   "outputs": [
    {
     "data": {
      "text/plain": [
       "\"\\nimport openpyxl\\nwriter = pd.ExcelWriter(file_name, engine = 'openpyxl')\\n\\nif os.path.exists(file_name):\\n    book = openpyxl.load_workbook(file_name)\\n    writer.book = book\\n    \\ndf1.to_excel(writer, sheet_name = '202103', index=False)\\nwriter.save()\\nwriter.close()\\n\""
      ]
     },
     "execution_count": 13,
     "metadata": {},
     "output_type": "execute_result"
    }
   ],
   "source": [
    "\n",
    "os.chdir('H://Current_Working_Folder//Reports Analytics//202105//Version 2')\n",
    "\n",
    "from pandas import ExcelWriter\n",
    "\n",
    "file_name = 'ParentWithMinorChild.xlsx'\n",
    "\n",
    "writer = pd.ExcelWriter(file_name)\n",
    "df1.to_excel(writer, sheet_name = '202105', index=False)\n",
    "writer.save()\n",
    "writer.close()\n",
    "\n",
    "\n",
    "\"\"\"\n",
    "import openpyxl\n",
    "writer = pd.ExcelWriter(file_name, engine = 'openpyxl')\n",
    "\n",
    "if os.path.exists(file_name):\n",
    "    book = openpyxl.load_workbook(file_name)\n",
    "    writer.book = book\n",
    "    \n",
    "df1.to_excel(writer, sheet_name = '202103', index=False)\n",
    "writer.save()\n",
    "writer.close()\n",
    "\"\"\""
   ]
  },
  {
   "cell_type": "code",
   "execution_count": null,
   "metadata": {},
   "outputs": [],
   "source": []
  },
  {
   "cell_type": "code",
   "execution_count": null,
   "metadata": {},
   "outputs": [],
   "source": []
  }
 ],
 "metadata": {
  "kernelspec": {
   "display_name": "Python 3 (ipykernel)",
   "language": "python",
   "name": "python3"
  },
  "language_info": {
   "codemirror_mode": {
    "name": "ipython",
    "version": 3
   },
   "file_extension": ".py",
   "mimetype": "text/x-python",
   "name": "python",
   "nbconvert_exporter": "python",
   "pygments_lexer": "ipython3",
   "version": "3.9.6"
  }
 },
 "nbformat": 4,
 "nbformat_minor": 2
}
