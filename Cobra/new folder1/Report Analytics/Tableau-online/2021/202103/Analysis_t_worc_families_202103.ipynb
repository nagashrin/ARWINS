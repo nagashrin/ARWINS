{
 "cells": [
  {
   "cell_type": "code",
   "execution_count": 1,
   "metadata": {
    "scrolled": true
   },
   "outputs": [],
   "source": [
    "import pandas as pd\n",
    "import numpy as np\n",
    "import time\n",
    "import os\n",
    "\n",
    "t = time.localtime()\n",
    "timestamp = time.strftime('%y%m%d-%H%M', t)\n",
    "\n",
    "# read excel\n",
    "df = pd.read_excel('H://Current_Working_Folder//Reports Analytics//202103//202103-t_worc_families-20210513_1628.xlsx')\n",
    "\n",
    "# assign path and reporitng month\n",
    "drive = 'H://Current_Working_Folder//Reports Analytics//'\n",
    "reporting_month = str(df.loc[0,'reporting_month'])\n",
    "\n",
    "# Filter with column names ending with amt, amount, nbr_month\n",
    "df_amt = df.filter(regex = 'amt$|amount$|amount$|nbr_month$|nbr_months', axis='columns')\n",
    "\n",
    "# Describe the filtered dataframe\n",
    "df_des = df_amt.describe()\n",
    "\n",
    "# Write the describe to excel\n",
    "writer = pd.ExcelWriter(drive + reporting_month + '//' + reporting_month + '_' + 'report' + '-' + timestamp + '.xlsx')\n",
    "#df_des.to_excel(writer, index = False)\n",
    "df_des.to_excel(writer, sheet_name='family_stat')\n",
    "writer.save()"
   ]
  },
  {
   "cell_type": "code",
   "execution_count": 2,
   "metadata": {},
   "outputs": [],
   "source": [
    "#df.columns"
   ]
  },
  {
   "cell_type": "code",
   "execution_count": 3,
   "metadata": {},
   "outputs": [
    {
     "data": {
      "text/plain": [
       "(1772, 56)"
      ]
     },
     "execution_count": 3,
     "metadata": {},
     "output_type": "execute_result"
    }
   ],
   "source": [
    "df.shape"
   ]
  },
  {
   "cell_type": "code",
   "execution_count": 4,
   "metadata": {
    "scrolled": true
   },
   "outputs": [
    {
     "data": {
      "text/plain": [
       "No subsidized child care received                                                                                                                 1642\n",
       "Yes, receives child care funded entirely or in part with Federal funds (e.g., receives TANF, CCDF, SSBG, or other federally funded child care)     130\n",
       "Name: subsid_child_care, dtype: int64"
      ]
     },
     "execution_count": 4,
     "metadata": {},
     "output_type": "execute_result"
    }
   ],
   "source": [
    "df['subsid_child_care'].value_counts()"
   ]
  },
  {
   "cell_type": "code",
   "execution_count": 5,
   "metadata": {},
   "outputs": [
    {
     "data": {
      "text/plain": [
       "116389"
      ]
     },
     "execution_count": 5,
     "metadata": {},
     "output_type": "execute_result"
    }
   ],
   "source": [
    "df['subsid_child_care_amt'].sum()"
   ]
  },
  {
   "cell_type": "code",
   "execution_count": 6,
   "metadata": {
    "scrolled": true
   },
   "outputs": [
    {
     "data": {
      "text/plain": [
       "0    1772\n",
       "Name: tanf child care_children_covered, dtype: int64"
      ]
     },
     "execution_count": 6,
     "metadata": {},
     "output_type": "execute_result"
    }
   ],
   "source": [
    "df['tanf child care_children_covered'].value_counts()"
   ]
  },
  {
   "cell_type": "code",
   "execution_count": 7,
   "metadata": {},
   "outputs": [
    {
     "data": {
      "text/plain": [
       "0"
      ]
     },
     "execution_count": 7,
     "metadata": {},
     "output_type": "execute_result"
    }
   ],
   "source": [
    "df['tanf child care_amount'].sum()"
   ]
  },
  {
   "cell_type": "code",
   "execution_count": 8,
   "metadata": {
    "scrolled": true
   },
   "outputs": [],
   "source": [
    "cat = df.drop(df_amt, axis='columns')\n",
    "#cat1 = cat.drop((cat.loc[:,'reporting_month':'stratum']),axis='columns')\n",
    "cat1 = cat.drop(['id','reporting_month','case_number','county_fips_code','stratum','disposition','worker_id',\n",
    "                 'case_manager','area','created_by','updated_by','created_at','updated_at','ans_county',\n",
    "                 'local_office','waiver_grps'], axis='columns')\n",
    "cat2 = cat1.drop(cat1.filter(regex = '^reason|^other'), axis='columns')"
   ]
  },
  {
   "cell_type": "code",
   "execution_count": 9,
   "metadata": {
    "scrolled": true
   },
   "outputs": [
    {
     "name": "stdout",
     "output_type": "stream",
     "text": [
      "No     1512\n",
      "Yes     260\n",
      "Name: reason for amount of reduction_work requirements sanction, dtype: int64\n",
      "---\n",
      "No    1772\n",
      "Name: reason for amount of reduction_Family Sanction for an Adult with No High School Diploma or Equivalent, dtype: int64\n",
      "---\n",
      "No    1772\n",
      "Name: reason for amount of reduction_Sanction for Teen Parent not Attending School, dtype: int64\n",
      "---\n",
      "No     1682\n",
      "Yes      90\n",
      "Name: reason for amount of reduction_Non-Cooperation with Child Support, dtype: int64\n",
      "---\n",
      "No     1769\n",
      "Yes       3\n",
      "Name: reason for amount of reduction_Failure to Comply with an Individual Responsibility Plan, dtype: int64\n",
      "---\n",
      "No     1769\n",
      "Yes       3\n",
      "Name: reason for amount of reduction_Other Sanction, dtype: int64\n",
      "---\n",
      "0    1772\n",
      "Name: reason for amount of reduction_Recoupment of Prior Overpayment, dtype: int64\n",
      "---\n"
     ]
    }
   ],
   "source": [
    "reason_cat = cat1.filter(regex = '^reason', axis='columns')\n",
    "\n",
    "for c in reason_cat.columns:\n",
    "    print(reason_cat[c].value_counts())\n",
    "    print('---')\n"
   ]
  },
  {
   "cell_type": "code",
   "execution_count": 10,
   "metadata": {},
   "outputs": [],
   "source": [
    "#((df.filter(regex = '^reason'))).head(20)"
   ]
  },
  {
   "cell_type": "code",
   "execution_count": 11,
   "metadata": {
    "scrolled": false
   },
   "outputs": [
    {
     "name": "stdout",
     "output_type": "stream",
     "text": [
      "   category  count\n",
      "0       Tea   1671\n",
      "1  WorkPays    101\n",
      "---\n",
      "     zip_code  count\n",
      "0       71854     63\n",
      "1       72301     51\n",
      "2       72209     48\n",
      "3       72401     40\n",
      "4       72390     36\n",
      "5       72204     35\n",
      "6       72076     32\n",
      "7       72335     32\n",
      "8       72114     30\n",
      "9       72315     28\n",
      "10      72904     27\n",
      "11      72901     27\n",
      "12      71601     27\n",
      "13      72764     25\n",
      "14      71603     25\n",
      "15      72450     25\n",
      "16      72117     22\n",
      "17      72360     22\n",
      "18      72112     21\n",
      "19      72956     21\n",
      "20      72701     20\n",
      "21      72601     19\n",
      "22      72370     19\n",
      "23      72206     18\n",
      "24      71701     17\n",
      "25      71671     17\n",
      "26      72342     16\n",
      "27      71913     16\n",
      "28      71753     15\n",
      "29      71901     15\n",
      "..        ...    ...\n",
      "301     72168      1\n",
      "302     72153      1\n",
      "303     72145      1\n",
      "304     72142      1\n",
      "305     72137      1\n",
      "306     72384      1\n",
      "307     72394      1\n",
      "308     72411      1\n",
      "309     72523      1\n",
      "310     27516      1\n",
      "311     72571      1\n",
      "312     72569      1\n",
      "313     72567      1\n",
      "314     72566      1\n",
      "315     72565      1\n",
      "316     72550      1\n",
      "317     72537      1\n",
      "318     72533      1\n",
      "319     72519      1\n",
      "320     72416      1\n",
      "321     72513      1\n",
      "322     72473      1\n",
      "323     72469      1\n",
      "324     72466      1\n",
      "325     72462      1\n",
      "326     72460      1\n",
      "327     72447      1\n",
      "328     72436      1\n",
      "329     72421      1\n",
      "330     72415      1\n",
      "\n",
      "[331 rows x 2 columns]\n",
      "---\n",
      "                                      funding_stream  count\n",
      "0  Funded, in whole or in part, with Federal TANF...   1772\n",
      "---\n",
      "                       new_applicant  count\n",
      "0     Not newly-approved application   1759\n",
      "1  Yes, a newly-approved application     13\n",
      "---\n",
      "   family_size  count\n",
      "0            2    679\n",
      "1            1    473\n",
      "2            3    369\n",
      "3            4    166\n",
      "4            5     60\n",
      "5            6     18\n",
      "6            8      3\n",
      "7            7      3\n",
      "8           10      1\n",
      "---\n",
      "                                         family_type  count\n",
      "0            Family with no work-eligible individual    898\n",
      "1  Family included only in overall work participa...    826\n",
      "2  Two-Parent Family included in both the overall...     48\n",
      "---\n",
      "       subsid_housing  count\n",
      "0  No housing subsidy   1771\n",
      "1      Public housing      1\n",
      "---\n",
      "                           medical_assist  count\n",
      "0     Does not receive Medical Assistance   1138\n",
      "1   Yes, enrolled in Medicaid and/or CHIP    634\n",
      "---\n",
      "                           food_stamps  count\n",
      "0  Yes, receives food stamp assistance   1282\n",
      "1          Does not receive food stamp    490\n",
      "---\n",
      "                                   subsid_child_care  count\n",
      "0                  No subsidized child care received   1642\n",
      "1  Yes, receives child care funded entirely or in...    130\n",
      "---\n",
      "   tanf child care_children_covered  count\n",
      "0                                 0   1772\n",
      "---\n",
      "  Other, Non-sanction  count\n",
      "0                  No   1772\n",
      "---\n",
      "                                   exempt_time_limit  count\n",
      "0   Yes, family is exempt from accrual of months ...    898\n",
      "1      Family is not exempt from Federal time limit.    872\n",
      "2  Yes, family is exempt from termination of assi...      2\n",
      "---\n",
      "                 new_child_only_fam  count\n",
      "0   No, not a new child-only family   1766\n",
      "1      Yes, a new child-only family      6\n",
      "---\n",
      "                       county  count\n",
      "0                  Washington     88\n",
      "1             Pulaski - South     86\n",
      "2                   Sebastian     82\n",
      "3                  Crittenden     78\n",
      "4             Pulaski - North     78\n",
      "5                      Miller     75\n",
      "6                   Jefferson     74\n",
      "7                      Benton     67\n",
      "8                   Craighead     62\n",
      "9                    Phillips     60\n",
      "10        Pulaski - Southwest     57\n",
      "11  Mississippi - Blytheville     55\n",
      "12     Pulaski - Jacksonville     40\n",
      "13                   Crawford     38\n",
      "14                 St Francis     36\n",
      "15                    Garland     36\n",
      "16                   Faulkner     34\n",
      "17               Independence     30\n",
      "18                      White     30\n",
      "19                     Greene     29\n",
      "20                   Poinsett     27\n",
      "21                    Jackson     24\n",
      "22                        Lee     23\n",
      "23                   Columbia     23\n",
      "24                     Ashley     22\n",
      "25                      Desha     22\n",
      "26                      Boone     22\n",
      "27                    Johnson     21\n",
      "28                     Baxter     21\n",
      "29                   Ouachita     20\n",
      "..                        ...    ...\n",
      "48              Clay - Piggot      9\n",
      "49            Monroe-Brinkley      9\n",
      "50                      Sharp      9\n",
      "51                    Madison      9\n",
      "52                   Lawrence      8\n",
      "53                   Woodruff      8\n",
      "54                 Hot Spring      8\n",
      "55                      Stone      7\n",
      "56                      Scott      7\n",
      "57                      Izard      7\n",
      "58                      Perry      7\n",
      "59                      Grant      6\n",
      "60                     Nevada      6\n",
      "61               Little River      6\n",
      "62                     Newton      6\n",
      "63         Arkansas-Stuttgart      6\n",
      "64                  Van Buren      5\n",
      "65                   Randolph      5\n",
      "66                  Cleveland      4\n",
      "67                     Dallas      4\n",
      "68                  Lafayette      4\n",
      "69                    Carroll      3\n",
      "70                     Fulton      3\n",
      "71                    Prairie      3\n",
      "72                     Searcy      3\n",
      "73                   Franklin      3\n",
      "74                       Yell      2\n",
      "75                 Montgomery      2\n",
      "76                       Pike      2\n",
      "77             Pulaski - East      1\n",
      "\n",
      "[78 rows x 2 columns]\n",
      "---\n"
     ]
    }
   ],
   "source": [
    "for c in cat2.columns:\n",
    "    print((cat2[c].value_counts().to_frame('count').rename_axis(c)).reset_index())\n",
    "    print('---')"
   ]
  },
  {
   "cell_type": "code",
   "execution_count": 12,
   "metadata": {},
   "outputs": [
    {
     "data": {
      "text/html": [
       "<div>\n",
       "<style scoped>\n",
       "    .dataframe tbody tr th:only-of-type {\n",
       "        vertical-align: middle;\n",
       "    }\n",
       "\n",
       "    .dataframe tbody tr th {\n",
       "        vertical-align: top;\n",
       "    }\n",
       "\n",
       "    .dataframe thead th {\n",
       "        text-align: right;\n",
       "    }\n",
       "</style>\n",
       "<table border=\"1\" class=\"dataframe\">\n",
       "  <thead>\n",
       "    <tr style=\"text-align: right;\">\n",
       "      <th></th>\n",
       "      <th></th>\n",
       "      <th>case_count</th>\n",
       "    </tr>\n",
       "    <tr>\n",
       "      <th>category</th>\n",
       "      <th>family_type</th>\n",
       "      <th></th>\n",
       "    </tr>\n",
       "  </thead>\n",
       "  <tbody>\n",
       "    <tr>\n",
       "      <th rowspan=\"3\" valign=\"top\">Tea</th>\n",
       "      <th>Family included only in overall work participation rate (i.e., family includes one or more workeligible individuals but does not meet definition of a twoparent family</th>\n",
       "      <td>734</td>\n",
       "    </tr>\n",
       "    <tr>\n",
       "      <th>Family with no work-eligible individual</th>\n",
       "      <td>898</td>\n",
       "    </tr>\n",
       "    <tr>\n",
       "      <th>Two-Parent Family included in both the overall and                      two-parent work participation rates (i.e., family includes                      two work-eligible parents and meets the definition of a two-parent family)</th>\n",
       "      <td>39</td>\n",
       "    </tr>\n",
       "    <tr>\n",
       "      <th rowspan=\"2\" valign=\"top\">WorkPays</th>\n",
       "      <th>Family included only in overall work participation rate (i.e., family includes one or more workeligible individuals but does not meet definition of a twoparent family</th>\n",
       "      <td>92</td>\n",
       "    </tr>\n",
       "    <tr>\n",
       "      <th>Two-Parent Family included in both the overall and                      two-parent work participation rates (i.e., family includes                      two work-eligible parents and meets the definition of a two-parent family)</th>\n",
       "      <td>9</td>\n",
       "    </tr>\n",
       "  </tbody>\n",
       "</table>\n",
       "</div>"
      ],
      "text/plain": [
       "                                                             case_count\n",
       "category family_type                                                   \n",
       "Tea      Family included only in overall work participat...         734\n",
       "         Family with no work-eligible individual                    898\n",
       "         Two-Parent Family included in both the overall ...          39\n",
       "WorkPays Family included only in overall work participat...          92\n",
       "         Two-Parent Family included in both the overall ...           9"
      ]
     },
     "execution_count": 12,
     "metadata": {},
     "output_type": "execute_result"
    }
   ],
   "source": [
    "worc_fam = df\n",
    "fam_type = worc_fam.groupby(['category','family_type']).agg({'case_number' : 'nunique'}).rename({'case_number': 'case_count'}, axis='columns')#.reset_index()\n",
    "fam_type"
   ]
  },
  {
   "cell_type": "code",
   "execution_count": null,
   "metadata": {},
   "outputs": [],
   "source": []
  },
  {
   "cell_type": "code",
   "execution_count": null,
   "metadata": {},
   "outputs": [],
   "source": []
  },
  {
   "cell_type": "code",
   "execution_count": null,
   "metadata": {},
   "outputs": [],
   "source": []
  },
  {
   "cell_type": "code",
   "execution_count": null,
   "metadata": {},
   "outputs": [],
   "source": []
  },
  {
   "cell_type": "code",
   "execution_count": null,
   "metadata": {},
   "outputs": [],
   "source": []
  }
 ],
 "metadata": {
  "kernelspec": {
   "display_name": "Python 3",
   "language": "python",
   "name": "python3"
  },
  "language_info": {
   "codemirror_mode": {
    "name": "ipython",
    "version": 3
   },
   "file_extension": ".py",
   "mimetype": "text/x-python",
   "name": "python",
   "nbconvert_exporter": "python",
   "pygments_lexer": "ipython3",
   "version": "3.6.4rc1"
  }
 },
 "nbformat": 4,
 "nbformat_minor": 2
}
