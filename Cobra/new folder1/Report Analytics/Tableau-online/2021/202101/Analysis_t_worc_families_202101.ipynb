{
 "cells": [
  {
   "cell_type": "code",
   "execution_count": 1,
   "metadata": {
    "scrolled": true
   },
   "outputs": [],
   "source": [
    "import pandas as pd\n",
    "import numpy as np\n",
    "import time\n",
    "import os\n",
    "\n",
    "t = time.localtime()\n",
    "timestamp = time.strftime('%y%m%d-%H%M', t)\n",
    "\n",
    "# read excel\n",
    "df = pd.read_excel('H://Current_Working_Folder//Reports Analytics//202101//202101-t_worc_families-20210513_1623.xlsx')\n",
    "\n",
    "# assign path and reporitng month\n",
    "drive = 'H://Current_Working_Folder//Reports Analytics//'\n",
    "reporting_month = str(df.loc[0,'reporting_month'])\n",
    "\n",
    "# Filter with column names ending with amt, amount, nbr_month\n",
    "df_amt = df.filter(regex = 'amt$|amount$|amount$|nbr_month$|nbr_months', axis='columns')\n",
    "\n",
    "# Describe the filtered dataframe\n",
    "df_des = df_amt.describe()\n",
    "\n",
    "# Write the describe to excel\n",
    "writer = pd.ExcelWriter(drive + reporting_month + '//' + reporting_month + '_' + 'report' + '-' + timestamp + '.xlsx')\n",
    "#df_des.to_excel(writer, index = False)\n",
    "df_des.to_excel(writer, sheet_name='family_stat')\n",
    "writer.save()"
   ]
  },
  {
   "cell_type": "code",
   "execution_count": 2,
   "metadata": {},
   "outputs": [],
   "source": [
    "#df.columns"
   ]
  },
  {
   "cell_type": "code",
   "execution_count": 3,
   "metadata": {},
   "outputs": [
    {
     "data": {
      "text/plain": [
       "(1809, 56)"
      ]
     },
     "execution_count": 3,
     "metadata": {},
     "output_type": "execute_result"
    }
   ],
   "source": [
    "df.shape"
   ]
  },
  {
   "cell_type": "code",
   "execution_count": 4,
   "metadata": {
    "scrolled": true
   },
   "outputs": [
    {
     "data": {
      "text/plain": [
       "No subsidized child care received    1809\n",
       "Name: subsid_child_care, dtype: int64"
      ]
     },
     "execution_count": 4,
     "metadata": {},
     "output_type": "execute_result"
    }
   ],
   "source": [
    "df['subsid_child_care'].value_counts()"
   ]
  },
  {
   "cell_type": "code",
   "execution_count": 5,
   "metadata": {},
   "outputs": [
    {
     "data": {
      "text/plain": [
       "0"
      ]
     },
     "execution_count": 5,
     "metadata": {},
     "output_type": "execute_result"
    }
   ],
   "source": [
    "df['subsid_child_care_amt'].sum()"
   ]
  },
  {
   "cell_type": "code",
   "execution_count": 6,
   "metadata": {
    "scrolled": true
   },
   "outputs": [
    {
     "data": {
      "text/plain": [
       "0    1809\n",
       "Name: tanf child care_children_covered, dtype: int64"
      ]
     },
     "execution_count": 6,
     "metadata": {},
     "output_type": "execute_result"
    }
   ],
   "source": [
    "df['tanf child care_children_covered'].value_counts()"
   ]
  },
  {
   "cell_type": "code",
   "execution_count": 7,
   "metadata": {},
   "outputs": [
    {
     "data": {
      "text/plain": [
       "0"
      ]
     },
     "execution_count": 7,
     "metadata": {},
     "output_type": "execute_result"
    }
   ],
   "source": [
    "df['tanf child care_amount'].sum()"
   ]
  },
  {
   "cell_type": "code",
   "execution_count": 8,
   "metadata": {
    "scrolled": true
   },
   "outputs": [],
   "source": [
    "cat = df.drop(df_amt, axis='columns')\n",
    "#cat1 = cat.drop((cat.loc[:,'reporting_month':'stratum']),axis='columns')\n",
    "cat1 = cat.drop(['id','reporting_month','case_number','county_fips_code','stratum','disposition','worker_id',\n",
    "                 'case_manager','area','created_by','updated_by','created_at','updated_at','ans_county',\n",
    "                 'local_office','waiver_grps'], axis='columns')\n",
    "cat2 = cat1.drop(cat1.filter(regex = '^reason|^other'), axis='columns')"
   ]
  },
  {
   "cell_type": "code",
   "execution_count": 9,
   "metadata": {
    "scrolled": true
   },
   "outputs": [
    {
     "name": "stdout",
     "output_type": "stream",
     "text": [
      "No     1568\n",
      "Yes     241\n",
      "Name: reason for amount of reduction_work requirements sanction, dtype: int64\n",
      "---\n",
      "No    1809\n",
      "Name: reason for amount of reduction_Family Sanction for an Adult with No High School Diploma or Equivalent, dtype: int64\n",
      "---\n",
      "No    1809\n",
      "Name: reason for amount of reduction_Sanction for Teen Parent not Attending School, dtype: int64\n",
      "---\n",
      "No     1729\n",
      "Yes      80\n",
      "Name: reason for amount of reduction_Non-Cooperation with Child Support, dtype: int64\n",
      "---\n",
      "No     1806\n",
      "Yes       3\n",
      "Name: reason for amount of reduction_Failure to Comply with an Individual Responsibility Plan, dtype: int64\n",
      "---\n",
      "No     1805\n",
      "Yes       4\n",
      "Name: reason for amount of reduction_Other Sanction, dtype: int64\n",
      "---\n",
      "0    1809\n",
      "Name: reason for amount of reduction_Recoupment of Prior Overpayment, dtype: int64\n",
      "---\n"
     ]
    }
   ],
   "source": [
    "reason_cat = cat1.filter(regex = '^reason', axis='columns')\n",
    "\n",
    "for c in reason_cat.columns:\n",
    "    print(reason_cat[c].value_counts())\n",
    "    print('---')\n"
   ]
  },
  {
   "cell_type": "code",
   "execution_count": 10,
   "metadata": {},
   "outputs": [],
   "source": [
    "#((df.filter(regex = '^reason'))).head(20)"
   ]
  },
  {
   "cell_type": "code",
   "execution_count": 11,
   "metadata": {
    "scrolled": false
   },
   "outputs": [
    {
     "name": "stdout",
     "output_type": "stream",
     "text": [
      "   category  count\n",
      "0       Tea   1698\n",
      "1  WorkPays    111\n",
      "---\n",
      "     zip_code  count\n",
      "0       71854     68\n",
      "1       72301     53\n",
      "2       72209     49\n",
      "3       72401     40\n",
      "4       72390     36\n",
      "5       72204     33\n",
      "6       72114     33\n",
      "7       71601     31\n",
      "8       72335     31\n",
      "9       72315     31\n",
      "10      72764     27\n",
      "11      72076     27\n",
      "12      72904     25\n",
      "13      71603     24\n",
      "14      72956     24\n",
      "15      72143     22\n",
      "16      72117     22\n",
      "17      72901     22\n",
      "18      72450     21\n",
      "19      72112     21\n",
      "20      72360     20\n",
      "21      72601     19\n",
      "22      72206     18\n",
      "23      72501     18\n",
      "24      71901     18\n",
      "25      72370     17\n",
      "26      71671     17\n",
      "27      72701     16\n",
      "28      72342     16\n",
      "29      72830     15\n",
      "..        ...    ...\n",
      "295     72651      1\n",
      "296     72654      1\n",
      "297     72705      1\n",
      "298     72107      1\n",
      "299     72645      1\n",
      "300     72106      1\n",
      "301     72722      1\n",
      "302     72727      1\n",
      "303     72730      1\n",
      "304     72411      1\n",
      "305     72080      1\n",
      "306     72125      1\n",
      "307     72127      1\n",
      "308     72576      1\n",
      "309     72626      1\n",
      "310     72584      1\n",
      "311     72602      1\n",
      "312     72180      1\n",
      "313     72616      1\n",
      "314     72623      1\n",
      "315     72168      1\n",
      "316     72153      1\n",
      "317     72130      1\n",
      "318     72633      1\n",
      "319     72145      1\n",
      "320     72638      1\n",
      "321     72137      1\n",
      "322     72135      1\n",
      "323     72642      1\n",
      "324     71675      1\n",
      "\n",
      "[325 rows x 2 columns]\n",
      "---\n",
      "                                      funding_stream  count\n",
      "0  Funded, in whole or in part, with Federal TANF...   1809\n",
      "---\n",
      "                    new_applicant  count\n",
      "0  Not newly-approved application   1809\n",
      "---\n",
      "   family_size  count\n",
      "0            2    691\n",
      "1            1    476\n",
      "2            3    373\n",
      "3            4    180\n",
      "4            5     65\n",
      "5            6     17\n",
      "6            8      3\n",
      "7            7      3\n",
      "8           11      1\n",
      "---\n",
      "                                         family_type  count\n",
      "0            Family with no work-eligible individual    910\n",
      "1  Family included only in overall work participa...    852\n",
      "2  Two-Parent Family included in both the overall...     47\n",
      "---\n",
      "       subsid_housing  count\n",
      "0  No housing subsidy   1808\n",
      "1      Public housing      1\n",
      "---\n",
      "                           medical_assist  count\n",
      "0     Does not receive Medical Assistance   1149\n",
      "1   Yes, enrolled in Medicaid and/or CHIP    660\n",
      "---\n",
      "                           food_stamps  count\n",
      "0  Yes, receives food stamp assistance   1226\n",
      "1          Does not receive food stamp    583\n",
      "---\n",
      "                   subsid_child_care  count\n",
      "0  No subsidized child care received   1809\n",
      "---\n",
      "   tanf child care_children_covered  count\n",
      "0                                 0   1809\n",
      "---\n",
      "  Other, Non-sanction  count\n",
      "0                  No   1809\n",
      "---\n",
      "                                   exempt_time_limit  count\n",
      "0   Yes, family is exempt from accrual of months ...    910\n",
      "1      Family is not exempt from Federal time limit.    897\n",
      "2  Yes, family is exempt from termination of assi...      2\n",
      "---\n",
      "                 new_child_only_fam  count\n",
      "0   No, not a new child-only family   1809\n",
      "---\n",
      "                       county  count\n",
      "0                  Washington     91\n",
      "1             Pulaski - South     84\n",
      "2                  Crittenden     82\n",
      "3                      Miller     78\n",
      "4             Pulaski - North     77\n",
      "5                   Sebastian     76\n",
      "6                   Jefferson     73\n",
      "7                      Benton     70\n",
      "8                   Craighead     67\n",
      "9                    Phillips     63\n",
      "10        Pulaski - Southwest     59\n",
      "11  Mississippi - Blytheville     55\n",
      "12                      White     38\n",
      "13                   Crawford     38\n",
      "14                    Garland     37\n",
      "15     Pulaski - Jacksonville     35\n",
      "16                 St Francis     35\n",
      "17               Independence     32\n",
      "18                   Poinsett     30\n",
      "19                   Faulkner     30\n",
      "20                     Greene     27\n",
      "21                     Baxter     24\n",
      "22                      Desha     23\n",
      "23                    Jackson     23\n",
      "24                    Johnson     22\n",
      "25                     Ashley     22\n",
      "26                      Boone     22\n",
      "27                        Lee     21\n",
      "28                   Columbia     21\n",
      "29                   Ouachita     21\n",
      "..                        ...    ...\n",
      "49                     Howard     10\n",
      "50                   Lawrence      9\n",
      "51                    Lincoln      9\n",
      "52                    Madison      9\n",
      "53                      Izard      9\n",
      "54         Arkansas-Stuttgart      8\n",
      "55                 Hot Spring      8\n",
      "56              Clay - Piggot      8\n",
      "57                     Nevada      7\n",
      "58                      Scott      7\n",
      "59                      Perry      7\n",
      "60               Little River      7\n",
      "61                     Newton      6\n",
      "62                  Van Buren      6\n",
      "63                      Stone      6\n",
      "64                      Grant      6\n",
      "65                  Lafayette      5\n",
      "66                   Randolph      5\n",
      "67                     Dallas      4\n",
      "68                     Searcy      4\n",
      "69                     Fulton      3\n",
      "70                    Prairie      3\n",
      "71                 Montgomery      3\n",
      "72                    Carroll      3\n",
      "73                  Cleveland      3\n",
      "74                       Yell      2\n",
      "75                   Franklin      2\n",
      "76                       Pike      2\n",
      "77                    Calhoun      1\n",
      "78             Pulaski - East      1\n",
      "\n",
      "[79 rows x 2 columns]\n",
      "---\n"
     ]
    }
   ],
   "source": [
    "for c in cat2.columns:\n",
    "    print((cat2[c].value_counts().to_frame('count').rename_axis(c)).reset_index())\n",
    "    print('---')"
   ]
  },
  {
   "cell_type": "code",
   "execution_count": 12,
   "metadata": {},
   "outputs": [
    {
     "data": {
      "text/html": [
       "<div>\n",
       "<style scoped>\n",
       "    .dataframe tbody tr th:only-of-type {\n",
       "        vertical-align: middle;\n",
       "    }\n",
       "\n",
       "    .dataframe tbody tr th {\n",
       "        vertical-align: top;\n",
       "    }\n",
       "\n",
       "    .dataframe thead th {\n",
       "        text-align: right;\n",
       "    }\n",
       "</style>\n",
       "<table border=\"1\" class=\"dataframe\">\n",
       "  <thead>\n",
       "    <tr style=\"text-align: right;\">\n",
       "      <th></th>\n",
       "      <th></th>\n",
       "      <th>case_count</th>\n",
       "    </tr>\n",
       "    <tr>\n",
       "      <th>category</th>\n",
       "      <th>family_type</th>\n",
       "      <th></th>\n",
       "    </tr>\n",
       "  </thead>\n",
       "  <tbody>\n",
       "    <tr>\n",
       "      <th rowspan=\"3\" valign=\"top\">Tea</th>\n",
       "      <th>Family included only in overall work participation rate (i.e., family includes one or more workeligible individuals but does not meet definition of a twoparent family</th>\n",
       "      <td>749</td>\n",
       "    </tr>\n",
       "    <tr>\n",
       "      <th>Family with no work-eligible individual</th>\n",
       "      <td>910</td>\n",
       "    </tr>\n",
       "    <tr>\n",
       "      <th>Two-Parent Family included in both the overall and                      two-parent work participation rates (i.e., family includes                      two work-eligible parents and meets the definition of a two-parent family)</th>\n",
       "      <td>39</td>\n",
       "    </tr>\n",
       "    <tr>\n",
       "      <th rowspan=\"2\" valign=\"top\">WorkPays</th>\n",
       "      <th>Family included only in overall work participation rate (i.e., family includes one or more workeligible individuals but does not meet definition of a twoparent family</th>\n",
       "      <td>103</td>\n",
       "    </tr>\n",
       "    <tr>\n",
       "      <th>Two-Parent Family included in both the overall and                      two-parent work participation rates (i.e., family includes                      two work-eligible parents and meets the definition of a two-parent family)</th>\n",
       "      <td>8</td>\n",
       "    </tr>\n",
       "  </tbody>\n",
       "</table>\n",
       "</div>"
      ],
      "text/plain": [
       "                                                             case_count\n",
       "category family_type                                                   \n",
       "Tea      Family included only in overall work participat...         749\n",
       "         Family with no work-eligible individual                    910\n",
       "         Two-Parent Family included in both the overall ...          39\n",
       "WorkPays Family included only in overall work participat...         103\n",
       "         Two-Parent Family included in both the overall ...           8"
      ]
     },
     "execution_count": 12,
     "metadata": {},
     "output_type": "execute_result"
    }
   ],
   "source": [
    "worc_fam = df\n",
    "fam_type = worc_fam.groupby(['category','family_type']).agg({'case_number' : 'nunique'}).rename({'case_number': 'case_count'}, axis='columns')#.reset_index()\n",
    "fam_type"
   ]
  },
  {
   "cell_type": "code",
   "execution_count": null,
   "metadata": {},
   "outputs": [],
   "source": []
  },
  {
   "cell_type": "code",
   "execution_count": null,
   "metadata": {},
   "outputs": [],
   "source": []
  },
  {
   "cell_type": "code",
   "execution_count": null,
   "metadata": {},
   "outputs": [],
   "source": []
  },
  {
   "cell_type": "code",
   "execution_count": null,
   "metadata": {},
   "outputs": [],
   "source": []
  },
  {
   "cell_type": "code",
   "execution_count": null,
   "metadata": {},
   "outputs": [],
   "source": []
  }
 ],
 "metadata": {
  "kernelspec": {
   "display_name": "Python 3",
   "language": "python",
   "name": "python3"
  },
  "language_info": {
   "codemirror_mode": {
    "name": "ipython",
    "version": 3
   },
   "file_extension": ".py",
   "mimetype": "text/x-python",
   "name": "python",
   "nbconvert_exporter": "python",
   "pygments_lexer": "ipython3",
   "version": "3.6.4rc1"
  }
 },
 "nbformat": 4,
 "nbformat_minor": 2
}
