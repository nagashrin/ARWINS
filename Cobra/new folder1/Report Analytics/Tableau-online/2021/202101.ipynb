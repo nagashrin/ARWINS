{
 "cells": [
  {
   "cell_type": "code",
   "execution_count": 2,
   "metadata": {},
   "outputs": [],
   "source": [
    "import pandas as pd\n",
    "import numpy as np\n",
    "import os"
   ]
  },
  {
   "cell_type": "code",
   "execution_count": 4,
   "metadata": {},
   "outputs": [],
   "source": [
    "os.chdir('H://Current_Working_Folder//Reports Analytics//202101')"
   ]
  },
  {
   "cell_type": "code",
   "execution_count": 7,
   "metadata": {},
   "outputs": [
    {
     "data": {
      "text/plain": [
       "['202101-t_worc_adults-20210420_1049.xlsx',\n",
       " '202101-t_worc_children-20210420_1049.xlsx',\n",
       " '202101-t_worc_families-20210420_1049.xlsx',\n",
       " 'adult_test.xlsx',\n",
       " 'child_test.xlsx',\n",
       " 'fam_test.xlsx',\n",
       " 't_worc_adults.csv',\n",
       " 't_worc_children.csv',\n",
       " 't_worc_families.csv',\n",
       " '~$202101-t_worc_families-20210420_1049.xlsx',\n",
       " '~$fam_test.xlsx']"
      ]
     },
     "execution_count": 7,
     "metadata": {},
     "output_type": "execute_result"
    }
   ],
   "source": [
    "os.listdir()"
   ]
  },
  {
   "cell_type": "code",
   "execution_count": 29,
   "metadata": {},
   "outputs": [],
   "source": [
    "fam = pd.read_excel('fam_test.xlsx')\n",
    "fam = pd.DataFrame(fam)\n",
    "adu = pd.read_excel('adult_test.xlsx')\n",
    "adu = pd.DataFrame(adu)\n",
    "chi = pd.read_excel( 'child_test.xlsx')\n",
    "chi = pd.DataFrame(chi)"
   ]
  },
  {
   "cell_type": "code",
   "execution_count": 30,
   "metadata": {},
   "outputs": [],
   "source": [
    "fam_adu_chi = pd.concat([fam,adu,chi],axis = 1)"
   ]
  },
  {
   "cell_type": "code",
   "execution_count": 31,
   "metadata": {},
   "outputs": [
    {
     "data": {
      "text/html": [
       "<div>\n",
       "<style scoped>\n",
       "    .dataframe tbody tr th:only-of-type {\n",
       "        vertical-align: middle;\n",
       "    }\n",
       "\n",
       "    .dataframe tbody tr th {\n",
       "        vertical-align: top;\n",
       "    }\n",
       "\n",
       "    .dataframe thead th {\n",
       "        text-align: right;\n",
       "    }\n",
       "</style>\n",
       "<table border=\"1\" class=\"dataframe\">\n",
       "  <thead>\n",
       "    <tr style=\"text-align: right;\">\n",
       "      <th></th>\n",
       "      <th>id</th>\n",
       "      <th>category</th>\n",
       "      <th>reporting_month</th>\n",
       "      <th>case_number</th>\n",
       "      <th>family_type</th>\n",
       "      <th>exempt_time_limit</th>\n",
       "      <th>id</th>\n",
       "      <th>reporting_month</th>\n",
       "      <th>case_number</th>\n",
       "      <th>family_affiliation</th>\n",
       "      <th>relation_to_hoh</th>\n",
       "      <th>exemp_state_limit</th>\n",
       "      <th>work_elig_ind</th>\n",
       "      <th>work_partic_status</th>\n",
       "      <th>id</th>\n",
       "      <th>reporting_month</th>\n",
       "      <th>case_number</th>\n",
       "      <th>family_affiliation</th>\n",
       "      <th>relation_to_hoh</th>\n",
       "      <th>parent_minor_child</th>\n",
       "    </tr>\n",
       "  </thead>\n",
       "  <tbody>\n",
       "    <tr>\n",
       "      <th>0</th>\n",
       "      <td>489620.0</td>\n",
       "      <td>Tea</td>\n",
       "      <td>202101.0</td>\n",
       "      <td>329790.0</td>\n",
       "      <td>Family with no work-eligible individual</td>\n",
       "      <td>Yes, family is exempt from accrual of months ...</td>\n",
       "      <td>494706.0</td>\n",
       "      <td>202101.0</td>\n",
       "      <td>329790.0</td>\n",
       "      <td>Caretaker relative of minor child in the eligi...</td>\n",
       "      <td>Head-of-household</td>\n",
       "      <td>Not applicable, no State (Tribal) time limit</td>\n",
       "      <td>No, an ineligible non-citizen due to his/her i...</td>\n",
       "      <td>Not applicable (e.g., not a work-eligible indi...</td>\n",
       "      <td>827065</td>\n",
       "      <td>202101</td>\n",
       "      <td>329790</td>\n",
       "      <td>Member of the eligible family receiving assist...</td>\n",
       "      <td>Grandchild or great grandchild</td>\n",
       "      <td>Not parent with minor child in the family</td>\n",
       "    </tr>\n",
       "    <tr>\n",
       "      <th>1</th>\n",
       "      <td>NaN</td>\n",
       "      <td>NaN</td>\n",
       "      <td>NaN</td>\n",
       "      <td>NaN</td>\n",
       "      <td>NaN</td>\n",
       "      <td>NaN</td>\n",
       "      <td>NaN</td>\n",
       "      <td>NaN</td>\n",
       "      <td>NaN</td>\n",
       "      <td>NaN</td>\n",
       "      <td>NaN</td>\n",
       "      <td>NaN</td>\n",
       "      <td>NaN</td>\n",
       "      <td>NaN</td>\n",
       "      <td>827066</td>\n",
       "      <td>202101</td>\n",
       "      <td>329790</td>\n",
       "      <td>Member of the eligible family receiving assist...</td>\n",
       "      <td>Grandchild or great grandchild</td>\n",
       "      <td>Yes parent with minor child in the family</td>\n",
       "    </tr>\n",
       "  </tbody>\n",
       "</table>\n",
       "</div>"
      ],
      "text/plain": [
       "         id category  reporting_month  case_number  \\\n",
       "0  489620.0      Tea         202101.0     329790.0   \n",
       "1       NaN      NaN              NaN          NaN   \n",
       "\n",
       "                               family_type  \\\n",
       "0  Family with no work-eligible individual   \n",
       "1                                      NaN   \n",
       "\n",
       "                                   exempt_time_limit        id  \\\n",
       "0   Yes, family is exempt from accrual of months ...  494706.0   \n",
       "1                                                NaN       NaN   \n",
       "\n",
       "   reporting_month  case_number  \\\n",
       "0         202101.0     329790.0   \n",
       "1              NaN          NaN   \n",
       "\n",
       "                                  family_affiliation    relation_to_hoh  \\\n",
       "0  Caretaker relative of minor child in the eligi...  Head-of-household   \n",
       "1                                                NaN                NaN   \n",
       "\n",
       "                              exemp_state_limit  \\\n",
       "0  Not applicable, no State (Tribal) time limit   \n",
       "1                                           NaN   \n",
       "\n",
       "                                       work_elig_ind  \\\n",
       "0  No, an ineligible non-citizen due to his/her i...   \n",
       "1                                                NaN   \n",
       "\n",
       "                                  work_partic_status      id  reporting_month  \\\n",
       "0  Not applicable (e.g., not a work-eligible indi...  827065           202101   \n",
       "1                                                NaN  827066           202101   \n",
       "\n",
       "   case_number                                 family_affiliation  \\\n",
       "0       329790  Member of the eligible family receiving assist...   \n",
       "1       329790  Member of the eligible family receiving assist...   \n",
       "\n",
       "                  relation_to_hoh                         parent_minor_child  \n",
       "0  Grandchild or great grandchild  Not parent with minor child in the family  \n",
       "1  Grandchild or great grandchild  Yes parent with minor child in the family  "
      ]
     },
     "execution_count": 31,
     "metadata": {},
     "output_type": "execute_result"
    }
   ],
   "source": [
    "fam_adu_chi"
   ]
  },
  {
   "cell_type": "code",
   "execution_count": null,
   "metadata": {},
   "outputs": [],
   "source": [
    "result = pd.concat([df1, df4], axis=1)"
   ]
  },
  {
   "cell_type": "code",
   "execution_count": 16,
   "metadata": {},
   "outputs": [
    {
     "data": {
      "text/plain": [
       "(1, 6)"
      ]
     },
     "execution_count": 16,
     "metadata": {},
     "output_type": "execute_result"
    }
   ],
   "source": [
    "fam.shape"
   ]
  },
  {
   "cell_type": "code",
   "execution_count": 17,
   "metadata": {},
   "outputs": [
    {
     "data": {
      "text/plain": [
       "(1, 8)"
      ]
     },
     "execution_count": 17,
     "metadata": {},
     "output_type": "execute_result"
    }
   ],
   "source": [
    "adu.shape"
   ]
  },
  {
   "cell_type": "code",
   "execution_count": 24,
   "metadata": {},
   "outputs": [
    {
     "data": {
      "text/plain": [
       "(1, 6)"
      ]
     },
     "execution_count": 24,
     "metadata": {},
     "output_type": "execute_result"
    }
   ],
   "source": [
    "chi.shape"
   ]
  },
  {
   "cell_type": "code",
   "execution_count": 19,
   "metadata": {},
   "outputs": [
    {
     "data": {
      "text/plain": [
       "(1, 12)"
      ]
     },
     "execution_count": 19,
     "metadata": {},
     "output_type": "execute_result"
    }
   ],
   "source": [
    "fam_adu.shape"
   ]
  },
  {
   "cell_type": "code",
   "execution_count": 25,
   "metadata": {},
   "outputs": [
    {
     "data": {
      "text/plain": [
       "(1, 16)"
      ]
     },
     "execution_count": 25,
     "metadata": {},
     "output_type": "execute_result"
    }
   ],
   "source": [
    "fam_adu_chi.shape"
   ]
  },
  {
   "cell_type": "code",
   "execution_count": null,
   "metadata": {},
   "outputs": [],
   "source": []
  }
 ],
 "metadata": {
  "kernelspec": {
   "display_name": "Python 3",
   "language": "python",
   "name": "python3"
  },
  "language_info": {
   "codemirror_mode": {
    "name": "ipython",
    "version": 3
   },
   "file_extension": ".py",
   "mimetype": "text/x-python",
   "name": "python",
   "nbconvert_exporter": "python",
   "pygments_lexer": "ipython3",
   "version": "3.6.4rc1"
  }
 },
 "nbformat": 4,
 "nbformat_minor": 2
}
