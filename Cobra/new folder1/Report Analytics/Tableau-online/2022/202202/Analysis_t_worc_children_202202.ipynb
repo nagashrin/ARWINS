{
 "cells": [
  {
   "cell_type": "code",
   "execution_count": 1,
   "metadata": {},
   "outputs": [],
   "source": [
    "import pandas as pd\n",
    "import numpy as np\n",
    "import os"
   ]
  },
  {
   "cell_type": "code",
   "execution_count": 2,
   "metadata": {},
   "outputs": [],
   "source": [
    "#children = adult = pd.read_excel('S://TANF Reports//Reports Analytics//202112//202112-t_worc_children-20220215_1356.xlsx')\n",
    "children = adult = pd.read_excel('S://TANF Reports//!TANF Federal Reports//202202//WORC//Version3//202202-t_worc_children-20220504_1003.xlsx')"
   ]
  },
  {
   "cell_type": "code",
   "execution_count": 3,
   "metadata": {},
   "outputs": [],
   "source": [
    "children['reporting_month'] = pd.to_datetime(children['reporting_month'].\n",
    "                                             apply(lambda x: f\"{x}01\").\n",
    "                                             astype(str), infer_datetime_format=True)\n",
    "\n",
    "children['dob'] = pd.to_datetime(children['dob'].astype(str), infer_datetime_format=True)\n",
    "\n",
    "children['age'] = np.floor((children['reporting_month'] - children['dob'])/np.timedelta64(1,'Y'))"
   ]
  },
  {
   "cell_type": "code",
   "execution_count": 4,
   "metadata": {},
   "outputs": [
    {
     "data": {
      "text/plain": [
       "(2185, 26)"
      ]
     },
     "execution_count": 4,
     "metadata": {},
     "output_type": "execute_result"
    }
   ],
   "source": [
    "children.shape"
   ]
  },
  {
   "cell_type": "code",
   "execution_count": 5,
   "metadata": {
    "scrolled": false
   },
   "outputs": [
    {
     "data": {
      "text/plain": [
       "Not parent with minor child in the family                                                        2183\n",
       "Yes, a parent with a minor child in the family, but not used in two-parent participation rate       2\n",
       "Name: parent_minor_child, dtype: int64"
      ]
     },
     "execution_count": 5,
     "metadata": {},
     "output_type": "execute_result"
    }
   ],
   "source": [
    "children['parent_minor_child'].value_counts()"
   ]
  },
  {
   "cell_type": "code",
   "execution_count": 6,
   "metadata": {
    "scrolled": true
   },
   "outputs": [
    {
     "data": {
      "text/html": [
       "<div>\n",
       "<style scoped>\n",
       "    .dataframe tbody tr th:only-of-type {\n",
       "        vertical-align: middle;\n",
       "    }\n",
       "\n",
       "    .dataframe tbody tr th {\n",
       "        vertical-align: top;\n",
       "    }\n",
       "\n",
       "    .dataframe thead tr th {\n",
       "        text-align: left;\n",
       "    }\n",
       "</style>\n",
       "<table border=\"1\" class=\"dataframe\">\n",
       "  <thead>\n",
       "    <tr>\n",
       "      <th>age</th>\n",
       "      <th>-1.0</th>\n",
       "      <th>0.0</th>\n",
       "      <th>1.0</th>\n",
       "      <th>2.0</th>\n",
       "      <th>3.0</th>\n",
       "      <th>4.0</th>\n",
       "      <th>5.0</th>\n",
       "      <th>6.0</th>\n",
       "      <th>7.0</th>\n",
       "      <th>8.0</th>\n",
       "      <th>...</th>\n",
       "      <th>10.0</th>\n",
       "      <th>11.0</th>\n",
       "      <th>12.0</th>\n",
       "      <th>13.0</th>\n",
       "      <th colspan=\"2\" halign=\"left\">14.0</th>\n",
       "      <th>15.0</th>\n",
       "      <th>16.0</th>\n",
       "      <th colspan=\"2\" halign=\"left\">17.0</th>\n",
       "    </tr>\n",
       "    <tr>\n",
       "      <th>parent_minor_child</th>\n",
       "      <th>Not parent with minor child in the family</th>\n",
       "      <th>Not parent with minor child in the family</th>\n",
       "      <th>Not parent with minor child in the family</th>\n",
       "      <th>Not parent with minor child in the family</th>\n",
       "      <th>Not parent with minor child in the family</th>\n",
       "      <th>Not parent with minor child in the family</th>\n",
       "      <th>Not parent with minor child in the family</th>\n",
       "      <th>Not parent with minor child in the family</th>\n",
       "      <th>Not parent with minor child in the family</th>\n",
       "      <th>Not parent with minor child in the family</th>\n",
       "      <th>...</th>\n",
       "      <th>Not parent with minor child in the family</th>\n",
       "      <th>Not parent with minor child in the family</th>\n",
       "      <th>Not parent with minor child in the family</th>\n",
       "      <th>Not parent with minor child in the family</th>\n",
       "      <th>Not parent with minor child in the family</th>\n",
       "      <th>Yes, a parent with a minor child in the family, but not used in two-parent participation rate</th>\n",
       "      <th>Not parent with minor child in the family</th>\n",
       "      <th>Not parent with minor child in the family</th>\n",
       "      <th>Not parent with minor child in the family</th>\n",
       "      <th>Yes, a parent with a minor child in the family, but not used in two-parent participation rate</th>\n",
       "    </tr>\n",
       "  </thead>\n",
       "  <tbody>\n",
       "    <tr>\n",
       "      <th>count</th>\n",
       "      <td>1</td>\n",
       "      <td>90</td>\n",
       "      <td>101</td>\n",
       "      <td>137</td>\n",
       "      <td>143</td>\n",
       "      <td>146</td>\n",
       "      <td>133</td>\n",
       "      <td>125</td>\n",
       "      <td>118</td>\n",
       "      <td>132</td>\n",
       "      <td>...</td>\n",
       "      <td>124</td>\n",
       "      <td>111</td>\n",
       "      <td>124</td>\n",
       "      <td>144</td>\n",
       "      <td>133</td>\n",
       "      <td>1</td>\n",
       "      <td>113</td>\n",
       "      <td>106</td>\n",
       "      <td>78</td>\n",
       "      <td>1</td>\n",
       "    </tr>\n",
       "  </tbody>\n",
       "</table>\n",
       "<p>1 rows × 21 columns</p>\n",
       "</div>"
      ],
      "text/plain": [
       "age                                                    -1.0   \\\n",
       "parent_minor_child Not parent with minor child in the family   \n",
       "count                                                      1   \n",
       "\n",
       "age                                                     0.0   \\\n",
       "parent_minor_child Not parent with minor child in the family   \n",
       "count                                                     90   \n",
       "\n",
       "age                                                     1.0   \\\n",
       "parent_minor_child Not parent with minor child in the family   \n",
       "count                                                    101   \n",
       "\n",
       "age                                                     2.0   \\\n",
       "parent_minor_child Not parent with minor child in the family   \n",
       "count                                                    137   \n",
       "\n",
       "age                                                     3.0   \\\n",
       "parent_minor_child Not parent with minor child in the family   \n",
       "count                                                    143   \n",
       "\n",
       "age                                                     4.0   \\\n",
       "parent_minor_child Not parent with minor child in the family   \n",
       "count                                                    146   \n",
       "\n",
       "age                                                     5.0   \\\n",
       "parent_minor_child Not parent with minor child in the family   \n",
       "count                                                    133   \n",
       "\n",
       "age                                                     6.0   \\\n",
       "parent_minor_child Not parent with minor child in the family   \n",
       "count                                                    125   \n",
       "\n",
       "age                                                     7.0   \\\n",
       "parent_minor_child Not parent with minor child in the family   \n",
       "count                                                    118   \n",
       "\n",
       "age                                                     8.0   ...  \\\n",
       "parent_minor_child Not parent with minor child in the family  ...   \n",
       "count                                                    132  ...   \n",
       "\n",
       "age                                                     10.0  \\\n",
       "parent_minor_child Not parent with minor child in the family   \n",
       "count                                                    124   \n",
       "\n",
       "age                                                     11.0  \\\n",
       "parent_minor_child Not parent with minor child in the family   \n",
       "count                                                    111   \n",
       "\n",
       "age                                                     12.0  \\\n",
       "parent_minor_child Not parent with minor child in the family   \n",
       "count                                                    124   \n",
       "\n",
       "age                                                     13.0  \\\n",
       "parent_minor_child Not parent with minor child in the family   \n",
       "count                                                    144   \n",
       "\n",
       "age                                                     14.0  \\\n",
       "parent_minor_child Not parent with minor child in the family   \n",
       "count                                                    133   \n",
       "\n",
       "age                                                                                                               \\\n",
       "parent_minor_child Yes, a parent with a minor child in the family, but not used in two-parent participation rate   \n",
       "count                                                               1                                              \n",
       "\n",
       "age                                                     15.0  \\\n",
       "parent_minor_child Not parent with minor child in the family   \n",
       "count                                                    113   \n",
       "\n",
       "age                                                     16.0  \\\n",
       "parent_minor_child Not parent with minor child in the family   \n",
       "count                                                    106   \n",
       "\n",
       "age                                                     17.0  \\\n",
       "parent_minor_child Not parent with minor child in the family   \n",
       "count                                                     78   \n",
       "\n",
       "age                                                                                                               \n",
       "parent_minor_child Yes, a parent with a minor child in the family, but not used in two-parent participation rate  \n",
       "count                                                               1                                             \n",
       "\n",
       "[1 rows x 21 columns]"
      ]
     },
     "execution_count": 6,
     "metadata": {},
     "output_type": "execute_result"
    }
   ],
   "source": [
    "children.groupby(children['age']).agg({'parent_minor_child':'value_counts'}).rename({'parent_minor_child':'count'}, axis='columns').T"
   ]
  },
  {
   "cell_type": "code",
   "execution_count": 7,
   "metadata": {},
   "outputs": [
    {
     "data": {
      "text/html": [
       "<div>\n",
       "<style scoped>\n",
       "    .dataframe tbody tr th:only-of-type {\n",
       "        vertical-align: middle;\n",
       "    }\n",
       "\n",
       "    .dataframe tbody tr th {\n",
       "        vertical-align: top;\n",
       "    }\n",
       "\n",
       "    .dataframe thead th {\n",
       "        text-align: right;\n",
       "    }\n",
       "</style>\n",
       "<table border=\"1\" class=\"dataframe\">\n",
       "  <thead>\n",
       "    <tr style=\"text-align: right;\">\n",
       "      <th></th>\n",
       "      <th>case_number</th>\n",
       "      <th>age</th>\n",
       "      <th>parent_minor_child</th>\n",
       "    </tr>\n",
       "  </thead>\n",
       "  <tbody>\n",
       "    <tr>\n",
       "      <th>0</th>\n",
       "      <td>100244862</td>\n",
       "      <td>14.0</td>\n",
       "      <td>Yes, a parent with a minor child in the family...</td>\n",
       "    </tr>\n",
       "    <tr>\n",
       "      <th>1</th>\n",
       "      <td>9004467</td>\n",
       "      <td>17.0</td>\n",
       "      <td>Yes, a parent with a minor child in the family...</td>\n",
       "    </tr>\n",
       "  </tbody>\n",
       "</table>\n",
       "</div>"
      ],
      "text/plain": [
       "   case_number   age                                 parent_minor_child\n",
       "0    100244862  14.0  Yes, a parent with a minor child in the family...\n",
       "1      9004467  17.0  Yes, a parent with a minor child in the family..."
      ]
     },
     "execution_count": 7,
     "metadata": {},
     "output_type": "execute_result"
    }
   ],
   "source": [
    "k = children.loc[children['parent_minor_child']==\"Yes, a parent with a minor child in the family, but not used in two-parent participation rate\",('case_number','age','parent_minor_child')]\n",
    "k = pd.DataFrame(k)\n",
    "\n",
    "l = children.loc[children['parent_minor_child']==\"Yes, a parent with a minor child in the family and used in two-parent participation rate\",('case_number','age','parent_minor_child')]\n",
    "l = pd.DataFrame(l)\n",
    "\n",
    "# Append dataframes one below the other using concat\n",
    "df1 = pd.concat([k,l],ignore_index=True)\n",
    "df1"
   ]
  },
  {
   "cell_type": "code",
   "execution_count": 8,
   "metadata": {},
   "outputs": [
    {
     "name": "stdout",
     "output_type": "stream",
     "text": [
      "2\n",
      "(2, 3)\n"
     ]
    }
   ],
   "source": [
    "cn = df1['case_number'].nunique()\n",
    "print(cn) #number of unique cases\n",
    "print(df1.shape) #total number of parent with minor child instances"
   ]
  },
  {
   "cell_type": "code",
   "execution_count": 9,
   "metadata": {},
   "outputs": [
    {
     "data": {
      "text/html": [
       "<div>\n",
       "<style scoped>\n",
       "    .dataframe tbody tr th:only-of-type {\n",
       "        vertical-align: middle;\n",
       "    }\n",
       "\n",
       "    .dataframe tbody tr th {\n",
       "        vertical-align: top;\n",
       "    }\n",
       "\n",
       "    .dataframe thead th {\n",
       "        text-align: right;\n",
       "    }\n",
       "</style>\n",
       "<table border=\"1\" class=\"dataframe\">\n",
       "  <thead>\n",
       "    <tr style=\"text-align: right;\">\n",
       "      <th></th>\n",
       "      <th></th>\n",
       "      <th></th>\n",
       "      <th>count</th>\n",
       "    </tr>\n",
       "    <tr>\n",
       "      <th>family_affiliation</th>\n",
       "      <th>age</th>\n",
       "      <th>parent_minor_child</th>\n",
       "      <th></th>\n",
       "    </tr>\n",
       "  </thead>\n",
       "  <tbody>\n",
       "    <tr>\n",
       "      <th rowspan=\"21\" valign=\"top\">Member of the eligible family receiving assistance</th>\n",
       "      <th>-1.0</th>\n",
       "      <th>Not parent with minor child in the family</th>\n",
       "      <td>1</td>\n",
       "    </tr>\n",
       "    <tr>\n",
       "      <th>0.0</th>\n",
       "      <th>Not parent with minor child in the family</th>\n",
       "      <td>88</td>\n",
       "    </tr>\n",
       "    <tr>\n",
       "      <th>1.0</th>\n",
       "      <th>Not parent with minor child in the family</th>\n",
       "      <td>101</td>\n",
       "    </tr>\n",
       "    <tr>\n",
       "      <th>2.0</th>\n",
       "      <th>Not parent with minor child in the family</th>\n",
       "      <td>137</td>\n",
       "    </tr>\n",
       "    <tr>\n",
       "      <th>3.0</th>\n",
       "      <th>Not parent with minor child in the family</th>\n",
       "      <td>142</td>\n",
       "    </tr>\n",
       "    <tr>\n",
       "      <th>4.0</th>\n",
       "      <th>Not parent with minor child in the family</th>\n",
       "      <td>145</td>\n",
       "    </tr>\n",
       "    <tr>\n",
       "      <th>5.0</th>\n",
       "      <th>Not parent with minor child in the family</th>\n",
       "      <td>133</td>\n",
       "    </tr>\n",
       "    <tr>\n",
       "      <th>6.0</th>\n",
       "      <th>Not parent with minor child in the family</th>\n",
       "      <td>125</td>\n",
       "    </tr>\n",
       "    <tr>\n",
       "      <th>7.0</th>\n",
       "      <th>Not parent with minor child in the family</th>\n",
       "      <td>117</td>\n",
       "    </tr>\n",
       "    <tr>\n",
       "      <th>8.0</th>\n",
       "      <th>Not parent with minor child in the family</th>\n",
       "      <td>131</td>\n",
       "    </tr>\n",
       "    <tr>\n",
       "      <th>9.0</th>\n",
       "      <th>Not parent with minor child in the family</th>\n",
       "      <td>122</td>\n",
       "    </tr>\n",
       "    <tr>\n",
       "      <th>10.0</th>\n",
       "      <th>Not parent with minor child in the family</th>\n",
       "      <td>124</td>\n",
       "    </tr>\n",
       "    <tr>\n",
       "      <th>11.0</th>\n",
       "      <th>Not parent with minor child in the family</th>\n",
       "      <td>111</td>\n",
       "    </tr>\n",
       "    <tr>\n",
       "      <th>12.0</th>\n",
       "      <th>Not parent with minor child in the family</th>\n",
       "      <td>124</td>\n",
       "    </tr>\n",
       "    <tr>\n",
       "      <th>13.0</th>\n",
       "      <th>Not parent with minor child in the family</th>\n",
       "      <td>144</td>\n",
       "    </tr>\n",
       "    <tr>\n",
       "      <th rowspan=\"2\" valign=\"top\">14.0</th>\n",
       "      <th>Not parent with minor child in the family</th>\n",
       "      <td>133</td>\n",
       "    </tr>\n",
       "    <tr>\n",
       "      <th>Yes, a parent with a minor child in the family, but not used in two-parent participation rate</th>\n",
       "      <td>1</td>\n",
       "    </tr>\n",
       "    <tr>\n",
       "      <th>15.0</th>\n",
       "      <th>Not parent with minor child in the family</th>\n",
       "      <td>113</td>\n",
       "    </tr>\n",
       "    <tr>\n",
       "      <th>16.0</th>\n",
       "      <th>Not parent with minor child in the family</th>\n",
       "      <td>105</td>\n",
       "    </tr>\n",
       "    <tr>\n",
       "      <th rowspan=\"2\" valign=\"top\">17.0</th>\n",
       "      <th>Not parent with minor child in the family</th>\n",
       "      <td>78</td>\n",
       "    </tr>\n",
       "    <tr>\n",
       "      <th>Yes, a parent with a minor child in the family, but not used in two-parent participation rate</th>\n",
       "      <td>1</td>\n",
       "    </tr>\n",
       "    <tr>\n",
       "      <th rowspan=\"7\" valign=\"top\">Person whose income or resources are considered in determining eligibility</th>\n",
       "      <th>0.0</th>\n",
       "      <th>Not parent with minor child in the family</th>\n",
       "      <td>2</td>\n",
       "    </tr>\n",
       "    <tr>\n",
       "      <th>3.0</th>\n",
       "      <th>Not parent with minor child in the family</th>\n",
       "      <td>1</td>\n",
       "    </tr>\n",
       "    <tr>\n",
       "      <th>4.0</th>\n",
       "      <th>Not parent with minor child in the family</th>\n",
       "      <td>1</td>\n",
       "    </tr>\n",
       "    <tr>\n",
       "      <th>7.0</th>\n",
       "      <th>Not parent with minor child in the family</th>\n",
       "      <td>1</td>\n",
       "    </tr>\n",
       "    <tr>\n",
       "      <th>8.0</th>\n",
       "      <th>Not parent with minor child in the family</th>\n",
       "      <td>1</td>\n",
       "    </tr>\n",
       "    <tr>\n",
       "      <th>9.0</th>\n",
       "      <th>Not parent with minor child in the family</th>\n",
       "      <td>2</td>\n",
       "    </tr>\n",
       "    <tr>\n",
       "      <th>16.0</th>\n",
       "      <th>Not parent with minor child in the family</th>\n",
       "      <td>1</td>\n",
       "    </tr>\n",
       "  </tbody>\n",
       "</table>\n",
       "</div>"
      ],
      "text/plain": [
       "                                                                                                             count\n",
       "family_affiliation                                 age   parent_minor_child                                       \n",
       "Member of the eligible family receiving assistance -1.0  Not parent with minor child in the family               1\n",
       "                                                    0.0  Not parent with minor child in the family              88\n",
       "                                                    1.0  Not parent with minor child in the family             101\n",
       "                                                    2.0  Not parent with minor child in the family             137\n",
       "                                                    3.0  Not parent with minor child in the family             142\n",
       "                                                    4.0  Not parent with minor child in the family             145\n",
       "                                                    5.0  Not parent with minor child in the family             133\n",
       "                                                    6.0  Not parent with minor child in the family             125\n",
       "                                                    7.0  Not parent with minor child in the family             117\n",
       "                                                    8.0  Not parent with minor child in the family             131\n",
       "                                                    9.0  Not parent with minor child in the family             122\n",
       "                                                    10.0 Not parent with minor child in the family             124\n",
       "                                                    11.0 Not parent with minor child in the family             111\n",
       "                                                    12.0 Not parent with minor child in the family             124\n",
       "                                                    13.0 Not parent with minor child in the family             144\n",
       "                                                    14.0 Not parent with minor child in the family             133\n",
       "                                                         Yes, a parent with a minor child in the family,...      1\n",
       "                                                    15.0 Not parent with minor child in the family             113\n",
       "                                                    16.0 Not parent with minor child in the family             105\n",
       "                                                    17.0 Not parent with minor child in the family              78\n",
       "                                                         Yes, a parent with a minor child in the family,...      1\n",
       "Person whose income or resources are considered...  0.0  Not parent with minor child in the family               2\n",
       "                                                    3.0  Not parent with minor child in the family               1\n",
       "                                                    4.0  Not parent with minor child in the family               1\n",
       "                                                    7.0  Not parent with minor child in the family               1\n",
       "                                                    8.0  Not parent with minor child in the family               1\n",
       "                                                    9.0  Not parent with minor child in the family               2\n",
       "                                                    16.0 Not parent with minor child in the family               1"
      ]
     },
     "execution_count": 9,
     "metadata": {},
     "output_type": "execute_result"
    }
   ],
   "source": [
    "children.groupby(['family_affiliation','age']).agg({'parent_minor_child':'value_counts'},axis='columns').rename({'parent_minor_child':'count'},axis='columns')#.reset_index()\n"
   ]
  },
  {
   "cell_type": "code",
   "execution_count": 10,
   "metadata": {},
   "outputs": [
    {
     "data": {
      "text/plain": [
       "count    2185.000000\n",
       "mean        8.343707\n",
       "std         4.969544\n",
       "min        -1.000000\n",
       "25%         4.000000\n",
       "50%         8.000000\n",
       "75%        13.000000\n",
       "max        17.000000\n",
       "Name: age, dtype: float64"
      ]
     },
     "execution_count": 10,
     "metadata": {},
     "output_type": "execute_result"
    }
   ],
   "source": [
    "children['age'].describe()"
   ]
  },
  {
   "cell_type": "code",
   "execution_count": 11,
   "metadata": {},
   "outputs": [
    {
     "data": {
      "text/plain": [
       "(2185, 26)"
      ]
     },
     "execution_count": 11,
     "metadata": {},
     "output_type": "execute_result"
    }
   ],
   "source": [
    "children.shape"
   ]
  },
  {
   "cell_type": "code",
   "execution_count": 12,
   "metadata": {},
   "outputs": [
    {
     "name": "stderr",
     "output_type": "stream",
     "text": [
      "C:\\Users\\nnagaraj\\AppData\\Roaming\\Python\\Python39\\site-packages\\xlsxwriter\\workbook.py:338: UserWarning: Calling close() on already closed file.\n",
      "  warn(\"Calling close() on already closed file.\")\n"
     ]
    },
    {
     "data": {
      "text/plain": [
       "\"\\nimport openpyxl\\nwriter = pd.ExcelWriter(file_name, engine = 'openpyxl')\\n\\nif os.path.exists(file_name):\\n    book = openpyxl.load_workbook(file_name)\\n    writer.book = book\\n    \\ndf1.to_excel(writer, sheet_name = '202103', index=False)\\nwriter.save()\\nwriter.close()\\n\""
      ]
     },
     "execution_count": 12,
     "metadata": {},
     "output_type": "execute_result"
    }
   ],
   "source": [
    "\n",
    "os.chdir('S://TANF Reports//!TANF Federal Reports//202202//WORC//Version3')\n",
    "\n",
    "from pandas import ExcelWriter\n",
    "\n",
    "file_name = 'ParentWithMinorChild.xlsx'\n",
    "\n",
    "writer = pd.ExcelWriter(file_name)\n",
    "df1.to_excel(writer, sheet_name = '202109', index=False)\n",
    "writer.save()\n",
    "writer.close()\n",
    "\n",
    "\n",
    "\"\"\"\n",
    "import openpyxl\n",
    "writer = pd.ExcelWriter(file_name, engine = 'openpyxl')\n",
    "\n",
    "if os.path.exists(file_name):\n",
    "    book = openpyxl.load_workbook(file_name)\n",
    "    writer.book = book\n",
    "    \n",
    "df1.to_excel(writer, sheet_name = '202103', index=False)\n",
    "writer.save()\n",
    "writer.close()\n",
    "\"\"\""
   ]
  },
  {
   "cell_type": "code",
   "execution_count": null,
   "metadata": {},
   "outputs": [],
   "source": []
  },
  {
   "cell_type": "code",
   "execution_count": null,
   "metadata": {},
   "outputs": [],
   "source": []
  }
 ],
 "metadata": {
  "kernelspec": {
   "display_name": "Python 3 (ipykernel)",
   "language": "python",
   "name": "python3"
  },
  "language_info": {
   "codemirror_mode": {
    "name": "ipython",
    "version": 3
   },
   "file_extension": ".py",
   "mimetype": "text/x-python",
   "name": "python",
   "nbconvert_exporter": "python",
   "pygments_lexer": "ipython3",
   "version": "3.9.6"
  }
 },
 "nbformat": 4,
 "nbformat_minor": 2
}
