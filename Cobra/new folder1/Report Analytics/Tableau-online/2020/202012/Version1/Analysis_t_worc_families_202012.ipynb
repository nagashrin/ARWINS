{
 "cells": [
  {
   "cell_type": "code",
   "execution_count": 1,
   "metadata": {
    "scrolled": true
   },
   "outputs": [],
   "source": [
    "import pandas as pd\n",
    "import numpy as np\n",
    "import time\n",
    "import os\n",
    "\n",
    "t = time.localtime()\n",
    "timestamp = time.strftime('%y%m%d-%H%M', t)\n",
    "\n",
    "# read excel\n",
    "df = pd.read_excel('H://Current_Working_Folder//Reports Analytics//202012//202012-t_worc_families-20210212_1032.xlsx')\n",
    "\n",
    "# assign path and reporitng month\n",
    "drive = 'H://Current_Working_Folder//Reports Analytics//'\n",
    "reporting_month = str(df.loc[0,'reporting_month'])\n",
    "\n",
    "# Filter with column names ending with amt, amount, nbr_month\n",
    "df_amt = df.filter(regex = 'amt$|amount$|amount$|nbr_month$|nbr_months', axis='columns')\n",
    "\n",
    "# Describe the filtered dataframe\n",
    "df_des = df_amt.describe()\n",
    "\n",
    "# Write the describe to excel\n",
    "writer = pd.ExcelWriter(drive + reporting_month + '//' + reporting_month + '_' + 'report' + '-' + timestamp + '.xlsx')\n",
    "#df_des.to_excel(writer, index = False)\n",
    "df_des.to_excel(writer, sheet_name='family_stat')\n",
    "writer.save()"
   ]
  },
  {
   "cell_type": "code",
   "execution_count": 2,
   "metadata": {},
   "outputs": [],
   "source": [
    "#df.columns"
   ]
  },
  {
   "cell_type": "code",
   "execution_count": 3,
   "metadata": {},
   "outputs": [
    {
     "data": {
      "text/plain": [
       "(1918, 56)"
      ]
     },
     "execution_count": 3,
     "metadata": {},
     "output_type": "execute_result"
    }
   ],
   "source": [
    "df.shape"
   ]
  },
  {
   "cell_type": "code",
   "execution_count": 4,
   "metadata": {
    "scrolled": true
   },
   "outputs": [
    {
     "data": {
      "text/plain": [
       "No subsidized child care received    1918\n",
       "Name: subsid_child_care, dtype: int64"
      ]
     },
     "execution_count": 4,
     "metadata": {},
     "output_type": "execute_result"
    }
   ],
   "source": [
    "df['subsid_child_care'].value_counts()"
   ]
  },
  {
   "cell_type": "code",
   "execution_count": 5,
   "metadata": {},
   "outputs": [
    {
     "data": {
      "text/plain": [
       "0"
      ]
     },
     "execution_count": 5,
     "metadata": {},
     "output_type": "execute_result"
    }
   ],
   "source": [
    "df['subsid_child_care_amt'].sum()"
   ]
  },
  {
   "cell_type": "code",
   "execution_count": 6,
   "metadata": {
    "scrolled": true
   },
   "outputs": [
    {
     "data": {
      "text/plain": [
       "0    1918\n",
       "Name: tanf child care_children_covered, dtype: int64"
      ]
     },
     "execution_count": 6,
     "metadata": {},
     "output_type": "execute_result"
    }
   ],
   "source": [
    "df['tanf child care_children_covered'].value_counts()"
   ]
  },
  {
   "cell_type": "code",
   "execution_count": 7,
   "metadata": {},
   "outputs": [
    {
     "data": {
      "text/plain": [
       "0"
      ]
     },
     "execution_count": 7,
     "metadata": {},
     "output_type": "execute_result"
    }
   ],
   "source": [
    "df['tanf child care_amount'].sum()"
   ]
  },
  {
   "cell_type": "code",
   "execution_count": 8,
   "metadata": {
    "scrolled": true
   },
   "outputs": [],
   "source": [
    "cat = df.drop(df_amt, axis='columns')\n",
    "#cat1 = cat.drop((cat.loc[:,'reporting_month':'stratum']),axis='columns')\n",
    "cat1 = cat.drop(['id','reporting_month','case_number','county_fips_code','stratum','disposition','worker_id',\n",
    "                 'case_manager','area','created_by','updated_by','created_at','updated_at','ans_county',\n",
    "                 'local_office','waiver_grps'], axis='columns')\n",
    "cat2 = cat1.drop(cat1.filter(regex = '^reason|^other'), axis='columns')"
   ]
  },
  {
   "cell_type": "code",
   "execution_count": 9,
   "metadata": {
    "scrolled": true
   },
   "outputs": [
    {
     "name": "stdout",
     "output_type": "stream",
     "text": [
      "No     1686\n",
      "Yes     232\n",
      "Name: reason for amount of reduction_work requirements sanction, dtype: int64\n",
      "---\n",
      "No    1918\n",
      "Name: reason for amount of reduction_Family Sanction for an Adult with No High School Diploma or Equivalent, dtype: int64\n",
      "---\n",
      "No    1918\n",
      "Name: reason for amount of reduction_Sanction for Teen Parent not Attending School, dtype: int64\n",
      "---\n",
      "No     1845\n",
      "Yes      73\n",
      "Name: reason for amount of reduction_Non-Cooperation with Child Support, dtype: int64\n",
      "---\n",
      "No     1916\n",
      "Yes       2\n",
      "Name: reason for amount of reduction_Failure to Comply with an Individual Responsibility Plan, dtype: int64\n",
      "---\n",
      "No     1914\n",
      "Yes       4\n",
      "Name: reason for amount of reduction_Other Sanction, dtype: int64\n",
      "---\n",
      "0    1918\n",
      "Name: reason for amount of reduction_Recoupment of Prior Overpayment, dtype: int64\n",
      "---\n"
     ]
    }
   ],
   "source": [
    "reason_cat = cat1.filter(regex = '^reason', axis='columns')\n",
    "\n",
    "for c in reason_cat.columns:\n",
    "    print(reason_cat[c].value_counts())\n",
    "    print('---')\n"
   ]
  },
  {
   "cell_type": "code",
   "execution_count": 10,
   "metadata": {},
   "outputs": [],
   "source": [
    "#((df.filter(regex = '^reason'))).head(20)"
   ]
  },
  {
   "cell_type": "code",
   "execution_count": 11,
   "metadata": {
    "scrolled": false
   },
   "outputs": [
    {
     "name": "stdout",
     "output_type": "stream",
     "text": [
      "   category  count\n",
      "0       Tea   1787\n",
      "1  WorkPays    131\n",
      "---\n",
      "     zip_code  count\n",
      "0       71854     67\n",
      "1       72301     60\n",
      "2       72209     47\n",
      "3       72401     45\n",
      "4       72390     36\n",
      "5       72204     34\n",
      "6       72114     34\n",
      "7       72335     33\n",
      "8       71601     33\n",
      "9       72764     31\n",
      "10      72315     29\n",
      "11      72901     27\n",
      "12      72076     27\n",
      "13      72904     26\n",
      "14      71603     26\n",
      "15      72956     25\n",
      "16      72117     23\n",
      "17      72701     22\n",
      "18      72450     22\n",
      "19      72601     22\n",
      "20      72112     21\n",
      "21      72206     21\n",
      "22      72370     21\n",
      "23      72360     20\n",
      "24      72143     20\n",
      "25      72501     18\n",
      "26      72342     18\n",
      "27      71913     18\n",
      "28      71701     18\n",
      "29      71671     17\n",
      "..        ...    ...\n",
      "312     72145      1\n",
      "313     72137      1\n",
      "314     72135      1\n",
      "315     72416      1\n",
      "316     72429      1\n",
      "317     72568      1\n",
      "318     72519      1\n",
      "319     72567      1\n",
      "320     72566      1\n",
      "321     72565      1\n",
      "322     72538      1\n",
      "323     72537      1\n",
      "324     72536      1\n",
      "325     72533      1\n",
      "326     72530      1\n",
      "327     72523      1\n",
      "328     72520      1\n",
      "329     72513      1\n",
      "330     72433      1\n",
      "331     72503      1\n",
      "332     72479      1\n",
      "333     72471      1\n",
      "334     72469      1\n",
      "335     72466      1\n",
      "336     72462      1\n",
      "337     72447      1\n",
      "338     72440      1\n",
      "339     72436      1\n",
      "340     72434      1\n",
      "341     72415      1\n",
      "\n",
      "[342 rows x 2 columns]\n",
      "---\n",
      "                                      funding_stream  count\n",
      "0  Funded, in whole or in part, with Federal TANF...   1918\n",
      "---\n",
      "                       new_applicant  count\n",
      "0     Not newly-approved application   1892\n",
      "1  Yes, a newly-approved application     26\n",
      "---\n",
      "   family_size  count\n",
      "0            2    740\n",
      "1            1    489\n",
      "2            3    397\n",
      "3            4    185\n",
      "4            5     79\n",
      "5            6     19\n",
      "6            7      4\n",
      "7            8      3\n",
      "8           11      1\n",
      "9            9      1\n",
      "---\n",
      "                                         family_type  count\n",
      "0            Family with no work-eligible individual    935\n",
      "1  Family included only in overall work participa...    928\n",
      "2  Two-Parent Family included in both the overall...     52\n",
      "3                                          Not found      3\n",
      "---\n",
      "       subsid_housing  count\n",
      "0  No housing subsidy   1917\n",
      "1      Public housing      1\n",
      "---\n",
      "                           medical_assist  count\n",
      "0     Does not receive Medical Assistance   1236\n",
      "1   Yes, enrolled in Medicaid and/or CHIP    682\n",
      "---\n",
      "                           food_stamps  count\n",
      "0  Yes, receives food stamp assistance   1291\n",
      "1          Does not receive food stamp    627\n",
      "---\n",
      "                   subsid_child_care  count\n",
      "0  No subsidized child care received   1918\n",
      "---\n",
      "   tanf child care_children_covered  count\n",
      "0                                 0   1918\n",
      "---\n",
      "  Other, Non-sanction  count\n",
      "0                  No   1918\n",
      "---\n",
      "                                   exempt_time_limit  count\n",
      "0      Family is not exempt from Federal time limit.    992\n",
      "1   Yes, family is exempt from accrual of months ...    926\n",
      "---\n",
      "                 new_child_only_fam  count\n",
      "0   No, not a new child-only family   1907\n",
      "1      Yes, a new child-only family     11\n",
      "---\n",
      "                       county  count\n",
      "0                  Washington    103\n",
      "1                  Crittenden     90\n",
      "2                   Sebastian     87\n",
      "3                      Benton     84\n",
      "4             Pulaski - North     84\n",
      "5                      Miller     77\n",
      "6                   Jefferson     76\n",
      "7                   Craighead     74\n",
      "8             Pulaski - South     72\n",
      "9         Pulaski - Southwest     64\n",
      "10                   Phillips     62\n",
      "11  Mississippi - Blytheville     48\n",
      "12                    Garland     41\n",
      "13                 St Francis     39\n",
      "14                   Crawford     38\n",
      "15     Pulaski - Jacksonville     37\n",
      "16                   Faulkner     37\n",
      "17                      White     36\n",
      "18               Independence     33\n",
      "19                   Poinsett     28\n",
      "20                     Greene     28\n",
      "21                      Boone     27\n",
      "22                     Chicot     25\n",
      "23                   Ouachita     24\n",
      "24                    Jackson     23\n",
      "25                     Baxter     23\n",
      "26                   Columbia     22\n",
      "27                     Ashley     22\n",
      "28                      Desha     21\n",
      "29                        Lee     21\n",
      "..                        ...    ...\n",
      "53                    Madison      9\n",
      "54            Monroe-Brinkley      9\n",
      "55                      Izard      9\n",
      "56                   Woodruff      9\n",
      "57                 Hot Spring      8\n",
      "58               Little River      7\n",
      "59                      Grant      7\n",
      "60                     Nevada      7\n",
      "61         Logan - Booneville      6\n",
      "62                      Perry      6\n",
      "63                      Stone      6\n",
      "64                  Van Buren      6\n",
      "65                     Dallas      5\n",
      "66                     Searcy      5\n",
      "67                     Newton      5\n",
      "68         Arkansas-Stuttgart      5\n",
      "69                  Lafayette      5\n",
      "70              Logan - Paris      5\n",
      "71                     Fulton      5\n",
      "72                   Randolph      4\n",
      "73                    Prairie      4\n",
      "74                    Carroll      3\n",
      "75                 Montgomery      3\n",
      "76                  Cleveland      3\n",
      "77            Arkansas-Dewitt      3\n",
      "78                   Franklin      2\n",
      "79                       Yell      2\n",
      "80           Monroe-Clarendon      1\n",
      "81                    Calhoun      1\n",
      "82                       Pike      1\n",
      "\n",
      "[83 rows x 2 columns]\n",
      "---\n"
     ]
    }
   ],
   "source": [
    "for c in cat2.columns:\n",
    "    print((cat2[c].value_counts().to_frame('count').rename_axis(c)).reset_index())\n",
    "    print('---')"
   ]
  },
  {
   "cell_type": "code",
   "execution_count": 12,
   "metadata": {},
   "outputs": [
    {
     "data": {
      "text/html": [
       "<div>\n",
       "<style scoped>\n",
       "    .dataframe tbody tr th:only-of-type {\n",
       "        vertical-align: middle;\n",
       "    }\n",
       "\n",
       "    .dataframe tbody tr th {\n",
       "        vertical-align: top;\n",
       "    }\n",
       "\n",
       "    .dataframe thead th {\n",
       "        text-align: right;\n",
       "    }\n",
       "</style>\n",
       "<table border=\"1\" class=\"dataframe\">\n",
       "  <thead>\n",
       "    <tr style=\"text-align: right;\">\n",
       "      <th></th>\n",
       "      <th></th>\n",
       "      <th>case_count</th>\n",
       "    </tr>\n",
       "    <tr>\n",
       "      <th>category</th>\n",
       "      <th>family_type</th>\n",
       "      <th></th>\n",
       "    </tr>\n",
       "  </thead>\n",
       "  <tbody>\n",
       "    <tr>\n",
       "      <th rowspan=\"4\" valign=\"top\">Tea</th>\n",
       "      <th>Family included only in overall work participation rate (i.e., family includes one or more workeligible individuals but does not meet definition of a twoparent family</th>\n",
       "      <td>805</td>\n",
       "    </tr>\n",
       "    <tr>\n",
       "      <th>Family with no work-eligible individual</th>\n",
       "      <td>935</td>\n",
       "    </tr>\n",
       "    <tr>\n",
       "      <th>Not found</th>\n",
       "      <td>3</td>\n",
       "    </tr>\n",
       "    <tr>\n",
       "      <th>Two-Parent Family included in both the overall and                      two-parent work participation rates (i.e., family includes                      two work-eligible parents and meets the definition of a two-parent family)</th>\n",
       "      <td>44</td>\n",
       "    </tr>\n",
       "    <tr>\n",
       "      <th rowspan=\"2\" valign=\"top\">WorkPays</th>\n",
       "      <th>Family included only in overall work participation rate (i.e., family includes one or more workeligible individuals but does not meet definition of a twoparent family</th>\n",
       "      <td>123</td>\n",
       "    </tr>\n",
       "    <tr>\n",
       "      <th>Two-Parent Family included in both the overall and                      two-parent work participation rates (i.e., family includes                      two work-eligible parents and meets the definition of a two-parent family)</th>\n",
       "      <td>8</td>\n",
       "    </tr>\n",
       "  </tbody>\n",
       "</table>\n",
       "</div>"
      ],
      "text/plain": [
       "                                                             case_count\n",
       "category family_type                                                   \n",
       "Tea      Family included only in overall work participat...         805\n",
       "         Family with no work-eligible individual                    935\n",
       "         Not found                                                    3\n",
       "         Two-Parent Family included in both the overall ...          44\n",
       "WorkPays Family included only in overall work participat...         123\n",
       "         Two-Parent Family included in both the overall ...           8"
      ]
     },
     "execution_count": 12,
     "metadata": {},
     "output_type": "execute_result"
    }
   ],
   "source": [
    "worc_fam = df\n",
    "fam_type = worc_fam.groupby(['category','family_type']).agg({'case_number' : 'nunique'}).rename({'case_number': 'case_count'}, axis='columns')#.reset_index()\n",
    "fam_type"
   ]
  },
  {
   "cell_type": "code",
   "execution_count": null,
   "metadata": {},
   "outputs": [],
   "source": []
  },
  {
   "cell_type": "code",
   "execution_count": null,
   "metadata": {},
   "outputs": [],
   "source": []
  },
  {
   "cell_type": "code",
   "execution_count": null,
   "metadata": {},
   "outputs": [],
   "source": []
  },
  {
   "cell_type": "code",
   "execution_count": null,
   "metadata": {},
   "outputs": [],
   "source": []
  },
  {
   "cell_type": "code",
   "execution_count": null,
   "metadata": {},
   "outputs": [],
   "source": []
  }
 ],
 "metadata": {
  "kernelspec": {
   "display_name": "Python 3",
   "language": "python",
   "name": "python3"
  },
  "language_info": {
   "codemirror_mode": {
    "name": "ipython",
    "version": 3
   },
   "file_extension": ".py",
   "mimetype": "text/x-python",
   "name": "python",
   "nbconvert_exporter": "python",
   "pygments_lexer": "ipython3",
   "version": "3.6.4rc1"
  }
 },
 "nbformat": 4,
 "nbformat_minor": 2
}
