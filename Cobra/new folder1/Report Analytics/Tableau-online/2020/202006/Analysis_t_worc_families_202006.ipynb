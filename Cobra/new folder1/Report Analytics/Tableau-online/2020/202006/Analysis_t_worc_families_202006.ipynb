{
 "cells": [
  {
   "cell_type": "code",
   "execution_count": 1,
   "metadata": {
    "scrolled": true
   },
   "outputs": [],
   "source": [
    "import pandas as pd\n",
    "import numpy as np\n",
    "import time\n",
    "import os\n",
    "\n",
    "t = time.localtime()\n",
    "timestamp = time.strftime('%y%m%d-%H%M', t)\n",
    "\n",
    "# read excel\n",
    "df = pd.read_excel('H://Current_Working_Folder//Reports Analytics//202006//202006-t_worc_families-20200811_1122.xlsx')\n",
    "\n",
    "# assign path and reporitng month\n",
    "drive = 'H://Current_Working_Folder//Reports Analytics//'\n",
    "reporting_month = str(df.loc[0,'reporting_month'])\n",
    "\n",
    "# Filter with column names ending with amt, amount, nbr_month\n",
    "df_amt = df.filter(regex = 'amt$|amount$|amount$|nbr_month$|nbr_months', axis='columns')\n",
    "\n",
    "# Describe the filtered dataframe\n",
    "df_des = df_amt.describe()\n",
    "\n",
    "# Write the describe to excel\n",
    "writer = pd.ExcelWriter(drive + reporting_month + '//' + reporting_month + '_' + 'report' + '-' + timestamp + '.xlsx')\n",
    "#df_des.to_excel(writer, index = False)\n",
    "df_des.to_excel(writer, sheet_name='family_stat')\n",
    "writer.save()"
   ]
  },
  {
   "cell_type": "code",
   "execution_count": 2,
   "metadata": {},
   "outputs": [],
   "source": [
    "#df.columns"
   ]
  },
  {
   "cell_type": "code",
   "execution_count": 3,
   "metadata": {},
   "outputs": [
    {
     "data": {
      "text/plain": [
       "(2337, 56)"
      ]
     },
     "execution_count": 3,
     "metadata": {},
     "output_type": "execute_result"
    }
   ],
   "source": [
    "df.shape"
   ]
  },
  {
   "cell_type": "code",
   "execution_count": 4,
   "metadata": {
    "scrolled": true
   },
   "outputs": [
    {
     "data": {
      "text/plain": [
       "No subsidized child care received    2337\n",
       "Name: subsid_child_care, dtype: int64"
      ]
     },
     "execution_count": 4,
     "metadata": {},
     "output_type": "execute_result"
    }
   ],
   "source": [
    "df['subsid_child_care'].value_counts()"
   ]
  },
  {
   "cell_type": "code",
   "execution_count": 5,
   "metadata": {},
   "outputs": [
    {
     "data": {
      "text/plain": [
       "0"
      ]
     },
     "execution_count": 5,
     "metadata": {},
     "output_type": "execute_result"
    }
   ],
   "source": [
    "df['subsid_child_care_amt'].sum()"
   ]
  },
  {
   "cell_type": "code",
   "execution_count": 6,
   "metadata": {
    "scrolled": true
   },
   "outputs": [
    {
     "data": {
      "text/plain": [
       "0    2337\n",
       "Name: tanf child care_children_covered, dtype: int64"
      ]
     },
     "execution_count": 6,
     "metadata": {},
     "output_type": "execute_result"
    }
   ],
   "source": [
    "df['tanf child care_children_covered'].value_counts()"
   ]
  },
  {
   "cell_type": "code",
   "execution_count": 7,
   "metadata": {},
   "outputs": [
    {
     "data": {
      "text/plain": [
       "0"
      ]
     },
     "execution_count": 7,
     "metadata": {},
     "output_type": "execute_result"
    }
   ],
   "source": [
    "df['tanf child care_amount'].sum()"
   ]
  },
  {
   "cell_type": "code",
   "execution_count": 8,
   "metadata": {
    "scrolled": true
   },
   "outputs": [],
   "source": [
    "cat = df.drop(df_amt, axis='columns')\n",
    "#cat1 = cat.drop((cat.loc[:,'reporting_month':'stratum']),axis='columns')\n",
    "cat1 = cat.drop(['id','reporting_month','case_number','county_fips_code','stratum','disposition','worker_id',\n",
    "                 'case_manager','area','created_by','updated_by','created_at','updated_at','ans_county',\n",
    "                 'local_office','waiver_grps'], axis='columns')\n",
    "cat2 = cat1.drop(cat1.filter(regex = '^reason|^other'), axis='columns')"
   ]
  },
  {
   "cell_type": "code",
   "execution_count": 9,
   "metadata": {
    "scrolled": true
   },
   "outputs": [
    {
     "name": "stdout",
     "output_type": "stream",
     "text": [
      "No     2330\n",
      "Yes       7\n",
      "Name: reason for amount of reduction_work requirements sanction, dtype: int64\n",
      "---\n",
      "No    2337\n",
      "Name: reason for amount of reduction_Family Sanction for an Adult with No High School Diploma or Equivalent, dtype: int64\n",
      "---\n",
      "No    2337\n",
      "Name: reason for amount of reduction_Sanction for Teen Parent not Attending School, dtype: int64\n",
      "---\n",
      "No     2318\n",
      "Yes      19\n",
      "Name: reason for amount of reduction_Non-Cooperation with Child Support, dtype: int64\n",
      "---\n",
      "No     2336\n",
      "Yes       1\n",
      "Name: reason for amount of reduction_Failure to Comply with an Individual Responsibility Plan, dtype: int64\n",
      "---\n",
      "No     2336\n",
      "Yes       1\n",
      "Name: reason for amount of reduction_Other Sanction, dtype: int64\n",
      "---\n",
      "0    2337\n",
      "Name: reason for amount of reduction_Recoupment of Prior Overpayment, dtype: int64\n",
      "---\n"
     ]
    }
   ],
   "source": [
    "reason_cat = cat1.filter(regex = '^reason', axis='columns')\n",
    "\n",
    "for c in reason_cat.columns:\n",
    "    print(reason_cat[c].value_counts())\n",
    "    print('---')\n"
   ]
  },
  {
   "cell_type": "code",
   "execution_count": 10,
   "metadata": {},
   "outputs": [],
   "source": [
    "#((df.filter(regex = '^reason'))).head(20)"
   ]
  },
  {
   "cell_type": "code",
   "execution_count": 11,
   "metadata": {
    "scrolled": false
   },
   "outputs": [
    {
     "name": "stdout",
     "output_type": "stream",
     "text": [
      "   category  count\n",
      "0       Tea   2133\n",
      "1  WorkPays    204\n",
      "---\n",
      "     zip_code  count\n",
      "0       71854     80\n",
      "1       72209     73\n",
      "2       72301     67\n",
      "3       72401     59\n",
      "4       72114     46\n",
      "5       72390     41\n",
      "6       72335     41\n",
      "7       72204     40\n",
      "8       72076     36\n",
      "9       72450     36\n",
      "10      72956     35\n",
      "11      72315     33\n",
      "12      72764     33\n",
      "13      71601     32\n",
      "14      72901     31\n",
      "15      72117     31\n",
      "16      72206     31\n",
      "17      72143     29\n",
      "18      72904     29\n",
      "19      71603     28\n",
      "20      72360     27\n",
      "21      72701     26\n",
      "22      71701     25\n",
      "23      72118     25\n",
      "24      71901     24\n",
      "25      72342     23\n",
      "26      71753     23\n",
      "27      72112     23\n",
      "28      72032     22\n",
      "29      71635     21\n",
      "..        ...    ...\n",
      "331     72469      1\n",
      "332     72459      1\n",
      "333     72718      1\n",
      "334     72447      1\n",
      "335     72433      1\n",
      "336     72427      1\n",
      "337     72421      1\n",
      "338     72654      1\n",
      "339     72126      1\n",
      "340     72845      1\n",
      "341     72735      1\n",
      "342     72833      1\n",
      "343     72821      1\n",
      "344     78962      1\n",
      "345     72811      1\n",
      "346     72566      1\n",
      "347     72568      1\n",
      "348     72749      1\n",
      "349     89121      1\n",
      "350     72727      1\n",
      "351     72639      1\n",
      "352     72602      1\n",
      "353     72717      1\n",
      "354     72715      1\n",
      "355     99336      1\n",
      "356     72638      1\n",
      "357     72683      1\n",
      "358     72648      1\n",
      "359     72651      1\n",
      "360     71675      1\n",
      "\n",
      "[361 rows x 2 columns]\n",
      "---\n",
      "                                      funding_stream  count\n",
      "0  Funded, in whole or in part, with Federal TANF...   2337\n",
      "---\n",
      "                       new_applicant  count\n",
      "0     Not newly-approved application   2311\n",
      "1  Yes, a newly-approved application     26\n",
      "---\n",
      "   family_size  count\n",
      "0            2    906\n",
      "1            1    536\n",
      "2            3    519\n",
      "3            4    245\n",
      "4            5     97\n",
      "5            6     25\n",
      "6            7      6\n",
      "7           11      1\n",
      "8            9      1\n",
      "9            8      1\n",
      "---\n",
      "                                         family_type  count\n",
      "0  Family included only in overall work participa...   1230\n",
      "1            Family with no work-eligible individual   1025\n",
      "2  Two-Parent Family included in both the overall...     80\n",
      "3                                          Not found      2\n",
      "---\n",
      "       subsid_housing  count\n",
      "0  No housing subsidy   2337\n",
      "---\n",
      "                           medical_assist  count\n",
      "0     Does not receive Medical Assistance   1587\n",
      "1   Yes, enrolled in Medicaid and/or CHIP    750\n",
      "---\n",
      "                           food_stamps  count\n",
      "0  Yes, receives food stamp assistance   1791\n",
      "1          Does not receive food stamp    546\n",
      "---\n",
      "                   subsid_child_care  count\n",
      "0  No subsidized child care received   2337\n",
      "---\n",
      "   tanf child care_children_covered  count\n",
      "0                                 0   2337\n",
      "---\n",
      "  Other, Non-sanction  count\n",
      "0                  No   2337\n",
      "---\n",
      "                                   exempt_time_limit  count\n",
      "0      Family is not exempt from Federal time limit.   1323\n",
      "1   Yes, family is exempt from accrual of months ...   1014\n",
      "---\n",
      "                 new_child_only_fam  count\n",
      "0   No, not a new child-only family   2324\n",
      "1      Yes, a new child-only family     13\n",
      "---\n",
      "                       county  count\n",
      "0                  Washington    123\n",
      "1             Pulaski - North    117\n",
      "2                  Crittenden    104\n",
      "3         Pulaski - Southwest    101\n",
      "4                   Sebastian     99\n",
      "5                   Craighead     89\n",
      "6                      Miller     87\n",
      "7                   Jefferson     84\n",
      "8             Pulaski - South     83\n",
      "9                    Phillips     82\n",
      "10                     Benton     74\n",
      "11                 St Francis     56\n",
      "12                      White     53\n",
      "13                    Garland     53\n",
      "14                   Faulkner     50\n",
      "15     Pulaski - Jacksonville     50\n",
      "16                   Crawford     49\n",
      "17  Mississippi - Blytheville     41\n",
      "18                     Greene     39\n",
      "19                     Ashley     34\n",
      "20                   Ouachita     33\n",
      "21                        Lee     31\n",
      "22                       Polk     30\n",
      "23                   Columbia     30\n",
      "24                   Poinsett     29\n",
      "25                      Boone     28\n",
      "26             Pulaski - East     27\n",
      "27                       Pope     27\n",
      "28                    Jackson     26\n",
      "29                     Baxter     26\n",
      "..                        ...    ...\n",
      "52                      Grant     11\n",
      "53                     Nevada     10\n",
      "54                      Izard      9\n",
      "55                      Clark      9\n",
      "56            Monroe-Brinkley      9\n",
      "57         Logan - Booneville      9\n",
      "58                    Madison      8\n",
      "59                 Hot Spring      8\n",
      "60                   Woodruff      8\n",
      "61                  Lafayette      8\n",
      "62              Logan - Paris      7\n",
      "63                  Van Buren      7\n",
      "64                      Scott      7\n",
      "65                     Fulton      7\n",
      "66                     Newton      7\n",
      "67                      Stone      7\n",
      "68                  Cleveland      6\n",
      "69                      Perry      6\n",
      "70                     Dallas      6\n",
      "71                    Prairie      5\n",
      "72         Arkansas-Stuttgart      5\n",
      "73                 Montgomery      5\n",
      "74                     Searcy      5\n",
      "75                   Randolph      5\n",
      "76                   Franklin      4\n",
      "77            Arkansas-Dewitt      4\n",
      "78                       Yell      2\n",
      "79           Monroe-Clarendon      2\n",
      "80                       Pike      1\n",
      "81                    Carroll      1\n",
      "\n",
      "[82 rows x 2 columns]\n",
      "---\n"
     ]
    }
   ],
   "source": [
    "for c in cat2.columns:\n",
    "    print((cat2[c].value_counts().to_frame('count').rename_axis(c)).reset_index())\n",
    "    print('---')"
   ]
  },
  {
   "cell_type": "code",
   "execution_count": 12,
   "metadata": {},
   "outputs": [
    {
     "data": {
      "text/html": [
       "<div>\n",
       "<style scoped>\n",
       "    .dataframe tbody tr th:only-of-type {\n",
       "        vertical-align: middle;\n",
       "    }\n",
       "\n",
       "    .dataframe tbody tr th {\n",
       "        vertical-align: top;\n",
       "    }\n",
       "\n",
       "    .dataframe thead th {\n",
       "        text-align: right;\n",
       "    }\n",
       "</style>\n",
       "<table border=\"1\" class=\"dataframe\">\n",
       "  <thead>\n",
       "    <tr style=\"text-align: right;\">\n",
       "      <th></th>\n",
       "      <th></th>\n",
       "      <th>case_count</th>\n",
       "    </tr>\n",
       "    <tr>\n",
       "      <th>category</th>\n",
       "      <th>family_type</th>\n",
       "      <th></th>\n",
       "    </tr>\n",
       "  </thead>\n",
       "  <tbody>\n",
       "    <tr>\n",
       "      <th rowspan=\"4\" valign=\"top\">Tea</th>\n",
       "      <th>Family included only in overall work participation rate (i.e., family includes one or more workeligible individuals but does not meet definition of a twoparent family</th>\n",
       "      <td>1043</td>\n",
       "    </tr>\n",
       "    <tr>\n",
       "      <th>Family with no work-eligible individual</th>\n",
       "      <td>1025</td>\n",
       "    </tr>\n",
       "    <tr>\n",
       "      <th>Not found</th>\n",
       "      <td>2</td>\n",
       "    </tr>\n",
       "    <tr>\n",
       "      <th>Two-Parent Family included in both the overall and                      two-parent work participation rates (i.e., family includes                      two work-eligible parents and meets the definition of a two-parent family)</th>\n",
       "      <td>63</td>\n",
       "    </tr>\n",
       "    <tr>\n",
       "      <th rowspan=\"2\" valign=\"top\">WorkPays</th>\n",
       "      <th>Family included only in overall work participation rate (i.e., family includes one or more workeligible individuals but does not meet definition of a twoparent family</th>\n",
       "      <td>187</td>\n",
       "    </tr>\n",
       "    <tr>\n",
       "      <th>Two-Parent Family included in both the overall and                      two-parent work participation rates (i.e., family includes                      two work-eligible parents and meets the definition of a two-parent family)</th>\n",
       "      <td>17</td>\n",
       "    </tr>\n",
       "  </tbody>\n",
       "</table>\n",
       "</div>"
      ],
      "text/plain": [
       "                                                             case_count\n",
       "category family_type                                                   \n",
       "Tea      Family included only in overall work participat...        1043\n",
       "         Family with no work-eligible individual                   1025\n",
       "         Not found                                                    2\n",
       "         Two-Parent Family included in both the overall ...          63\n",
       "WorkPays Family included only in overall work participat...         187\n",
       "         Two-Parent Family included in both the overall ...          17"
      ]
     },
     "execution_count": 12,
     "metadata": {},
     "output_type": "execute_result"
    }
   ],
   "source": [
    "worc_fam = df\n",
    "fam_type = worc_fam.groupby(['category','family_type']).agg({'case_number' : 'nunique'}).rename({'case_number': 'case_count'}, axis='columns')#.reset_index()\n",
    "fam_type"
   ]
  },
  {
   "cell_type": "code",
   "execution_count": null,
   "metadata": {},
   "outputs": [],
   "source": []
  },
  {
   "cell_type": "code",
   "execution_count": null,
   "metadata": {},
   "outputs": [],
   "source": []
  },
  {
   "cell_type": "code",
   "execution_count": null,
   "metadata": {},
   "outputs": [],
   "source": []
  },
  {
   "cell_type": "code",
   "execution_count": null,
   "metadata": {},
   "outputs": [],
   "source": []
  },
  {
   "cell_type": "code",
   "execution_count": null,
   "metadata": {},
   "outputs": [],
   "source": []
  }
 ],
 "metadata": {
  "kernelspec": {
   "display_name": "Python 3",
   "language": "python",
   "name": "python3"
  },
  "language_info": {
   "codemirror_mode": {
    "name": "ipython",
    "version": 3
   },
   "file_extension": ".py",
   "mimetype": "text/x-python",
   "name": "python",
   "nbconvert_exporter": "python",
   "pygments_lexer": "ipython3",
   "version": "3.6.4rc1"
  }
 },
 "nbformat": 4,
 "nbformat_minor": 2
}
