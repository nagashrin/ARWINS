{
 "cells": [
  {
   "cell_type": "code",
   "execution_count": 1,
   "metadata": {
    "scrolled": true
   },
   "outputs": [],
   "source": [
    "import pandas as pd\n",
    "import numpy as np\n",
    "import time\n",
    "import os\n",
    "\n",
    "t = time.localtime()\n",
    "timestamp = time.strftime('%y%m%d-%H%M', t)\n",
    "\n",
    "# read excel\n",
    "df = pd.read_excel('H://Current_Working_Folder//Reports Analytics//202007//202007-t_worc_families-20201125_1023.xlsx')\n",
    "\n",
    "# assign path and reporitng month\n",
    "drive = 'H://Current_Working_Folder//Reports Analytics//'\n",
    "reporting_month = str(df.loc[0,'reporting_month'])\n",
    "\n",
    "# Filter with column names ending with amt, amount, nbr_month\n",
    "df_amt = df.filter(regex = 'amt$|amount$|amount$|nbr_month$|nbr_months', axis='columns')\n",
    "\n",
    "# Describe the filtered dataframe\n",
    "df_des = df_amt.describe()\n",
    "\n",
    "# Write the describe to excel\n",
    "writer = pd.ExcelWriter(drive + reporting_month + '//' + reporting_month + '_' + 'report' + '-' + timestamp + '.xlsx')\n",
    "#df_des.to_excel(writer, index = False)\n",
    "df_des.to_excel(writer, sheet_name='family_stat')\n",
    "writer.save()"
   ]
  },
  {
   "cell_type": "code",
   "execution_count": 2,
   "metadata": {},
   "outputs": [],
   "source": [
    "#df.columns"
   ]
  },
  {
   "cell_type": "code",
   "execution_count": 3,
   "metadata": {},
   "outputs": [
    {
     "data": {
      "text/plain": [
       "(2321, 56)"
      ]
     },
     "execution_count": 3,
     "metadata": {},
     "output_type": "execute_result"
    }
   ],
   "source": [
    "df.shape"
   ]
  },
  {
   "cell_type": "code",
   "execution_count": 4,
   "metadata": {
    "scrolled": true
   },
   "outputs": [
    {
     "data": {
      "text/plain": [
       "No subsidized child care received    2321\n",
       "Name: subsid_child_care, dtype: int64"
      ]
     },
     "execution_count": 4,
     "metadata": {},
     "output_type": "execute_result"
    }
   ],
   "source": [
    "df['subsid_child_care'].value_counts()"
   ]
  },
  {
   "cell_type": "code",
   "execution_count": 5,
   "metadata": {},
   "outputs": [
    {
     "data": {
      "text/plain": [
       "0"
      ]
     },
     "execution_count": 5,
     "metadata": {},
     "output_type": "execute_result"
    }
   ],
   "source": [
    "df['subsid_child_care_amt'].sum()"
   ]
  },
  {
   "cell_type": "code",
   "execution_count": 6,
   "metadata": {
    "scrolled": true
   },
   "outputs": [
    {
     "data": {
      "text/plain": [
       "0    2321\n",
       "Name: tanf child care_children_covered, dtype: int64"
      ]
     },
     "execution_count": 6,
     "metadata": {},
     "output_type": "execute_result"
    }
   ],
   "source": [
    "df['tanf child care_children_covered'].value_counts()"
   ]
  },
  {
   "cell_type": "code",
   "execution_count": 7,
   "metadata": {},
   "outputs": [
    {
     "data": {
      "text/plain": [
       "0"
      ]
     },
     "execution_count": 7,
     "metadata": {},
     "output_type": "execute_result"
    }
   ],
   "source": [
    "df['tanf child care_amount'].sum()"
   ]
  },
  {
   "cell_type": "code",
   "execution_count": 8,
   "metadata": {
    "scrolled": true
   },
   "outputs": [],
   "source": [
    "cat = df.drop(df_amt, axis='columns')\n",
    "#cat1 = cat.drop((cat.loc[:,'reporting_month':'stratum']),axis='columns')\n",
    "cat1 = cat.drop(['id','reporting_month','case_number','county_fips_code','stratum','disposition','worker_id',\n",
    "                 'case_manager','area','created_by','updated_by','created_at','updated_at','ans_county',\n",
    "                 'local_office','waiver_grps'], axis='columns')\n",
    "cat2 = cat1.drop(cat1.filter(regex = '^reason|^other'), axis='columns')"
   ]
  },
  {
   "cell_type": "code",
   "execution_count": 9,
   "metadata": {
    "scrolled": true
   },
   "outputs": [
    {
     "name": "stdout",
     "output_type": "stream",
     "text": [
      "No     2309\n",
      "Yes      12\n",
      "Name: reason for amount of reduction_work requirements sanction, dtype: int64\n",
      "---\n",
      "No    2321\n",
      "Name: reason for amount of reduction_Family Sanction for an Adult with No High School Diploma or Equivalent, dtype: int64\n",
      "---\n",
      "No    2321\n",
      "Name: reason for amount of reduction_Sanction for Teen Parent not Attending School, dtype: int64\n",
      "---\n",
      "No     2303\n",
      "Yes      18\n",
      "Name: reason for amount of reduction_Non-Cooperation with Child Support, dtype: int64\n",
      "---\n",
      "No    2321\n",
      "Name: reason for amount of reduction_Failure to Comply with an Individual Responsibility Plan, dtype: int64\n",
      "---\n",
      "No    2321\n",
      "Name: reason for amount of reduction_Other Sanction, dtype: int64\n",
      "---\n",
      "0    2321\n",
      "Name: reason for amount of reduction_Recoupment of Prior Overpayment, dtype: int64\n",
      "---\n"
     ]
    }
   ],
   "source": [
    "reason_cat = cat1.filter(regex = '^reason', axis='columns')\n",
    "\n",
    "for c in reason_cat.columns:\n",
    "    print(reason_cat[c].value_counts())\n",
    "    print('---')\n"
   ]
  },
  {
   "cell_type": "code",
   "execution_count": 10,
   "metadata": {},
   "outputs": [],
   "source": [
    "#((df.filter(regex = '^reason'))).head(20)"
   ]
  },
  {
   "cell_type": "code",
   "execution_count": 11,
   "metadata": {
    "scrolled": false
   },
   "outputs": [
    {
     "name": "stdout",
     "output_type": "stream",
     "text": [
      "   category  count\n",
      "0       Tea   2143\n",
      "1  WorkPays    178\n",
      "---\n",
      "     zip_code  count\n",
      "0       71854     81\n",
      "1       72209     73\n",
      "2       72301     65\n",
      "3       72401     59\n",
      "4       72390     46\n",
      "5       72114     45\n",
      "6       72335     42\n",
      "7       72204     39\n",
      "8       72450     35\n",
      "9       72076     35\n",
      "10      72901     35\n",
      "11      72764     34\n",
      "12      72956     33\n",
      "13      71601     32\n",
      "14      72117     31\n",
      "15      72315     30\n",
      "16      72904     29\n",
      "17      72206     28\n",
      "18      72143     28\n",
      "19      72118     27\n",
      "20      71603     26\n",
      "21      72701     26\n",
      "22      72342     25\n",
      "23      72360     25\n",
      "24      71701     24\n",
      "25      72112     23\n",
      "26      71753     22\n",
      "27      71730     22\n",
      "28      72370     21\n",
      "29      72032     21\n",
      "..        ...    ...\n",
      "329     72567      1\n",
      "330     72565      1\n",
      "331     72533      1\n",
      "332     72523      1\n",
      "333     72863      1\n",
      "334     74960      1\n",
      "335     72030      1\n",
      "336     72917      1\n",
      "337     72022      1\n",
      "338     72020      1\n",
      "339     72016      1\n",
      "340     72010      1\n",
      "341     71956      1\n",
      "342     71944      1\n",
      "343     71838      1\n",
      "344     71836      1\n",
      "345     71826      1\n",
      "346     71744      1\n",
      "347     71670      1\n",
      "348     71660      1\n",
      "349     71658      1\n",
      "350     71642      1\n",
      "351     38732      1\n",
      "352     72969      1\n",
      "353     70904      1\n",
      "354     72951      1\n",
      "355     72949      1\n",
      "356     38108      1\n",
      "357     72923      1\n",
      "358     71752      1\n",
      "\n",
      "[359 rows x 2 columns]\n",
      "---\n",
      "                                      funding_stream  count\n",
      "0  Funded, in whole or in part, with Federal TANF...   2321\n",
      "---\n",
      "                       new_applicant  count\n",
      "0     Not newly-approved application   2297\n",
      "1  Yes, a newly-approved application     24\n",
      "---\n",
      "   family_size  count\n",
      "0            2    918\n",
      "1            1    526\n",
      "2            3    514\n",
      "3            4    230\n",
      "4            5    101\n",
      "5            6     21\n",
      "6            7      6\n",
      "7            8      3\n",
      "8           11      1\n",
      "9            9      1\n",
      "---\n",
      "                                         family_type  count\n",
      "0  Family included only in overall work participa...   1225\n",
      "1            Family with no work-eligible individual   1014\n",
      "2  Two-Parent Family included in both the overall...     82\n",
      "---\n",
      "       subsid_housing  count\n",
      "0  No housing subsidy   2320\n",
      "1      Public housing      1\n",
      "---\n",
      "                           medical_assist  count\n",
      "0     Does not receive Medical Assistance   1579\n",
      "1   Yes, enrolled in Medicaid and/or CHIP    742\n",
      "---\n",
      "                           food_stamps  count\n",
      "0  Yes, receives food stamp assistance   1664\n",
      "1          Does not receive food stamp    657\n",
      "---\n",
      "                   subsid_child_care  count\n",
      "0  No subsidized child care received   2321\n",
      "---\n",
      "   tanf child care_children_covered  count\n",
      "0                                 0   2321\n",
      "---\n",
      "  Other, Non-sanction  count\n",
      "0                  No   2321\n",
      "---\n",
      "                                   exempt_time_limit  count\n",
      "0      Family is not exempt from Federal time limit.   1318\n",
      "1   Yes, family is exempt from accrual of months ...   1003\n",
      "---\n",
      "                 new_child_only_fam  count\n",
      "0   No, not a new child-only family   2306\n",
      "1      Yes, a new child-only family     15\n",
      "---\n",
      "                       county  count\n",
      "0                  Washington    126\n",
      "1             Pulaski - North    119\n",
      "2                  Crittenden    103\n",
      "3                   Sebastian    101\n",
      "4         Pulaski - Southwest    100\n",
      "5             Pulaski - South     90\n",
      "6                   Craighead     89\n",
      "7                    Phillips     88\n",
      "8                      Miller     88\n",
      "9                   Jefferson     81\n",
      "10                     Benton     76\n",
      "11                 St Francis     56\n",
      "12                      White     52\n",
      "13                    Garland     48\n",
      "14                   Crawford     47\n",
      "15                   Faulkner     46\n",
      "16     Pulaski - Jacksonville     45\n",
      "17                     Greene     41\n",
      "18  Mississippi - Blytheville     38\n",
      "19                     Ashley     32\n",
      "20                   Ouachita     30\n",
      "21                   Columbia     29\n",
      "22                      Boone     29\n",
      "23                       Pope     28\n",
      "24                        Lee     27\n",
      "25                     Chicot     27\n",
      "26                      Union     27\n",
      "27                   Poinsett     27\n",
      "28                       Polk     26\n",
      "29                     Baxter     25\n",
      "..                        ...    ...\n",
      "53                      Clark     10\n",
      "54            Monroe-Brinkley     10\n",
      "55                     Nevada     10\n",
      "56                      Izard     10\n",
      "57         Logan - Booneville      9\n",
      "58                      Scott      9\n",
      "59              Logan - Paris      8\n",
      "60                    Madison      8\n",
      "61                 Hot Spring      8\n",
      "62                     Newton      8\n",
      "63                   Woodruff      8\n",
      "64                     Fulton      7\n",
      "65                      Stone      7\n",
      "66                  Lafayette      7\n",
      "67                  Van Buren      6\n",
      "68                    Prairie      6\n",
      "69                     Dallas      6\n",
      "70                      Perry      6\n",
      "71                  Cleveland      6\n",
      "72                     Searcy      5\n",
      "73                 Montgomery      5\n",
      "74         Arkansas-Stuttgart      5\n",
      "75                   Randolph      5\n",
      "76            Arkansas-Dewitt      4\n",
      "77                   Franklin      3\n",
      "78                       Yell      3\n",
      "79                       Pike      2\n",
      "80                    Carroll      1\n",
      "81           Monroe-Clarendon      1\n",
      "82                    Calhoun      1\n",
      "\n",
      "[83 rows x 2 columns]\n",
      "---\n"
     ]
    }
   ],
   "source": [
    "for c in cat2.columns:\n",
    "    print((cat2[c].value_counts().to_frame('count').rename_axis(c)).reset_index())\n",
    "    print('---')"
   ]
  },
  {
   "cell_type": "code",
   "execution_count": 12,
   "metadata": {},
   "outputs": [
    {
     "data": {
      "text/html": [
       "<div>\n",
       "<style scoped>\n",
       "    .dataframe tbody tr th:only-of-type {\n",
       "        vertical-align: middle;\n",
       "    }\n",
       "\n",
       "    .dataframe tbody tr th {\n",
       "        vertical-align: top;\n",
       "    }\n",
       "\n",
       "    .dataframe thead th {\n",
       "        text-align: right;\n",
       "    }\n",
       "</style>\n",
       "<table border=\"1\" class=\"dataframe\">\n",
       "  <thead>\n",
       "    <tr style=\"text-align: right;\">\n",
       "      <th></th>\n",
       "      <th></th>\n",
       "      <th>case_count</th>\n",
       "    </tr>\n",
       "    <tr>\n",
       "      <th>category</th>\n",
       "      <th>family_type</th>\n",
       "      <th></th>\n",
       "    </tr>\n",
       "  </thead>\n",
       "  <tbody>\n",
       "    <tr>\n",
       "      <th rowspan=\"3\" valign=\"top\">Tea</th>\n",
       "      <th>Family included only in overall work participation rate (i.e., family includes one or more workeligible individuals but does not meet definition of a twoparent family</th>\n",
       "      <td>1061</td>\n",
       "    </tr>\n",
       "    <tr>\n",
       "      <th>Family with no work-eligible individual</th>\n",
       "      <td>1014</td>\n",
       "    </tr>\n",
       "    <tr>\n",
       "      <th>Two-Parent Family included in both the overall and                      two-parent work participation rates (i.e., family includes                      two work-eligible parents and meets the definition of a two-parent family)</th>\n",
       "      <td>68</td>\n",
       "    </tr>\n",
       "    <tr>\n",
       "      <th rowspan=\"2\" valign=\"top\">WorkPays</th>\n",
       "      <th>Family included only in overall work participation rate (i.e., family includes one or more workeligible individuals but does not meet definition of a twoparent family</th>\n",
       "      <td>164</td>\n",
       "    </tr>\n",
       "    <tr>\n",
       "      <th>Two-Parent Family included in both the overall and                      two-parent work participation rates (i.e., family includes                      two work-eligible parents and meets the definition of a two-parent family)</th>\n",
       "      <td>14</td>\n",
       "    </tr>\n",
       "  </tbody>\n",
       "</table>\n",
       "</div>"
      ],
      "text/plain": [
       "                                                             case_count\n",
       "category family_type                                                   \n",
       "Tea      Family included only in overall work participat...        1061\n",
       "         Family with no work-eligible individual                   1014\n",
       "         Two-Parent Family included in both the overall ...          68\n",
       "WorkPays Family included only in overall work participat...         164\n",
       "         Two-Parent Family included in both the overall ...          14"
      ]
     },
     "execution_count": 12,
     "metadata": {},
     "output_type": "execute_result"
    }
   ],
   "source": [
    "worc_fam = df\n",
    "fam_type = worc_fam.groupby(['category','family_type']).agg({'case_number' : 'nunique'}).rename({'case_number': 'case_count'}, axis='columns')#.reset_index()\n",
    "fam_type"
   ]
  },
  {
   "cell_type": "code",
   "execution_count": null,
   "metadata": {},
   "outputs": [],
   "source": []
  },
  {
   "cell_type": "code",
   "execution_count": null,
   "metadata": {},
   "outputs": [],
   "source": []
  },
  {
   "cell_type": "code",
   "execution_count": null,
   "metadata": {},
   "outputs": [],
   "source": []
  },
  {
   "cell_type": "code",
   "execution_count": null,
   "metadata": {},
   "outputs": [],
   "source": []
  },
  {
   "cell_type": "code",
   "execution_count": null,
   "metadata": {},
   "outputs": [],
   "source": []
  }
 ],
 "metadata": {
  "kernelspec": {
   "display_name": "Python 3",
   "language": "python",
   "name": "python3"
  },
  "language_info": {
   "codemirror_mode": {
    "name": "ipython",
    "version": 3
   },
   "file_extension": ".py",
   "mimetype": "text/x-python",
   "name": "python",
   "nbconvert_exporter": "python",
   "pygments_lexer": "ipython3",
   "version": "3.6.4rc1"
  }
 },
 "nbformat": 4,
 "nbformat_minor": 2
}
