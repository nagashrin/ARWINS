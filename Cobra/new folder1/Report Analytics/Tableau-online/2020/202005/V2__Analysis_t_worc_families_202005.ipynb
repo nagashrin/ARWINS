{
 "cells": [
  {
   "cell_type": "code",
   "execution_count": 1,
   "metadata": {
    "scrolled": true
   },
   "outputs": [],
   "source": [
    "import pandas as pd\n",
    "import numpy as np\n",
    "import time\n",
    "import os\n",
    "\n",
    "t = time.localtime()\n",
    "timestamp = time.strftime('%y%m%d-%H%M', t)\n",
    "\n",
    "# read excel\n",
    "df = pd.read_excel('H://Current_Working_Folder//Reports Analytics//202005//202005-t_worc_families-20200717_1105.xlsx')\n",
    "\n",
    "# assign path and reporitng month\n",
    "drive = 'H://Current_Working_Folder//Reports Analytics//'\n",
    "reporting_month = str(df.loc[0,'reporting_month'])\n",
    "\n",
    "# Filter with column names ending with amt, amount, nbr_month\n",
    "df_amt = df.filter(regex = 'amt$|amount$|amount$|nbr_month$|nbr_months', axis='columns')\n",
    "\n",
    "# Describe the filtered dataframe\n",
    "df_des = df_amt.describe()\n",
    "\n",
    "# Write the describe to excel\n",
    "writer = pd.ExcelWriter(drive + reporting_month + '//' + reporting_month + '_' + 'report' + '-' + timestamp + '.xlsx')\n",
    "#df_des.to_excel(writer, index = False)\n",
    "df_des.to_excel(writer, sheet_name='family_stat')\n",
    "writer.save()"
   ]
  },
  {
   "cell_type": "code",
   "execution_count": 2,
   "metadata": {},
   "outputs": [],
   "source": [
    "#df.columns"
   ]
  },
  {
   "cell_type": "code",
   "execution_count": 3,
   "metadata": {},
   "outputs": [
    {
     "data": {
      "text/plain": [
       "(2338, 56)"
      ]
     },
     "execution_count": 3,
     "metadata": {},
     "output_type": "execute_result"
    }
   ],
   "source": [
    "df.shape"
   ]
  },
  {
   "cell_type": "code",
   "execution_count": 4,
   "metadata": {
    "scrolled": true
   },
   "outputs": [
    {
     "data": {
      "text/plain": [
       "No subsidized child care received                                                                                                                 2337\n",
       "Yes, receives child care funded entirely or in part with Federal funds (e.g., receives TANF, CCDF, SSBG, or other federally funded child care)       1\n",
       "Name: subsid_child_care, dtype: int64"
      ]
     },
     "execution_count": 4,
     "metadata": {},
     "output_type": "execute_result"
    }
   ],
   "source": [
    "df['subsid_child_care'].value_counts()"
   ]
  },
  {
   "cell_type": "code",
   "execution_count": 5,
   "metadata": {},
   "outputs": [
    {
     "data": {
      "text/plain": [
       "217"
      ]
     },
     "execution_count": 5,
     "metadata": {},
     "output_type": "execute_result"
    }
   ],
   "source": [
    "df['subsid_child_care_amt'].sum()"
   ]
  },
  {
   "cell_type": "code",
   "execution_count": 6,
   "metadata": {
    "scrolled": true
   },
   "outputs": [
    {
     "data": {
      "text/plain": [
       "0    2338\n",
       "Name: tanf child care_children_covered, dtype: int64"
      ]
     },
     "execution_count": 6,
     "metadata": {},
     "output_type": "execute_result"
    }
   ],
   "source": [
    "df['tanf child care_children_covered'].value_counts()"
   ]
  },
  {
   "cell_type": "code",
   "execution_count": 7,
   "metadata": {},
   "outputs": [
    {
     "data": {
      "text/plain": [
       "0"
      ]
     },
     "execution_count": 7,
     "metadata": {},
     "output_type": "execute_result"
    }
   ],
   "source": [
    "df['tanf child care_amount'].sum()"
   ]
  },
  {
   "cell_type": "code",
   "execution_count": 8,
   "metadata": {
    "scrolled": true
   },
   "outputs": [],
   "source": [
    "cat = df.drop(df_amt, axis='columns')\n",
    "#cat1 = cat.drop((cat.loc[:,'reporting_month':'stratum']),axis='columns')\n",
    "cat1 = cat.drop(['id','reporting_month','case_number','county_fips_code','stratum','disposition','worker_id',\n",
    "                 'case_manager','area','created_by','updated_by','created_at','updated_at','ans_county',\n",
    "                 'local_office','waiver_grps'], axis='columns')\n",
    "cat2 = cat1.drop(cat1.filter(regex = '^reason|^other'), axis='columns')"
   ]
  },
  {
   "cell_type": "code",
   "execution_count": 9,
   "metadata": {
    "scrolled": true
   },
   "outputs": [
    {
     "name": "stdout",
     "output_type": "stream",
     "text": [
      "No     2326\n",
      "Yes      12\n",
      "Name: reason for amount of reduction_work requirements sanction, dtype: int64\n",
      "---\n",
      "No    2338\n",
      "Name: reason for amount of reduction_Family Sanction for an Adult with No High School Diploma or Equivalent, dtype: int64\n",
      "---\n",
      "No    2338\n",
      "Name: reason for amount of reduction_Sanction for Teen Parent not Attending School, dtype: int64\n",
      "---\n",
      "No     2325\n",
      "Yes      13\n",
      "Name: reason for amount of reduction_Non-Cooperation with Child Support, dtype: int64\n",
      "---\n",
      "No    2338\n",
      "Name: reason for amount of reduction_Failure to Comply with an Individual Responsibility Plan, dtype: int64\n",
      "---\n",
      "No     2337\n",
      "Yes       1\n",
      "Name: reason for amount of reduction_Other Sanction, dtype: int64\n",
      "---\n",
      "0    2338\n",
      "Name: reason for amount of reduction_Recoupment of Prior Overpayment, dtype: int64\n",
      "---\n"
     ]
    }
   ],
   "source": [
    "reason_cat = cat1.filter(regex = '^reason', axis='columns')\n",
    "\n",
    "for c in reason_cat.columns:\n",
    "    print(reason_cat[c].value_counts())\n",
    "    print('---')\n"
   ]
  },
  {
   "cell_type": "code",
   "execution_count": 10,
   "metadata": {},
   "outputs": [],
   "source": [
    "#((df.filter(regex = '^reason'))).head(20)"
   ]
  },
  {
   "cell_type": "code",
   "execution_count": 11,
   "metadata": {
    "scrolled": false
   },
   "outputs": [
    {
     "name": "stdout",
     "output_type": "stream",
     "text": [
      "   category  count\n",
      "0       Tea   2112\n",
      "1  WorkPays    226\n",
      "---\n",
      "     zip_code  count\n",
      "0       71854     79\n",
      "1       72301     69\n",
      "2       72209     69\n",
      "3       72401     58\n",
      "4       72114     44\n",
      "5       72390     43\n",
      "6       72335     41\n",
      "7       72204     40\n",
      "8       72076     37\n",
      "9       72901     37\n",
      "10      72956     37\n",
      "11      72764     34\n",
      "12      72206     33\n",
      "13      72450     33\n",
      "14      71601     32\n",
      "15      72143     32\n",
      "16      72315     32\n",
      "17      72360     30\n",
      "18      72117     30\n",
      "19      71701     30\n",
      "20      71603     28\n",
      "21      72904     26\n",
      "22      72701     25\n",
      "23      71901     25\n",
      "24      72342     24\n",
      "25      71953     23\n",
      "26      72032     22\n",
      "27      72601     22\n",
      "28      72112     21\n",
      "29      71753     21\n",
      "..        ...    ...\n",
      "327     72567      1\n",
      "328     72533      1\n",
      "329     72523      1\n",
      "330     72519      1\n",
      "331     72513      1\n",
      "332     72833      1\n",
      "333     72845      1\n",
      "334     72857      1\n",
      "335     71670      1\n",
      "336     72064      1\n",
      "337     72030      1\n",
      "338     72022      1\n",
      "339     72016      1\n",
      "340     71964      1\n",
      "341     71956      1\n",
      "342     71944      1\n",
      "343     71838      1\n",
      "344     71826      1\n",
      "345     71660      1\n",
      "346     72863      1\n",
      "347     71658      1\n",
      "348     71642      1\n",
      "349     77541      1\n",
      "350     75062      1\n",
      "351     72969      1\n",
      "352     72923      1\n",
      "353     38104      1\n",
      "354     72917      1\n",
      "355     74960      1\n",
      "356     71752      1\n",
      "\n",
      "[357 rows x 2 columns]\n",
      "---\n",
      "                                      funding_stream  count\n",
      "0  Funded, in whole or in part, with Federal TANF...   2338\n",
      "---\n",
      "                       new_applicant  count\n",
      "0     Not newly-approved application   2327\n",
      "1  Yes, a newly-approved application     11\n",
      "---\n",
      "   family_size  count\n",
      "0            2    915\n",
      "1            1    538\n",
      "2            3    512\n",
      "3            4    244\n",
      "4            5     95\n",
      "5            6     25\n",
      "6            7      7\n",
      "7            9      1\n",
      "8            8      1\n",
      "---\n",
      "                                         family_type  count\n",
      "0  Family included only in overall work participa...   1226\n",
      "1            Family with no work-eligible individual   1032\n",
      "2  Two-Parent Family included in both the overall...     77\n",
      "3                                          Not found      3\n",
      "---\n",
      "       subsid_housing  count\n",
      "0  No housing subsidy   2338\n",
      "---\n",
      "                           medical_assist  count\n",
      "0     Does not receive Medical Assistance   1589\n",
      "1   Yes, enrolled in Medicaid and/or CHIP    749\n",
      "---\n",
      "                           food_stamps  count\n",
      "0  Yes, receives food stamp assistance   1752\n",
      "1          Does not receive food stamp    586\n",
      "---\n",
      "                                   subsid_child_care  count\n",
      "0                  No subsidized child care received   2337\n",
      "1  Yes, receives child care funded entirely or in...      1\n",
      "---\n",
      "   tanf child care_children_covered  count\n",
      "0                                 0   2338\n",
      "---\n",
      "  Other, Non-sanction  count\n",
      "0                  No   2338\n",
      "---\n",
      "                                   exempt_time_limit  count\n",
      "0      Family is not exempt from Federal time limit.   1317\n",
      "1   Yes, family is exempt from accrual of months ...   1021\n",
      "---\n",
      "                 new_child_only_fam  count\n",
      "0   No, not a new child-only family   2327\n",
      "1      Yes, a new child-only family     11\n",
      "---\n",
      "                       county  count\n",
      "0                  Washington    119\n",
      "1             Pulaski - North    114\n",
      "2                   Sebastian    104\n",
      "3                  Crittenden    103\n",
      "4         Pulaski - Southwest     93\n",
      "5                      Miller     88\n",
      "6                   Craighead     88\n",
      "7             Pulaski - South     83\n",
      "8                   Jefferson     81\n",
      "9                    Phillips     81\n",
      "10                     Benton     66\n",
      "11                      White     60\n",
      "12     Pulaski - Jacksonville     57\n",
      "13                    Garland     55\n",
      "14                 St Francis     55\n",
      "15                   Crawford     50\n",
      "16                   Faulkner     48\n",
      "17  Mississippi - Blytheville     39\n",
      "18                   Ouachita     38\n",
      "19                     Greene     37\n",
      "20                     Ashley     33\n",
      "21                       Polk     32\n",
      "22                        Lee     32\n",
      "23                      Boone     30\n",
      "24                   Poinsett     28\n",
      "25                   Columbia     28\n",
      "26             Pulaski - East     27\n",
      "27                     Conway     27\n",
      "28                       Pope     27\n",
      "29                     Baxter     27\n",
      "..                        ...    ...\n",
      "52                     Howard     11\n",
      "53              Clay - Piggot     11\n",
      "54         Logan - Booneville     10\n",
      "55                      Izard      9\n",
      "56                      Clark      9\n",
      "57                      Scott      9\n",
      "58                     Fulton      9\n",
      "59                   Woodruff      9\n",
      "60                  Van Buren      8\n",
      "61                     Dallas      8\n",
      "62                    Madison      8\n",
      "63                  Lafayette      8\n",
      "64            Monroe-Brinkley      8\n",
      "65                 Hot Spring      8\n",
      "66                      Stone      7\n",
      "67                      Perry      7\n",
      "68                   Randolph      6\n",
      "69                     Newton      6\n",
      "70         Arkansas-Stuttgart      6\n",
      "71              Logan - Paris      6\n",
      "72                     Searcy      6\n",
      "73                  Cleveland      6\n",
      "74            Arkansas-Dewitt      4\n",
      "75                    Prairie      4\n",
      "76                   Franklin      4\n",
      "77                 Montgomery      4\n",
      "78                       Yell      2\n",
      "79           Monroe-Clarendon      2\n",
      "80                       Pike      1\n",
      "81                    Carroll      1\n",
      "\n",
      "[82 rows x 2 columns]\n",
      "---\n"
     ]
    }
   ],
   "source": [
    "for c in cat2.columns:\n",
    "    print((cat2[c].value_counts().to_frame('count').rename_axis(c)).reset_index())\n",
    "    print('---')"
   ]
  },
  {
   "cell_type": "code",
   "execution_count": 12,
   "metadata": {},
   "outputs": [
    {
     "data": {
      "text/html": [
       "<div>\n",
       "<style scoped>\n",
       "    .dataframe tbody tr th:only-of-type {\n",
       "        vertical-align: middle;\n",
       "    }\n",
       "\n",
       "    .dataframe tbody tr th {\n",
       "        vertical-align: top;\n",
       "    }\n",
       "\n",
       "    .dataframe thead th {\n",
       "        text-align: right;\n",
       "    }\n",
       "</style>\n",
       "<table border=\"1\" class=\"dataframe\">\n",
       "  <thead>\n",
       "    <tr style=\"text-align: right;\">\n",
       "      <th></th>\n",
       "      <th></th>\n",
       "      <th>case_count</th>\n",
       "    </tr>\n",
       "    <tr>\n",
       "      <th>category</th>\n",
       "      <th>family_type</th>\n",
       "      <th></th>\n",
       "    </tr>\n",
       "  </thead>\n",
       "  <tbody>\n",
       "    <tr>\n",
       "      <th rowspan=\"4\" valign=\"top\">Tea</th>\n",
       "      <th>Family included only in overall work participation rate (i.e., family includes one or more workeligible individuals but does not meet definition of a twoparent family</th>\n",
       "      <td>1016</td>\n",
       "    </tr>\n",
       "    <tr>\n",
       "      <th>Family with no work-eligible individual</th>\n",
       "      <td>1032</td>\n",
       "    </tr>\n",
       "    <tr>\n",
       "      <th>Not found</th>\n",
       "      <td>3</td>\n",
       "    </tr>\n",
       "    <tr>\n",
       "      <th>Two-Parent Family included in both the overall and                      two-parent work participation rates (i.e., family includes                      two work-eligible parents and meets the definition of a two-parent family)</th>\n",
       "      <td>61</td>\n",
       "    </tr>\n",
       "    <tr>\n",
       "      <th rowspan=\"2\" valign=\"top\">WorkPays</th>\n",
       "      <th>Family included only in overall work participation rate (i.e., family includes one or more workeligible individuals but does not meet definition of a twoparent family</th>\n",
       "      <td>210</td>\n",
       "    </tr>\n",
       "    <tr>\n",
       "      <th>Two-Parent Family included in both the overall and                      two-parent work participation rates (i.e., family includes                      two work-eligible parents and meets the definition of a two-parent family)</th>\n",
       "      <td>16</td>\n",
       "    </tr>\n",
       "  </tbody>\n",
       "</table>\n",
       "</div>"
      ],
      "text/plain": [
       "                                                             case_count\n",
       "category family_type                                                   \n",
       "Tea      Family included only in overall work participat...        1016\n",
       "         Family with no work-eligible individual                   1032\n",
       "         Not found                                                    3\n",
       "         Two-Parent Family included in both the overall ...          61\n",
       "WorkPays Family included only in overall work participat...         210\n",
       "         Two-Parent Family included in both the overall ...          16"
      ]
     },
     "execution_count": 12,
     "metadata": {},
     "output_type": "execute_result"
    }
   ],
   "source": [
    "worc_fam = df\n",
    "fam_type = worc_fam.groupby(['category','family_type']).agg({'case_number' : 'nunique'}).rename({'case_number': 'case_count'}, axis='columns')#.reset_index()\n",
    "fam_type"
   ]
  },
  {
   "cell_type": "code",
   "execution_count": null,
   "metadata": {},
   "outputs": [],
   "source": []
  },
  {
   "cell_type": "code",
   "execution_count": null,
   "metadata": {},
   "outputs": [],
   "source": []
  },
  {
   "cell_type": "code",
   "execution_count": null,
   "metadata": {},
   "outputs": [],
   "source": []
  },
  {
   "cell_type": "code",
   "execution_count": null,
   "metadata": {},
   "outputs": [],
   "source": []
  },
  {
   "cell_type": "code",
   "execution_count": null,
   "metadata": {},
   "outputs": [],
   "source": []
  }
 ],
 "metadata": {
  "kernelspec": {
   "display_name": "Python 3",
   "language": "python",
   "name": "python3"
  },
  "language_info": {
   "codemirror_mode": {
    "name": "ipython",
    "version": 3
   },
   "file_extension": ".py",
   "mimetype": "text/x-python",
   "name": "python",
   "nbconvert_exporter": "python",
   "pygments_lexer": "ipython3",
   "version": "3.6.4rc1"
  }
 },
 "nbformat": 4,
 "nbformat_minor": 2
}
