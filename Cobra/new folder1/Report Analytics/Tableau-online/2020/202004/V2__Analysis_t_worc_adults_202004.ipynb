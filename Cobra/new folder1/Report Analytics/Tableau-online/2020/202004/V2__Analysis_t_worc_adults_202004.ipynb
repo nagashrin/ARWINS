{
 "cells": [
  {
   "cell_type": "markdown",
   "metadata": {},
   "source": [
    "# T2: Adult Data Analysis"
   ]
  },
  {
   "cell_type": "code",
   "execution_count": 1,
   "metadata": {},
   "outputs": [],
   "source": [
    "import pandas as pd\n",
    "import numpy as np\n",
    "import os"
   ]
  },
  {
   "cell_type": "code",
   "execution_count": 2,
   "metadata": {},
   "outputs": [],
   "source": [
    "adult = pd.read_excel('H://Current_Working_Folder//Reports Analytics//202004//202004-t_worc_adults-20200717_1408.xlsx')"
   ]
  },
  {
   "cell_type": "code",
   "execution_count": 3,
   "metadata": {},
   "outputs": [],
   "source": [
    "adult['dob'] = pd.to_datetime(adult['dob'].astype('str'), infer_datetime_format = True)\n",
    "adult['reporting_month'] = pd.to_datetime(adult['reporting_month'].apply(lambda x: f\"{x}01\").astype(str), infer_datetime_format=True)\n",
    "adult['age'] = np.floor((adult['reporting_month'] - adult['dob'])/np.timedelta64(1,'Y'))"
   ]
  },
  {
   "cell_type": "code",
   "execution_count": 4,
   "metadata": {},
   "outputs": [
    {
     "data": {
      "text/plain": [
       "(2318, 74)"
      ]
     },
     "execution_count": 4,
     "metadata": {},
     "output_type": "execute_result"
    }
   ],
   "source": [
    "adult.shape"
   ]
  },
  {
   "cell_type": "code",
   "execution_count": 5,
   "metadata": {},
   "outputs": [
    {
     "data": {
      "text/plain": [
       "Not applicable (e.g., not a work-eligible individual; person living in household and whose income or resources are counted in determining eligibility for or the amount of assistance for the family receiving assistance, but is not in the eligible family receiving assistance or noncustodial parent that the State opted to exclude in determining participation rate).                                                                                                                                                                                                                                                                  1026\n",
       "Exempt, other                                                                                                                                                                                                                                                                                                                                                                                                                                                                                                                                                                                                                                  467\n",
       " Required to participate, but not participating; and not subject to a work sanction for the reporting month.                                                                                                                                                                                                                                                                                                                                                                                                                                                                                                                                   456\n",
       "Required to participate and meeting minimum participation requirements                                                                                                                                                                                                                                                                                                                                                                                                                                                                                                                                                                          94\n",
       "Required to participate, but not participating; subject to sanction for refusing to participate in work activities for the reporting month; and subject to such a sanction for more than 3 months within the preceding 12-month period                                                                                                                                                                                                                                                                                                                                                                                                          67\n",
       "Disregarded from participation rate because both of the following apply: required to participate, but not participating; and subject to sanction for refusing to participate in work activities for the reporting month, but not subject to sanction for more than 3 months within the preceding 12-month period (Note: “subjected to a sanction” for refusing to participate in work activities means the State has actually imposed a penalty to reduce or terminate assistance. During a conciliation or notice period, before the State actually reduces or terminates the family’s grant, a family is not “subjected to a sanction.”)      66\n",
       "Exempt, disabled (not using an extended definition under a State waiver)                                                                                                                                                                                                                                                                                                                                                                                                                                                                                                                                                                        58\n",
       " Deemed engaged in work -- parent or relative (who is the only parent or caretaker relative in the family) with child under age 6 and parent engaged in core work activities for at least 20 hours per week. 18 = Required to participate and participating, but not meeting minimum participation requirements                                                                                                                                                                                                                                                                                                                                 47\n",
       "Required to participate and participating, but not meeting minimum participation requirements.                                                                                                                                                                                                                                                                                                                                                                                                                                                                                                                                                  35\n",
       "Exempt, under a federally recognized good cause domestic violence waiver                                                                                                                                                                                                                                                                                                                                                                                                                                                                                                                                                                         2\n",
       "Name: work_partic_status, dtype: int64"
      ]
     },
     "execution_count": 5,
     "metadata": {},
     "output_type": "execute_result"
    }
   ],
   "source": [
    "adult['work_partic_status'].value_counts()"
   ]
  },
  {
   "cell_type": "code",
   "execution_count": 6,
   "metadata": {},
   "outputs": [
    {
     "data": {
      "text/plain": [
       "count    2318.000000\n",
       "mean       37.565574\n",
       "std        13.337936\n",
       "min        18.000000\n",
       "25%        27.000000\n",
       "50%        34.000000\n",
       "75%        46.000000\n",
       "max        82.000000\n",
       "Name: age, dtype: float64"
      ]
     },
     "execution_count": 6,
     "metadata": {},
     "output_type": "execute_result"
    }
   ],
   "source": [
    "adult['age'].describe()"
   ]
  },
  {
   "cell_type": "code",
   "execution_count": 7,
   "metadata": {},
   "outputs": [
    {
     "data": {
      "text/plain": [
       "Single, never married       1462\n",
       "Married, living together     424\n",
       "Married, but separated       224\n",
       "Divorced                     180\n",
       "Widowed                       28\n",
       "Name: marital_status, dtype: int64"
      ]
     },
     "execution_count": 7,
     "metadata": {},
     "output_type": "execute_result"
    }
   ],
   "source": [
    "adult['marital_status'].value_counts()"
   ]
  },
  {
   "cell_type": "code",
   "execution_count": 8,
   "metadata": {},
   "outputs": [
    {
     "data": {
      "text/plain": [
       "0    2318\n",
       "Name: provid_child_care, dtype: int64"
      ]
     },
     "execution_count": 8,
     "metadata": {},
     "output_type": "execute_result"
    }
   ],
   "source": [
    "adult['provid_child_care'].value_counts()"
   ]
  },
  {
   "cell_type": "code",
   "execution_count": 9,
   "metadata": {},
   "outputs": [
    {
     "data": {
      "text/plain": [
       "Not Parent with minor child in the family                                                        2171\n",
       "Yes, a parent with a minor child in the family and used in two-parent participation rate          136\n",
       "Yes, a parent with a minor child in the family, but not used in two-parent participation rate      11\n",
       "Name: parent_with_minor, dtype: int64"
      ]
     },
     "execution_count": 9,
     "metadata": {},
     "output_type": "execute_result"
    }
   ],
   "source": [
    "adult['parent_with_minor'].value_counts()"
   ]
  },
  {
   "cell_type": "markdown",
   "metadata": {},
   "source": [
    "4.5% (108)of total cases (2398) are 2 Parent cases <br>\n",
    "    \n",
    "\n",
    "95.5% (2290)of total cases are single parent cases"
   ]
  },
  {
   "cell_type": "code",
   "execution_count": null,
   "metadata": {},
   "outputs": [],
   "source": []
  }
 ],
 "metadata": {
  "kernelspec": {
   "display_name": "Python 3",
   "language": "python",
   "name": "python3"
  },
  "language_info": {
   "codemirror_mode": {
    "name": "ipython",
    "version": 3
   },
   "file_extension": ".py",
   "mimetype": "text/x-python",
   "name": "python",
   "nbconvert_exporter": "python",
   "pygments_lexer": "ipython3",
   "version": "3.6.4rc1"
  }
 },
 "nbformat": 4,
 "nbformat_minor": 2
}
