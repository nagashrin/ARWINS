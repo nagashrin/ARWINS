{
 "cells": [
  {
   "cell_type": "code",
   "execution_count": 1,
   "metadata": {
    "scrolled": true
   },
   "outputs": [],
   "source": [
    "import pandas as pd\n",
    "import numpy as np\n",
    "import time\n",
    "import os\n",
    "\n",
    "t = time.localtime()\n",
    "timestamp = time.strftime('%y%m%d-%H%M', t)\n",
    "\n",
    "# read excel\n",
    "df = pd.read_excel('H://Current_Working_Folder//Reports Analytics//202004//202004-t_worc_families-20200717_1408.xlsx')\n",
    "\n",
    "# assign path and reporitng month\n",
    "drive = 'H://Current_Working_Folder//Reports Analytics//'\n",
    "reporting_month = str(df.loc[0,'reporting_month'])\n",
    "\n",
    "# Filter with column names ending with amt, amount, nbr_month\n",
    "df_amt = df.filter(regex = 'amt$|amount$|amount$|nbr_month$|nbr_months', axis='columns')\n",
    "\n",
    "# Describe the filtered dataframe\n",
    "df_des = df_amt.describe()\n",
    "\n",
    "# Write the describe to excel\n",
    "writer = pd.ExcelWriter(drive + reporting_month + '//' + reporting_month + '_' + 'report' + '-' + timestamp + '.xlsx')\n",
    "#df_des.to_excel(writer, index = False)\n",
    "df_des.to_excel(writer, sheet_name='family_stat')\n",
    "writer.save()"
   ]
  },
  {
   "cell_type": "code",
   "execution_count": 2,
   "metadata": {},
   "outputs": [],
   "source": [
    "#df.columns"
   ]
  },
  {
   "cell_type": "code",
   "execution_count": 3,
   "metadata": {},
   "outputs": [
    {
     "data": {
      "text/plain": [
       "(2250, 56)"
      ]
     },
     "execution_count": 3,
     "metadata": {},
     "output_type": "execute_result"
    }
   ],
   "source": [
    "df.shape"
   ]
  },
  {
   "cell_type": "code",
   "execution_count": 4,
   "metadata": {
    "scrolled": true
   },
   "outputs": [
    {
     "data": {
      "text/plain": [
       "No subsidized child care received                                                                                                                 2241\n",
       "Yes, receives child care funded entirely or in part with Federal funds (e.g., receives TANF, CCDF, SSBG, or other federally funded child care)       9\n",
       "Name: subsid_child_care, dtype: int64"
      ]
     },
     "execution_count": 4,
     "metadata": {},
     "output_type": "execute_result"
    }
   ],
   "source": [
    "df['subsid_child_care'].value_counts()"
   ]
  },
  {
   "cell_type": "code",
   "execution_count": 5,
   "metadata": {},
   "outputs": [
    {
     "data": {
      "text/plain": [
       "4086"
      ]
     },
     "execution_count": 5,
     "metadata": {},
     "output_type": "execute_result"
    }
   ],
   "source": [
    "df['subsid_child_care_amt'].sum()"
   ]
  },
  {
   "cell_type": "code",
   "execution_count": 6,
   "metadata": {
    "scrolled": true
   },
   "outputs": [
    {
     "data": {
      "text/plain": [
       "0    2250\n",
       "Name: tanf child care_children_covered, dtype: int64"
      ]
     },
     "execution_count": 6,
     "metadata": {},
     "output_type": "execute_result"
    }
   ],
   "source": [
    "df['tanf child care_children_covered'].value_counts()"
   ]
  },
  {
   "cell_type": "code",
   "execution_count": 7,
   "metadata": {},
   "outputs": [
    {
     "data": {
      "text/plain": [
       "0"
      ]
     },
     "execution_count": 7,
     "metadata": {},
     "output_type": "execute_result"
    }
   ],
   "source": [
    "df['tanf child care_amount'].sum()"
   ]
  },
  {
   "cell_type": "code",
   "execution_count": 8,
   "metadata": {
    "scrolled": true
   },
   "outputs": [],
   "source": [
    "cat = df.drop(df_amt, axis='columns')\n",
    "#cat1 = cat.drop((cat.loc[:,'reporting_month':'stratum']),axis='columns')\n",
    "cat1 = cat.drop(['id','reporting_month','case_number','county_fips_code','stratum','disposition','worker_id',\n",
    "                 'case_manager','area','created_by','updated_by','created_at','updated_at','ans_county',\n",
    "                 'local_office','waiver_grps'], axis='columns')\n",
    "cat2 = cat1.drop(cat1.filter(regex = '^reason|^other'), axis='columns')"
   ]
  },
  {
   "cell_type": "code",
   "execution_count": 9,
   "metadata": {
    "scrolled": true
   },
   "outputs": [
    {
     "name": "stdout",
     "output_type": "stream",
     "text": [
      "No     2118\n",
      "Yes     132\n",
      "Name: reason for amount of reduction_work requirements sanction, dtype: int64\n",
      "---\n",
      "No    2250\n",
      "Name: reason for amount of reduction_Family Sanction for an Adult with No High School Diploma or Equivalent, dtype: int64\n",
      "---\n",
      "No    2250\n",
      "Name: reason for amount of reduction_Sanction for Teen Parent not Attending School, dtype: int64\n",
      "---\n",
      "No     2200\n",
      "Yes      50\n",
      "Name: reason for amount of reduction_Non-Cooperation with Child Support, dtype: int64\n",
      "---\n",
      "No    2250\n",
      "Name: reason for amount of reduction_Failure to Comply with an Individual Responsibility Plan, dtype: int64\n",
      "---\n",
      "No     2249\n",
      "Yes       1\n",
      "Name: reason for amount of reduction_Other Sanction, dtype: int64\n",
      "---\n",
      "0    2250\n",
      "Name: reason for amount of reduction_Recoupment of Prior Overpayment, dtype: int64\n",
      "---\n"
     ]
    }
   ],
   "source": [
    "reason_cat = cat1.filter(regex = '^reason', axis='columns')\n",
    "\n",
    "for c in reason_cat.columns:\n",
    "    print(reason_cat[c].value_counts())\n",
    "    print('---')\n"
   ]
  },
  {
   "cell_type": "code",
   "execution_count": 10,
   "metadata": {},
   "outputs": [],
   "source": [
    "#((df.filter(regex = '^reason'))).head(20)"
   ]
  },
  {
   "cell_type": "code",
   "execution_count": 11,
   "metadata": {
    "scrolled": false
   },
   "outputs": [
    {
     "name": "stdout",
     "output_type": "stream",
     "text": [
      "   category  count\n",
      "0       Tea   2017\n",
      "1  WorkPays    233\n",
      "---\n",
      "     zip_code  count\n",
      "0       71854     77\n",
      "1       72301     70\n",
      "2       72209     61\n",
      "3       72401     54\n",
      "4       72390     44\n",
      "5       72114     43\n",
      "6       72335     43\n",
      "7       72204     39\n",
      "8       72076     36\n",
      "9       72956     36\n",
      "10      72901     35\n",
      "11      72764     32\n",
      "12      71601     32\n",
      "13      72143     31\n",
      "14      72206     31\n",
      "15      72450     29\n",
      "16      72360     29\n",
      "17      71603     28\n",
      "18      72117     28\n",
      "19      72904     27\n",
      "20      72315     27\n",
      "21      71901     25\n",
      "22      71701     25\n",
      "23      72701     24\n",
      "24      72601     23\n",
      "25      72342     23\n",
      "26      71953     23\n",
      "27      72112     22\n",
      "28      71730     21\n",
      "29      72032     20\n",
      "..        ...    ...\n",
      "319     72520      1\n",
      "320     72542      1\n",
      "321     72411      1\n",
      "322     71826      1\n",
      "323     72383      1\n",
      "324     72554      1\n",
      "325     72367      1\n",
      "326     72566      1\n",
      "327     72568      1\n",
      "328     72333      1\n",
      "329     72447      1\n",
      "330     72440      1\n",
      "331     72350      1\n",
      "332     72469      1\n",
      "333     72641      1\n",
      "334     72639      1\n",
      "335     72633      1\n",
      "336     72611      1\n",
      "337     72583      1\n",
      "338     72579      1\n",
      "339     72567      1\n",
      "340     72533      1\n",
      "341     72384      1\n",
      "342     72523      1\n",
      "343     72519      1\n",
      "344     72513      1\n",
      "345     72503      1\n",
      "346     72436      1\n",
      "347     72471      1\n",
      "348     71675      1\n",
      "\n",
      "[349 rows x 2 columns]\n",
      "---\n",
      "                                      funding_stream  count\n",
      "0  Funded, in whole or in part, with Federal TANF...   2250\n",
      "---\n",
      "                       new_applicant  count\n",
      "0     Not newly-approved application   2214\n",
      "1  Yes, a newly-approved application     36\n",
      "---\n",
      "   family_size  count\n",
      "0            2    873\n",
      "1            1    533\n",
      "2            3    493\n",
      "3            4    229\n",
      "4            5     89\n",
      "5            6     24\n",
      "6            7      7\n",
      "7            9      1\n",
      "8            8      1\n",
      "---\n",
      "                                         family_type  count\n",
      "0  Family included only in overall work participa...   1152\n",
      "1            Family with no work-eligible individual   1026\n",
      "2  Two-Parent Family included in both the overall...     68\n",
      "3                                          Not found      4\n",
      "---\n",
      "       subsid_housing  count\n",
      "0  No housing subsidy   2250\n",
      "---\n",
      "                           medical_assist  count\n",
      "0     Does not receive Medical Assistance   1517\n",
      "1   Yes, enrolled in Medicaid and/or CHIP    733\n",
      "---\n",
      "                           food_stamps  count\n",
      "0  Yes, receives food stamp assistance   1671\n",
      "1          Does not receive food stamp    579\n",
      "---\n",
      "                                   subsid_child_care  count\n",
      "0                  No subsidized child care received   2241\n",
      "1  Yes, receives child care funded entirely or in...      9\n",
      "---\n",
      "   tanf child care_children_covered  count\n",
      "0                                 0   2250\n",
      "---\n",
      "  Other, Non-sanction  count\n",
      "0                  No   2250\n",
      "---\n",
      "                                   exempt_time_limit  count\n",
      "0      Family is not exempt from Federal time limit.   1235\n",
      "1   Yes, family is exempt from accrual of months ...   1015\n",
      "---\n",
      "                 new_child_only_fam  count\n",
      "0   No, not a new child-only family   2228\n",
      "1      Yes, a new child-only family     22\n",
      "---\n",
      "                       county  count\n",
      "0                  Washington    112\n",
      "1             Pulaski - North    111\n",
      "2                  Crittenden    104\n",
      "3                   Sebastian     96\n",
      "4                      Miller     86\n",
      "5                   Craighead     84\n",
      "6         Pulaski - Southwest     82\n",
      "7                   Jefferson     81\n",
      "8                    Phillips     80\n",
      "9             Pulaski - South     77\n",
      "10                     Benton     65\n",
      "11                      White     58\n",
      "12                 St Francis     57\n",
      "13     Pulaski - Jacksonville     55\n",
      "14                    Garland     51\n",
      "15                   Crawford     49\n",
      "16                   Faulkner     47\n",
      "17  Mississippi - Blytheville     34\n",
      "18                   Ouachita     33\n",
      "19                     Greene     33\n",
      "20                       Polk     33\n",
      "21                     Ashley     31\n",
      "22                        Lee     30\n",
      "23                      Boone     30\n",
      "24                   Columbia     27\n",
      "25                   Poinsett     27\n",
      "26             Pulaski - East     26\n",
      "27                       Pope     26\n",
      "28                     Conway     26\n",
      "29                    Jackson     25\n",
      "..                        ...    ...\n",
      "52                     Nevada     11\n",
      "53                     Howard     11\n",
      "54         Logan - Booneville     10\n",
      "55                      Grant     10\n",
      "56                      Scott      9\n",
      "57                      Clark      9\n",
      "58                      Izard      9\n",
      "59                     Dallas      8\n",
      "60                    Madison      8\n",
      "61            Monroe-Brinkley      8\n",
      "62                  Lafayette      8\n",
      "63                  Cleveland      8\n",
      "64                      Perry      7\n",
      "65                   Woodruff      7\n",
      "66                  Van Buren      7\n",
      "67                 Hot Spring      7\n",
      "68                      Stone      7\n",
      "69              Logan - Paris      6\n",
      "70         Arkansas-Stuttgart      6\n",
      "71                     Searcy      6\n",
      "72                     Newton      6\n",
      "73                   Randolph      6\n",
      "74                    Prairie      4\n",
      "75            Arkansas-Dewitt      4\n",
      "76                   Franklin      4\n",
      "77                 Montgomery      4\n",
      "78                       Yell      2\n",
      "79           Monroe-Clarendon      2\n",
      "80                    Carroll      1\n",
      "81                       Pike      1\n",
      "\n",
      "[82 rows x 2 columns]\n",
      "---\n"
     ]
    }
   ],
   "source": [
    "for c in cat2.columns:\n",
    "    print((cat2[c].value_counts().to_frame('count').rename_axis(c)).reset_index())\n",
    "    print('---')"
   ]
  },
  {
   "cell_type": "code",
   "execution_count": 12,
   "metadata": {},
   "outputs": [
    {
     "data": {
      "text/html": [
       "<div>\n",
       "<style scoped>\n",
       "    .dataframe tbody tr th:only-of-type {\n",
       "        vertical-align: middle;\n",
       "    }\n",
       "\n",
       "    .dataframe tbody tr th {\n",
       "        vertical-align: top;\n",
       "    }\n",
       "\n",
       "    .dataframe thead th {\n",
       "        text-align: right;\n",
       "    }\n",
       "</style>\n",
       "<table border=\"1\" class=\"dataframe\">\n",
       "  <thead>\n",
       "    <tr style=\"text-align: right;\">\n",
       "      <th></th>\n",
       "      <th></th>\n",
       "      <th>case_count</th>\n",
       "    </tr>\n",
       "    <tr>\n",
       "      <th>category</th>\n",
       "      <th>family_type</th>\n",
       "      <th></th>\n",
       "    </tr>\n",
       "  </thead>\n",
       "  <tbody>\n",
       "    <tr>\n",
       "      <th rowspan=\"4\" valign=\"top\">Tea</th>\n",
       "      <th>Family included only in overall work participation rate (i.e., family includes one or more workeligible individuals but does not meet definition of a twoparent family</th>\n",
       "      <td>934</td>\n",
       "    </tr>\n",
       "    <tr>\n",
       "      <th>Family with no work-eligible individual</th>\n",
       "      <td>1026</td>\n",
       "    </tr>\n",
       "    <tr>\n",
       "      <th>Not found</th>\n",
       "      <td>4</td>\n",
       "    </tr>\n",
       "    <tr>\n",
       "      <th>Two-Parent Family included in both the overall and                      two-parent work participation rates (i.e., family includes                      two work-eligible parents and meets the definition of a two-parent family)</th>\n",
       "      <td>53</td>\n",
       "    </tr>\n",
       "    <tr>\n",
       "      <th rowspan=\"2\" valign=\"top\">WorkPays</th>\n",
       "      <th>Family included only in overall work participation rate (i.e., family includes one or more workeligible individuals but does not meet definition of a twoparent family</th>\n",
       "      <td>218</td>\n",
       "    </tr>\n",
       "    <tr>\n",
       "      <th>Two-Parent Family included in both the overall and                      two-parent work participation rates (i.e., family includes                      two work-eligible parents and meets the definition of a two-parent family)</th>\n",
       "      <td>15</td>\n",
       "    </tr>\n",
       "  </tbody>\n",
       "</table>\n",
       "</div>"
      ],
      "text/plain": [
       "                                                             case_count\n",
       "category family_type                                                   \n",
       "Tea      Family included only in overall work participat...         934\n",
       "         Family with no work-eligible individual                   1026\n",
       "         Not found                                                    4\n",
       "         Two-Parent Family included in both the overall ...          53\n",
       "WorkPays Family included only in overall work participat...         218\n",
       "         Two-Parent Family included in both the overall ...          15"
      ]
     },
     "execution_count": 12,
     "metadata": {},
     "output_type": "execute_result"
    }
   ],
   "source": [
    "worc_fam = df\n",
    "fam_type = worc_fam.groupby(['category','family_type']).agg({'case_number' : 'nunique'}).rename({'case_number': 'case_count'}, axis='columns')#.reset_index()\n",
    "fam_type"
   ]
  },
  {
   "cell_type": "code",
   "execution_count": null,
   "metadata": {},
   "outputs": [],
   "source": []
  },
  {
   "cell_type": "code",
   "execution_count": null,
   "metadata": {},
   "outputs": [],
   "source": []
  },
  {
   "cell_type": "code",
   "execution_count": null,
   "metadata": {},
   "outputs": [],
   "source": []
  },
  {
   "cell_type": "code",
   "execution_count": null,
   "metadata": {},
   "outputs": [],
   "source": []
  },
  {
   "cell_type": "code",
   "execution_count": null,
   "metadata": {},
   "outputs": [],
   "source": []
  }
 ],
 "metadata": {
  "kernelspec": {
   "display_name": "Python 3",
   "language": "python",
   "name": "python3"
  },
  "language_info": {
   "codemirror_mode": {
    "name": "ipython",
    "version": 3
   },
   "file_extension": ".py",
   "mimetype": "text/x-python",
   "name": "python",
   "nbconvert_exporter": "python",
   "pygments_lexer": "ipython3",
   "version": "3.6.4rc1"
  }
 },
 "nbformat": 4,
 "nbformat_minor": 2
}
