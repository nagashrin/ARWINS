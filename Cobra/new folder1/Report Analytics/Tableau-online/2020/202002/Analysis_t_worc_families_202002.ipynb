{
 "cells": [
  {
   "cell_type": "code",
   "execution_count": 1,
   "metadata": {
    "scrolled": true
   },
   "outputs": [],
   "source": [
    "import pandas as pd\n",
    "import numpy as np\n",
    "import time\n",
    "import os\n",
    "\n",
    "t = time.localtime()\n",
    "timestamp = time.strftime('%y%m%d-%H%M', t)\n",
    "\n",
    "# read excel\n",
    "df = pd.read_excel('H://Current_Working_Folder//Reports Analytics//202002//202002-t_worc_families-20200512_0903.xlsx')\n",
    "\n",
    "# assign path and reporitng month\n",
    "drive = 'H://Current_Working_Folder//Reports Analytics//'\n",
    "reporting_month = str(df.loc[0,'reporting_month'])\n",
    "\n",
    "# Filter with column names ending with amt, amount, nbr_month\n",
    "df_amt = df.filter(regex = 'amt$|amount$|amount$|nbr_month$|nbr_months', axis='columns')\n",
    "\n",
    "# Describe the filtered dataframe\n",
    "df_des = df_amt.describe()\n",
    "\n",
    "# Write the describe to excel\n",
    "writer = pd.ExcelWriter(drive + reporting_month + '//' + reporting_month + '_' + 'report' + '-' + timestamp + '.xlsx')\n",
    "#df_des.to_excel(writer, index = False)\n",
    "df_des.to_excel(writer, sheet_name='family_stat')\n",
    "writer.save()"
   ]
  },
  {
   "cell_type": "code",
   "execution_count": 3,
   "metadata": {},
   "outputs": [],
   "source": [
    "#df.columns"
   ]
  },
  {
   "cell_type": "code",
   "execution_count": 4,
   "metadata": {},
   "outputs": [
    {
     "data": {
      "text/plain": [
       "(2268, 56)"
      ]
     },
     "execution_count": 4,
     "metadata": {},
     "output_type": "execute_result"
    }
   ],
   "source": [
    "df.shape"
   ]
  },
  {
   "cell_type": "code",
   "execution_count": 5,
   "metadata": {
    "scrolled": true
   },
   "outputs": [
    {
     "data": {
      "text/plain": [
       "No subsidized child care received                                                                                                                 2208\n",
       "Yes, receives child care funded entirely or in part with Federal funds (e.g., receives TANF, CCDF, SSBG, or other federally funded child care)      60\n",
       "Name: subsid_child_care, dtype: int64"
      ]
     },
     "execution_count": 5,
     "metadata": {},
     "output_type": "execute_result"
    }
   ],
   "source": [
    "df['subsid_child_care'].value_counts()"
   ]
  },
  {
   "cell_type": "code",
   "execution_count": 6,
   "metadata": {},
   "outputs": [
    {
     "data": {
      "text/plain": [
       "40049"
      ]
     },
     "execution_count": 6,
     "metadata": {},
     "output_type": "execute_result"
    }
   ],
   "source": [
    "df['subsid_child_care_amt'].sum()"
   ]
  },
  {
   "cell_type": "code",
   "execution_count": 7,
   "metadata": {
    "scrolled": true
   },
   "outputs": [
    {
     "data": {
      "text/plain": [
       "0    2268\n",
       "Name: tanf child care_children_covered, dtype: int64"
      ]
     },
     "execution_count": 7,
     "metadata": {},
     "output_type": "execute_result"
    }
   ],
   "source": [
    "df['tanf child care_children_covered'].value_counts()"
   ]
  },
  {
   "cell_type": "code",
   "execution_count": 8,
   "metadata": {},
   "outputs": [
    {
     "data": {
      "text/plain": [
       "0"
      ]
     },
     "execution_count": 8,
     "metadata": {},
     "output_type": "execute_result"
    }
   ],
   "source": [
    "df['tanf child care_amount'].sum()"
   ]
  },
  {
   "cell_type": "code",
   "execution_count": 9,
   "metadata": {
    "scrolled": true
   },
   "outputs": [],
   "source": [
    "cat = df.drop(df_amt, axis='columns')\n",
    "#cat1 = cat.drop((cat.loc[:,'reporting_month':'stratum']),axis='columns')\n",
    "cat1 = cat.drop(['id','reporting_month','case_number','county_fips_code','stratum','disposition','worker_id',\n",
    "                 'case_manager','area','created_by','updated_by','created_at','updated_at','ans_county',\n",
    "                 'local_office','waiver_grps'], axis='columns')\n",
    "cat2 = cat1.drop(cat1.filter(regex = '^reason|^other'), axis='columns')"
   ]
  },
  {
   "cell_type": "code",
   "execution_count": 10,
   "metadata": {
    "scrolled": true
   },
   "outputs": [
    {
     "name": "stdout",
     "output_type": "stream",
     "text": [
      "No     2026\n",
      "Yes     242\n",
      "Name: reason for amount of reduction_work requirements sanction, dtype: int64\n",
      "---\n",
      "No    2268\n",
      "Name: reason for amount of reduction_Family Sanction for an Adult with No High School Diploma or Equivalent, dtype: int64\n",
      "---\n",
      "No    2268\n",
      "Name: reason for amount of reduction_Sanction for Teen Parent not Attending School, dtype: int64\n",
      "---\n",
      "No     2149\n",
      "Yes     119\n",
      "Name: reason for amount of reduction_Non-Cooperation with Child Support, dtype: int64\n",
      "---\n",
      "No     2266\n",
      "Yes       2\n",
      "Name: reason for amount of reduction_Failure to Comply with an Individual Responsibility Plan, dtype: int64\n",
      "---\n",
      "No     2263\n",
      "Yes       5\n",
      "Name: reason for amount of reduction_Other Sanction, dtype: int64\n",
      "---\n",
      "0    2268\n",
      "Name: reason for amount of reduction_Recoupment of Prior Overpayment, dtype: int64\n",
      "---\n"
     ]
    }
   ],
   "source": [
    "reason_cat = cat1.filter(regex = '^reason', axis='columns')\n",
    "\n",
    "for c in reason_cat.columns:\n",
    "    print(reason_cat[c].value_counts())\n",
    "    print('---')\n"
   ]
  },
  {
   "cell_type": "code",
   "execution_count": 11,
   "metadata": {},
   "outputs": [],
   "source": [
    "#((df.filter(regex = '^reason'))).head(20)"
   ]
  },
  {
   "cell_type": "code",
   "execution_count": 12,
   "metadata": {
    "scrolled": false
   },
   "outputs": [
    {
     "name": "stdout",
     "output_type": "stream",
     "text": [
      "   category  count\n",
      "0       Tea   2032\n",
      "1  WorkPays    236\n",
      "---\n",
      "     zip_code  count\n",
      "0       71854     79\n",
      "1       72209     64\n",
      "2       72301     64\n",
      "3       72401     56\n",
      "4       72114     42\n",
      "5       72390     41\n",
      "6       72204     40\n",
      "7       72335     40\n",
      "8       72956     39\n",
      "9       72076     35\n",
      "10      71601     34\n",
      "11      72143     34\n",
      "12      72315     34\n",
      "13      72764     33\n",
      "14      72901     32\n",
      "15      72360     32\n",
      "16      72904     31\n",
      "17      72206     31\n",
      "18      71603     30\n",
      "19      72117     27\n",
      "20      72450     27\n",
      "21      72032     25\n",
      "22      71953     24\n",
      "23      71701     24\n",
      "24      72342     23\n",
      "25      71913     22\n",
      "26      71730     22\n",
      "27      72601     21\n",
      "28      71901     21\n",
      "29      72701     20\n",
      "..        ...    ...\n",
      "332     72513      1\n",
      "333     72479      1\n",
      "334     72471      1\n",
      "335     72469      1\n",
      "336     72459      1\n",
      "337     72735      1\n",
      "338     85035      1\n",
      "339     71838      1\n",
      "340     72933      1\n",
      "341     71826      1\n",
      "342     71802      1\n",
      "343     71752      1\n",
      "344     71675      1\n",
      "345     71670      1\n",
      "346     71658      1\n",
      "347     71652      1\n",
      "348     72969      1\n",
      "349     72959      1\n",
      "350     38112      1\n",
      "351     72749      1\n",
      "352     72923      1\n",
      "353     74960      1\n",
      "354     72863      1\n",
      "355     72845      1\n",
      "356     72837      1\n",
      "357     72821      1\n",
      "358     72811      1\n",
      "359     72757      1\n",
      "360     72751      1\n",
      "361     71677      1\n",
      "\n",
      "[362 rows x 2 columns]\n",
      "---\n",
      "                                      funding_stream  count\n",
      "0  Funded, in whole or in part, with Federal TANF...   2268\n",
      "---\n",
      "                       new_applicant  count\n",
      "0     Not newly-approved application   2249\n",
      "1  Yes, a newly-approved application     19\n",
      "---\n",
      "   family_size  count\n",
      "0            2    881\n",
      "1            1    550\n",
      "2            3    487\n",
      "3            4    225\n",
      "4            5     92\n",
      "5            6     26\n",
      "6            7      5\n",
      "7            9      1\n",
      "8            8      1\n",
      "---\n",
      "                                         family_type  count\n",
      "0  Family included only in overall work participa...   1140\n",
      "1            Family with no work-eligible individual   1067\n",
      "2  Two-Parent Family included in both the overall...     61\n",
      "---\n",
      "       subsid_housing  count\n",
      "0  No housing subsidy   2268\n",
      "---\n",
      "                           medical_assist  count\n",
      "0     Does not receive Medical Assistance   1513\n",
      "1   Yes, enrolled in Medicaid and/or CHIP    755\n",
      "---\n",
      "                           food_stamps  count\n",
      "0  Yes, receives food stamp assistance   1543\n",
      "1          Does not receive food stamp    725\n",
      "---\n",
      "                                   subsid_child_care  count\n",
      "0                  No subsidized child care received   2208\n",
      "1  Yes, receives child care funded entirely or in...     60\n",
      "---\n",
      "   tanf child care_children_covered  count\n",
      "0                                 0   2268\n",
      "---\n",
      "  Other, Non-sanction  count\n",
      "0                  No   2268\n",
      "---\n",
      "                                   exempt_time_limit  count\n",
      "0      Family is not exempt from Federal time limit.   1214\n",
      "1   Yes, family is exempt from accrual of months ...   1054\n",
      "---\n",
      "                 new_child_only_fam  count\n",
      "0   No, not a new child-only family   2250\n",
      "1      Yes, a new child-only family     18\n",
      "---\n",
      "                       county  count\n",
      "0             Pulaski - North    111\n",
      "1                  Washington    109\n",
      "2                   Sebastian    102\n",
      "3                  Crittenden     99\n",
      "4         Pulaski - Southwest     92\n",
      "5                   Jefferson     89\n",
      "6                      Miller     87\n",
      "7                   Craighead     85\n",
      "8                    Phillips     77\n",
      "9             Pulaski - South     69\n",
      "10                      White     66\n",
      "11                     Benton     62\n",
      "12     Pulaski - Jacksonville     55\n",
      "13                 St Francis     55\n",
      "14                   Faulkner     52\n",
      "15                   Crawford     50\n",
      "16                    Garland     50\n",
      "17  Mississippi - Blytheville     41\n",
      "18                   Poinsett     35\n",
      "19                        Lee     33\n",
      "20                       Polk     31\n",
      "21                     Greene     31\n",
      "22                   Ouachita     30\n",
      "23                     Ashley     29\n",
      "24             Pulaski - East     28\n",
      "25                     Conway     27\n",
      "26                      Boone     27\n",
      "27                      Union     26\n",
      "28                   Columbia     26\n",
      "29                     Baxter     26\n",
      "..                        ...    ...\n",
      "52                  Cleveland     11\n",
      "53                     Marion     11\n",
      "54                      Grant      9\n",
      "55         Logan - Booneville      9\n",
      "56                     Fulton      9\n",
      "57                     Dallas      9\n",
      "58                    Madison      8\n",
      "59                      Stone      8\n",
      "60                  Van Buren      8\n",
      "61         Arkansas-Stuttgart      8\n",
      "62                   Randolph      8\n",
      "63            Monroe-Brinkley      8\n",
      "64                      Izard      8\n",
      "65                   Woodruff      7\n",
      "66                      Perry      7\n",
      "67                 Hot Spring      7\n",
      "68                      Clark      7\n",
      "69                     Newton      6\n",
      "70                  Lafayette      6\n",
      "71                      Scott      6\n",
      "72              Logan - Paris      6\n",
      "73                     Searcy      6\n",
      "74                    Prairie      5\n",
      "75            Arkansas-Dewitt      4\n",
      "76                   Franklin      3\n",
      "77                 Montgomery      3\n",
      "78           Monroe-Clarendon      2\n",
      "79                    Carroll      1\n",
      "80                       Yell      1\n",
      "81                       Pike      1\n",
      "\n",
      "[82 rows x 2 columns]\n",
      "---\n"
     ]
    }
   ],
   "source": [
    "for c in cat2.columns:\n",
    "    print((cat2[c].value_counts().to_frame('count').rename_axis(c)).reset_index())\n",
    "    print('---')"
   ]
  },
  {
   "cell_type": "code",
   "execution_count": 13,
   "metadata": {},
   "outputs": [
    {
     "data": {
      "text/html": [
       "<div>\n",
       "<style scoped>\n",
       "    .dataframe tbody tr th:only-of-type {\n",
       "        vertical-align: middle;\n",
       "    }\n",
       "\n",
       "    .dataframe tbody tr th {\n",
       "        vertical-align: top;\n",
       "    }\n",
       "\n",
       "    .dataframe thead th {\n",
       "        text-align: right;\n",
       "    }\n",
       "</style>\n",
       "<table border=\"1\" class=\"dataframe\">\n",
       "  <thead>\n",
       "    <tr style=\"text-align: right;\">\n",
       "      <th></th>\n",
       "      <th></th>\n",
       "      <th>case_count</th>\n",
       "    </tr>\n",
       "    <tr>\n",
       "      <th>category</th>\n",
       "      <th>family_type</th>\n",
       "      <th></th>\n",
       "    </tr>\n",
       "  </thead>\n",
       "  <tbody>\n",
       "    <tr>\n",
       "      <th rowspan=\"3\" valign=\"top\">Tea</th>\n",
       "      <th>Family included only in overall work participation rate (i.e., family includes one or more workeligible individuals but does not meet definition of a twoparent family</th>\n",
       "      <td>919</td>\n",
       "    </tr>\n",
       "    <tr>\n",
       "      <th>Family with no work-eligible individual</th>\n",
       "      <td>1067</td>\n",
       "    </tr>\n",
       "    <tr>\n",
       "      <th>Two-Parent Family included in both the overall and                      two-parent work participation rates (i.e., family includes                      two work-eligible parents and meets the definition of a two-parent family)</th>\n",
       "      <td>46</td>\n",
       "    </tr>\n",
       "    <tr>\n",
       "      <th rowspan=\"2\" valign=\"top\">WorkPays</th>\n",
       "      <th>Family included only in overall work participation rate (i.e., family includes one or more workeligible individuals but does not meet definition of a twoparent family</th>\n",
       "      <td>221</td>\n",
       "    </tr>\n",
       "    <tr>\n",
       "      <th>Two-Parent Family included in both the overall and                      two-parent work participation rates (i.e., family includes                      two work-eligible parents and meets the definition of a two-parent family)</th>\n",
       "      <td>15</td>\n",
       "    </tr>\n",
       "  </tbody>\n",
       "</table>\n",
       "</div>"
      ],
      "text/plain": [
       "                                                             case_count\n",
       "category family_type                                                   \n",
       "Tea      Family included only in overall work participat...         919\n",
       "         Family with no work-eligible individual                   1067\n",
       "         Two-Parent Family included in both the overall ...          46\n",
       "WorkPays Family included only in overall work participat...         221\n",
       "         Two-Parent Family included in both the overall ...          15"
      ]
     },
     "execution_count": 13,
     "metadata": {},
     "output_type": "execute_result"
    }
   ],
   "source": [
    "worc_fam = df\n",
    "fam_type = worc_fam.groupby(['category','family_type']).agg({'case_number' : 'nunique'}).rename({'case_number': 'case_count'}, axis='columns')#.reset_index()\n",
    "fam_type"
   ]
  },
  {
   "cell_type": "code",
   "execution_count": null,
   "metadata": {},
   "outputs": [],
   "source": []
  },
  {
   "cell_type": "code",
   "execution_count": null,
   "metadata": {},
   "outputs": [],
   "source": []
  },
  {
   "cell_type": "code",
   "execution_count": null,
   "metadata": {},
   "outputs": [],
   "source": []
  },
  {
   "cell_type": "code",
   "execution_count": null,
   "metadata": {},
   "outputs": [],
   "source": []
  },
  {
   "cell_type": "code",
   "execution_count": null,
   "metadata": {},
   "outputs": [],
   "source": []
  }
 ],
 "metadata": {
  "kernelspec": {
   "display_name": "Python 3",
   "language": "python",
   "name": "python3"
  },
  "language_info": {
   "codemirror_mode": {
    "name": "ipython",
    "version": 3
   },
   "file_extension": ".py",
   "mimetype": "text/x-python",
   "name": "python",
   "nbconvert_exporter": "python",
   "pygments_lexer": "ipython3",
   "version": "3.6.4rc1"
  }
 },
 "nbformat": 4,
 "nbformat_minor": 2
}
