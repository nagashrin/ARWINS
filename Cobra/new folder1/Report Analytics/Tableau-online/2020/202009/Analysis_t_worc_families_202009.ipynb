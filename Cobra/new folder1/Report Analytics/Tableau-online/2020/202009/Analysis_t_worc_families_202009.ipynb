{
 "cells": [
  {
   "cell_type": "code",
   "execution_count": 1,
   "metadata": {
    "scrolled": true
   },
   "outputs": [],
   "source": [
    "import pandas as pd\n",
    "import numpy as np\n",
    "import time\n",
    "import os\n",
    "\n",
    "t = time.localtime()\n",
    "timestamp = time.strftime('%y%m%d-%H%M', t)\n",
    "\n",
    "# read excel\n",
    "df = pd.read_excel('H://Current_Working_Folder//Reports Analytics//202009//202009-t_worc_families-20201125_1134.xlsx')\n",
    "\n",
    "# assign path and reporitng month\n",
    "drive = 'H://Current_Working_Folder//Reports Analytics//'\n",
    "reporting_month = str(df.loc[0,'reporting_month'])\n",
    "\n",
    "# Filter with column names ending with amt, amount, nbr_month\n",
    "df_amt = df.filter(regex = 'amt$|amount$|amount$|nbr_month$|nbr_months', axis='columns')\n",
    "\n",
    "# Describe the filtered dataframe\n",
    "df_des = df_amt.describe()\n",
    "\n",
    "# Write the describe to excel\n",
    "writer = pd.ExcelWriter(drive + reporting_month + '//' + reporting_month + '_' + 'report' + '-' + timestamp + '.xlsx')\n",
    "#df_des.to_excel(writer, index = False)\n",
    "df_des.to_excel(writer, sheet_name='family_stat')\n",
    "writer.save()"
   ]
  },
  {
   "cell_type": "code",
   "execution_count": 2,
   "metadata": {},
   "outputs": [],
   "source": [
    "#df.columns"
   ]
  },
  {
   "cell_type": "code",
   "execution_count": 3,
   "metadata": {},
   "outputs": [
    {
     "data": {
      "text/plain": [
       "(2110, 56)"
      ]
     },
     "execution_count": 3,
     "metadata": {},
     "output_type": "execute_result"
    }
   ],
   "source": [
    "df.shape"
   ]
  },
  {
   "cell_type": "code",
   "execution_count": 4,
   "metadata": {
    "scrolled": true
   },
   "outputs": [
    {
     "data": {
      "text/plain": [
       "No subsidized child care received    2110\n",
       "Name: subsid_child_care, dtype: int64"
      ]
     },
     "execution_count": 4,
     "metadata": {},
     "output_type": "execute_result"
    }
   ],
   "source": [
    "df['subsid_child_care'].value_counts()"
   ]
  },
  {
   "cell_type": "code",
   "execution_count": 5,
   "metadata": {},
   "outputs": [
    {
     "data": {
      "text/plain": [
       "0"
      ]
     },
     "execution_count": 5,
     "metadata": {},
     "output_type": "execute_result"
    }
   ],
   "source": [
    "df['subsid_child_care_amt'].sum()"
   ]
  },
  {
   "cell_type": "code",
   "execution_count": 6,
   "metadata": {
    "scrolled": true
   },
   "outputs": [
    {
     "data": {
      "text/plain": [
       "0    2110\n",
       "Name: tanf child care_children_covered, dtype: int64"
      ]
     },
     "execution_count": 6,
     "metadata": {},
     "output_type": "execute_result"
    }
   ],
   "source": [
    "df['tanf child care_children_covered'].value_counts()"
   ]
  },
  {
   "cell_type": "code",
   "execution_count": 7,
   "metadata": {},
   "outputs": [
    {
     "data": {
      "text/plain": [
       "0"
      ]
     },
     "execution_count": 7,
     "metadata": {},
     "output_type": "execute_result"
    }
   ],
   "source": [
    "df['tanf child care_amount'].sum()"
   ]
  },
  {
   "cell_type": "code",
   "execution_count": 8,
   "metadata": {
    "scrolled": true
   },
   "outputs": [],
   "source": [
    "cat = df.drop(df_amt, axis='columns')\n",
    "#cat1 = cat.drop((cat.loc[:,'reporting_month':'stratum']),axis='columns')\n",
    "cat1 = cat.drop(['id','reporting_month','case_number','county_fips_code','stratum','disposition','worker_id',\n",
    "                 'case_manager','area','created_by','updated_by','created_at','updated_at','ans_county',\n",
    "                 'local_office','waiver_grps'], axis='columns')\n",
    "cat2 = cat1.drop(cat1.filter(regex = '^reason|^other'), axis='columns')"
   ]
  },
  {
   "cell_type": "code",
   "execution_count": 9,
   "metadata": {
    "scrolled": true
   },
   "outputs": [
    {
     "name": "stdout",
     "output_type": "stream",
     "text": [
      "No     1917\n",
      "Yes     193\n",
      "Name: reason for amount of reduction_work requirements sanction, dtype: int64\n",
      "---\n",
      "No    2110\n",
      "Name: reason for amount of reduction_Family Sanction for an Adult with No High School Diploma or Equivalent, dtype: int64\n",
      "---\n",
      "No    2110\n",
      "Name: reason for amount of reduction_Sanction for Teen Parent not Attending School, dtype: int64\n",
      "---\n",
      "No     2036\n",
      "Yes      74\n",
      "Name: reason for amount of reduction_Non-Cooperation with Child Support, dtype: int64\n",
      "---\n",
      "No     2108\n",
      "Yes       2\n",
      "Name: reason for amount of reduction_Failure to Comply with an Individual Responsibility Plan, dtype: int64\n",
      "---\n",
      "No     2108\n",
      "Yes       2\n",
      "Name: reason for amount of reduction_Other Sanction, dtype: int64\n",
      "---\n",
      "0    2110\n",
      "Name: reason for amount of reduction_Recoupment of Prior Overpayment, dtype: int64\n",
      "---\n"
     ]
    }
   ],
   "source": [
    "reason_cat = cat1.filter(regex = '^reason', axis='columns')\n",
    "\n",
    "for c in reason_cat.columns:\n",
    "    print(reason_cat[c].value_counts())\n",
    "    print('---')\n"
   ]
  },
  {
   "cell_type": "code",
   "execution_count": 10,
   "metadata": {},
   "outputs": [],
   "source": [
    "#((df.filter(regex = '^reason'))).head(20)"
   ]
  },
  {
   "cell_type": "code",
   "execution_count": 11,
   "metadata": {
    "scrolled": false
   },
   "outputs": [
    {
     "name": "stdout",
     "output_type": "stream",
     "text": [
      "   category  count\n",
      "0       Tea   1959\n",
      "1  WorkPays    151\n",
      "---\n",
      "     zip_code  count\n",
      "0       71854     72\n",
      "1       72301     64\n",
      "2       72209     60\n",
      "3       72401     44\n",
      "4       72335     43\n",
      "5       72114     41\n",
      "6       72390     39\n",
      "7       72764     37\n",
      "8       72901     34\n",
      "9       72076     32\n",
      "10      72204     32\n",
      "11      72315     31\n",
      "12      72450     31\n",
      "13      72117     29\n",
      "14      72206     28\n",
      "15      71601     28\n",
      "16      72904     28\n",
      "17      72956     27\n",
      "18      72342     26\n",
      "19      72701     25\n",
      "20      72360     25\n",
      "21      72143     25\n",
      "22      72118     24\n",
      "23      72601     24\n",
      "24      72112     23\n",
      "25      71603     22\n",
      "26      71913     20\n",
      "27      72032     19\n",
      "28      72370     19\n",
      "29      72758     18\n",
      "..        ...    ...\n",
      "320     72567      1\n",
      "321     72766      1\n",
      "322     72537      1\n",
      "323     72533      1\n",
      "324     72523      1\n",
      "325     72519      1\n",
      "326     72513      1\n",
      "327     72745      1\n",
      "328     72718      1\n",
      "329     72714      1\n",
      "330     72917      1\n",
      "331     92020      1\n",
      "332     75504      1\n",
      "333     75238      1\n",
      "334     72969      1\n",
      "335     70904      1\n",
      "336     72949      1\n",
      "337     72941      1\n",
      "338     72654      1\n",
      "339     74960      1\n",
      "340     72811      1\n",
      "341     72702      1\n",
      "342     72863      1\n",
      "343     72857      1\n",
      "344     72853      1\n",
      "345     72845      1\n",
      "346     72843      1\n",
      "347     72833      1\n",
      "348     72821      1\n",
      "349     71675      1\n",
      "\n",
      "[350 rows x 2 columns]\n",
      "---\n",
      "                                      funding_stream  count\n",
      "0  Funded, in whole or in part, with Federal TANF...   2110\n",
      "---\n",
      "                       new_applicant  count\n",
      "0     Not newly-approved application   2089\n",
      "1  Yes, a newly-approved application     21\n",
      "---\n",
      "   family_size  count\n",
      "0            2    838\n",
      "1            1    496\n",
      "2            3    463\n",
      "3            4    200\n",
      "4            5     85\n",
      "5            6     20\n",
      "6            7      5\n",
      "7           11      1\n",
      "8            9      1\n",
      "9            8      1\n",
      "---\n",
      "                                         family_type  count\n",
      "0  Family included only in overall work participa...   1067\n",
      "1            Family with no work-eligible individual    975\n",
      "2  Two-Parent Family included in both the overall...     68\n",
      "---\n",
      "       subsid_housing  count\n",
      "0  No housing subsidy   2109\n",
      "1      Public housing      1\n",
      "---\n",
      "                           medical_assist  count\n",
      "0     Does not receive Medical Assistance   1406\n",
      "1   Yes, enrolled in Medicaid and/or CHIP    704\n",
      "---\n",
      "                           food_stamps  count\n",
      "0  Yes, receives food stamp assistance   1403\n",
      "1          Does not receive food stamp    707\n",
      "---\n",
      "                   subsid_child_care  count\n",
      "0  No subsidized child care received   2110\n",
      "---\n",
      "   tanf child care_children_covered  count\n",
      "0                                 0   2110\n",
      "---\n",
      "  Other, Non-sanction  count\n",
      "0                  No   2110\n",
      "---\n",
      "                                   exempt_time_limit  count\n",
      "0      Family is not exempt from Federal time limit.   1144\n",
      "1   Yes, family is exempt from accrual of months ...    966\n",
      "---\n",
      "                 new_child_only_fam  count\n",
      "0   No, not a new child-only family   2102\n",
      "1      Yes, a new child-only family      8\n",
      "---\n",
      "                       county  count\n",
      "0                  Washington    124\n",
      "1             Pulaski - North    109\n",
      "2                  Crittenden    101\n",
      "3                   Sebastian    100\n",
      "4         Pulaski - Southwest     87\n",
      "5                      Miller     79\n",
      "6                      Benton     78\n",
      "7             Pulaski - South     78\n",
      "8                    Phillips     74\n",
      "9                   Craighead     69\n",
      "10                  Jefferson     69\n",
      "11                 St Francis     54\n",
      "12     Pulaski - Jacksonville     45\n",
      "13                    Garland     45\n",
      "14  Mississippi - Blytheville     41\n",
      "15                   Faulkner     41\n",
      "16                      White     41\n",
      "17                   Crawford     38\n",
      "18                     Greene     37\n",
      "19                      Boone     30\n",
      "20                   Poinsett     29\n",
      "21               Independence     27\n",
      "22                     Ashley     27\n",
      "23                        Lee     27\n",
      "24                      Desha     26\n",
      "25                   Columbia     26\n",
      "26                     Chicot     25\n",
      "27                   Ouachita     24\n",
      "28                    Jackson     24\n",
      "29                     Baxter     23\n",
      "..                        ...    ...\n",
      "52            Monroe-Brinkley     10\n",
      "53                      Sharp      9\n",
      "54              Logan - Paris      9\n",
      "55                      Izard      8\n",
      "56         Logan - Booneville      8\n",
      "57                 Hot Spring      8\n",
      "58               Little River      8\n",
      "59                      Scott      8\n",
      "60                  Lafayette      8\n",
      "61                      Stone      8\n",
      "62                     Newton      8\n",
      "63                    Madison      8\n",
      "64         Arkansas-Stuttgart      7\n",
      "65                      Grant      7\n",
      "66                     Nevada      7\n",
      "67                     Dallas      6\n",
      "68                     Fulton      6\n",
      "69                  Van Buren      5\n",
      "70                 Montgomery      5\n",
      "71                  Cleveland      5\n",
      "72                      Perry      4\n",
      "73                    Prairie      4\n",
      "74                     Searcy      4\n",
      "75                   Randolph      4\n",
      "76                   Franklin      3\n",
      "77            Arkansas-Dewitt      3\n",
      "78                       Yell      2\n",
      "79                    Carroll      2\n",
      "80                       Pike      1\n",
      "81           Monroe-Clarendon      1\n",
      "\n",
      "[82 rows x 2 columns]\n",
      "---\n"
     ]
    }
   ],
   "source": [
    "for c in cat2.columns:\n",
    "    print((cat2[c].value_counts().to_frame('count').rename_axis(c)).reset_index())\n",
    "    print('---')"
   ]
  },
  {
   "cell_type": "code",
   "execution_count": 12,
   "metadata": {},
   "outputs": [
    {
     "data": {
      "text/html": [
       "<div>\n",
       "<style scoped>\n",
       "    .dataframe tbody tr th:only-of-type {\n",
       "        vertical-align: middle;\n",
       "    }\n",
       "\n",
       "    .dataframe tbody tr th {\n",
       "        vertical-align: top;\n",
       "    }\n",
       "\n",
       "    .dataframe thead th {\n",
       "        text-align: right;\n",
       "    }\n",
       "</style>\n",
       "<table border=\"1\" class=\"dataframe\">\n",
       "  <thead>\n",
       "    <tr style=\"text-align: right;\">\n",
       "      <th></th>\n",
       "      <th></th>\n",
       "      <th>case_count</th>\n",
       "    </tr>\n",
       "    <tr>\n",
       "      <th>category</th>\n",
       "      <th>family_type</th>\n",
       "      <th></th>\n",
       "    </tr>\n",
       "  </thead>\n",
       "  <tbody>\n",
       "    <tr>\n",
       "      <th rowspan=\"3\" valign=\"top\">Tea</th>\n",
       "      <th>Family included only in overall work participation rate (i.e., family includes one or more workeligible individuals but does not meet definition of a twoparent family</th>\n",
       "      <td>927</td>\n",
       "    </tr>\n",
       "    <tr>\n",
       "      <th>Family with no work-eligible individual</th>\n",
       "      <td>975</td>\n",
       "    </tr>\n",
       "    <tr>\n",
       "      <th>Two-Parent Family included in both the overall and                      two-parent work participation rates (i.e., family includes                      two work-eligible parents and meets the definition of a two-parent family)</th>\n",
       "      <td>57</td>\n",
       "    </tr>\n",
       "    <tr>\n",
       "      <th rowspan=\"2\" valign=\"top\">WorkPays</th>\n",
       "      <th>Family included only in overall work participation rate (i.e., family includes one or more workeligible individuals but does not meet definition of a twoparent family</th>\n",
       "      <td>140</td>\n",
       "    </tr>\n",
       "    <tr>\n",
       "      <th>Two-Parent Family included in both the overall and                      two-parent work participation rates (i.e., family includes                      two work-eligible parents and meets the definition of a two-parent family)</th>\n",
       "      <td>11</td>\n",
       "    </tr>\n",
       "  </tbody>\n",
       "</table>\n",
       "</div>"
      ],
      "text/plain": [
       "                                                             case_count\n",
       "category family_type                                                   \n",
       "Tea      Family included only in overall work participat...         927\n",
       "         Family with no work-eligible individual                    975\n",
       "         Two-Parent Family included in both the overall ...          57\n",
       "WorkPays Family included only in overall work participat...         140\n",
       "         Two-Parent Family included in both the overall ...          11"
      ]
     },
     "execution_count": 12,
     "metadata": {},
     "output_type": "execute_result"
    }
   ],
   "source": [
    "worc_fam = df\n",
    "fam_type = worc_fam.groupby(['category','family_type']).agg({'case_number' : 'nunique'}).rename({'case_number': 'case_count'}, axis='columns')#.reset_index()\n",
    "fam_type"
   ]
  },
  {
   "cell_type": "code",
   "execution_count": null,
   "metadata": {},
   "outputs": [],
   "source": []
  },
  {
   "cell_type": "code",
   "execution_count": null,
   "metadata": {},
   "outputs": [],
   "source": []
  },
  {
   "cell_type": "code",
   "execution_count": null,
   "metadata": {},
   "outputs": [],
   "source": []
  },
  {
   "cell_type": "code",
   "execution_count": null,
   "metadata": {},
   "outputs": [],
   "source": []
  },
  {
   "cell_type": "code",
   "execution_count": null,
   "metadata": {},
   "outputs": [],
   "source": []
  }
 ],
 "metadata": {
  "kernelspec": {
   "display_name": "Python 3",
   "language": "python",
   "name": "python3"
  },
  "language_info": {
   "codemirror_mode": {
    "name": "ipython",
    "version": 3
   },
   "file_extension": ".py",
   "mimetype": "text/x-python",
   "name": "python",
   "nbconvert_exporter": "python",
   "pygments_lexer": "ipython3",
   "version": "3.6.4rc1"
  }
 },
 "nbformat": 4,
 "nbformat_minor": 2
}
