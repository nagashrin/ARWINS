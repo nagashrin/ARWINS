{
 "cells": [
  {
   "cell_type": "code",
   "execution_count": 1,
   "metadata": {
    "scrolled": true
   },
   "outputs": [],
   "source": [
    "import pandas as pd\n",
    "import numpy as np\n",
    "import time\n",
    "import os\n",
    "\n",
    "t = time.localtime()\n",
    "timestamp = time.strftime('%y%m%d-%H%M', t)\n",
    "\n",
    "# read excel\n",
    "df = pd.read_excel('H://Current_Working_Folder//Reports Analytics//202011//202011-t_worc_families-20210119_1603.xlsx')\n",
    "\n",
    "# assign path and reporitng month\n",
    "drive = 'H://Current_Working_Folder//Reports Analytics//'\n",
    "reporting_month = str(df.loc[0,'reporting_month'])\n",
    "\n",
    "# Filter with column names ending with amt, amount, nbr_month\n",
    "df_amt = df.filter(regex = 'amt$|amount$|amount$|nbr_month$|nbr_months', axis='columns')\n",
    "\n",
    "# Describe the filtered dataframe\n",
    "df_des = df_amt.describe()\n",
    "\n",
    "# Write the describe to excel\n",
    "writer = pd.ExcelWriter(drive + reporting_month + '//' + reporting_month + '_' + 'report' + '-' + timestamp + '.xlsx')\n",
    "#df_des.to_excel(writer, index = False)\n",
    "df_des.to_excel(writer, sheet_name='family_stat')\n",
    "writer.save()"
   ]
  },
  {
   "cell_type": "code",
   "execution_count": 2,
   "metadata": {},
   "outputs": [],
   "source": [
    "#df.columns"
   ]
  },
  {
   "cell_type": "code",
   "execution_count": 3,
   "metadata": {},
   "outputs": [
    {
     "data": {
      "text/plain": [
       "(1956, 56)"
      ]
     },
     "execution_count": 3,
     "metadata": {},
     "output_type": "execute_result"
    }
   ],
   "source": [
    "df.shape"
   ]
  },
  {
   "cell_type": "code",
   "execution_count": 4,
   "metadata": {
    "scrolled": true
   },
   "outputs": [
    {
     "data": {
      "text/plain": [
       "No subsidized child care received    1956\n",
       "Name: subsid_child_care, dtype: int64"
      ]
     },
     "execution_count": 4,
     "metadata": {},
     "output_type": "execute_result"
    }
   ],
   "source": [
    "df['subsid_child_care'].value_counts()"
   ]
  },
  {
   "cell_type": "code",
   "execution_count": 5,
   "metadata": {},
   "outputs": [
    {
     "data": {
      "text/plain": [
       "0"
      ]
     },
     "execution_count": 5,
     "metadata": {},
     "output_type": "execute_result"
    }
   ],
   "source": [
    "df['subsid_child_care_amt'].sum()"
   ]
  },
  {
   "cell_type": "code",
   "execution_count": 6,
   "metadata": {
    "scrolled": true
   },
   "outputs": [
    {
     "data": {
      "text/plain": [
       "0    1956\n",
       "Name: tanf child care_children_covered, dtype: int64"
      ]
     },
     "execution_count": 6,
     "metadata": {},
     "output_type": "execute_result"
    }
   ],
   "source": [
    "df['tanf child care_children_covered'].value_counts()"
   ]
  },
  {
   "cell_type": "code",
   "execution_count": 7,
   "metadata": {},
   "outputs": [
    {
     "data": {
      "text/plain": [
       "0"
      ]
     },
     "execution_count": 7,
     "metadata": {},
     "output_type": "execute_result"
    }
   ],
   "source": [
    "df['tanf child care_amount'].sum()"
   ]
  },
  {
   "cell_type": "code",
   "execution_count": 8,
   "metadata": {
    "scrolled": true
   },
   "outputs": [],
   "source": [
    "cat = df.drop(df_amt, axis='columns')\n",
    "#cat1 = cat.drop((cat.loc[:,'reporting_month':'stratum']),axis='columns')\n",
    "cat1 = cat.drop(['id','reporting_month','case_number','county_fips_code','stratum','disposition','worker_id',\n",
    "                 'case_manager','area','created_by','updated_by','created_at','updated_at','ans_county',\n",
    "                 'local_office','waiver_grps'], axis='columns')\n",
    "cat2 = cat1.drop(cat1.filter(regex = '^reason|^other'), axis='columns')"
   ]
  },
  {
   "cell_type": "code",
   "execution_count": 9,
   "metadata": {
    "scrolled": true
   },
   "outputs": [
    {
     "name": "stdout",
     "output_type": "stream",
     "text": [
      "No     1720\n",
      "Yes     236\n",
      "Name: reason for amount of reduction_work requirements sanction, dtype: int64\n",
      "---\n",
      "No    1956\n",
      "Name: reason for amount of reduction_Family Sanction for an Adult with No High School Diploma or Equivalent, dtype: int64\n",
      "---\n",
      "No    1956\n",
      "Name: reason for amount of reduction_Sanction for Teen Parent not Attending School, dtype: int64\n",
      "---\n",
      "No     1875\n",
      "Yes      81\n",
      "Name: reason for amount of reduction_Non-Cooperation with Child Support, dtype: int64\n",
      "---\n",
      "No     1953\n",
      "Yes       3\n",
      "Name: reason for amount of reduction_Failure to Comply with an Individual Responsibility Plan, dtype: int64\n",
      "---\n",
      "No     1953\n",
      "Yes       3\n",
      "Name: reason for amount of reduction_Other Sanction, dtype: int64\n",
      "---\n",
      "0    1956\n",
      "Name: reason for amount of reduction_Recoupment of Prior Overpayment, dtype: int64\n",
      "---\n"
     ]
    }
   ],
   "source": [
    "reason_cat = cat1.filter(regex = '^reason', axis='columns')\n",
    "\n",
    "for c in reason_cat.columns:\n",
    "    print(reason_cat[c].value_counts())\n",
    "    print('---')\n"
   ]
  },
  {
   "cell_type": "code",
   "execution_count": 10,
   "metadata": {},
   "outputs": [],
   "source": [
    "#((df.filter(regex = '^reason'))).head(20)"
   ]
  },
  {
   "cell_type": "code",
   "execution_count": 11,
   "metadata": {
    "scrolled": false
   },
   "outputs": [
    {
     "name": "stdout",
     "output_type": "stream",
     "text": [
      "   category  count\n",
      "0       Tea   1817\n",
      "1  WorkPays    139\n",
      "---\n",
      "     zip_code  count\n",
      "0       71854     66\n",
      "1       72301     62\n",
      "2       72209     51\n",
      "3       72401     43\n",
      "4       72114     38\n",
      "5       72335     38\n",
      "6       72390     37\n",
      "7       72204     31\n",
      "8       72901     31\n",
      "9       72076     30\n",
      "10      72764     30\n",
      "11      72315     29\n",
      "12      71601     28\n",
      "13      72956     27\n",
      "14      72904     27\n",
      "15      71603     24\n",
      "16      72450     24\n",
      "17      72701     23\n",
      "18      72360     23\n",
      "19      72117     23\n",
      "20      72601     23\n",
      "21      72206     22\n",
      "22      72112     21\n",
      "23      72143     21\n",
      "24      72501     19\n",
      "25      72342     19\n",
      "26      72758     18\n",
      "27      72118     18\n",
      "28      71701     18\n",
      "29      72370     18\n",
      "..        ...    ...\n",
      "312     72533      1\n",
      "313     72122      1\n",
      "314     72768      1\n",
      "315     72774      1\n",
      "316     72811      1\n",
      "317     72821      1\n",
      "318     72832      1\n",
      "319     72833      1\n",
      "320     72745      1\n",
      "321     72168      1\n",
      "322     72173      1\n",
      "323     72736      1\n",
      "324     72705      1\n",
      "325     72330      1\n",
      "326     72324      1\n",
      "327     60419      1\n",
      "328     72312      1\n",
      "329     72714      1\n",
      "330     70904      1\n",
      "331     72214      1\n",
      "332     72212      1\n",
      "333     72717      1\n",
      "334     72718      1\n",
      "335     72722      1\n",
      "336     72727      1\n",
      "337     72730      1\n",
      "338     72732      1\n",
      "339     72735      1\n",
      "340     72180      1\n",
      "341     71675      1\n",
      "\n",
      "[342 rows x 2 columns]\n",
      "---\n",
      "                                      funding_stream  count\n",
      "0  Funded, in whole or in part, with Federal TANF...   1956\n",
      "---\n",
      "                       new_applicant  count\n",
      "0     Not newly-approved application   1944\n",
      "1  Yes, a newly-approved application     12\n",
      "---\n",
      "   family_size  count\n",
      "0            2    757\n",
      "1            1    493\n",
      "2            3    411\n",
      "3            4    189\n",
      "4            5     77\n",
      "5            6     20\n",
      "6            7      5\n",
      "7            8      2\n",
      "8           11      1\n",
      "9            9      1\n",
      "---\n",
      "                                         family_type  count\n",
      "0  Family included only in overall work participa...    952\n",
      "1            Family with no work-eligible individual    948\n",
      "2  Two-Parent Family included in both the overall...     54\n",
      "3                                          Not found      2\n",
      "---\n",
      "       subsid_housing  count\n",
      "0  No housing subsidy   1955\n",
      "1      Public housing      1\n",
      "---\n",
      "                           medical_assist  count\n",
      "0     Does not receive Medical Assistance   1279\n",
      "1   Yes, enrolled in Medicaid and/or CHIP    677\n",
      "---\n",
      "                           food_stamps  count\n",
      "0  Yes, receives food stamp assistance   1422\n",
      "1          Does not receive food stamp    534\n",
      "---\n",
      "                   subsid_child_care  count\n",
      "0  No subsidized child care received   1956\n",
      "---\n",
      "   tanf child care_children_covered  count\n",
      "0                                 0   1956\n",
      "---\n",
      "  Other, Non-sanction  count\n",
      "0                  No   1956\n",
      "---\n",
      "                                   exempt_time_limit  count\n",
      "0      Family is not exempt from Federal time limit.   1017\n",
      "1   Yes, family is exempt from accrual of months ...    939\n",
      "---\n",
      "                 new_child_only_fam  count\n",
      "0   No, not a new child-only family   1945\n",
      "1      Yes, a new child-only family     11\n",
      "---\n",
      "                       county  count\n",
      "0                  Washington    109\n",
      "1             Pulaski - North     98\n",
      "2                   Sebastian     96\n",
      "3                  Crittenden     92\n",
      "4                      Benton     82\n",
      "5                      Miller     75\n",
      "6         Pulaski - Southwest     70\n",
      "7                   Craighead     68\n",
      "8                   Jefferson     68\n",
      "9             Pulaski - South     66\n",
      "10                   Phillips     64\n",
      "11                 St Francis     46\n",
      "12  Mississippi - Blytheville     44\n",
      "13                    Garland     41\n",
      "14                   Crawford     40\n",
      "15                   Faulkner     40\n",
      "16     Pulaski - Jacksonville     39\n",
      "17                      White     36\n",
      "18               Independence     32\n",
      "19                     Greene     30\n",
      "20                      Boone     28\n",
      "21                   Poinsett     27\n",
      "22                     Chicot     25\n",
      "23                     Ashley     25\n",
      "24                        Lee     25\n",
      "25                   Columbia     24\n",
      "26                    Jackson     23\n",
      "27                   Ouachita     23\n",
      "28                     Baxter     23\n",
      "29                       Pope     22\n",
      "..                        ...    ...\n",
      "52                    Lincoln     10\n",
      "53                    Madison      9\n",
      "54              Clay - Piggot      9\n",
      "55                   Woodruff      9\n",
      "56                      Izard      8\n",
      "57                     Nevada      8\n",
      "58                 Hot Spring      8\n",
      "59                  Lafayette      7\n",
      "60         Logan - Booneville      7\n",
      "61               Little River      7\n",
      "62                      Grant      7\n",
      "63                     Newton      6\n",
      "64                     Fulton      6\n",
      "65                     Dallas      6\n",
      "66                      Stone      6\n",
      "67                     Searcy      5\n",
      "68                 Montgomery      5\n",
      "69         Arkansas-Stuttgart      5\n",
      "70              Logan - Paris      5\n",
      "71                      Perry      5\n",
      "72                  Van Buren      5\n",
      "73                    Prairie      4\n",
      "74                    Carroll      3\n",
      "75                   Randolph      3\n",
      "76                  Cleveland      3\n",
      "77            Arkansas-Dewitt      3\n",
      "78                       Yell      2\n",
      "79                   Franklin      2\n",
      "80           Monroe-Clarendon      1\n",
      "81                       Pike      1\n",
      "\n",
      "[82 rows x 2 columns]\n",
      "---\n"
     ]
    }
   ],
   "source": [
    "for c in cat2.columns:\n",
    "    print((cat2[c].value_counts().to_frame('count').rename_axis(c)).reset_index())\n",
    "    print('---')"
   ]
  },
  {
   "cell_type": "code",
   "execution_count": 12,
   "metadata": {},
   "outputs": [
    {
     "data": {
      "text/html": [
       "<div>\n",
       "<style scoped>\n",
       "    .dataframe tbody tr th:only-of-type {\n",
       "        vertical-align: middle;\n",
       "    }\n",
       "\n",
       "    .dataframe tbody tr th {\n",
       "        vertical-align: top;\n",
       "    }\n",
       "\n",
       "    .dataframe thead th {\n",
       "        text-align: right;\n",
       "    }\n",
       "</style>\n",
       "<table border=\"1\" class=\"dataframe\">\n",
       "  <thead>\n",
       "    <tr style=\"text-align: right;\">\n",
       "      <th></th>\n",
       "      <th></th>\n",
       "      <th>case_count</th>\n",
       "    </tr>\n",
       "    <tr>\n",
       "      <th>category</th>\n",
       "      <th>family_type</th>\n",
       "      <th></th>\n",
       "    </tr>\n",
       "  </thead>\n",
       "  <tbody>\n",
       "    <tr>\n",
       "      <th rowspan=\"4\" valign=\"top\">Tea</th>\n",
       "      <th>Family included only in overall work participation rate (i.e., family includes one or more workeligible individuals but does not meet definition of a twoparent family</th>\n",
       "      <td>820</td>\n",
       "    </tr>\n",
       "    <tr>\n",
       "      <th>Family with no work-eligible individual</th>\n",
       "      <td>948</td>\n",
       "    </tr>\n",
       "    <tr>\n",
       "      <th>Not found</th>\n",
       "      <td>2</td>\n",
       "    </tr>\n",
       "    <tr>\n",
       "      <th>Two-Parent Family included in both the overall and                      two-parent work participation rates (i.e., family includes                      two work-eligible parents and meets the definition of a two-parent family)</th>\n",
       "      <td>47</td>\n",
       "    </tr>\n",
       "    <tr>\n",
       "      <th rowspan=\"2\" valign=\"top\">WorkPays</th>\n",
       "      <th>Family included only in overall work participation rate (i.e., family includes one or more workeligible individuals but does not meet definition of a twoparent family</th>\n",
       "      <td>132</td>\n",
       "    </tr>\n",
       "    <tr>\n",
       "      <th>Two-Parent Family included in both the overall and                      two-parent work participation rates (i.e., family includes                      two work-eligible parents and meets the definition of a two-parent family)</th>\n",
       "      <td>7</td>\n",
       "    </tr>\n",
       "  </tbody>\n",
       "</table>\n",
       "</div>"
      ],
      "text/plain": [
       "                                                             case_count\n",
       "category family_type                                                   \n",
       "Tea      Family included only in overall work participat...         820\n",
       "         Family with no work-eligible individual                    948\n",
       "         Not found                                                    2\n",
       "         Two-Parent Family included in both the overall ...          47\n",
       "WorkPays Family included only in overall work participat...         132\n",
       "         Two-Parent Family included in both the overall ...           7"
      ]
     },
     "execution_count": 12,
     "metadata": {},
     "output_type": "execute_result"
    }
   ],
   "source": [
    "worc_fam = df\n",
    "fam_type = worc_fam.groupby(['category','family_type']).agg({'case_number' : 'nunique'}).rename({'case_number': 'case_count'}, axis='columns')#.reset_index()\n",
    "fam_type"
   ]
  },
  {
   "cell_type": "code",
   "execution_count": null,
   "metadata": {},
   "outputs": [],
   "source": []
  },
  {
   "cell_type": "code",
   "execution_count": null,
   "metadata": {},
   "outputs": [],
   "source": []
  },
  {
   "cell_type": "code",
   "execution_count": null,
   "metadata": {},
   "outputs": [],
   "source": []
  },
  {
   "cell_type": "code",
   "execution_count": null,
   "metadata": {},
   "outputs": [],
   "source": []
  },
  {
   "cell_type": "code",
   "execution_count": null,
   "metadata": {},
   "outputs": [],
   "source": []
  }
 ],
 "metadata": {
  "kernelspec": {
   "display_name": "Python 3",
   "language": "python",
   "name": "python3"
  },
  "language_info": {
   "codemirror_mode": {
    "name": "ipython",
    "version": 3
   },
   "file_extension": ".py",
   "mimetype": "text/x-python",
   "name": "python",
   "nbconvert_exporter": "python",
   "pygments_lexer": "ipython3",
   "version": "3.6.4rc1"
  }
 },
 "nbformat": 4,
 "nbformat_minor": 2
}
