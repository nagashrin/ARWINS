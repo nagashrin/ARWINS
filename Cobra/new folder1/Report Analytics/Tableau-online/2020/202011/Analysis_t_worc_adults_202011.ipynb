{
 "cells": [
  {
   "cell_type": "markdown",
   "metadata": {},
   "source": [
    "# T2: Adult Data Analysis"
   ]
  },
  {
   "cell_type": "code",
   "execution_count": 1,
   "metadata": {},
   "outputs": [],
   "source": [
    "import pandas as pd\n",
    "import numpy as np\n",
    "import os"
   ]
  },
  {
   "cell_type": "code",
   "execution_count": 2,
   "metadata": {},
   "outputs": [],
   "source": [
    "adult = pd.read_excel('H://Current_Working_Folder//Reports Analytics//202011//202011-t_worc_adults-20210212_1546.xlsx')"
   ]
  },
  {
   "cell_type": "code",
   "execution_count": 3,
   "metadata": {},
   "outputs": [],
   "source": [
    "adult['dob'] = pd.to_datetime(adult['dob'].astype('str'), infer_datetime_format = True)\n",
    "adult['reporting_month'] = pd.to_datetime(adult['reporting_month'].apply(lambda x: f\"{x}01\").astype(str), infer_datetime_format=True)\n",
    "adult['age'] = np.floor((adult['reporting_month'] - adult['dob'])/np.timedelta64(1,'Y'))"
   ]
  },
  {
   "cell_type": "code",
   "execution_count": 4,
   "metadata": {
    "scrolled": true
   },
   "outputs": [
    {
     "data": {
      "text/plain": [
       "(2010, 74)"
      ]
     },
     "execution_count": 4,
     "metadata": {},
     "output_type": "execute_result"
    }
   ],
   "source": [
    "adult.shape"
   ]
  },
  {
   "cell_type": "code",
   "execution_count": 5,
   "metadata": {
    "scrolled": true
   },
   "outputs": [
    {
     "data": {
      "text/plain": [
       "Not a noncustodial parent     2002\n",
       "Yes, a noncustodial parent       8\n",
       "Name: ncp, dtype: int64"
      ]
     },
     "execution_count": 5,
     "metadata": {},
     "output_type": "execute_result"
    }
   ],
   "source": [
    "ncp = adult['ncp'].value_counts()\n",
    "ncp"
   ]
  },
  {
   "cell_type": "code",
   "execution_count": 6,
   "metadata": {},
   "outputs": [
    {
     "data": {
      "text/html": [
       "<div>\n",
       "<style scoped>\n",
       "    .dataframe tbody tr th:only-of-type {\n",
       "        vertical-align: middle;\n",
       "    }\n",
       "\n",
       "    .dataframe tbody tr th {\n",
       "        vertical-align: top;\n",
       "    }\n",
       "\n",
       "    .dataframe thead th {\n",
       "        text-align: right;\n",
       "    }\n",
       "</style>\n",
       "<table border=\"1\" class=\"dataframe\">\n",
       "  <thead>\n",
       "    <tr style=\"text-align: right;\">\n",
       "      <th></th>\n",
       "      <th>case_number</th>\n",
       "      <th>ncp</th>\n",
       "    </tr>\n",
       "  </thead>\n",
       "  <tbody>\n",
       "    <tr>\n",
       "      <th>34</th>\n",
       "      <td>7811023</td>\n",
       "      <td>Yes, a noncustodial parent</td>\n",
       "    </tr>\n",
       "    <tr>\n",
       "      <th>95</th>\n",
       "      <td>1990719</td>\n",
       "      <td>Yes, a noncustodial parent</td>\n",
       "    </tr>\n",
       "    <tr>\n",
       "      <th>252</th>\n",
       "      <td>4904663</td>\n",
       "      <td>Yes, a noncustodial parent</td>\n",
       "    </tr>\n",
       "    <tr>\n",
       "      <th>1070</th>\n",
       "      <td>9033187</td>\n",
       "      <td>Yes, a noncustodial parent</td>\n",
       "    </tr>\n",
       "    <tr>\n",
       "      <th>1165</th>\n",
       "      <td>9079483</td>\n",
       "      <td>Yes, a noncustodial parent</td>\n",
       "    </tr>\n",
       "    <tr>\n",
       "      <th>1619</th>\n",
       "      <td>9074509</td>\n",
       "      <td>Yes, a noncustodial parent</td>\n",
       "    </tr>\n",
       "    <tr>\n",
       "      <th>1691</th>\n",
       "      <td>7883010</td>\n",
       "      <td>Yes, a noncustodial parent</td>\n",
       "    </tr>\n",
       "    <tr>\n",
       "      <th>1923</th>\n",
       "      <td>7880788</td>\n",
       "      <td>Yes, a noncustodial parent</td>\n",
       "    </tr>\n",
       "  </tbody>\n",
       "</table>\n",
       "</div>"
      ],
      "text/plain": [
       "      case_number                         ncp\n",
       "34        7811023  Yes, a noncustodial parent\n",
       "95        1990719  Yes, a noncustodial parent\n",
       "252       4904663  Yes, a noncustodial parent\n",
       "1070      9033187  Yes, a noncustodial parent\n",
       "1165      9079483  Yes, a noncustodial parent\n",
       "1619      9074509  Yes, a noncustodial parent\n",
       "1691      7883010  Yes, a noncustodial parent\n",
       "1923      7880788  Yes, a noncustodial parent"
      ]
     },
     "execution_count": 6,
     "metadata": {},
     "output_type": "execute_result"
    }
   ],
   "source": [
    "ncp_list = adult.loc[adult['ncp'] == \"Yes, a noncustodial parent\",('case_number','ncp')]\n",
    "df_ncp_list = pd.DataFrame(ncp_list)\n",
    "df_ncp_list"
   ]
  },
  {
   "cell_type": "code",
   "execution_count": 7,
   "metadata": {},
   "outputs": [
    {
     "data": {
      "text/plain": [
       "Not applicable (e.g., not a work-eligible individual; person living in household and whose income or resources are counted in determining eligibility for or the amount of assistance for the family receiving assistance, but is not in the eligible family receiving assistance or noncustodial parent that the State opted to exclude in determining participation rate).                                                                                                                                                                                                                                                                  949\n",
       " Required to participate, but not participating; and not subject to a work sanction for the reporting month.                                                                                                                                                                                                                                                                                                                                                                                                                                                                                                                                  445\n",
       "Disregarded from participation rate because both of the following apply: required to participate, but not participating; and subject to sanction for refusing to participate in work activities for the reporting month, but not subject to sanction for more than 3 months within the preceding 12-month period (Note: “subjected to a sanction” for refusing to participate in work activities means the State has actually imposed a penalty to reduce or terminate assistance. During a conciliation or notice period, before the State actually reduces or terminates the family’s grant, a family is not “subjected to a sanction.”)    244\n",
       "Exempt, other                                                                                                                                                                                                                                                                                                                                                                                                                                                                                                                                                                                                                                 116\n",
       "Required to participate and meeting minimum participation requirements                                                                                                                                                                                                                                                                                                                                                                                                                                                                                                                                                                         93\n",
       "Exempt, disabled (not using an extended definition under a State waiver)                                                                                                                                                                                                                                                                                                                                                                                                                                                                                                                                                                       63\n",
       "Required to participate and participating, but not meeting minimum participation requirements.                                                                                                                                                                                                                                                                                                                                                                                                                                                                                                                                                 60\n",
       " Deemed engaged in work -- parent or relative (who is the only parent or caretaker relative in the family) with child under age 6 and parent engaged in core work activities for at least 20 hours per week. 18 = Required to participate and participating, but not meeting minimum participation requirements                                                                                                                                                                                                                                                                                                                                36\n",
       "Exempt, under a federally recognized good cause domestic violence waiver                                                                                                                                                                                                                                                                                                                                                                                                                                                                                                                                                                        4\n",
       "Name: work_partic_status, dtype: int64"
      ]
     },
     "execution_count": 7,
     "metadata": {},
     "output_type": "execute_result"
    }
   ],
   "source": [
    "adult['work_partic_status'].value_counts()"
   ]
  },
  {
   "cell_type": "code",
   "execution_count": 8,
   "metadata": {},
   "outputs": [
    {
     "data": {
      "text/plain": [
       "count    2010.000000\n",
       "mean       38.184577\n",
       "std        13.233074\n",
       "min        18.000000\n",
       "25%        28.000000\n",
       "50%        35.000000\n",
       "75%        47.750000\n",
       "max        83.000000\n",
       "Name: age, dtype: float64"
      ]
     },
     "execution_count": 8,
     "metadata": {},
     "output_type": "execute_result"
    }
   ],
   "source": [
    "adult['age'].describe()"
   ]
  },
  {
   "cell_type": "code",
   "execution_count": 9,
   "metadata": {},
   "outputs": [
    {
     "data": {
      "text/plain": [
       "Single, never married       1264\n",
       "Married, living together     369\n",
       "Married, but separated       184\n",
       "Divorced                     167\n",
       "Widowed                       26\n",
       "Name: marital_status, dtype: int64"
      ]
     },
     "execution_count": 9,
     "metadata": {},
     "output_type": "execute_result"
    }
   ],
   "source": [
    "adult['marital_status'].value_counts()"
   ]
  },
  {
   "cell_type": "code",
   "execution_count": 10,
   "metadata": {},
   "outputs": [
    {
     "data": {
      "text/plain": [
       "0    2010\n",
       "Name: provid_child_care, dtype: int64"
      ]
     },
     "execution_count": 10,
     "metadata": {},
     "output_type": "execute_result"
    }
   ],
   "source": [
    "adult['provid_child_care'].value_counts()"
   ]
  },
  {
   "cell_type": "code",
   "execution_count": 11,
   "metadata": {},
   "outputs": [
    {
     "data": {
      "text/plain": [
       "Yes, a parent with a minor child in the family, but not used in two-parent participation rate    954\n",
       "Not Parent with minor child in the family                                                        949\n",
       "Yes, a parent with a minor child in the family and used in two-parent participation rate         107\n",
       "Name: parent_with_minor, dtype: int64"
      ]
     },
     "execution_count": 11,
     "metadata": {},
     "output_type": "execute_result"
    }
   ],
   "source": [
    "adult['parent_with_minor'].value_counts()"
   ]
  },
  {
   "cell_type": "markdown",
   "metadata": {},
   "source": [
    "4.5% (108)of total cases (2398) are 2 Parent cases <br>\n",
    "    \n",
    "\n",
    "95.5% (2290)of total cases are single parent cases"
   ]
  },
  {
   "cell_type": "code",
   "execution_count": 12,
   "metadata": {},
   "outputs": [
    {
     "data": {
      "text/plain": [
       "Index(['id', 'reporting_month', 'case_number', 'family_affiliation', 'ncp',\n",
       "       'dob', 'ssn', 'Hispanic_Latino', 'American Indian_Alaska Native',\n",
       "       'Asian', 'Black or African American',\n",
       "       'Native Hawaiian_Pacific Islander', 'White', 'gender',\n",
       "       'Receives Federal Disability Insurance Benefits Under the Social Security OASDI Program (Title II of the Social Security Act',\n",
       "       'Receives Benefits Based on Federal Disability Status Under Non-Social Security Act Programs',\n",
       "       'Receives Aid to the Permanently and Totally Disabled Under Title XIV-APDT of the Social Security Act',\n",
       "       'Receives Aid to the Aged, Blind, and Disabled Under Title XVI-AABD of the Social Security Act',\n",
       "       'Receives Supplemental Security Income Under Title XVI-SSI of the Social Security Act',\n",
       "       'marital_status', 'relation_to_hoh', 'parent_with_minor',\n",
       "       'pregnant_wom_need', 'edu_level', 'citizenship', 'coop_child_supp',\n",
       "       'nbr_mth_fed_limit', 'nbr_mth_fed_limit_rem', 'exemp_state_limit',\n",
       "       'employ_status', 'work_elig_ind', 'work_partic_status', 'unsubsid_emp',\n",
       "       'subsid_pvt_emp', 'subsid_public_emp', 'work_exp',\n",
       "       'item53b_wo_excused_absence', 'item53c_wo_holidays', 'ojt',\n",
       "       'job_search', 'item55b_js_excused_absence', 'item55c_js_holidays',\n",
       "       'comm_svc_pgm', 'item56b_cs_excused_absence', 'item56c_cs_holidays',\n",
       "       'voc_ed', 'item57b_vo_excused_absence', 'item57c_vo_holidays',\n",
       "       'job_skills_trng', 'item58b_jst_excused_absence',\n",
       "       'item58c_jst_holidays', 'emp_no_hsd', 'item59b_hsd_excused_absence',\n",
       "       'item59c_hsd_holidays', 'satis_schl_attend',\n",
       "       'item60b_ssa_excused_absence', 'item60c_ssa_holidays',\n",
       "       'provid_child_care', 'item61b_cc_excused_absence',\n",
       "       'item61c_cc_holidays', 'other_work_act', 'deemed_core_overall_hours',\n",
       "       'deemed_core_2parent_hours', 'amt_earned_inc',\n",
       "       'Unearned income/ Earned incometax credit',\n",
       "       'Unearned income/social security', 'Unearned income/SSI',\n",
       "       'Unearned income/Workers compensation', 'Other unearned income',\n",
       "       'created_by', 'updated_by', 'created_at', 'updated_at', 'age'],\n",
       "      dtype='object')"
      ]
     },
     "execution_count": 12,
     "metadata": {},
     "output_type": "execute_result"
    }
   ],
   "source": [
    "adult.columns"
   ]
  },
  {
   "cell_type": "code",
   "execution_count": null,
   "metadata": {},
   "outputs": [],
   "source": []
  }
 ],
 "metadata": {
  "kernelspec": {
   "display_name": "Python 3",
   "language": "python",
   "name": "python3"
  },
  "language_info": {
   "codemirror_mode": {
    "name": "ipython",
    "version": 3
   },
   "file_extension": ".py",
   "mimetype": "text/x-python",
   "name": "python",
   "nbconvert_exporter": "python",
   "pygments_lexer": "ipython3",
   "version": "3.6.4rc1"
  }
 },
 "nbformat": 4,
 "nbformat_minor": 2
}
