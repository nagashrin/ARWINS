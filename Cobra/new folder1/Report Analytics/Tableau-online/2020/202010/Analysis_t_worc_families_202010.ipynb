{
 "cells": [
  {
   "cell_type": "code",
   "execution_count": 1,
   "metadata": {
    "scrolled": true
   },
   "outputs": [],
   "source": [
    "import pandas as pd\n",
    "import numpy as np\n",
    "import time\n",
    "import os\n",
    "\n",
    "t = time.localtime()\n",
    "timestamp = time.strftime('%y%m%d-%H%M', t)\n",
    "\n",
    "# read excel\n",
    "df = pd.read_excel('H://Current_Working_Folder//Reports Analytics//202010//202010-t_worc_families-20210212_1610.xlsx')\n",
    "\n",
    "# assign path and reporitng month\n",
    "drive = 'H://Current_Working_Folder//Reports Analytics//'\n",
    "reporting_month = str(df.loc[0,'reporting_month'])\n",
    "\n",
    "# Filter with column names ending with amt, amount, nbr_month\n",
    "df_amt = df.filter(regex = 'amt$|amount$|amount$|nbr_month$|nbr_months', axis='columns')\n",
    "\n",
    "# Describe the filtered dataframe\n",
    "df_des = df_amt.describe()\n",
    "\n",
    "# Write the describe to excel\n",
    "writer = pd.ExcelWriter(drive + reporting_month + '//' + reporting_month + '_' + 'report' + '-' + timestamp + '.xlsx')\n",
    "#df_des.to_excel(writer, index = False)\n",
    "df_des.to_excel(writer, sheet_name='family_stat')\n",
    "writer.save()"
   ]
  },
  {
   "cell_type": "code",
   "execution_count": 2,
   "metadata": {},
   "outputs": [],
   "source": [
    "#df.columns"
   ]
  },
  {
   "cell_type": "code",
   "execution_count": 3,
   "metadata": {},
   "outputs": [
    {
     "data": {
      "text/plain": [
       "(2024, 56)"
      ]
     },
     "execution_count": 3,
     "metadata": {},
     "output_type": "execute_result"
    }
   ],
   "source": [
    "df.shape"
   ]
  },
  {
   "cell_type": "code",
   "execution_count": 4,
   "metadata": {
    "scrolled": true
   },
   "outputs": [
    {
     "data": {
      "text/plain": [
       "No subsidized child care received    2024\n",
       "Name: subsid_child_care, dtype: int64"
      ]
     },
     "execution_count": 4,
     "metadata": {},
     "output_type": "execute_result"
    }
   ],
   "source": [
    "df['subsid_child_care'].value_counts()"
   ]
  },
  {
   "cell_type": "code",
   "execution_count": 5,
   "metadata": {},
   "outputs": [
    {
     "data": {
      "text/plain": [
       "0"
      ]
     },
     "execution_count": 5,
     "metadata": {},
     "output_type": "execute_result"
    }
   ],
   "source": [
    "df['subsid_child_care_amt'].sum()"
   ]
  },
  {
   "cell_type": "code",
   "execution_count": 6,
   "metadata": {
    "scrolled": true
   },
   "outputs": [
    {
     "data": {
      "text/plain": [
       "0    2024\n",
       "Name: tanf child care_children_covered, dtype: int64"
      ]
     },
     "execution_count": 6,
     "metadata": {},
     "output_type": "execute_result"
    }
   ],
   "source": [
    "df['tanf child care_children_covered'].value_counts()"
   ]
  },
  {
   "cell_type": "code",
   "execution_count": 7,
   "metadata": {},
   "outputs": [
    {
     "data": {
      "text/plain": [
       "0"
      ]
     },
     "execution_count": 7,
     "metadata": {},
     "output_type": "execute_result"
    }
   ],
   "source": [
    "df['tanf child care_amount'].sum()"
   ]
  },
  {
   "cell_type": "code",
   "execution_count": 8,
   "metadata": {
    "scrolled": true
   },
   "outputs": [],
   "source": [
    "cat = df.drop(df_amt, axis='columns')\n",
    "#cat1 = cat.drop((cat.loc[:,'reporting_month':'stratum']),axis='columns')\n",
    "cat1 = cat.drop(['id','reporting_month','case_number','county_fips_code','stratum','disposition','worker_id',\n",
    "                 'case_manager','area','created_by','updated_by','created_at','updated_at','ans_county',\n",
    "                 'local_office','waiver_grps'], axis='columns')\n",
    "cat2 = cat1.drop(cat1.filter(regex = '^reason|^other'), axis='columns')"
   ]
  },
  {
   "cell_type": "code",
   "execution_count": 9,
   "metadata": {
    "scrolled": true
   },
   "outputs": [
    {
     "name": "stdout",
     "output_type": "stream",
     "text": [
      "No     1793\n",
      "Yes     231\n",
      "Name: reason for amount of reduction_work requirements sanction, dtype: int64\n",
      "---\n",
      "No    2024\n",
      "Name: reason for amount of reduction_Family Sanction for an Adult with No High School Diploma or Equivalent, dtype: int64\n",
      "---\n",
      "No    2024\n",
      "Name: reason for amount of reduction_Sanction for Teen Parent not Attending School, dtype: int64\n",
      "---\n",
      "No     1942\n",
      "Yes      82\n",
      "Name: reason for amount of reduction_Non-Cooperation with Child Support, dtype: int64\n",
      "---\n",
      "No     2023\n",
      "Yes       1\n",
      "Name: reason for amount of reduction_Failure to Comply with an Individual Responsibility Plan, dtype: int64\n",
      "---\n",
      "No     2020\n",
      "Yes       4\n",
      "Name: reason for amount of reduction_Other Sanction, dtype: int64\n",
      "---\n",
      "0    2024\n",
      "Name: reason for amount of reduction_Recoupment of Prior Overpayment, dtype: int64\n",
      "---\n"
     ]
    }
   ],
   "source": [
    "reason_cat = cat1.filter(regex = '^reason', axis='columns')\n",
    "\n",
    "for c in reason_cat.columns:\n",
    "    print(reason_cat[c].value_counts())\n",
    "    print('---')\n"
   ]
  },
  {
   "cell_type": "code",
   "execution_count": 10,
   "metadata": {},
   "outputs": [],
   "source": [
    "#((df.filter(regex = '^reason'))).head(20)"
   ]
  },
  {
   "cell_type": "code",
   "execution_count": 11,
   "metadata": {
    "scrolled": false
   },
   "outputs": [
    {
     "name": "stdout",
     "output_type": "stream",
     "text": [
      "   category  count\n",
      "0       Tea   1880\n",
      "1  WorkPays    144\n",
      "---\n",
      "     zip_code  count\n",
      "0       71854     67\n",
      "1       72301     61\n",
      "2       72209     54\n",
      "3       72401     44\n",
      "4       72335     41\n",
      "5       72114     39\n",
      "6       72390     36\n",
      "7       72764     35\n",
      "8       72204     33\n",
      "9       72901     31\n",
      "10      72315     30\n",
      "11      72076     30\n",
      "12      72450     27\n",
      "13      71601     27\n",
      "14      72956     27\n",
      "15      72360     26\n",
      "16      72904     26\n",
      "17      72701     26\n",
      "18      72112     25\n",
      "19      72117     24\n",
      "20      72206     24\n",
      "21      72601     23\n",
      "22      72143     23\n",
      "23      71603     22\n",
      "24      72118     22\n",
      "25      72370     20\n",
      "26      72342     20\n",
      "27      71701     19\n",
      "28      72032     18\n",
      "29      72703     18\n",
      "..        ...    ...\n",
      "317     72568      1\n",
      "318     72571      1\n",
      "319     72101      1\n",
      "320     72093      1\n",
      "321     72088      1\n",
      "322     72080      1\n",
      "323     22485      1\n",
      "324     20871      1\n",
      "325     72372      1\n",
      "326     72069      1\n",
      "327     71461      1\n",
      "328     71243      1\n",
      "329     72513      1\n",
      "330     72969      1\n",
      "331     72519      1\n",
      "332     72520      1\n",
      "333     72142      1\n",
      "334     72137      1\n",
      "335     72135      1\n",
      "336     72523      1\n",
      "337     72533      1\n",
      "338     72537      1\n",
      "339     72538      1\n",
      "340     72125      1\n",
      "341     72124      1\n",
      "342     72123      1\n",
      "343     72122      1\n",
      "344     74960      1\n",
      "345     72550      1\n",
      "346     71675      1\n",
      "\n",
      "[347 rows x 2 columns]\n",
      "---\n",
      "                                      funding_stream  count\n",
      "0  Funded, in whole or in part, with Federal TANF...   2024\n",
      "---\n",
      "                       new_applicant  count\n",
      "0     Not newly-approved application   2014\n",
      "1  Yes, a newly-approved application     10\n",
      "---\n",
      "   family_size  count\n",
      "0            2    799\n",
      "1            1    492\n",
      "2            3    431\n",
      "3            4    189\n",
      "4            5     84\n",
      "5            6     20\n",
      "6            7      6\n",
      "7           11      1\n",
      "8            9      1\n",
      "9            8      1\n",
      "---\n",
      "                                         family_type  count\n",
      "0  Family included only in overall work participa...   1001\n",
      "1            Family with no work-eligible individual    968\n",
      "2  Two-Parent Family included in both the overall...     55\n",
      "---\n",
      "       subsid_housing  count\n",
      "0  No housing subsidy   2023\n",
      "1      Public housing      1\n",
      "---\n",
      "                           medical_assist  count\n",
      "0     Does not receive Medical Assistance   1332\n",
      "1   Yes, enrolled in Medicaid and/or CHIP    692\n",
      "---\n",
      "                           food_stamps  count\n",
      "0  Yes, receives food stamp assistance   1329\n",
      "1          Does not receive food stamp    695\n",
      "---\n",
      "                   subsid_child_care  count\n",
      "0  No subsidized child care received   2024\n",
      "---\n",
      "   tanf child care_children_covered  count\n",
      "0                                 0   2024\n",
      "---\n",
      "  Other, Non-sanction  count\n",
      "0                  No   2024\n",
      "---\n",
      "                                   exempt_time_limit  count\n",
      "0      Family is not exempt from Federal time limit.   1070\n",
      "1   Yes, family is exempt from accrual of months ...    954\n",
      "---\n",
      "                 new_child_only_fam  count\n",
      "0   No, not a new child-only family   2014\n",
      "1      Yes, a new child-only family     10\n",
      "---\n",
      "                       county  count\n",
      "0                  Washington    122\n",
      "1             Pulaski - North    101\n",
      "2                   Sebastian     96\n",
      "3                  Crittenden     95\n",
      "4                      Benton     79\n",
      "5         Pulaski - Southwest     76\n",
      "6                      Miller     75\n",
      "7             Pulaski - South     72\n",
      "8                   Jefferson     66\n",
      "9                   Craighead     65\n",
      "10                   Phillips     65\n",
      "11                 St Francis     52\n",
      "12  Mississippi - Blytheville     46\n",
      "13                   Faulkner     41\n",
      "14     Pulaski - Jacksonville     41\n",
      "15                   Crawford     40\n",
      "16                    Garland     39\n",
      "17                      White     38\n",
      "18                     Greene     34\n",
      "19               Independence     30\n",
      "20                     Ashley     28\n",
      "21                      Boone     28\n",
      "22                        Lee     28\n",
      "23                    Jackson     27\n",
      "24                   Poinsett     27\n",
      "25                   Ouachita     25\n",
      "26                     Chicot     24\n",
      "27                   Columbia     24\n",
      "28                     Baxter     24\n",
      "29                      Desha     23\n",
      "..                        ...    ...\n",
      "53                    Madison      9\n",
      "54               Little River      9\n",
      "55                   Woodruff      9\n",
      "56         Arkansas-Stuttgart      8\n",
      "57                      Izard      8\n",
      "58                      Sharp      8\n",
      "59                 Hot Spring      8\n",
      "60                  Lafayette      8\n",
      "61                      Grant      7\n",
      "62                     Nevada      7\n",
      "63         Logan - Booneville      7\n",
      "64                  Van Buren      7\n",
      "65              Logan - Paris      7\n",
      "66                     Newton      7\n",
      "67                     Fulton      6\n",
      "68                      Stone      6\n",
      "69                     Dallas      6\n",
      "70                      Perry      5\n",
      "71                  Cleveland      4\n",
      "72                 Montgomery      4\n",
      "73                    Prairie      4\n",
      "74                     Searcy      4\n",
      "75                    Carroll      3\n",
      "76                   Randolph      3\n",
      "77            Arkansas-Dewitt      3\n",
      "78                   Franklin      2\n",
      "79                       Yell      2\n",
      "80           Monroe-Clarendon      1\n",
      "81                       Pike      1\n",
      "82                    Calhoun      1\n",
      "\n",
      "[83 rows x 2 columns]\n",
      "---\n"
     ]
    }
   ],
   "source": [
    "for c in cat2.columns:\n",
    "    print((cat2[c].value_counts().to_frame('count').rename_axis(c)).reset_index())\n",
    "    print('---')"
   ]
  },
  {
   "cell_type": "code",
   "execution_count": 12,
   "metadata": {},
   "outputs": [
    {
     "data": {
      "text/html": [
       "<div>\n",
       "<style scoped>\n",
       "    .dataframe tbody tr th:only-of-type {\n",
       "        vertical-align: middle;\n",
       "    }\n",
       "\n",
       "    .dataframe tbody tr th {\n",
       "        vertical-align: top;\n",
       "    }\n",
       "\n",
       "    .dataframe thead th {\n",
       "        text-align: right;\n",
       "    }\n",
       "</style>\n",
       "<table border=\"1\" class=\"dataframe\">\n",
       "  <thead>\n",
       "    <tr style=\"text-align: right;\">\n",
       "      <th></th>\n",
       "      <th></th>\n",
       "      <th>case_count</th>\n",
       "    </tr>\n",
       "    <tr>\n",
       "      <th>category</th>\n",
       "      <th>family_type</th>\n",
       "      <th></th>\n",
       "    </tr>\n",
       "  </thead>\n",
       "  <tbody>\n",
       "    <tr>\n",
       "      <th rowspan=\"3\" valign=\"top\">Tea</th>\n",
       "      <th>Family included only in overall work participation rate (i.e., family includes one or more workeligible individuals but does not meet definition of a twoparent family</th>\n",
       "      <td>865</td>\n",
       "    </tr>\n",
       "    <tr>\n",
       "      <th>Family with no work-eligible individual</th>\n",
       "      <td>968</td>\n",
       "    </tr>\n",
       "    <tr>\n",
       "      <th>Two-Parent Family included in both the overall and                      two-parent work participation rates (i.e., family includes                      two work-eligible parents and meets the definition of a two-parent family)</th>\n",
       "      <td>47</td>\n",
       "    </tr>\n",
       "    <tr>\n",
       "      <th rowspan=\"2\" valign=\"top\">WorkPays</th>\n",
       "      <th>Family included only in overall work participation rate (i.e., family includes one or more workeligible individuals but does not meet definition of a twoparent family</th>\n",
       "      <td>136</td>\n",
       "    </tr>\n",
       "    <tr>\n",
       "      <th>Two-Parent Family included in both the overall and                      two-parent work participation rates (i.e., family includes                      two work-eligible parents and meets the definition of a two-parent family)</th>\n",
       "      <td>8</td>\n",
       "    </tr>\n",
       "  </tbody>\n",
       "</table>\n",
       "</div>"
      ],
      "text/plain": [
       "                                                             case_count\n",
       "category family_type                                                   \n",
       "Tea      Family included only in overall work participat...         865\n",
       "         Family with no work-eligible individual                    968\n",
       "         Two-Parent Family included in both the overall ...          47\n",
       "WorkPays Family included only in overall work participat...         136\n",
       "         Two-Parent Family included in both the overall ...           8"
      ]
     },
     "execution_count": 12,
     "metadata": {},
     "output_type": "execute_result"
    }
   ],
   "source": [
    "worc_fam = df\n",
    "fam_type = worc_fam.groupby(['category','family_type']).agg({'case_number' : 'nunique'}).rename({'case_number': 'case_count'}, axis='columns')#.reset_index()\n",
    "fam_type"
   ]
  },
  {
   "cell_type": "code",
   "execution_count": null,
   "metadata": {},
   "outputs": [],
   "source": []
  },
  {
   "cell_type": "code",
   "execution_count": null,
   "metadata": {},
   "outputs": [],
   "source": []
  },
  {
   "cell_type": "code",
   "execution_count": null,
   "metadata": {},
   "outputs": [],
   "source": []
  },
  {
   "cell_type": "code",
   "execution_count": null,
   "metadata": {},
   "outputs": [],
   "source": []
  },
  {
   "cell_type": "code",
   "execution_count": null,
   "metadata": {},
   "outputs": [],
   "source": []
  }
 ],
 "metadata": {
  "kernelspec": {
   "display_name": "Python 3",
   "language": "python",
   "name": "python3"
  },
  "language_info": {
   "codemirror_mode": {
    "name": "ipython",
    "version": 3
   },
   "file_extension": ".py",
   "mimetype": "text/x-python",
   "name": "python",
   "nbconvert_exporter": "python",
   "pygments_lexer": "ipython3",
   "version": "3.6.4rc1"
  }
 },
 "nbformat": 4,
 "nbformat_minor": 2
}
