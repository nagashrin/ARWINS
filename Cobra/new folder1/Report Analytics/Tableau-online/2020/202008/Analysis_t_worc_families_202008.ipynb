{
 "cells": [
  {
   "cell_type": "code",
   "execution_count": 1,
   "metadata": {
    "scrolled": true
   },
   "outputs": [],
   "source": [
    "import pandas as pd\n",
    "import numpy as np\n",
    "import time\n",
    "import os\n",
    "\n",
    "t = time.localtime()\n",
    "timestamp = time.strftime('%y%m%d-%H%M', t)\n",
    "\n",
    "# read excel\n",
    "df = pd.read_excel('H://Current_Working_Folder//Reports Analytics//202008//202008-t_worc_families-20201125_1100.xlsx')\n",
    "\n",
    "# assign path and reporitng month\n",
    "drive = 'H://Current_Working_Folder//Reports Analytics//'\n",
    "reporting_month = str(df.loc[0,'reporting_month'])\n",
    "\n",
    "# Filter with column names ending with amt, amount, nbr_month\n",
    "df_amt = df.filter(regex = 'amt$|amount$|amount$|nbr_month$|nbr_months', axis='columns')\n",
    "\n",
    "# Describe the filtered dataframe\n",
    "df_des = df_amt.describe()\n",
    "\n",
    "# Write the describe to excel\n",
    "writer = pd.ExcelWriter(drive + reporting_month + '//' + reporting_month + '_' + 'report' + '-' + timestamp + '.xlsx')\n",
    "#df_des.to_excel(writer, index = False)\n",
    "df_des.to_excel(writer, sheet_name='family_stat')\n",
    "writer.save()"
   ]
  },
  {
   "cell_type": "code",
   "execution_count": 2,
   "metadata": {},
   "outputs": [],
   "source": [
    "#df.columns"
   ]
  },
  {
   "cell_type": "code",
   "execution_count": 3,
   "metadata": {},
   "outputs": [
    {
     "data": {
      "text/plain": [
       "(2220, 56)"
      ]
     },
     "execution_count": 3,
     "metadata": {},
     "output_type": "execute_result"
    }
   ],
   "source": [
    "df.shape"
   ]
  },
  {
   "cell_type": "code",
   "execution_count": 4,
   "metadata": {
    "scrolled": true
   },
   "outputs": [
    {
     "data": {
      "text/plain": [
       "No subsidized child care received    2220\n",
       "Name: subsid_child_care, dtype: int64"
      ]
     },
     "execution_count": 4,
     "metadata": {},
     "output_type": "execute_result"
    }
   ],
   "source": [
    "df['subsid_child_care'].value_counts()"
   ]
  },
  {
   "cell_type": "code",
   "execution_count": 5,
   "metadata": {},
   "outputs": [
    {
     "data": {
      "text/plain": [
       "0"
      ]
     },
     "execution_count": 5,
     "metadata": {},
     "output_type": "execute_result"
    }
   ],
   "source": [
    "df['subsid_child_care_amt'].sum()"
   ]
  },
  {
   "cell_type": "code",
   "execution_count": 6,
   "metadata": {
    "scrolled": true
   },
   "outputs": [
    {
     "data": {
      "text/plain": [
       "0    2220\n",
       "Name: tanf child care_children_covered, dtype: int64"
      ]
     },
     "execution_count": 6,
     "metadata": {},
     "output_type": "execute_result"
    }
   ],
   "source": [
    "df['tanf child care_children_covered'].value_counts()"
   ]
  },
  {
   "cell_type": "code",
   "execution_count": 7,
   "metadata": {},
   "outputs": [
    {
     "data": {
      "text/plain": [
       "0"
      ]
     },
     "execution_count": 7,
     "metadata": {},
     "output_type": "execute_result"
    }
   ],
   "source": [
    "df['tanf child care_amount'].sum()"
   ]
  },
  {
   "cell_type": "code",
   "execution_count": 8,
   "metadata": {
    "scrolled": true
   },
   "outputs": [],
   "source": [
    "cat = df.drop(df_amt, axis='columns')\n",
    "#cat1 = cat.drop((cat.loc[:,'reporting_month':'stratum']),axis='columns')\n",
    "cat1 = cat.drop(['id','reporting_month','case_number','county_fips_code','stratum','disposition','worker_id',\n",
    "                 'case_manager','area','created_by','updated_by','created_at','updated_at','ans_county',\n",
    "                 'local_office','waiver_grps'], axis='columns')\n",
    "cat2 = cat1.drop(cat1.filter(regex = '^reason|^other'), axis='columns')"
   ]
  },
  {
   "cell_type": "code",
   "execution_count": 9,
   "metadata": {
    "scrolled": true
   },
   "outputs": [
    {
     "name": "stdout",
     "output_type": "stream",
     "text": [
      "No     2114\n",
      "Yes     106\n",
      "Name: reason for amount of reduction_work requirements sanction, dtype: int64\n",
      "---\n",
      "No    2220\n",
      "Name: reason for amount of reduction_Family Sanction for an Adult with No High School Diploma or Equivalent, dtype: int64\n",
      "---\n",
      "No    2220\n",
      "Name: reason for amount of reduction_Sanction for Teen Parent not Attending School, dtype: int64\n",
      "---\n",
      "No     2161\n",
      "Yes      59\n",
      "Name: reason for amount of reduction_Non-Cooperation with Child Support, dtype: int64\n",
      "---\n",
      "No    2220\n",
      "Name: reason for amount of reduction_Failure to Comply with an Individual Responsibility Plan, dtype: int64\n",
      "---\n",
      "No     2218\n",
      "Yes       2\n",
      "Name: reason for amount of reduction_Other Sanction, dtype: int64\n",
      "---\n",
      "0    2220\n",
      "Name: reason for amount of reduction_Recoupment of Prior Overpayment, dtype: int64\n",
      "---\n"
     ]
    }
   ],
   "source": [
    "reason_cat = cat1.filter(regex = '^reason', axis='columns')\n",
    "\n",
    "for c in reason_cat.columns:\n",
    "    print(reason_cat[c].value_counts())\n",
    "    print('---')\n"
   ]
  },
  {
   "cell_type": "code",
   "execution_count": 10,
   "metadata": {},
   "outputs": [],
   "source": [
    "#((df.filter(regex = '^reason'))).head(20)"
   ]
  },
  {
   "cell_type": "code",
   "execution_count": 11,
   "metadata": {
    "scrolled": false
   },
   "outputs": [
    {
     "name": "stdout",
     "output_type": "stream",
     "text": [
      "   category  count\n",
      "0       Tea   2052\n",
      "1  WorkPays    168\n",
      "---\n",
      "     zip_code  count\n",
      "0       71854     77\n",
      "1       72209     69\n",
      "2       72301     64\n",
      "3       72401     50\n",
      "4       72114     46\n",
      "5       72390     44\n",
      "6       72335     41\n",
      "7       72204     38\n",
      "8       72450     36\n",
      "9       72076     35\n",
      "10      72901     35\n",
      "11      72764     34\n",
      "12      72117     32\n",
      "13      72956     32\n",
      "14      71601     30\n",
      "15      72206     30\n",
      "16      72904     28\n",
      "17      72315     28\n",
      "18      72118     26\n",
      "19      72342     25\n",
      "20      72143     25\n",
      "21      72601     25\n",
      "22      72701     24\n",
      "23      71701     24\n",
      "24      72360     22\n",
      "25      72112     22\n",
      "26      71603     21\n",
      "27      71730     20\n",
      "28      71913     19\n",
      "29      72370     18\n",
      "..        ...    ...\n",
      "318     72447      1\n",
      "319     72384      1\n",
      "320     72386      1\n",
      "321     71752      1\n",
      "322     72427      1\n",
      "323     72419      1\n",
      "324     72416      1\n",
      "325     72415      1\n",
      "326     72411      1\n",
      "327     72434      1\n",
      "328     72513      1\n",
      "329     72523      1\n",
      "330     72126      1\n",
      "331     72324      1\n",
      "332     72142      1\n",
      "333     72683      1\n",
      "334     72168      1\n",
      "335     72651      1\n",
      "336     72180      1\n",
      "337     72214      1\n",
      "338     72633      1\n",
      "339     72623      1\n",
      "340     45631      1\n",
      "341     72312      1\n",
      "342     72571      1\n",
      "343     72567      1\n",
      "344     72565      1\n",
      "345     72537      1\n",
      "346     72533      1\n",
      "347     71675      1\n",
      "\n",
      "[348 rows x 2 columns]\n",
      "---\n",
      "                                      funding_stream  count\n",
      "0  Funded, in whole or in part, with Federal TANF...   2220\n",
      "---\n",
      "                       new_applicant  count\n",
      "0     Not newly-approved application   2212\n",
      "1  Yes, a newly-approved application      8\n",
      "---\n",
      "   family_size  count\n",
      "0            2    880\n",
      "1            1    519\n",
      "2            3    477\n",
      "3            4    217\n",
      "4            5     96\n",
      "5            6     20\n",
      "6            7      7\n",
      "7            8      2\n",
      "8           11      1\n",
      "9            9      1\n",
      "---\n",
      "                                         family_type  count\n",
      "0  Family included only in overall work participa...   1143\n",
      "1            Family with no work-eligible individual   1000\n",
      "2  Two-Parent Family included in both the overall...     77\n",
      "---\n",
      "       subsid_housing  count\n",
      "0  No housing subsidy   2219\n",
      "1      Public housing      1\n",
      "---\n",
      "                           medical_assist  count\n",
      "0     Does not receive Medical Assistance   1493\n",
      "1   Yes, enrolled in Medicaid and/or CHIP    727\n",
      "---\n",
      "                           food_stamps  count\n",
      "0  Yes, receives food stamp assistance   1559\n",
      "1          Does not receive food stamp    661\n",
      "---\n",
      "                   subsid_child_care  count\n",
      "0  No subsidized child care received   2220\n",
      "---\n",
      "   tanf child care_children_covered  count\n",
      "0                                 0   2220\n",
      "---\n",
      "  Other, Non-sanction  count\n",
      "0                  No   2220\n",
      "---\n",
      "                                   exempt_time_limit  count\n",
      "0      Family is not exempt from Federal time limit.   1230\n",
      "1   Yes, family is exempt from accrual of months ...    990\n",
      "---\n",
      "                 new_child_only_fam  count\n",
      "0   No, not a new child-only family   2212\n",
      "1      Yes, a new child-only family      8\n",
      "---\n",
      "                       county  count\n",
      "0                  Washington    127\n",
      "1             Pulaski - North    117\n",
      "2                  Crittenden    100\n",
      "3         Pulaski - Southwest    100\n",
      "4                   Sebastian    100\n",
      "5             Pulaski - South     92\n",
      "6                      Miller     85\n",
      "7                    Phillips     83\n",
      "8                   Craighead     76\n",
      "9                      Benton     74\n",
      "10                  Jefferson     70\n",
      "11                 St Francis     53\n",
      "12     Pulaski - Jacksonville     45\n",
      "13                    Garland     44\n",
      "14                   Faulkner     43\n",
      "15                   Crawford     43\n",
      "16                      White     43\n",
      "17                     Greene     42\n",
      "18  Mississippi - Blytheville     35\n",
      "19                      Boone     32\n",
      "20                   Poinsett     30\n",
      "21                   Ouachita     29\n",
      "22                     Ashley     29\n",
      "23                     Chicot     27\n",
      "24                   Columbia     27\n",
      "25                       Pope     26\n",
      "26                     Baxter     25\n",
      "27               Independence     25\n",
      "28                        Lee     24\n",
      "29                      Desha     24\n",
      "..                        ...    ...\n",
      "53                      Izard     10\n",
      "54            Monroe-Brinkley      9\n",
      "55                 Hot Spring      9\n",
      "56                     Nevada      9\n",
      "57                   Woodruff      9\n",
      "58              Logan - Paris      9\n",
      "59         Logan - Booneville      9\n",
      "60                    Madison      8\n",
      "61                      Scott      8\n",
      "62                      Stone      8\n",
      "63                     Newton      8\n",
      "64                  Lafayette      8\n",
      "65                     Fulton      7\n",
      "66                      Grant      7\n",
      "67         Arkansas-Stuttgart      6\n",
      "68                    Prairie      6\n",
      "69                     Dallas      6\n",
      "70                 Montgomery      6\n",
      "71                   Randolph      5\n",
      "72                      Perry      5\n",
      "73                  Van Buren      5\n",
      "74                  Cleveland      5\n",
      "75                     Searcy      4\n",
      "76            Arkansas-Dewitt      3\n",
      "77                   Franklin      3\n",
      "78                       Yell      2\n",
      "79                       Pike      2\n",
      "80           Monroe-Clarendon      1\n",
      "81                    Calhoun      1\n",
      "82                    Carroll      1\n",
      "\n",
      "[83 rows x 2 columns]\n",
      "---\n"
     ]
    }
   ],
   "source": [
    "for c in cat2.columns:\n",
    "    print((cat2[c].value_counts().to_frame('count').rename_axis(c)).reset_index())\n",
    "    print('---')"
   ]
  },
  {
   "cell_type": "code",
   "execution_count": 12,
   "metadata": {},
   "outputs": [
    {
     "data": {
      "text/html": [
       "<div>\n",
       "<style scoped>\n",
       "    .dataframe tbody tr th:only-of-type {\n",
       "        vertical-align: middle;\n",
       "    }\n",
       "\n",
       "    .dataframe tbody tr th {\n",
       "        vertical-align: top;\n",
       "    }\n",
       "\n",
       "    .dataframe thead th {\n",
       "        text-align: right;\n",
       "    }\n",
       "</style>\n",
       "<table border=\"1\" class=\"dataframe\">\n",
       "  <thead>\n",
       "    <tr style=\"text-align: right;\">\n",
       "      <th></th>\n",
       "      <th></th>\n",
       "      <th>case_count</th>\n",
       "    </tr>\n",
       "    <tr>\n",
       "      <th>category</th>\n",
       "      <th>family_type</th>\n",
       "      <th></th>\n",
       "    </tr>\n",
       "  </thead>\n",
       "  <tbody>\n",
       "    <tr>\n",
       "      <th rowspan=\"3\" valign=\"top\">Tea</th>\n",
       "      <th>Family included only in overall work participation rate (i.e., family includes one or more workeligible individuals but does not meet definition of a twoparent family</th>\n",
       "      <td>987</td>\n",
       "    </tr>\n",
       "    <tr>\n",
       "      <th>Family with no work-eligible individual</th>\n",
       "      <td>1000</td>\n",
       "    </tr>\n",
       "    <tr>\n",
       "      <th>Two-Parent Family included in both the overall and                      two-parent work participation rates (i.e., family includes                      two work-eligible parents and meets the definition of a two-parent family)</th>\n",
       "      <td>65</td>\n",
       "    </tr>\n",
       "    <tr>\n",
       "      <th rowspan=\"2\" valign=\"top\">WorkPays</th>\n",
       "      <th>Family included only in overall work participation rate (i.e., family includes one or more workeligible individuals but does not meet definition of a twoparent family</th>\n",
       "      <td>156</td>\n",
       "    </tr>\n",
       "    <tr>\n",
       "      <th>Two-Parent Family included in both the overall and                      two-parent work participation rates (i.e., family includes                      two work-eligible parents and meets the definition of a two-parent family)</th>\n",
       "      <td>12</td>\n",
       "    </tr>\n",
       "  </tbody>\n",
       "</table>\n",
       "</div>"
      ],
      "text/plain": [
       "                                                             case_count\n",
       "category family_type                                                   \n",
       "Tea      Family included only in overall work participat...         987\n",
       "         Family with no work-eligible individual                   1000\n",
       "         Two-Parent Family included in both the overall ...          65\n",
       "WorkPays Family included only in overall work participat...         156\n",
       "         Two-Parent Family included in both the overall ...          12"
      ]
     },
     "execution_count": 12,
     "metadata": {},
     "output_type": "execute_result"
    }
   ],
   "source": [
    "worc_fam = df\n",
    "fam_type = worc_fam.groupby(['category','family_type']).agg({'case_number' : 'nunique'}).rename({'case_number': 'case_count'}, axis='columns')#.reset_index()\n",
    "fam_type"
   ]
  },
  {
   "cell_type": "code",
   "execution_count": null,
   "metadata": {},
   "outputs": [],
   "source": []
  },
  {
   "cell_type": "code",
   "execution_count": null,
   "metadata": {},
   "outputs": [],
   "source": []
  },
  {
   "cell_type": "code",
   "execution_count": null,
   "metadata": {},
   "outputs": [],
   "source": []
  },
  {
   "cell_type": "code",
   "execution_count": null,
   "metadata": {},
   "outputs": [],
   "source": []
  },
  {
   "cell_type": "code",
   "execution_count": null,
   "metadata": {},
   "outputs": [],
   "source": []
  }
 ],
 "metadata": {
  "kernelspec": {
   "display_name": "Python 3",
   "language": "python",
   "name": "python3"
  },
  "language_info": {
   "codemirror_mode": {
    "name": "ipython",
    "version": 3
   },
   "file_extension": ".py",
   "mimetype": "text/x-python",
   "name": "python",
   "nbconvert_exporter": "python",
   "pygments_lexer": "ipython3",
   "version": "3.6.4rc1"
  }
 },
 "nbformat": 4,
 "nbformat_minor": 2
}
