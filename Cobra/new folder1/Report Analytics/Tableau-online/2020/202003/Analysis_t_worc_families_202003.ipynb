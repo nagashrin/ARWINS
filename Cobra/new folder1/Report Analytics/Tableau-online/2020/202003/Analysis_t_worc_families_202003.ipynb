{
 "cells": [
  {
   "cell_type": "code",
   "execution_count": 1,
   "metadata": {
    "scrolled": true
   },
   "outputs": [],
   "source": [
    "import pandas as pd\n",
    "import numpy as np\n",
    "import time\n",
    "import os\n",
    "\n",
    "t = time.localtime()\n",
    "timestamp = time.strftime('%y%m%d-%H%M', t)\n",
    "\n",
    "# read excel\n",
    "df = pd.read_excel('H://Current_Working_Folder//Reports Analytics//202003//202003-t_worc_families-20200512_1153.xlsx')\n",
    "\n",
    "# assign path and reporitng month\n",
    "drive = 'H://Current_Working_Folder//Reports Analytics//'\n",
    "reporting_month = str(df.loc[0,'reporting_month'])\n",
    "\n",
    "# Filter with column names ending with amt, amount, nbr_month\n",
    "df_amt = df.filter(regex = 'amt$|amount$|amount$|nbr_month$|nbr_months', axis='columns')\n",
    "\n",
    "# Describe the filtered dataframe\n",
    "df_des = df_amt.describe()\n",
    "\n",
    "# Write the describe to excel\n",
    "writer = pd.ExcelWriter(drive + reporting_month + '//' + reporting_month + '_' + 'report' + '-' + timestamp + '.xlsx')\n",
    "#df_des.to_excel(writer, index = False)\n",
    "df_des.to_excel(writer, sheet_name='family_stat')\n",
    "writer.save()"
   ]
  },
  {
   "cell_type": "code",
   "execution_count": 2,
   "metadata": {},
   "outputs": [],
   "source": [
    "#df.columns"
   ]
  },
  {
   "cell_type": "code",
   "execution_count": 3,
   "metadata": {},
   "outputs": [
    {
     "data": {
      "text/plain": [
       "(2237, 56)"
      ]
     },
     "execution_count": 3,
     "metadata": {},
     "output_type": "execute_result"
    }
   ],
   "source": [
    "df.shape"
   ]
  },
  {
   "cell_type": "code",
   "execution_count": 4,
   "metadata": {
    "scrolled": true
   },
   "outputs": [
    {
     "data": {
      "text/plain": [
       "No subsidized child care received                                                                                                                 2201\n",
       "Yes, receives child care funded entirely or in part with Federal funds (e.g., receives TANF, CCDF, SSBG, or other federally funded child care)      36\n",
       "Name: subsid_child_care, dtype: int64"
      ]
     },
     "execution_count": 4,
     "metadata": {},
     "output_type": "execute_result"
    }
   ],
   "source": [
    "df['subsid_child_care'].value_counts()"
   ]
  },
  {
   "cell_type": "code",
   "execution_count": 5,
   "metadata": {},
   "outputs": [
    {
     "data": {
      "text/plain": [
       "23936"
      ]
     },
     "execution_count": 5,
     "metadata": {},
     "output_type": "execute_result"
    }
   ],
   "source": [
    "df['subsid_child_care_amt'].sum()"
   ]
  },
  {
   "cell_type": "code",
   "execution_count": 6,
   "metadata": {
    "scrolled": true
   },
   "outputs": [
    {
     "data": {
      "text/plain": [
       "0    2237\n",
       "Name: tanf child care_children_covered, dtype: int64"
      ]
     },
     "execution_count": 6,
     "metadata": {},
     "output_type": "execute_result"
    }
   ],
   "source": [
    "df['tanf child care_children_covered'].value_counts()"
   ]
  },
  {
   "cell_type": "code",
   "execution_count": 7,
   "metadata": {},
   "outputs": [
    {
     "data": {
      "text/plain": [
       "0"
      ]
     },
     "execution_count": 7,
     "metadata": {},
     "output_type": "execute_result"
    }
   ],
   "source": [
    "df['tanf child care_amount'].sum()"
   ]
  },
  {
   "cell_type": "code",
   "execution_count": 8,
   "metadata": {
    "scrolled": true
   },
   "outputs": [],
   "source": [
    "cat = df.drop(df_amt, axis='columns')\n",
    "#cat1 = cat.drop((cat.loc[:,'reporting_month':'stratum']),axis='columns')\n",
    "cat1 = cat.drop(['id','reporting_month','case_number','county_fips_code','stratum','disposition','worker_id',\n",
    "                 'case_manager','area','created_by','updated_by','created_at','updated_at','ans_county',\n",
    "                 'local_office','waiver_grps'], axis='columns')\n",
    "cat2 = cat1.drop(cat1.filter(regex = '^reason|^other'), axis='columns')"
   ]
  },
  {
   "cell_type": "code",
   "execution_count": 9,
   "metadata": {
    "scrolled": true
   },
   "outputs": [
    {
     "name": "stdout",
     "output_type": "stream",
     "text": [
      "No     2044\n",
      "Yes     193\n",
      "Name: reason for amount of reduction_work requirements sanction, dtype: int64\n",
      "---\n",
      "No    2237\n",
      "Name: reason for amount of reduction_Family Sanction for an Adult with No High School Diploma or Equivalent, dtype: int64\n",
      "---\n",
      "No    2237\n",
      "Name: reason for amount of reduction_Sanction for Teen Parent not Attending School, dtype: int64\n",
      "---\n",
      "No     2136\n",
      "Yes     101\n",
      "Name: reason for amount of reduction_Non-Cooperation with Child Support, dtype: int64\n",
      "---\n",
      "No     2236\n",
      "Yes       1\n",
      "Name: reason for amount of reduction_Failure to Comply with an Individual Responsibility Plan, dtype: int64\n",
      "---\n",
      "No     2236\n",
      "Yes       1\n",
      "Name: reason for amount of reduction_Other Sanction, dtype: int64\n",
      "---\n",
      "0    2237\n",
      "Name: reason for amount of reduction_Recoupment of Prior Overpayment, dtype: int64\n",
      "---\n"
     ]
    }
   ],
   "source": [
    "reason_cat = cat1.filter(regex = '^reason', axis='columns')\n",
    "\n",
    "for c in reason_cat.columns:\n",
    "    print(reason_cat[c].value_counts())\n",
    "    print('---')\n"
   ]
  },
  {
   "cell_type": "code",
   "execution_count": 10,
   "metadata": {},
   "outputs": [],
   "source": [
    "#((df.filter(regex = '^reason'))).head(20)"
   ]
  },
  {
   "cell_type": "code",
   "execution_count": 11,
   "metadata": {
    "scrolled": false
   },
   "outputs": [
    {
     "name": "stdout",
     "output_type": "stream",
     "text": [
      "   category  count\n",
      "0       Tea   2011\n",
      "1  WorkPays    226\n",
      "---\n",
      "     zip_code  count\n",
      "0       71854     75\n",
      "1       72301     69\n",
      "2       72209     61\n",
      "3       72401     55\n",
      "4       72114     43\n",
      "5       72390     43\n",
      "6       72335     42\n",
      "7       72204     39\n",
      "8       72956     36\n",
      "9       72901     35\n",
      "10      72764     34\n",
      "11      71601     32\n",
      "12      72315     32\n",
      "13      72076     32\n",
      "14      72360     31\n",
      "15      72143     31\n",
      "16      72206     30\n",
      "17      71603     30\n",
      "18      72904     28\n",
      "19      72450     28\n",
      "20      72117     28\n",
      "21      71701     25\n",
      "22      71953     24\n",
      "23      72032     23\n",
      "24      72342     23\n",
      "25      72601     23\n",
      "26      72112     22\n",
      "27      71901     22\n",
      "28      72701     22\n",
      "29      71913     20\n",
      "..        ...    ...\n",
      "326     72565      1\n",
      "327     72523      1\n",
      "328     72513      1\n",
      "329     72503      1\n",
      "330     72479      1\n",
      "331     72471      1\n",
      "332     72735      1\n",
      "333     72749      1\n",
      "334     72751      1\n",
      "335     72440      1\n",
      "336     72732      1\n",
      "337     71642      1\n",
      "338     72736      1\n",
      "339     75250      1\n",
      "340     72969      1\n",
      "341     72959      1\n",
      "342     72933      1\n",
      "343     72923      1\n",
      "344     74960      1\n",
      "345     72774      1\n",
      "346     72863      1\n",
      "347     72857      1\n",
      "348     72845      1\n",
      "349     72833      1\n",
      "350     72821      1\n",
      "351     72811      1\n",
      "352     93245      1\n",
      "353     72826      1\n",
      "354     72757      1\n",
      "355     71677      1\n",
      "\n",
      "[356 rows x 2 columns]\n",
      "---\n",
      "                                      funding_stream  count\n",
      "0  Funded, in whole or in part, with Federal TANF...   2237\n",
      "---\n",
      "                       new_applicant  count\n",
      "0     Not newly-approved application   2212\n",
      "1  Yes, a newly-approved application     25\n",
      "---\n",
      "   family_size  count\n",
      "0            2    874\n",
      "1            1    544\n",
      "2            3    475\n",
      "3            4    221\n",
      "4            5     92\n",
      "5            6     24\n",
      "6            7      5\n",
      "7            9      1\n",
      "8            8      1\n",
      "---\n",
      "                                         family_type  count\n",
      "0  Family included only in overall work participa...   1125\n",
      "1            Family with no work-eligible individual   1052\n",
      "2  Two-Parent Family included in both the overall...     60\n",
      "---\n",
      "       subsid_housing  count\n",
      "0  No housing subsidy   2237\n",
      "---\n",
      "                           medical_assist  count\n",
      "0     Does not receive Medical Assistance   1498\n",
      "1   Yes, enrolled in Medicaid and/or CHIP    739\n",
      "---\n",
      "                           food_stamps  count\n",
      "0  Yes, receives food stamp assistance   1685\n",
      "1          Does not receive food stamp    552\n",
      "---\n",
      "                                   subsid_child_care  count\n",
      "0                  No subsidized child care received   2201\n",
      "1  Yes, receives child care funded entirely or in...     36\n",
      "---\n",
      "   tanf child care_children_covered  count\n",
      "0                                 0   2237\n",
      "---\n",
      "  Other, Non-sanction  count\n",
      "0                  No   2237\n",
      "---\n",
      "                                   exempt_time_limit  count\n",
      "0      Family is not exempt from Federal time limit.   1197\n",
      "1   Yes, family is exempt from accrual of months ...   1040\n",
      "---\n",
      "                 new_child_only_fam  count\n",
      "0   No, not a new child-only family   2214\n",
      "1      Yes, a new child-only family     23\n",
      "---\n",
      "                       county  count\n",
      "0                  Washington    111\n",
      "1             Pulaski - North    110\n",
      "2                  Crittenden    103\n",
      "3                   Sebastian     97\n",
      "4         Pulaski - Southwest     85\n",
      "5                   Jefferson     85\n",
      "6                      Miller     84\n",
      "7                   Craighead     84\n",
      "8                    Phillips     80\n",
      "9             Pulaski - South     73\n",
      "10                     Benton     66\n",
      "11                      White     59\n",
      "12                 St Francis     55\n",
      "13     Pulaski - Jacksonville     50\n",
      "14                    Garland     50\n",
      "15                   Faulkner     50\n",
      "16                   Crawford     49\n",
      "17  Mississippi - Blytheville     39\n",
      "18                       Polk     34\n",
      "19                   Poinsett     32\n",
      "20                     Greene     32\n",
      "21                        Lee     32\n",
      "22                   Ouachita     31\n",
      "23                      Boone     30\n",
      "24                     Ashley     28\n",
      "25                   Columbia     27\n",
      "26             Pulaski - East     26\n",
      "27                     Conway     25\n",
      "28                       Pope     25\n",
      "29                    Jackson     25\n",
      "..                        ...    ...\n",
      "52              Clay - Piggot     10\n",
      "53                     Fulton     10\n",
      "54                      Grant     10\n",
      "55                   Woodruff      9\n",
      "56                      Scott      9\n",
      "57                      Izard      9\n",
      "58            Monroe-Brinkley      9\n",
      "59         Logan - Booneville      8\n",
      "60                      Stone      8\n",
      "61         Arkansas-Stuttgart      8\n",
      "62                  Cleveland      8\n",
      "63                 Hot Spring      8\n",
      "64                  Lafayette      7\n",
      "65                    Madison      7\n",
      "66                  Van Buren      7\n",
      "67                     Dallas      7\n",
      "68                   Randolph      7\n",
      "69                      Clark      7\n",
      "70              Logan - Paris      6\n",
      "71                     Searcy      6\n",
      "72                      Perry      6\n",
      "73                     Newton      5\n",
      "74            Arkansas-Dewitt      4\n",
      "75                 Montgomery      4\n",
      "76                   Franklin      4\n",
      "77                    Prairie      4\n",
      "78                       Pike      2\n",
      "79           Monroe-Clarendon      2\n",
      "80                       Yell      2\n",
      "81                    Carroll      1\n",
      "\n",
      "[82 rows x 2 columns]\n",
      "---\n"
     ]
    }
   ],
   "source": [
    "for c in cat2.columns:\n",
    "    print((cat2[c].value_counts().to_frame('count').rename_axis(c)).reset_index())\n",
    "    print('---')"
   ]
  },
  {
   "cell_type": "code",
   "execution_count": 12,
   "metadata": {},
   "outputs": [
    {
     "data": {
      "text/html": [
       "<div>\n",
       "<style scoped>\n",
       "    .dataframe tbody tr th:only-of-type {\n",
       "        vertical-align: middle;\n",
       "    }\n",
       "\n",
       "    .dataframe tbody tr th {\n",
       "        vertical-align: top;\n",
       "    }\n",
       "\n",
       "    .dataframe thead th {\n",
       "        text-align: right;\n",
       "    }\n",
       "</style>\n",
       "<table border=\"1\" class=\"dataframe\">\n",
       "  <thead>\n",
       "    <tr style=\"text-align: right;\">\n",
       "      <th></th>\n",
       "      <th></th>\n",
       "      <th>case_count</th>\n",
       "    </tr>\n",
       "    <tr>\n",
       "      <th>category</th>\n",
       "      <th>family_type</th>\n",
       "      <th></th>\n",
       "    </tr>\n",
       "  </thead>\n",
       "  <tbody>\n",
       "    <tr>\n",
       "      <th rowspan=\"3\" valign=\"top\">Tea</th>\n",
       "      <th>Family included only in overall work participation rate (i.e., family includes one or more workeligible individuals but does not meet definition of a twoparent family</th>\n",
       "      <td>912</td>\n",
       "    </tr>\n",
       "    <tr>\n",
       "      <th>Family with no work-eligible individual</th>\n",
       "      <td>1052</td>\n",
       "    </tr>\n",
       "    <tr>\n",
       "      <th>Two-Parent Family included in both the overall and                      two-parent work participation rates (i.e., family includes                      two work-eligible parents and meets the definition of a two-parent family)</th>\n",
       "      <td>47</td>\n",
       "    </tr>\n",
       "    <tr>\n",
       "      <th rowspan=\"2\" valign=\"top\">WorkPays</th>\n",
       "      <th>Family included only in overall work participation rate (i.e., family includes one or more workeligible individuals but does not meet definition of a twoparent family</th>\n",
       "      <td>213</td>\n",
       "    </tr>\n",
       "    <tr>\n",
       "      <th>Two-Parent Family included in both the overall and                      two-parent work participation rates (i.e., family includes                      two work-eligible parents and meets the definition of a two-parent family)</th>\n",
       "      <td>13</td>\n",
       "    </tr>\n",
       "  </tbody>\n",
       "</table>\n",
       "</div>"
      ],
      "text/plain": [
       "                                                             case_count\n",
       "category family_type                                                   \n",
       "Tea      Family included only in overall work participat...         912\n",
       "         Family with no work-eligible individual                   1052\n",
       "         Two-Parent Family included in both the overall ...          47\n",
       "WorkPays Family included only in overall work participat...         213\n",
       "         Two-Parent Family included in both the overall ...          13"
      ]
     },
     "execution_count": 12,
     "metadata": {},
     "output_type": "execute_result"
    }
   ],
   "source": [
    "worc_fam = df\n",
    "fam_type = worc_fam.groupby(['category','family_type']).agg({'case_number' : 'nunique'}).rename({'case_number': 'case_count'}, axis='columns')#.reset_index()\n",
    "fam_type"
   ]
  },
  {
   "cell_type": "code",
   "execution_count": null,
   "metadata": {},
   "outputs": [],
   "source": []
  },
  {
   "cell_type": "code",
   "execution_count": null,
   "metadata": {},
   "outputs": [],
   "source": []
  },
  {
   "cell_type": "code",
   "execution_count": null,
   "metadata": {},
   "outputs": [],
   "source": []
  },
  {
   "cell_type": "code",
   "execution_count": null,
   "metadata": {},
   "outputs": [],
   "source": []
  },
  {
   "cell_type": "code",
   "execution_count": null,
   "metadata": {},
   "outputs": [],
   "source": []
  }
 ],
 "metadata": {
  "kernelspec": {
   "display_name": "Python 3",
   "language": "python",
   "name": "python3"
  },
  "language_info": {
   "codemirror_mode": {
    "name": "ipython",
    "version": 3
   },
   "file_extension": ".py",
   "mimetype": "text/x-python",
   "name": "python",
   "nbconvert_exporter": "python",
   "pygments_lexer": "ipython3",
   "version": "3.6.4rc1"
  }
 },
 "nbformat": 4,
 "nbformat_minor": 2
}
