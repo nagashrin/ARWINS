{
 "cells": [
  {
   "cell_type": "code",
   "execution_count": 1,
   "metadata": {
    "scrolled": true
   },
   "outputs": [],
   "source": [
    "import pandas as pd\n",
    "import numpy as np\n",
    "import time\n",
    "import os\n",
    "\n",
    "t = time.localtime()\n",
    "timestamp = time.strftime('%y%m%d-%H%M', t)\n",
    "\n",
    "# read excel\n",
    "df = pd.read_excel('H://Current_Working_Folder//Reports Analytics//202001//202001-t_worc_families-20200511_1617.xlsx')\n",
    "\n",
    "# assign path and reporitng month\n",
    "drive = 'H://Current_Working_Folder//Reports Analytics//'\n",
    "reporting_month = str(df.loc[0,'reporting_month'])\n",
    "\n",
    "# Filter with column names ending with amt, amount, nbr_month\n",
    "df_amt = df.filter(regex = 'amt$|amount$|amount$|nbr_month$|nbr_months', axis='columns')\n",
    "\n",
    "# Describe the filtered dataframe\n",
    "df_des = df_amt.describe()\n",
    "\n",
    "# Write the describe to excel\n",
    "writer = pd.ExcelWriter(drive + reporting_month + '//' + reporting_month + '_' + 'report' + '-' + timestamp + '.xlsx')\n",
    "#df_des.to_excel(writer, index = False)\n",
    "df_des.to_excel(writer, sheet_name='family_stat')\n",
    "writer.save()"
   ]
  },
  {
   "cell_type": "code",
   "execution_count": 2,
   "metadata": {},
   "outputs": [
    {
     "data": {
      "text/plain": [
       "Index(['id', 'category', 'reporting_month', 'case_number', 'county_fips_code',\n",
       "       'stratum', 'zip_code', 'funding_stream', 'disposition', 'new_applicant',\n",
       "       'family_size', 'family_type', 'subsid_housing', 'medical_assist',\n",
       "       'food_stamps', 'food_stamps_amt', 'subsid_child_care',\n",
       "       'subsid_child_care_amt', 'child_support_amt', 'cash_resource_amt',\n",
       "       'cash & cash equivalents_amount', 'cash & cash equivalents_nbr_month',\n",
       "       'tanf child care_amount', 'tanf child care_children_covered',\n",
       "       'tanf child care_nbr_months', 'transportation_amount',\n",
       "       'transportation_nbr_months', 'transitional services_amount',\n",
       "       'transitional services_nbr_months', 'other_amount', 'other_nbr_months',\n",
       "       'reason for amount of reduction_sanction reduction_amount',\n",
       "       'reason for amount of reduction_work requirements sanction',\n",
       "       'reason for amount of reduction_Family Sanction for an Adult with No High School Diploma or Equivalent',\n",
       "       'reason for amount of reduction_Sanction for Teen Parent not Attending School',\n",
       "       'reason for amount of reduction_Non-Cooperation with Child Support',\n",
       "       'reason for amount of reduction_Failure to Comply with an Individual Responsibility Plan',\n",
       "       'reason for amount of reduction_Other Sanction',\n",
       "       'reason for amount of reduction_Recoupment of Prior Overpayment',\n",
       "       'other_other total reduction amount:', 'other_Family Cap',\n",
       "       'other_Reduction Based on Length of Receipt of Assistance',\n",
       "       'Other, Non-sanction', 'waiver_grps', 'exempt_time_limit',\n",
       "       'new_child_only_fam', 'worker_id', 'case_manager', 'area', 'created_by',\n",
       "       'updated_by', 'created_at', 'updated_at', 'ans_county', 'local_office',\n",
       "       'county'],\n",
       "      dtype='object')"
      ]
     },
     "execution_count": 2,
     "metadata": {},
     "output_type": "execute_result"
    }
   ],
   "source": [
    "df.columns"
   ]
  },
  {
   "cell_type": "code",
   "execution_count": 3,
   "metadata": {},
   "outputs": [
    {
     "data": {
      "text/plain": [
       "(2280, 56)"
      ]
     },
     "execution_count": 3,
     "metadata": {},
     "output_type": "execute_result"
    }
   ],
   "source": [
    "df.shape"
   ]
  },
  {
   "cell_type": "code",
   "execution_count": 4,
   "metadata": {
    "scrolled": true
   },
   "outputs": [
    {
     "data": {
      "text/plain": [
       "No subsidized child care received                                                                                                                 2181\n",
       "Yes, receives child care funded entirely or in part with Federal funds (e.g., receives TANF, CCDF, SSBG, or other federally funded child care)      99\n",
       "Name: subsid_child_care, dtype: int64"
      ]
     },
     "execution_count": 4,
     "metadata": {},
     "output_type": "execute_result"
    }
   ],
   "source": [
    "df['subsid_child_care'].value_counts()"
   ]
  },
  {
   "cell_type": "code",
   "execution_count": 5,
   "metadata": {},
   "outputs": [
    {
     "data": {
      "text/plain": [
       "81730"
      ]
     },
     "execution_count": 5,
     "metadata": {},
     "output_type": "execute_result"
    }
   ],
   "source": [
    "df['subsid_child_care_amt'].sum()"
   ]
  },
  {
   "cell_type": "code",
   "execution_count": 6,
   "metadata": {
    "scrolled": true
   },
   "outputs": [
    {
     "data": {
      "text/plain": [
       "0    2280\n",
       "Name: tanf child care_children_covered, dtype: int64"
      ]
     },
     "execution_count": 6,
     "metadata": {},
     "output_type": "execute_result"
    }
   ],
   "source": [
    "df['tanf child care_children_covered'].value_counts()"
   ]
  },
  {
   "cell_type": "code",
   "execution_count": 7,
   "metadata": {},
   "outputs": [
    {
     "data": {
      "text/plain": [
       "0"
      ]
     },
     "execution_count": 7,
     "metadata": {},
     "output_type": "execute_result"
    }
   ],
   "source": [
    "df['tanf child care_amount'].sum()"
   ]
  },
  {
   "cell_type": "code",
   "execution_count": 8,
   "metadata": {
    "scrolled": true
   },
   "outputs": [],
   "source": [
    "cat = df.drop(df_amt, axis='columns')\n",
    "#cat1 = cat.drop((cat.loc[:,'reporting_month':'stratum']),axis='columns')\n",
    "cat1 = cat.drop(['id','reporting_month','case_number','county_fips_code','stratum','disposition','worker_id',\n",
    "                 'case_manager','area','created_by','updated_by','created_at','updated_at','ans_county',\n",
    "                 'local_office','waiver_grps'], axis='columns')\n",
    "cat2 = cat1.drop(cat1.filter(regex = '^reason|^other'), axis='columns')"
   ]
  },
  {
   "cell_type": "code",
   "execution_count": 9,
   "metadata": {
    "scrolled": true
   },
   "outputs": [
    {
     "name": "stdout",
     "output_type": "stream",
     "text": [
      "No     2044\n",
      "Yes     236\n",
      "Name: reason for amount of reduction_work requirements sanction, dtype: int64\n",
      "---\n",
      "No    2280\n",
      "Name: reason for amount of reduction_Family Sanction for an Adult with No High School Diploma or Equivalent, dtype: int64\n",
      "---\n",
      "No    2280\n",
      "Name: reason for amount of reduction_Sanction for Teen Parent not Attending School, dtype: int64\n",
      "---\n",
      "No     2165\n",
      "Yes     115\n",
      "Name: reason for amount of reduction_Non-Cooperation with Child Support, dtype: int64\n",
      "---\n",
      "No     2279\n",
      "Yes       1\n",
      "Name: reason for amount of reduction_Failure to Comply with an Individual Responsibility Plan, dtype: int64\n",
      "---\n",
      "No     2275\n",
      "Yes       5\n",
      "Name: reason for amount of reduction_Other Sanction, dtype: int64\n",
      "---\n",
      "0    2280\n",
      "Name: reason for amount of reduction_Recoupment of Prior Overpayment, dtype: int64\n",
      "---\n"
     ]
    }
   ],
   "source": [
    "reason_cat = cat1.filter(regex = '^reason', axis='columns')\n",
    "\n",
    "for c in reason_cat.columns:\n",
    "    print(reason_cat[c].value_counts())\n",
    "    print('---')\n"
   ]
  },
  {
   "cell_type": "code",
   "execution_count": 10,
   "metadata": {},
   "outputs": [],
   "source": [
    "#((df.filter(regex = '^reason'))).head(20)"
   ]
  },
  {
   "cell_type": "code",
   "execution_count": 11,
   "metadata": {
    "scrolled": false
   },
   "outputs": [
    {
     "name": "stdout",
     "output_type": "stream",
     "text": [
      "   category  count\n",
      "0       Tea   2045\n",
      "1  WorkPays    235\n",
      "---\n",
      "     zip_code  count\n",
      "0       71854     81\n",
      "1       72301     70\n",
      "2       72209     65\n",
      "3       72401     55\n",
      "4       72390     39\n",
      "5       72335     39\n",
      "6       72114     38\n",
      "7       72143     38\n",
      "8       72956     37\n",
      "9       72204     37\n",
      "10      72764     36\n",
      "11      72315     35\n",
      "12      72076     33\n",
      "13      72360     32\n",
      "14      71603     32\n",
      "15      71601     31\n",
      "16      72206     30\n",
      "17      72342     30\n",
      "18      72904     30\n",
      "19      72901     29\n",
      "20      72117     28\n",
      "21      72450     27\n",
      "22      71701     26\n",
      "23      71730     25\n",
      "24      72032     23\n",
      "25      72703     22\n",
      "26      72701     22\n",
      "27      71913     22\n",
      "28      71953     21\n",
      "29      72601     21\n",
      "..        ...    ...\n",
      "334     72579      1\n",
      "335     72567      1\n",
      "336     72565      1\n",
      "337     72523      1\n",
      "338     72863      1\n",
      "339     74960      1\n",
      "340     72935      1\n",
      "341     72941      1\n",
      "342     72052      1\n",
      "343     72036      1\n",
      "344     72030      1\n",
      "345     72020      1\n",
      "346     72010      1\n",
      "347     71960      1\n",
      "348     71956      1\n",
      "349     71940      1\n",
      "350     71862      1\n",
      "351     71842      1\n",
      "352     71838      1\n",
      "353     71826      1\n",
      "354     71675      1\n",
      "355     71752      1\n",
      "356     71670      1\n",
      "357     71658      1\n",
      "358     71652      1\n",
      "359     92040      1\n",
      "360     75090      1\n",
      "361     72969      1\n",
      "362     72959      1\n",
      "363     71802      1\n",
      "\n",
      "[364 rows x 2 columns]\n",
      "---\n",
      "                                      funding_stream  count\n",
      "0  Funded, in whole or in part, with Federal TANF...   2280\n",
      "---\n",
      "                       new_applicant  count\n",
      "0     Not newly-approved application   2252\n",
      "1  Yes, a newly-approved application     28\n",
      "---\n",
      "   family_size  count\n",
      "0            2    887\n",
      "1            1    553\n",
      "2            3    490\n",
      "3            4    226\n",
      "4            5     90\n",
      "5            6     26\n",
      "6            7      6\n",
      "7            9      1\n",
      "8            8      1\n",
      "---\n",
      "                                         family_type  count\n",
      "0  Family included only in overall work participa...   1131\n",
      "1            Family with no work-eligible individual   1084\n",
      "2  Two-Parent Family included in both the overall...     65\n",
      "---\n",
      "       subsid_housing  count\n",
      "0  No housing subsidy   2280\n",
      "---\n",
      "                           medical_assist  count\n",
      "0     Does not receive Medical Assistance   1515\n",
      "1   Yes, enrolled in Medicaid and/or CHIP    765\n",
      "---\n",
      "                           food_stamps  count\n",
      "0  Yes, receives food stamp assistance   1656\n",
      "1          Does not receive food stamp    624\n",
      "---\n",
      "                                   subsid_child_care  count\n",
      "0                  No subsidized child care received   2181\n",
      "1  Yes, receives child care funded entirely or in...     99\n",
      "---\n",
      "   tanf child care_children_covered  count\n",
      "0                                 0   2280\n",
      "---\n",
      "  Other, Non-sanction  count\n",
      "0                  No   2280\n",
      "---\n",
      "                                   exempt_time_limit  count\n",
      "0      Family is not exempt from Federal time limit.   1209\n",
      "1   Yes, family is exempt from accrual of months ...   1071\n",
      "---\n",
      "                 new_child_only_fam  count\n",
      "0   No, not a new child-only family   2266\n",
      "1      Yes, a new child-only family     14\n",
      "---\n",
      "                       county  count\n",
      "0                  Washington    116\n",
      "1             Pulaski - North    106\n",
      "2                   Sebastian    103\n",
      "3                  Crittenden     98\n",
      "4         Pulaski - Southwest     92\n",
      "5                      Miller     90\n",
      "6                   Jefferson     86\n",
      "7                    Phillips     82\n",
      "8                   Craighead     80\n",
      "9                       White     71\n",
      "10            Pulaski - South     65\n",
      "11                     Benton     61\n",
      "12     Pulaski - Jacksonville     54\n",
      "13                   Faulkner     51\n",
      "14                 St Francis     51\n",
      "15                   Crawford     50\n",
      "16                    Garland     47\n",
      "17  Mississippi - Blytheville     41\n",
      "18                   Poinsett     34\n",
      "19                   Ouachita     33\n",
      "20                        Lee     33\n",
      "21                     Greene     32\n",
      "22             Pulaski - East     30\n",
      "23                      Boone     29\n",
      "24                     Ashley     29\n",
      "25                      Union     29\n",
      "26                     Baxter     28\n",
      "27                   Columbia     27\n",
      "28                       Polk     27\n",
      "29                     Conway     26\n",
      "..                        ...    ...\n",
      "51                     Howard     11\n",
      "52              Clay - Piggot     11\n",
      "53                    Lincoln     11\n",
      "54                     Marion     10\n",
      "55                     Fulton      9\n",
      "56                      Perry      9\n",
      "57         Logan - Booneville      9\n",
      "58                      Stone      9\n",
      "59                 Hot Spring      8\n",
      "60                    Madison      8\n",
      "61            Monroe-Brinkley      8\n",
      "62                     Dallas      8\n",
      "63                     Searcy      7\n",
      "64                      Izard      7\n",
      "65                  Lafayette      7\n",
      "66                    Prairie      7\n",
      "67              Logan - Paris      7\n",
      "68                      Grant      7\n",
      "69         Arkansas-Stuttgart      6\n",
      "70                   Woodruff      6\n",
      "71                  Van Buren      6\n",
      "72                      Clark      6\n",
      "73                      Scott      6\n",
      "74                   Franklin      5\n",
      "75                 Montgomery      5\n",
      "76                     Newton      5\n",
      "77            Arkansas-Dewitt      4\n",
      "78                       Pike      3\n",
      "79           Monroe-Clarendon      1\n",
      "80                       Yell      1\n",
      "\n",
      "[81 rows x 2 columns]\n",
      "---\n"
     ]
    }
   ],
   "source": [
    "for c in cat2.columns:\n",
    "    print((cat2[c].value_counts().to_frame('count').rename_axis(c)).reset_index())\n",
    "    print('---')"
   ]
  },
  {
   "cell_type": "code",
   "execution_count": 12,
   "metadata": {},
   "outputs": [
    {
     "data": {
      "text/html": [
       "<div>\n",
       "<style scoped>\n",
       "    .dataframe tbody tr th:only-of-type {\n",
       "        vertical-align: middle;\n",
       "    }\n",
       "\n",
       "    .dataframe tbody tr th {\n",
       "        vertical-align: top;\n",
       "    }\n",
       "\n",
       "    .dataframe thead th {\n",
       "        text-align: right;\n",
       "    }\n",
       "</style>\n",
       "<table border=\"1\" class=\"dataframe\">\n",
       "  <thead>\n",
       "    <tr style=\"text-align: right;\">\n",
       "      <th></th>\n",
       "      <th></th>\n",
       "      <th>case_count</th>\n",
       "    </tr>\n",
       "    <tr>\n",
       "      <th>category</th>\n",
       "      <th>family_type</th>\n",
       "      <th></th>\n",
       "    </tr>\n",
       "  </thead>\n",
       "  <tbody>\n",
       "    <tr>\n",
       "      <th rowspan=\"3\" valign=\"top\">Tea</th>\n",
       "      <th>Family included only in overall work participation rate (i.e., family includes one or more workeligible individuals but does not meet definition of a twoparent family</th>\n",
       "      <td>907</td>\n",
       "    </tr>\n",
       "    <tr>\n",
       "      <th>Family with no work-eligible individual</th>\n",
       "      <td>1084</td>\n",
       "    </tr>\n",
       "    <tr>\n",
       "      <th>Two-Parent Family included in both the overall and                      two-parent work participation rates (i.e., family includes                      two work-eligible parents and meets the definition of a two-parent family)</th>\n",
       "      <td>54</td>\n",
       "    </tr>\n",
       "    <tr>\n",
       "      <th rowspan=\"2\" valign=\"top\">WorkPays</th>\n",
       "      <th>Family included only in overall work participation rate (i.e., family includes one or more workeligible individuals but does not meet definition of a twoparent family</th>\n",
       "      <td>224</td>\n",
       "    </tr>\n",
       "    <tr>\n",
       "      <th>Two-Parent Family included in both the overall and                      two-parent work participation rates (i.e., family includes                      two work-eligible parents and meets the definition of a two-parent family)</th>\n",
       "      <td>11</td>\n",
       "    </tr>\n",
       "  </tbody>\n",
       "</table>\n",
       "</div>"
      ],
      "text/plain": [
       "                                                             case_count\n",
       "category family_type                                                   \n",
       "Tea      Family included only in overall work participat...         907\n",
       "         Family with no work-eligible individual                   1084\n",
       "         Two-Parent Family included in both the overall ...          54\n",
       "WorkPays Family included only in overall work participat...         224\n",
       "         Two-Parent Family included in both the overall ...          11"
      ]
     },
     "execution_count": 12,
     "metadata": {},
     "output_type": "execute_result"
    }
   ],
   "source": [
    "worc_fam = df\n",
    "fam_type = worc_fam.groupby(['category','family_type']).agg({'case_number' : 'nunique'}).rename({'case_number': 'case_count'}, axis='columns')#.reset_index()\n",
    "fam_type"
   ]
  },
  {
   "cell_type": "code",
   "execution_count": null,
   "metadata": {},
   "outputs": [],
   "source": []
  },
  {
   "cell_type": "code",
   "execution_count": null,
   "metadata": {},
   "outputs": [],
   "source": []
  },
  {
   "cell_type": "code",
   "execution_count": null,
   "metadata": {},
   "outputs": [],
   "source": []
  },
  {
   "cell_type": "code",
   "execution_count": null,
   "metadata": {},
   "outputs": [],
   "source": []
  },
  {
   "cell_type": "code",
   "execution_count": null,
   "metadata": {},
   "outputs": [],
   "source": []
  }
 ],
 "metadata": {
  "kernelspec": {
   "display_name": "Python 3",
   "language": "python",
   "name": "python3"
  },
  "language_info": {
   "codemirror_mode": {
    "name": "ipython",
    "version": 3
   },
   "file_extension": ".py",
   "mimetype": "text/x-python",
   "name": "python",
   "nbconvert_exporter": "python",
   "pygments_lexer": "ipython3",
   "version": "3.6.4rc1"
  }
 },
 "nbformat": 4,
 "nbformat_minor": 2
}
