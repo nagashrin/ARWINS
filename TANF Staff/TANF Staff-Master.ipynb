{
 "cells": [
  {
   "cell_type": "markdown",
   "metadata": {},
   "source": [
    "# Copy ADWS staff list on to TANF Staff_2020mm folder before running the code"
   ]
  },
  {
   "cell_type": "code",
   "execution_count": 30,
   "metadata": {},
   "outputs": [],
   "source": [
    "import os\n",
    "import time\n",
    "import openpyxl\n",
    "os.chdir('H://Current_Working_Folder//Carla//State Matrix')\n",
    "\n",
    "# Month\n",
    "t=time.localtime()\n",
    "month_str = time.strftime('%B') #April\n",
    "yr_month = time.strftime('%Y%m') #202004\n",
    "\n",
    "import pandas as pd\n",
    "import xlrd\n",
    "dws = pd.read_excel('Tanf Staff_' + yr_month +'.xlsx')\n",
    "dws = pd.DataFrame(dws)\n",
    "\n",
    "# Select only TANF Staff\n",
    "tanf_staff = dws[dws['Section'].str.contains(\"tanf|tea|work pays|workpays\", case = False)]\n",
    "tanf_staff = tanf_staff.reset_index().sort_values(['Location','Name'],ascending=True).set_index(['Name','Position','Location','OfficeNumber','Section','Telephone','Email']).reset_index()\n",
    "\n",
    "# Load to Excel\n",
    "file_name = 'Tanf Staff_' + yr_month +'.xlsx'\n",
    "writer = pd.ExcelWriter(file_name, engine='openpyxl')\n",
    "\n",
    "if os.path.exists(file_name):\n",
    "    book = openpyxl.load_workbook(file_name)\n",
    "    writer.book = book\n",
    "    \n",
    "tanf_staff.to_excel(writer, sheet_name = 'TANF Staff' + '_' + 'INET' + '_' + month_str, index=False)\n",
    "writer.save()\n",
    "writer.close()\n"
   ]
  },
  {
   "cell_type": "code",
   "execution_count": null,
   "metadata": {},
   "outputs": [],
   "source": []
  }
 ],
 "metadata": {
  "kernelspec": {
   "display_name": "Python 3",
   "language": "python",
   "name": "python3"
  },
  "language_info": {
   "codemirror_mode": {
    "name": "ipython",
    "version": 3
   },
   "file_extension": ".py",
   "mimetype": "text/x-python",
   "name": "python",
   "nbconvert_exporter": "python",
   "pygments_lexer": "ipython3",
   "version": "3.6.4rc1"
  }
 },
 "nbformat": 4,
 "nbformat_minor": 2
}
